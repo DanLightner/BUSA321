{
 "cells": [
  {
   "cell_type": "code",
   "execution_count": 11,
   "metadata": {},
   "outputs": [
    {
     "name": "stdout",
     "output_type": "stream",
     "text": [
      "<bound method NDFrame.describe of         ID Marital Status  Gender  Income  Children  Cars  Age  \\\n",
      "0    19147        Married    Male   40000         0     1   42   \n",
      "1    22296        Married    Male   70000         0     1   38   \n",
      "2    25983        Married    Male   70000         0     1   43   \n",
      "3    29134        Married    Male   60000         4     3   42   \n",
      "4    27388        Married    Male   60000         3     2   66   \n",
      "..     ...            ...     ...     ...       ...   ...  ...   \n",
      "995  14798         Single  Female   10000         4     2   41   \n",
      "996  16259         Single  Female   10000         4     2   40   \n",
      "997  16410         Single  Female   10000         4     2   41   \n",
      "998  28957         Single  Female  120000         0     4   34   \n",
      "999  28729         Single  Female   20000         0     2   26   \n",
      "\n",
      "               Education      Occupation Home Owner Commute Distance  \\\n",
      "0              Bachelors    Professional         No        0-1 Miles   \n",
      "1              Bachelors    Professional         No        0-1 Miles   \n",
      "2              Bachelors    Professional         No        0-1 Miles   \n",
      "3              Bachelors  Skilled Manual         No        10+ Miles   \n",
      "4              Bachelors      Management         No        1-2 Miles   \n",
      "..                   ...             ...        ...              ...   \n",
      "995  Partial High School          Manual        Yes        0-1 Miles   \n",
      "996  Partial High School          Manual        Yes        0-1 Miles   \n",
      "997  Partial High School          Manual        Yes        0-1 Miles   \n",
      "998  Partial High School    Professional        Yes        10+ Miles   \n",
      "999  Partial High School          Manual        Yes        1-2 Miles   \n",
      "\n",
      "            Region Purchased Bike  \n",
      "0    North America             No  \n",
      "1    North America             No  \n",
      "2    North America             No  \n",
      "3    North America             No  \n",
      "4    North America             No  \n",
      "..             ...            ...  \n",
      "995         Europe            Yes  \n",
      "996         Europe            Yes  \n",
      "997         Europe            Yes  \n",
      "998        Pacific            Yes  \n",
      "999         Europe            Yes  \n",
      "\n",
      "[1000 rows x 13 columns]>\n"
     ]
    }
   ],
   "source": [
    "import pandas as pd\n",
    "\n",
    "df = pd.read_csv('bikebuyers_original.csv')\n",
    "df.describe()\n",
    "#add\n",
    "print(df.describe)"
   ]
  },
  {
   "cell_type": "code",
   "execution_count": 12,
   "metadata": {},
   "outputs": [
    {
     "name": "stdout",
     "output_type": "stream",
     "text": [
      "<class 'pandas.core.frame.DataFrame'>\n",
      "RangeIndex: 1000 entries, 0 to 999\n",
      "Data columns (total 13 columns):\n",
      " #   Column            Non-Null Count  Dtype \n",
      "---  ------            --------------  ----- \n",
      " 0   ID                1000 non-null   int64 \n",
      " 1   Marital Status    1000 non-null   object\n",
      " 2   Gender            1000 non-null   object\n",
      " 3   Income            1000 non-null   int64 \n",
      " 4   Children          1000 non-null   int64 \n",
      " 5   Cars              1000 non-null   int64 \n",
      " 6   Age               1000 non-null   int64 \n",
      " 7   Education         1000 non-null   object\n",
      " 8   Occupation        1000 non-null   object\n",
      " 9   Home Owner        1000 non-null   object\n",
      " 10  Commute Distance  1000 non-null   object\n",
      " 11  Region            1000 non-null   object\n",
      " 12  Purchased Bike    1000 non-null   object\n",
      "dtypes: int64(5), object(8)\n",
      "memory usage: 101.7+ KB\n"
     ]
    }
   ],
   "source": [
    "df.info()"
   ]
  },
  {
   "cell_type": "code",
   "execution_count": 13,
   "metadata": {},
   "outputs": [
    {
     "data": {
      "text/plain": [
       "ID                  0\n",
       "Marital Status      0\n",
       "Gender              0\n",
       "Income              0\n",
       "Children            0\n",
       "Cars                0\n",
       "Age                 0\n",
       "Education           0\n",
       "Occupation          0\n",
       "Home Owner          0\n",
       "Commute Distance    0\n",
       "Region              0\n",
       "Purchased Bike      0\n",
       "dtype: int64"
      ]
     },
     "execution_count": 13,
     "metadata": {},
     "output_type": "execute_result"
    }
   ],
   "source": [
    "df.isnull().sum()"
   ]
  },
  {
   "cell_type": "code",
   "execution_count": 14,
   "metadata": {},
   "outputs": [
    {
     "data": {
      "image/png": "[encoded data removed]",
      "text/plain": [
       "<Figure size 640x480 with 1 Axes>"
      ]
     },
     "metadata": {},
     "output_type": "display_data"
    },
    {
     "name": "stdout",
     "output_type": "stream",
     "text": [
      "Income      0.750358\n",
      "Children    0.392331\n",
      "Cars        0.420238\n",
      "Age         0.524204\n",
      "dtype: float64\n"
     ]
    }
   ],
   "source": [
    "import matplotlib.pyplot as plt\n",
    "\n",
    "# Create box plots for numerical columns\n",
    "df[['Income', 'Children', 'Cars', 'Age']].boxplot()\n",
    "plt.show()\n",
    "\n",
    "# Check for skewness\n",
    "print(df[['Income', 'Children', 'Cars', 'Age']].skew())\n"
   ]
  },
  {
   "cell_type": "markdown",
   "metadata": {},
   "source": [
    "need to add more"
   ]
  }
 ],
 "metadata": {
  "kernelspec": {
   "display_name": "base",
   "language": "python",
   "name": "python3"
  },
  "language_info": {
   "codemirror_mode": {
    "name": "ipython",
    "version": 3
   },
   "file_extension": ".py",
   "mimetype": "text/x-python",
   "name": "python",
   "nbconvert_exporter": "python",
   "pygments_lexer": "ipython3",
   "version": "3.12.4"
  }
 },
 "nbformat": 4,
 "nbformat_minor": 2
}
