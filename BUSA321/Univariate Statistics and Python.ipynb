{
 "cells": [
  {
   "attachments": {},
   "cell_type": "markdown",
   "metadata": {},
   "source": [
    "**Univariate Analysis: Basic Python**\n",
    "\n",
    "Use what you learned from class to complete the following tasks using Python code and your dataframe.\n",
    "\n",
    "Read in the mpg.csv dataset. Remember to import the pandas package everytime. Make sure the new dataframe is viewable in the output."
   ]
  },
  {
   "cell_type": "code",
   "execution_count": 62,
   "metadata": {},
   "outputs": [],
   "source": [
    "import pandas as pd\n",
    "\n",
    "df = pd.read_csv('mpg.csv')"
   ]
  },
  {
   "attachments": {},
   "cell_type": "markdown",
   "metadata": {},
   "source": [
    "Create a DataFrame that contains the following properties and statistics of all features in the MPG.csv dataset:\n",
    "\n",
    "* Count\n",
    "* Quantiles(.25, .5, .75)\n",
    "* Mean\n",
    "* Min\n",
    "* Max\n",
    "* Standard Deviation"
   ]
  },
  {
   "cell_type": "code",
   "execution_count": 63,
   "metadata": {},
   "outputs": [
    {
     "name": "stdout",
     "output_type": "stream",
     "text": [
      "              Count  25th Percentile  50th Percentile (Median)  \\\n",
      "MPG             392           17.000                     22.75   \n",
      "Cylinders       392            4.000                      4.00   \n",
      "Displacement    392          105.000                    151.00   \n",
      "Horse_Power     392           75.000                     93.50   \n",
      "Weight          392         2225.250                   2803.50   \n",
      "Acceleration    392           13.775                     15.50   \n",
      "Model_Year      392           73.000                     76.00   \n",
      "\n",
      "              75th Percentile         Mean     Min     Max     Std Dev  \n",
      "MPG                    29.000    23.445918     9.0    46.6    7.805007  \n",
      "Cylinders               8.000     5.471939     3.0     8.0    1.705783  \n",
      "Displacement          275.750   194.411990    68.0   455.0  104.644004  \n",
      "Horse_Power           126.000   104.469388    46.0   230.0   38.491160  \n",
      "Weight               3614.750  2977.584184  1613.0  5140.0  849.402560  \n",
      "Acceleration           17.025    15.541327     8.0    24.8    2.758864  \n",
      "Model_Year             79.000    75.979592    70.0    82.0    3.683737  \n"
     ]
    }
   ],
   "source": [
    "\n",
    "numeric_df = df.select_dtypes(include=['float64', 'int64'])\n",
    "\n",
    "count = numeric_df.count()\n",
    "quantiles = numeric_df.quantile([0.25, 0.5, 0.75])\n",
    "mean = numeric_df.mean()\n",
    "min_values = numeric_df.min()\n",
    "max_values = numeric_df.max()\n",
    "std_dev = numeric_df.std()\n",
    "summary_df = pd.DataFrame({\n",
    "    'Count': count,\n",
    "    '25th Percentile': quantiles.loc[0.25],\n",
    "    '50th Percentile (Median)': quantiles.loc[0.5],\n",
    "    '75th Percentile': quantiles.loc[0.75],\n",
    "    'Mean': mean,\n",
    "    'Min': min_values,\n",
    "    'Max': max_values,\n",
    "    'Std Dev': std_dev\n",
    "})\n",
    "\n",
    "print(summary_df)\n"
   ]
  },
  {
   "attachments": {},
   "cell_type": "markdown",
   "metadata": {},
   "source": [
    "Given the above table, do any of the variables seem to have missing values? (HINT: Check the Count and if 0 is located in any of the variables). Which variables seem to be normally distributed at a glance? (Check how far away the min and max are from the mean). Which variables are missing from your table? Answer this in the markdown section below."
   ]
  },
  {
   "attachments": {},
   "cell_type": "markdown",
   "metadata": {},
   "source": [
    "Given the count of all variables being 392, it does not appear any variables have missing values. The variables that are seemingly distributed are MPG, Cylinders, Displacement, Horse_Power, Weight, and Acceleration. The only variable missing within my table is name, but since it is a string variable instead, we can leave that out when doing statistics. "
   ]
  },
  {
   "attachments": {},
   "cell_type": "markdown",
   "metadata": {},
   "source": [
    "From the data in this new DataFrame, what is the skewness of MPG? "
   ]
  },
  {
   "cell_type": "code",
   "execution_count": 81,
   "metadata": {},
   "outputs": [
    {
     "name": "stdout",
     "output_type": "stream",
     "text": [
      "Skewness of MPG: 0.45709232306041025\n"
     ]
    }
   ],
   "source": [
    "mpg_skewness = df['MPG'].skew()\n",
    "\n",
    "print(\"Skewness of MPG:\", mpg_skewness)\n",
    "#0.45709232306041025"
   ]
  },
  {
   "attachments": {},
   "cell_type": "markdown",
   "metadata": {},
   "source": [
    "What is the standard deviation of the weight from the mpg.csv dataset? "
   ]
  },
  {
   "cell_type": "code",
   "execution_count": 65,
   "metadata": {},
   "outputs": [
    {
     "name": "stdout",
     "output_type": "stream",
     "text": [
      "Standard Deviation of Weight: 849.4025600429492\n"
     ]
    }
   ],
   "source": [
    "weight_std_dev = df['Weight'].std()\n",
    "\n",
    "print(\"Standard Deviation of Weight:\", weight_std_dev)\n",
    "#849.4025600429492"
   ]
  },
  {
   "attachments": {},
   "cell_type": "markdown",
   "metadata": {},
   "source": [
    "What is the mean weight for the mpg.csv dataset?"
   ]
  },
  {
   "cell_type": "code",
   "execution_count": 66,
   "metadata": {},
   "outputs": [
    {
     "name": "stdout",
     "output_type": "stream",
     "text": [
      "Mean Weight: 2977.5841836734694\n"
     ]
    }
   ],
   "source": [
    "mean_weight = df['Weight'].mean()\n",
    "\n",
    "print(\"Mean Weight:\", mean_weight)\n",
    "#2977.5841836734694"
   ]
  },
  {
   "attachments": {},
   "cell_type": "markdown",
   "metadata": {},
   "source": [
    "*How many* unique values are there for Name?"
   ]
  },
  {
   "cell_type": "code",
   "execution_count": 67,
   "metadata": {},
   "outputs": [
    {
     "name": "stdout",
     "output_type": "stream",
     "text": [
      "Number of unique values for Name: 301\n"
     ]
    }
   ],
   "source": [
    "unique_names_count = df['Name'].nunique()\n",
    "\n",
    "print(\"Number of unique values for Name:\", unique_names_count)\n",
    "#301"
   ]
  },
  {
   "attachments": {},
   "cell_type": "markdown",
   "metadata": {},
   "source": [
    "From this number alone, can you tell if any of the names are repeated in the dataset? Show in the code."
   ]
  },
  {
   "cell_type": "code",
   "execution_count": 68,
   "metadata": {},
   "outputs": [
    {
     "name": "stdout",
     "output_type": "stream",
     "text": [
      "Total number of entries for Name: 392\n",
      "Number of unique values for Name: 301\n",
      "Are there any repeated names? True\n"
     ]
    }
   ],
   "source": [
    "total_names_count = df['Name'].count()\n",
    "unique_names_count = df['Name'].nunique()\n",
    "repeated_names_exist = total_names_count > unique_names_count\n",
    "\n",
    "print(\"Total number of entries for Name:\", total_names_count)\n",
    "print(\"Number of unique values for Name:\", unique_names_count)\n",
    "print(\"Are there any repeated names?\", repeated_names_exist)"
   ]
  },
  {
   "attachments": {},
   "cell_type": "markdown",
   "metadata": {},
   "source": [
    "*What are* the unique values for Cylinders?"
   ]
  },
  {
   "cell_type": "code",
   "execution_count": 69,
   "metadata": {},
   "outputs": [
    {
     "name": "stdout",
     "output_type": "stream",
     "text": [
      "Unique values for Cylinders: [8 4 6 3 5]\n"
     ]
    }
   ],
   "source": [
    "unique_cylinders = df['Cylinders'].unique()\n",
    "\n",
    "print(\"Unique values for Cylinders:\", unique_cylinders)\n",
    "#[8 4 6 3 5]"
   ]
  },
  {
   "attachments": {},
   "cell_type": "markdown",
   "metadata": {},
   "source": [
    "What is the mode of Displacement?"
   ]
  },
  {
   "cell_type": "code",
   "execution_count": 70,
   "metadata": {},
   "outputs": [
    {
     "name": "stdout",
     "output_type": "stream",
     "text": [
      "Mode of Displacement: 0    97.0\n",
      "Name: Displacement, dtype: float64\n"
     ]
    }
   ],
   "source": [
    "displacement_mode = df['Displacement'].mode()\n",
    "print(\"Mode of Displacement:\", displacement_mode)\n",
    "#97.0\n"
   ]
  },
  {
   "attachments": {},
   "cell_type": "markdown",
   "metadata": {},
   "source": [
    "Show the types each of the variables (fields/columns). Do they seem fine or do any seem different than expected?"
   ]
  },
  {
   "cell_type": "code",
   "execution_count": 71,
   "metadata": {},
   "outputs": [
    {
     "name": "stdout",
     "output_type": "stream",
     "text": [
      "MPG             float64\n",
      "Cylinders         int64\n",
      "Displacement    float64\n",
      "Horse_Power       int64\n",
      "Weight            int64\n",
      "Acceleration    float64\n",
      "Model_Year        int64\n",
      "Name             object\n",
      "dtype: object\n"
     ]
    }
   ],
   "source": [
    "print(df.dtypes)"
   ]
  },
  {
   "cell_type": "markdown",
   "metadata": {},
   "source": [
    "The data types seem fine, it makes complete sense that MPG, Displacement, and Acceleration are float points, consindering it would be needed for them to be precise. I would have expected maybe horse power and weight to also be floats vs integers. Name being an object also makes sense."
   ]
  },
  {
   "attachments": {},
   "cell_type": "markdown",
   "metadata": {},
   "source": [
    "Check for missing values (NA). Are there any?"
   ]
  },
  {
   "cell_type": "code",
   "execution_count": 72,
   "metadata": {},
   "outputs": [
    {
     "name": "stdout",
     "output_type": "stream",
     "text": [
      "Missing values in each column:\n",
      "MPG             0\n",
      "Cylinders       0\n",
      "Displacement    0\n",
      "Horse_Power     0\n",
      "Weight          0\n",
      "Acceleration    0\n",
      "Model_Year      0\n",
      "Name            0\n",
      "dtype: int64\n"
     ]
    }
   ],
   "source": [
    "missing_values = df.isna().sum()\n",
    "\n",
    "print(\"Missing values in each column:\")\n",
    "print(missing_values)"
   ]
  },
  {
   "cell_type": "markdown",
   "metadata": {},
   "source": [
    "It does not appear that any missing values withinthe dataframe."
   ]
  },
  {
   "attachments": {},
   "cell_type": "markdown",
   "metadata": {},
   "source": [
    "**BONUS** *(2 pts)*: Create another DataFrame that contains the following properties and statistics of all features in the MPG.csv dataset:\n",
    "\n",
    "* Count\n",
    "* Data type\n",
    "* Number unique\n",
    "* Number missing\n",
    "* Quantiles(.25, .5, .75)\n",
    "* Mean\n",
    "* Median\n",
    "* Mode\n",
    "* Min\n",
    "* Max\n",
    "* Standard Deviation\n",
    "* Kurtosis\n",
    "* Skewness"
   ]
  },
  {
   "cell_type": "code",
   "execution_count": 79,
   "metadata": {},
   "outputs": [
    {
     "name": "stdout",
     "output_type": "stream",
     "text": [
      "              Count Data Type  Number Unique  Number Missing  25th Percentile  \\\n",
      "MPG             392   float64            127               0           17.000   \n",
      "Cylinders       392     int64              5               0            4.000   \n",
      "Displacement    392   float64             81               0          105.000   \n",
      "Horse_Power     392     int64             93               0           75.000   \n",
      "Weight          392     int64            346               0         2225.250   \n",
      "Acceleration    392   float64             95               0           13.775   \n",
      "Model_Year      392     int64             13               0           73.000   \n",
      "\n",
      "              50th Percentile (Median)  75th Percentile         Mean   Median  \\\n",
      "MPG                              22.75           29.000    23.445918    22.75   \n",
      "Cylinders                         4.00            8.000     5.471939     4.00   \n",
      "Displacement                    151.00          275.750   194.411990   151.00   \n",
      "Horse_Power                      93.50          126.000   104.469388    93.50   \n",
      "Weight                         2803.50         3614.750  2977.584184  2803.50   \n",
      "Acceleration                     15.50           17.025    15.541327    15.50   \n",
      "Model_Year                       76.00           79.000    75.979592    76.00   \n",
      "\n",
      "                Mode     Min     Max  Standard Deviation  Kurtosis  Skewness  \n",
      "MPG             13.0     9.0    46.6            7.805007 -0.515993  0.457092  \n",
      "Cylinders        4.0     3.0     8.0            1.705783 -1.398199  0.508109  \n",
      "Displacement    97.0    68.0   455.0          104.644004 -0.778317  0.701669  \n",
      "Horse_Power    150.0    46.0   230.0           38.491160  0.696947  1.087326  \n",
      "Weight        1985.0  1613.0  5140.0          849.402560 -0.809259  0.519586  \n",
      "Acceleration    14.5     8.0    24.8            2.758864  0.444234  0.291587  \n",
      "Model_Year      73.0    70.0    82.0            3.683737 -1.167446  0.019688  \n"
     ]
    }
   ],
   "source": [
    "\n",
    "numeric_df = df.select_dtypes(include=['float64', 'int64'])\n",
    "\n",
    "summary_df = pd.DataFrame()\n",
    "\n",
    "summary_df['Count'] = numeric_df.count()\n",
    "summary_df['Data Type'] = numeric_df.dtypes\n",
    "summary_df['Number Unique'] = numeric_df.nunique()\n",
    "summary_df['Number Missing'] = numeric_df.isna().sum()\n",
    "\n",
    "quantiles = numeric_df.quantile([0.25, 0.5, 0.75])\n",
    "summary_df['25th Percentile'] = quantiles.loc[0.25]\n",
    "summary_df['50th Percentile (Median)'] = quantiles.loc[0.5]\n",
    "summary_df['75th Percentile'] = quantiles.loc[0.75]\n",
    "summary_df['Mean'] = numeric_df.mean()\n",
    "summary_df['Median'] = numeric_df.median()\n",
    "summary_df['Mode'] = numeric_df.mode().iloc[0] \n",
    "summary_df['Min'] = numeric_df.min()\n",
    "summary_df['Max'] = numeric_df.max()\n",
    "\n",
    "\n",
    "summary_df['Standard Deviation'] = numeric_df.std()\n",
    "summary_df['Kurtosis'] = numeric_df.kurtosis()\n",
    "summary_df['Skewness'] = numeric_df.skew()\n",
    "\n",
    "print(summary_df)\n"
   ]
  }
 ],
 "metadata": {
  "kernelspec": {
   "display_name": "Python 3",
   "language": "python",
   "name": "python3"
  },
  "language_info": {
   "codemirror_mode": {
    "name": "ipython",
    "version": 3
   },
   "file_extension": ".py",
   "mimetype": "text/x-python",
   "name": "python",
   "nbconvert_exporter": "python",
   "pygments_lexer": "ipython3",
   "version": "3.11.0"
  },
  "orig_nbformat": 4
 },
 "nbformat": 4,
 "nbformat_minor": 2
}
