{
 "cells": [
  {
   "attachments": {},
   "cell_type": "markdown",
   "metadata": {},
   "source": [
    "**Univariate Analysis: Basic Python**\n",
    "\n",
    "Use what you learned from class to complete the following tasks using Python code and your dataframe.\n",
    "\n",
    "Read in the mpg.csv dataset. Remember to import the pandas package everytime. Make sure the new dataframe is viewable in the output."
   ]
  },
  {
   "cell_type": "code",
   "execution_count": 11,
   "metadata": {},
   "outputs": [
    {
     "data": {
      "text/html": [
       "<div>\n",
       "<style scoped>\n",
       "    .dataframe tbody tr th:only-of-type {\n",
       "        vertical-align: middle;\n",
       "    }\n",
       "\n",
       "    .dataframe tbody tr th {\n",
       "        vertical-align: top;\n",
       "    }\n",
       "\n",
       "    .dataframe thead th {\n",
       "        text-align: right;\n",
       "    }\n",
       "</style>\n",
       "<table border=\"1\" class=\"dataframe\">\n",
       "  <thead>\n",
       "    <tr style=\"text-align: right;\">\n",
       "      <th></th>\n",
       "      <th>MPG</th>\n",
       "      <th>Cylinders</th>\n",
       "      <th>Displacement</th>\n",
       "      <th>Horse_Power</th>\n",
       "      <th>Weight</th>\n",
       "      <th>Acceleration</th>\n",
       "      <th>Model_Year</th>\n",
       "      <th>Name</th>\n",
       "    </tr>\n",
       "  </thead>\n",
       "  <tbody>\n",
       "    <tr>\n",
       "      <th>0</th>\n",
       "      <td>18.0</td>\n",
       "      <td>8</td>\n",
       "      <td>307.0</td>\n",
       "      <td>130</td>\n",
       "      <td>3504</td>\n",
       "      <td>12.0</td>\n",
       "      <td>70</td>\n",
       "      <td>chevrolet chevelle malibu</td>\n",
       "    </tr>\n",
       "    <tr>\n",
       "      <th>1</th>\n",
       "      <td>15.0</td>\n",
       "      <td>8</td>\n",
       "      <td>350.0</td>\n",
       "      <td>165</td>\n",
       "      <td>3693</td>\n",
       "      <td>11.5</td>\n",
       "      <td>70</td>\n",
       "      <td>buick skylark 320</td>\n",
       "    </tr>\n",
       "    <tr>\n",
       "      <th>2</th>\n",
       "      <td>18.0</td>\n",
       "      <td>8</td>\n",
       "      <td>318.0</td>\n",
       "      <td>150</td>\n",
       "      <td>3436</td>\n",
       "      <td>11.0</td>\n",
       "      <td>70</td>\n",
       "      <td>plymouth satellite</td>\n",
       "    </tr>\n",
       "    <tr>\n",
       "      <th>3</th>\n",
       "      <td>16.0</td>\n",
       "      <td>8</td>\n",
       "      <td>304.0</td>\n",
       "      <td>150</td>\n",
       "      <td>3433</td>\n",
       "      <td>12.0</td>\n",
       "      <td>70</td>\n",
       "      <td>amc rebel sst</td>\n",
       "    </tr>\n",
       "    <tr>\n",
       "      <th>4</th>\n",
       "      <td>17.0</td>\n",
       "      <td>8</td>\n",
       "      <td>302.0</td>\n",
       "      <td>140</td>\n",
       "      <td>3449</td>\n",
       "      <td>10.5</td>\n",
       "      <td>70</td>\n",
       "      <td>ford torino</td>\n",
       "    </tr>\n",
       "    <tr>\n",
       "      <th>...</th>\n",
       "      <td>...</td>\n",
       "      <td>...</td>\n",
       "      <td>...</td>\n",
       "      <td>...</td>\n",
       "      <td>...</td>\n",
       "      <td>...</td>\n",
       "      <td>...</td>\n",
       "      <td>...</td>\n",
       "    </tr>\n",
       "    <tr>\n",
       "      <th>387</th>\n",
       "      <td>27.0</td>\n",
       "      <td>4</td>\n",
       "      <td>140.0</td>\n",
       "      <td>86</td>\n",
       "      <td>2790</td>\n",
       "      <td>15.6</td>\n",
       "      <td>82</td>\n",
       "      <td>ford mustang gl</td>\n",
       "    </tr>\n",
       "    <tr>\n",
       "      <th>388</th>\n",
       "      <td>44.0</td>\n",
       "      <td>4</td>\n",
       "      <td>97.0</td>\n",
       "      <td>52</td>\n",
       "      <td>2130</td>\n",
       "      <td>24.6</td>\n",
       "      <td>82</td>\n",
       "      <td>vw pickup</td>\n",
       "    </tr>\n",
       "    <tr>\n",
       "      <th>389</th>\n",
       "      <td>32.0</td>\n",
       "      <td>4</td>\n",
       "      <td>135.0</td>\n",
       "      <td>84</td>\n",
       "      <td>2295</td>\n",
       "      <td>11.6</td>\n",
       "      <td>82</td>\n",
       "      <td>dodge rampage</td>\n",
       "    </tr>\n",
       "    <tr>\n",
       "      <th>390</th>\n",
       "      <td>28.0</td>\n",
       "      <td>4</td>\n",
       "      <td>120.0</td>\n",
       "      <td>79</td>\n",
       "      <td>2625</td>\n",
       "      <td>18.6</td>\n",
       "      <td>82</td>\n",
       "      <td>ford ranger</td>\n",
       "    </tr>\n",
       "    <tr>\n",
       "      <th>391</th>\n",
       "      <td>31.0</td>\n",
       "      <td>4</td>\n",
       "      <td>119.0</td>\n",
       "      <td>82</td>\n",
       "      <td>2720</td>\n",
       "      <td>19.4</td>\n",
       "      <td>82</td>\n",
       "      <td>chevy s-10</td>\n",
       "    </tr>\n",
       "  </tbody>\n",
       "</table>\n",
       "<p>392 rows × 8 columns</p>\n",
       "</div>"
      ],
      "text/plain": [
       "      MPG  Cylinders  Displacement  Horse_Power  Weight  Acceleration  \\\n",
       "0    18.0          8         307.0          130    3504          12.0   \n",
       "1    15.0          8         350.0          165    3693          11.5   \n",
       "2    18.0          8         318.0          150    3436          11.0   \n",
       "3    16.0          8         304.0          150    3433          12.0   \n",
       "4    17.0          8         302.0          140    3449          10.5   \n",
       "..    ...        ...           ...          ...     ...           ...   \n",
       "387  27.0          4         140.0           86    2790          15.6   \n",
       "388  44.0          4          97.0           52    2130          24.6   \n",
       "389  32.0          4         135.0           84    2295          11.6   \n",
       "390  28.0          4         120.0           79    2625          18.6   \n",
       "391  31.0          4         119.0           82    2720          19.4   \n",
       "\n",
       "     Model_Year                       Name  \n",
       "0            70  chevrolet chevelle malibu  \n",
       "1            70          buick skylark 320  \n",
       "2            70         plymouth satellite  \n",
       "3            70              amc rebel sst  \n",
       "4            70                ford torino  \n",
       "..          ...                        ...  \n",
       "387          82            ford mustang gl  \n",
       "388          82                  vw pickup  \n",
       "389          82              dodge rampage  \n",
       "390          82                ford ranger  \n",
       "391          82                 chevy s-10  \n",
       "\n",
       "[392 rows x 8 columns]"
      ]
     },
     "execution_count": 11,
     "metadata": {},
     "output_type": "execute_result"
    }
   ],
   "source": [
    "import pandas as pd\n",
    "\n",
    "df = pd.read_csv('mpg.csv')"
   ]
  },
  {
   "attachments": {},
   "cell_type": "markdown",
   "metadata": {},
   "source": [
    "Create a DataFrame that contains the following properties and statistics of all features in the MPG.csv dataset:\n",
    "\n",
    "* Count\n",
    "* Quantiles(.25, .5, .75)\n",
    "* Mean\n",
    "* Min\n",
    "* Max\n",
    "* Standard Deviation"
   ]
  },
  {
   "cell_type": "code",
   "execution_count": 41,
   "metadata": {},
   "outputs": [
    {
     "name": "stdout",
     "output_type": "stream",
     "text": [
      "              Count  25th Percentile  50th Percentile (Median)  \\\n",
      "MPG             392           17.000                     22.75   \n",
      "Cylinders       392            4.000                      4.00   \n",
      "Displacement    392          105.000                    151.00   \n",
      "Horse_Power     392           75.000                     93.50   \n",
      "Weight          392         2225.250                   2803.50   \n",
      "Acceleration    392           13.775                     15.50   \n",
      "Model_Year      392           73.000                     76.00   \n",
      "\n",
      "              75th Percentile         Mean     Min     Max     Std Dev  \n",
      "MPG                    29.000    23.445918     9.0    46.6    7.805007  \n",
      "Cylinders               8.000     5.471939     3.0     8.0    1.705783  \n",
      "Displacement          275.750   194.411990    68.0   455.0  104.644004  \n",
      "Horse_Power           126.000   104.469388    46.0   230.0   38.491160  \n",
      "Weight               3614.750  2977.584184  1613.0  5140.0  849.402560  \n",
      "Acceleration           17.025    15.541327     8.0    24.8    2.758864  \n",
      "Model_Year             79.000    75.979592    70.0    82.0    3.683737  \n"
     ]
    }
   ],
   "source": [
    "\n",
    "numeric_df = df.select_dtypes(include=['float64', 'int64'])\n",
    "# Compute statistics\n",
    "count = numeric_df.count()\n",
    "quantiles = numeric_df.quantile([0.25, 0.5, 0.75])\n",
    "mean = numeric_df.mean()\n",
    "min_values = numeric_df.min()\n",
    "max_values = numeric_df.max()\n",
    "std_dev = numeric_df.std()\n",
    "summary_df = pd.DataFrame({\n",
    "    'Count': count,\n",
    "    '25th Percentile': quantiles.loc[0.25],\n",
    "    '50th Percentile (Median)': quantiles.loc[0.5],\n",
    "    '75th Percentile': quantiles.loc[0.75],\n",
    "    'Mean': mean,\n",
    "    'Min': min_values,\n",
    "    'Max': max_values,\n",
    "    'Std Dev': std_dev\n",
    "})\n",
    "\n",
    "print(summary_df)\n"
   ]
  },
  {
   "attachments": {},
   "cell_type": "markdown",
   "metadata": {},
   "source": [
    "Given the above table, do any of the variables seem to have missing values? (HINT: Check the Count and if 0 is located in any of the variables). Which variables seem to be normally distributed at a glance? (Check how far away the min and max are from the mean). Which variables are missing from your table? Answer this in the markdown section below."
   ]
  },
  {
   "attachments": {},
   "cell_type": "markdown",
   "metadata": {},
   "source": [
    "Given the count of all variables being 392, it does not appear any variables have missing values. The variables that are seemingly distributed are MPG, Cylinders, Displacement, Horse_Power, Weight, and Acceleration. The only variable missing within my table is name, but since it is a string variable instead, we can leave that out when doing statistics. "
   ]
  },
  {
   "attachments": {},
   "cell_type": "markdown",
   "metadata": {},
   "source": [
    "From the data in this new DataFrame, what is the skewness of MPG? "
   ]
  },
  {
   "cell_type": "code",
   "execution_count": 44,
   "metadata": {},
   "outputs": [
    {
     "name": "stdout",
     "output_type": "stream",
     "text": [
      "Skewness of MPG: 0.45709232306041025\n"
     ]
    }
   ],
   "source": [
    "mpg_skewness = df['MPG'].skew()\n",
    "\n",
    "print(\"Skewness of MPG:\", mpg_skewness)\n",
    "#0.45709232306041025"
   ]
  },
  {
   "attachments": {},
   "cell_type": "markdown",
   "metadata": {},
   "source": [
    "What is the standard deviation of the weight from the mpg.csv dataset? "
   ]
  },
  {
   "cell_type": "code",
   "execution_count": 45,
   "metadata": {},
   "outputs": [
    {
     "name": "stdout",
     "output_type": "stream",
     "text": [
      "Standard Deviation of Weight: 849.4025600429492\n"
     ]
    }
   ],
   "source": [
    "weight_std_dev = df['Weight'].std()\n",
    "\n",
    "print(\"Standard Deviation of Weight:\", weight_std_dev)\n",
    "#849.4025600429492"
   ]
  },
  {
   "attachments": {},
   "cell_type": "markdown",
   "metadata": {},
   "source": [
    "What is the mean weight for the mpg.csv dataset?"
   ]
  },
  {
   "cell_type": "code",
   "execution_count": 46,
   "metadata": {},
   "outputs": [
    {
     "name": "stdout",
     "output_type": "stream",
     "text": [
      "Mean Weight: 2977.5841836734694\n"
     ]
    }
   ],
   "source": [
    "mean_weight = df['Weight'].mean()\n",
    "\n",
    "print(\"Mean Weight:\", mean_weight)\n",
    "#2977.5841836734694"
   ]
  },
  {
   "attachments": {},
   "cell_type": "markdown",
   "metadata": {},
   "source": [
    "*How many* unique values are there for Name?"
   ]
  },
  {
   "cell_type": "code",
   "execution_count": 47,
   "metadata": {},
   "outputs": [
    {
     "name": "stdout",
     "output_type": "stream",
     "text": [
      "Number of unique values for Name: 301\n"
     ]
    }
   ],
   "source": [
    "unique_names_count = df['Name'].nunique()\n",
    "\n",
    "print(\"Number of unique values for Name:\", unique_names_count)"
   ]
  },
  {
   "attachments": {},
   "cell_type": "markdown",
   "metadata": {},
   "source": [
    "From this number alone, can you tell if any of the names are repeated in the dataset? Show in the code."
   ]
  },
  {
   "cell_type": "code",
   "execution_count": 48,
   "metadata": {},
   "outputs": [
    {
     "name": "stdout",
     "output_type": "stream",
     "text": [
      "Total number of entries for Name: 392\n",
      "Number of unique values for Name: 301\n",
      "Are there any repeated names? True\n"
     ]
    }
   ],
   "source": [
    "total_names_count = df['Name'].count()\n",
    "unique_names_count = df['Name'].nunique()\n",
    "repeated_names_exist = total_names_count > unique_names_count\n",
    "\n",
    "print(\"Total number of entries for Name:\", total_names_count)\n",
    "print(\"Number of unique values for Name:\", unique_names_count)\n",
    "print(\"Are there any repeated names?\", repeated_names_exist)"
   ]
  },
  {
   "attachments": {},
   "cell_type": "markdown",
   "metadata": {},
   "source": [
    "*What are* the unique values for Cylinders?"
   ]
  },
  {
   "cell_type": "code",
   "execution_count": 50,
   "metadata": {},
   "outputs": [
    {
     "name": "stdout",
     "output_type": "stream",
     "text": [
      "Unique values for Cylinders: [8 4 6 3 5]\n"
     ]
    }
   ],
   "source": [
    "unique_cylinders = df['Cylinders'].unique()\n",
    "\n",
    "print(\"Unique values for Cylinders:\", unique_cylinders)"
   ]
  },
  {
   "attachments": {},
   "cell_type": "markdown",
   "metadata": {},
   "source": [
    "What is the mode of Displacement?"
   ]
  },
  {
   "cell_type": "code",
   "execution_count": 52,
   "metadata": {},
   "outputs": [
    {
     "name": "stdout",
     "output_type": "stream",
     "text": [
      "Mode of Displacement: [97.0]\n"
     ]
    }
   ],
   "source": [
    "displacement_mode = df['Displacement'].mode()\n",
    "print(\"Mode of Displacement:\", displacement_mode.tolist())\n"
   ]
  },
  {
   "attachments": {},
   "cell_type": "markdown",
   "metadata": {},
   "source": [
    "Show the types each of the variables (fields/columns). Do they seem fine or do any seem different than expected?"
   ]
  },
  {
   "cell_type": "code",
   "execution_count": 53,
   "metadata": {},
   "outputs": [
    {
     "name": "stdout",
     "output_type": "stream",
     "text": [
      "MPG             float64\n",
      "Cylinders         int64\n",
      "Displacement    float64\n",
      "Horse_Power       int64\n",
      "Weight            int64\n",
      "Acceleration    float64\n",
      "Model_Year        int64\n",
      "Name             object\n",
      "dtype: object\n"
     ]
    }
   ],
   "source": [
    "print(df.dtypes)"
   ]
  },
  {
   "cell_type": "markdown",
   "metadata": {},
   "source": [
    "The data types seem fine, it makes complete sense that MPG, Displacement, and Acceleration are float points, consindering it would be needed for them to be precise. I would have expected maybe horse power and weight to also be floats vs integers. Name being an object also makes sense."
   ]
  },
  {
   "attachments": {},
   "cell_type": "markdown",
   "metadata": {},
   "source": [
    "Check for missing values (NA). Are there any?"
   ]
  },
  {
   "cell_type": "code",
   "execution_count": 54,
   "metadata": {},
   "outputs": [
    {
     "name": "stdout",
     "output_type": "stream",
     "text": [
      "Missing values in each column:\n",
      "MPG             0\n",
      "Cylinders       0\n",
      "Displacement    0\n",
      "Horse_Power     0\n",
      "Weight          0\n",
      "Acceleration    0\n",
      "Model_Year      0\n",
      "Name            0\n",
      "dtype: int64\n"
     ]
    }
   ],
   "source": [
    "missing_values = df.isna().sum()\n",
    "\n",
    "print(\"Missing values in each column:\")\n",
    "print(missing_values)"
   ]
  },
  {
   "attachments": {},
   "cell_type": "markdown",
   "metadata": {},
   "source": [
    "**BONUS** *(2 pts)*: Create another DataFrame that contains the following properties and statistics of all features in the MPG.csv dataset:\n",
    "\n",
    "* Count\n",
    "* Data type\n",
    "* Number unique\n",
    "* Number missing\n",
    "* Quantiles(.25, .5, .75)\n",
    "* Mean\n",
    "* Median\n",
    "* Mode\n",
    "* Min\n",
    "* Max\n",
    "* Standard Deviation\n",
    "* Kurtosis\n",
    "* Skewness"
   ]
  },
  {
   "cell_type": "code",
   "execution_count": null,
   "metadata": {},
   "outputs": [],
   "source": []
  }
 ],
 "metadata": {
  "kernelspec": {
   "display_name": "Python 3",
   "language": "python",
   "name": "python3"
  },
  "language_info": {
   "codemirror_mode": {
    "name": "ipython",
    "version": 3
   },
   "file_extension": ".py",
   "mimetype": "text/x-python",
   "name": "python",
   "nbconvert_exporter": "python",
   "pygments_lexer": "ipython3",
   "version": "3.11.0"
  },
  "orig_nbformat": 4
 },
 "nbformat": 4,
 "nbformat_minor": 2
}
