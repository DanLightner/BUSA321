{
 "cells": [
  {
   "attachments": {},
   "cell_type": "markdown",
   "metadata": {},
   "source": [
    "**ANOVA**!"
   ]
  },
  {
   "attachments": {},
   "cell_type": "markdown",
   "metadata": {},
   "source": [
    "*NOTE*: Sometimes, packages can't be imported because they need to be installed first. Use the following code to install libraries or packages on your program so they can be used anytime:\n",
    "\n",
    "%pip install scipy"
   ]
  },
  {
   "attachments": {},
   "cell_type": "markdown",
   "metadata": {},
   "source": [
    "**Difference between T-tests and ANOVA:**\n",
    "\n",
    "**T-tests**: Categorical variables with TWO categories (male/female, yes/no)\n",
    "**ANOVA**: Categorical variables with **THREE or MORE categories** (region: southwest, northwest, southeast, northeast)\n",
    "\n",
    "**What this tests**: is there are difference in the MEAN of the NUMERICAL variable (or feature/column) for each CATEGORY of the CATEGORICAL variable?\n",
    "\n",
    "**Example**: If we were to divide the BMI (numerical variable) into the four region categories (categorical variable), we test to see if **at least two** *regions* are different. \n",
    "\n",
    "This requires some critical thinking on the way we write the code. See below:"
   ]
  },
  {
   "cell_type": "code",
   "execution_count": 2,
   "metadata": {},
   "outputs": [
    {
     "data": {
      "text/html": [
       "<div>\n",
       "<style scoped>\n",
       "    .dataframe tbody tr th:only-of-type {\n",
       "        vertical-align: middle;\n",
       "    }\n",
       "\n",
       "    .dataframe tbody tr th {\n",
       "        vertical-align: top;\n",
       "    }\n",
       "\n",
       "    .dataframe thead th {\n",
       "        text-align: right;\n",
       "    }\n",
       "</style>\n",
       "<table border=\"1\" class=\"dataframe\">\n",
       "  <thead>\n",
       "    <tr style=\"text-align: right;\">\n",
       "      <th></th>\n",
       "      <th>age</th>\n",
       "      <th>sex</th>\n",
       "      <th>bmi</th>\n",
       "      <th>children</th>\n",
       "      <th>smoker</th>\n",
       "      <th>region</th>\n",
       "      <th>charges</th>\n",
       "    </tr>\n",
       "  </thead>\n",
       "  <tbody>\n",
       "    <tr>\n",
       "      <th>0</th>\n",
       "      <td>19</td>\n",
       "      <td>female</td>\n",
       "      <td>27.900</td>\n",
       "      <td>0</td>\n",
       "      <td>yes</td>\n",
       "      <td>southwest</td>\n",
       "      <td>16884.92400</td>\n",
       "    </tr>\n",
       "    <tr>\n",
       "      <th>1</th>\n",
       "      <td>18</td>\n",
       "      <td>male</td>\n",
       "      <td>33.770</td>\n",
       "      <td>1</td>\n",
       "      <td>no</td>\n",
       "      <td>southeast</td>\n",
       "      <td>1725.55230</td>\n",
       "    </tr>\n",
       "    <tr>\n",
       "      <th>2</th>\n",
       "      <td>28</td>\n",
       "      <td>male</td>\n",
       "      <td>33.000</td>\n",
       "      <td>3</td>\n",
       "      <td>no</td>\n",
       "      <td>southeast</td>\n",
       "      <td>4449.46200</td>\n",
       "    </tr>\n",
       "    <tr>\n",
       "      <th>3</th>\n",
       "      <td>33</td>\n",
       "      <td>male</td>\n",
       "      <td>22.705</td>\n",
       "      <td>0</td>\n",
       "      <td>no</td>\n",
       "      <td>northwest</td>\n",
       "      <td>21984.47061</td>\n",
       "    </tr>\n",
       "    <tr>\n",
       "      <th>4</th>\n",
       "      <td>32</td>\n",
       "      <td>male</td>\n",
       "      <td>28.880</td>\n",
       "      <td>0</td>\n",
       "      <td>no</td>\n",
       "      <td>northwest</td>\n",
       "      <td>3866.85520</td>\n",
       "    </tr>\n",
       "    <tr>\n",
       "      <th>...</th>\n",
       "      <td>...</td>\n",
       "      <td>...</td>\n",
       "      <td>...</td>\n",
       "      <td>...</td>\n",
       "      <td>...</td>\n",
       "      <td>...</td>\n",
       "      <td>...</td>\n",
       "    </tr>\n",
       "    <tr>\n",
       "      <th>1333</th>\n",
       "      <td>50</td>\n",
       "      <td>male</td>\n",
       "      <td>30.970</td>\n",
       "      <td>3</td>\n",
       "      <td>no</td>\n",
       "      <td>northwest</td>\n",
       "      <td>10600.54830</td>\n",
       "    </tr>\n",
       "    <tr>\n",
       "      <th>1334</th>\n",
       "      <td>18</td>\n",
       "      <td>female</td>\n",
       "      <td>31.920</td>\n",
       "      <td>0</td>\n",
       "      <td>no</td>\n",
       "      <td>northeast</td>\n",
       "      <td>2205.98080</td>\n",
       "    </tr>\n",
       "    <tr>\n",
       "      <th>1335</th>\n",
       "      <td>18</td>\n",
       "      <td>female</td>\n",
       "      <td>36.850</td>\n",
       "      <td>0</td>\n",
       "      <td>no</td>\n",
       "      <td>southeast</td>\n",
       "      <td>1629.83350</td>\n",
       "    </tr>\n",
       "    <tr>\n",
       "      <th>1336</th>\n",
       "      <td>21</td>\n",
       "      <td>female</td>\n",
       "      <td>25.800</td>\n",
       "      <td>0</td>\n",
       "      <td>no</td>\n",
       "      <td>southwest</td>\n",
       "      <td>2007.94500</td>\n",
       "    </tr>\n",
       "    <tr>\n",
       "      <th>1337</th>\n",
       "      <td>61</td>\n",
       "      <td>female</td>\n",
       "      <td>29.070</td>\n",
       "      <td>0</td>\n",
       "      <td>yes</td>\n",
       "      <td>northwest</td>\n",
       "      <td>29141.36030</td>\n",
       "    </tr>\n",
       "  </tbody>\n",
       "</table>\n",
       "<p>1338 rows × 7 columns</p>\n",
       "</div>"
      ],
      "text/plain": [
       "      age     sex     bmi  children smoker     region      charges\n",
       "0      19  female  27.900         0    yes  southwest  16884.92400\n",
       "1      18    male  33.770         1     no  southeast   1725.55230\n",
       "2      28    male  33.000         3     no  southeast   4449.46200\n",
       "3      33    male  22.705         0     no  northwest  21984.47061\n",
       "4      32    male  28.880         0     no  northwest   3866.85520\n",
       "...   ...     ...     ...       ...    ...        ...          ...\n",
       "1333   50    male  30.970         3     no  northwest  10600.54830\n",
       "1334   18  female  31.920         0     no  northeast   2205.98080\n",
       "1335   18  female  36.850         0     no  southeast   1629.83350\n",
       "1336   21  female  25.800         0     no  southwest   2007.94500\n",
       "1337   61  female  29.070         0    yes  northwest  29141.36030\n",
       "\n",
       "[1338 rows x 7 columns]"
      ]
     },
     "execution_count": 2,
     "metadata": {},
     "output_type": "execute_result"
    }
   ],
   "source": [
    "from scipy import stats\n",
    "import statistics as stat\n",
    "import pandas as pd\n",
    "\n",
    "df = pd.read_csv('http://www.ishelp.info/data/insurance.csv')\n",
    "df"
   ]
  },
  {
   "attachments": {},
   "cell_type": "markdown",
   "metadata": {},
   "source": [
    "For our t-test example, we wanted to separate the bmi (numerical) into two groups: male and female (categories), then save each as it's own list to be compared. We plug-and-chug these two lists into the t-test function."
   ]
  },
  {
   "cell_type": "code",
   "execution_count": 3,
   "metadata": {},
   "outputs": [],
   "source": [
    "# compare charges and region\n",
    "# how would we use the following code to compare regions and charges?\n",
    "\n",
    "#malebmi = bmi[(Ins.sex=='male')]    \n",
    "#femalebmi = bmi[(Ins.sex=='female')]"
   ]
  },
  {
   "attachments": {},
   "cell_type": "markdown",
   "metadata": {},
   "source": [
    "We can do the SAME EXACT THING for ANOVA! Suppose we want to test if there is a significant difference in the charges put on insurance between the different regions.\n",
    "\n",
    "We use brackets to tell Python to pull from the charges column ONLY those values that belong to specific regions (such as, region=='southwest', indicating only charges for the southwest region will come up for this list).\n",
    "\n",
    "THEN, we save each of these into new variables to make them easy to use."
   ]
  },
  {
   "cell_type": "code",
   "execution_count": 4,
   "metadata": {},
   "outputs": [
    {
     "data": {
      "text/plain": [
       "F_onewayResult(statistic=2.9696266935891193, pvalue=0.0308933560705201)"
      ]
     },
     "execution_count": 4,
     "metadata": {},
     "output_type": "execute_result"
    }
   ],
   "source": [
    "southwest = df.charges[(df.region=='southwest')]\n",
    "southeast = df.charges[(df.region=='southeast')]\n",
    "northwest = df.charges[(df.region=='northwest')]\n",
    "northeast = df.charges[(df.region=='northeast')]\n",
    "\n",
    "# plug-and-chug into the ANOVA (F-test) function:\n",
    "\n",
    "stats.f_oneway(southwest,southeast,northeast,northwest)"
   ]
  },
  {
   "cell_type": "code",
   "execution_count": 14,
   "metadata": {},
   "outputs": [
    {
     "name": "stdout",
     "output_type": "stream",
     "text": [
      "14735.411437609888\n",
      "12346.937377292308\n",
      "13406.384516385804\n",
      "12417.57537396923\n"
     ]
    }
   ],
   "source": [
    "print(southeast.mean())\n",
    "print(southwest.mean())\n",
    "print(northeast.mean())\n",
    "print(northwest.mean())"
   ]
  },
  {
   "cell_type": "code",
   "execution_count": 17,
   "metadata": {},
   "outputs": [
    {
     "data": {
      "text/plain": [
       "F_onewayResult(statistic=39.49505720170283, pvalue=1.881838913929143e-24)"
      ]
     },
     "execution_count": 17,
     "metadata": {},
     "output_type": "execute_result"
    }
   ],
   "source": [
    "southwest = df.bmi[(df.region=='southwest')]\n",
    "southeast = df.bmi[(df.region=='southeast')]\n",
    "northwest = df.bmi[(df.region=='northwest')]\n",
    "northeast = df.bmi[(df.region=='northeast')]\n",
    "\n",
    "# plug-and-chug into the ANOVA (F-test) function:\n",
    "\n",
    "stats.f_oneway(southwest,southeast,northeast,northwest)"
   ]
  },
  {
   "cell_type": "code",
   "execution_count": 18,
   "metadata": {},
   "outputs": [
    {
     "name": "stdout",
     "output_type": "stream",
     "text": [
      "Mean BMI for Southeast: 33.35598901098901\n",
      "Mean BMI for Southwest: 30.59661538461538\n",
      "Mean BMI for Northeast: 29.173503086419753\n",
      "Mean BMI for Northwest: 29.199784615384615\n"
     ]
    }
   ],
   "source": [
    "# Assuming df is your DataFrame and it contains 'bmi' and 'region' columns\n",
    "\n",
    "# Calculate and print the mean BMI for each region\n",
    "print(\"Mean BMI for Southeast:\", df[df['region'] == 'southeast']['bmi'].mean())\n",
    "print(\"Mean BMI for Southwest:\", df[df['region'] == 'southwest']['bmi'].mean())\n",
    "print(\"Mean BMI for Northeast:\", df[df['region'] == 'northeast']['bmi'].mean())\n",
    "print(\"Mean BMI for Northwest:\", df[df['region'] == 'northwest']['bmi'].mean())\n"
   ]
  },
  {
   "attachments": {},
   "cell_type": "markdown",
   "metadata": {},
   "source": [
    "The above gives you TWO statistics: F-value = 2.9696... and p-value = 0.03, which is less than 0.05. \n",
    "\n",
    "**MEANING**: there is strong evidence in this dataset that *at least two regions significantly differ* in the amount of charges placed on insurance. \n",
    "\n",
    "Your book gives some nice ways of pulling these two statistics and representing them more professionally."
   ]
  },
  {
   "attachments": {},
   "cell_type": "markdown",
   "metadata": {},
   "source": [
    "*For-Loop Option:* The following is a for-loop you can use as well for the same thing. In fact, all you need to do is change the values for col (categorical variable) and label (numerical variable)! Try it out!\n",
    "\n",
    "*SUGGESTION*: break down this code piece by piece and see what is happening in each step of the loop. Think back to your Python exercises. Undo the hashtag before the print statements to see what is happening in each iteration of the loop."
   ]
  },
  {
   "cell_type": "code",
   "execution_count": 19,
   "metadata": {},
   "outputs": [
    {
     "data": {
      "text/plain": [
       "F_onewayResult(statistic=2.96962669358912, pvalue=0.0308933560705201)"
      ]
     },
     "execution_count": 19,
     "metadata": {},
     "output_type": "execute_result"
    }
   ],
   "source": [
    "col = 'region'\n",
    "label = 'charges'\n",
    "\n",
    "groups = df[col].unique()\n",
    "df_grouped = df.groupby(col)\n",
    "\n",
    "group_labels = []                      # Step 3. Create an empty list that will be a two-dimensional list of lists to store the label values associated with each category\n",
    "for g in groups:                       # Step 4. Loop through the unique cateogry values ('Yes' and 'No' in this case)\n",
    "    g_list = df_grouped.get_group(g)     # Step 5. Use the get_group() function to return a list containing only the records for each unique value\n",
    "    # print(g_list)\n",
    "    group_labels.append(g_list[label])\n",
    "\n",
    "oneway = stats.f_oneway(*group_labels)\n",
    "oneway"
   ]
  },
  {
   "attachments": {},
   "cell_type": "markdown",
   "metadata": {},
   "source": [
    "*PRACTICE*: Try this same exercise with BMI and Age. IMPORTANT: How do you interpret each? Look at the p-values.\n",
    "\n",
    "**WHY ARE ANOVA AND T-TESTS IMPORTANT**? We could look at graphs to see a difference between the categories, like we did for our t-tests. We could also calculate means and variances and put them in a chart to compare. However, these are *subjective* (too based on people's opinions and interpretations). We want some **SOLID EVIDENCE**, such as p-values from t-tests and ANOVA."
   ]
  }
 ],
 "metadata": {
  "kernelspec": {
   "display_name": "base",
   "language": "python",
   "name": "python3"
  },
  "language_info": {
   "codemirror_mode": {
    "name": "ipython",
    "version": 3
   },
   "file_extension": ".py",
   "mimetype": "text/x-python",
   "name": "python",
   "nbconvert_exporter": "python",
   "pygments_lexer": "ipython3",
   "version": "3.12.4"
  },
  "orig_nbformat": 4,
  "vscode": {
   "interpreter": {
    "hash": "262ab205e5277611f040591a4a25bfb87716cb1a7935cf79ca0a0f9fd2b0ccc4"
   }
  }
 },
 "nbformat": 4,
 "nbformat_minor": 2
}
