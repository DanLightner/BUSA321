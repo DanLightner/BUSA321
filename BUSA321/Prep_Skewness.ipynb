{
 "cells": [
  {
   "cell_type": "markdown",
   "metadata": {},
   "source": [
    "Import the dataset provided into a Pandas dataframe and print out the skewness of each numeric feature"
   ]
  },
  {
   "cell_type": "code",
   "execution_count": 1,
   "metadata": {
    "colab": {},
    "colab_type": "code",
    "id": "OKLnlEb3jB9M"
   },
   "outputs": [
    {
     "name": "stdout",
     "output_type": "stream",
     "text": [
      "\n",
      "Skewness of numeric features:\n",
      "ENROLL_COUNT             0.000000\n",
      "NUMBER_AVERAGE           1.616012\n",
      "HOURS_ATTEMPTED          3.272376\n",
      "HOURS_EARNED             3.457838\n",
      "AR_BALANCE_AMOUNT        4.232079\n",
      "DAYS_ABSENT              0.000000\n",
      "REENTRY_NUMBER         122.418680\n",
      "MOD_NUMBER              -0.159215\n",
      "COHORT_YEAR             -0.956432\n",
      "AR_BALANCE               4.443662\n",
      "ENROLLMENT_GPA           1.701210\n",
      "CREDITS_ATTEMPTED        3.239262\n",
      "CREDITS_EARNED           3.430428\n",
      "CREDITS_REQUIRED        -1.181961\n",
      "CREDITS_LEFT            -1.177201\n",
      "ENROLLMENT_COUNT         2.823956\n",
      "MODS_ATTENDED_COUNT      3.241725\n",
      "HS_GRADUATED_FLAG        0.000000\n",
      "DISABLED_FLAG          212.049523\n",
      "HISPANIC_FLAG            2.763751\n",
      "VETERAN_FLAG             8.332229\n",
      "IN_SCHOOL_FLAG           1.877308\n",
      "dtype: float64\n"
     ]
    }
   ],
   "source": [
    "# Question 1:\n",
    "import pandas as pd\n",
    "df = pd.read_csv('student_enrollment_clean.csv')\n",
    "skewness = df.skew(numeric_only=True)\n",
    "\n",
    "# print the skewness\n",
    "print(\"\\nSkewness of numeric features:\")\n",
    "print(skewness)\n",
    "\n"
   ]
  },
  {
   "cell_type": "markdown",
   "metadata": {},
   "source": [
    "As you can see, there are many skewness issues. Let's begin by fixing the skewness of NUMBER_AVERAGE by using one of the three options covered in the book (not including binning). Determine which option gets the skewness closest to zero. Remove any other version.\n",
    "\n",
    "Print out the new skewness scores. "
   ]
  },
  {
   "cell_type": "code",
   "execution_count": 2,
   "metadata": {},
   "outputs": [
    {
     "name": "stdout",
     "output_type": "stream",
     "text": [
      "\n",
      "Skewness after applying transformations:\n",
      "NUMBER_AVERAGE         1.616012\n",
      "NUMBER_AVERAGE_log     1.491496\n",
      "NUMBER_AVERAGE_sqrt    1.524336\n",
      "NUMBER_AVERAGE_cbrt    1.501684\n",
      "dtype: float64\n",
      "It appears the best one is: NUMBER_AVERAGE_log at 1.491496\n"
     ]
    }
   ],
   "source": [
    "# Question 2:\n",
    "import numpy as np\n",
    "df['NUMBER_AVERAGE_log'] = np.log1p(df['NUMBER_AVERAGE'])\n",
    "\n",
    "# 2. Square root transformation\n",
    "df['NUMBER_AVERAGE_sqrt'] = np.sqrt(df['NUMBER_AVERAGE'])\n",
    "\n",
    "# 3. Cube root transformation\n",
    "df['NUMBER_AVERAGE_cbrt'] = np.cbrt(df['NUMBER_AVERAGE'])\n",
    "\n",
    "# Calculate skewness again for all options\n",
    "new_skewness = df[['NUMBER_AVERAGE', 'NUMBER_AVERAGE_log', 'NUMBER_AVERAGE_sqrt', 'NUMBER_AVERAGE_cbrt']].skew()\n",
    "print(\"\\nSkewness after applying transformations:\")\n",
    "print(new_skewness)\n",
    "\n",
    "\n",
    "print(\"It appears the best one is: NUMBER_AVERAGE_log at 1.491496\")\n",
    "df.drop(columns=['NUMBER_AVERAGE_sqrt', 'NUMBER_AVERAGE_cbrt'], inplace=True)\n",
    "\n",
    "\n",
    "\n",
    "\n"
   ]
  },
  {
   "cell_type": "markdown",
   "metadata": {},
   "source": []
  },
  {
   "cell_type": "markdown",
   "metadata": {},
   "source": [
    "As you can see, we were still not able to get the skewness within an acceptable range. Several of the other features will have the same problem. Therefore, let's trying binning these features instead. Let's start by binning the ENROLLMENT_COUNT feature. Select the number of bins that gets the skewness score closest to zero. Print both the line chart depicting the various skewness scores attempted as well as the actual skewness value of the new binned version (exactly like is done in the book). \n",
    "\n",
    "Save this new binned version of the ENROLLMENT_COUNT feature in the DataFrame and remove any other version. Also, print out the first five records of this revised DataFrame\n",
    "\n",
    "**HINT: Copy the code from the Practice 4 Problem**"
   ]
  },
  {
   "cell_type": "code",
   "execution_count": 3,
   "metadata": {},
   "outputs": [
    {
     "name": "stdout",
     "output_type": "stream",
     "text": [
      "ENROLLMENT_COUNT         2.823956\n",
      "ENROLLMENT_COUNT_SQRT    1.968341\n",
      "ENROLLMENT_COUNT_CBRT    1.783883\n",
      "ENROLLMENT_COUNT_LN1P    1.757939\n",
      "dtype: float64\n",
      "Skewness of binned ENROLLMENT_COUNT: 1.0027134763523267\n",
      "  EXPECTED_START_DATE GRADUATION_DATE  ENROLL_COUNT  NUMBER_AVERAGE  \\\n",
      "0           6/22/2020       6/23/2020             1       78.962963   \n",
      "1           6/22/2020      12/19/2021             1        0.000000   \n",
      "2           6/22/2020      10/24/2021             1       98.100000   \n",
      "3           6/22/2020       6/27/2020             1        0.000000   \n",
      "4           6/22/2020       7/14/2020             1        0.000000   \n",
      "\n",
      "   HOURS_ATTEMPTED  HOURS_EARNED  AR_BALANCE_AMOUNT  DAYS_ABSENT  \\\n",
      "0            450.0         450.0                0.0            0   \n",
      "1              0.0           0.0                0.0            0   \n",
      "2            710.0         710.0             2567.0            0   \n",
      "3              0.0           0.0                0.0            0   \n",
      "4              0.0           0.0                0.0            0   \n",
      "\n",
      "   REENTRY_NUMBER PROGRAM_GROUP  ... ENROLLMENT_COUNT MODS_ATTENDED_COUNT  \\\n",
      "0               0         BUBUD  ...                2                  38   \n",
      "1               0         MSMAA  ...                0                   0   \n",
      "2               0         MSMAA  ...                0                  16   \n",
      "3               0         CSISM  ...                0                   0   \n",
      "4               0         MSMAA  ...                0                   0   \n",
      "\n",
      "   HS_GRADUATED_FLAG  DISABLED_FLAG  HISPANIC_FLAG  VETERAN_FLAG  \\\n",
      "0                  0              0              0             0   \n",
      "1                  0              0              1             0   \n",
      "2                  0              0              0             0   \n",
      "3                  0              0              0             0   \n",
      "4                  0              0              0             0   \n",
      "\n",
      "   STATUS_DESCRIPTION  IN_SCHOOL_FLAG  SIMPLE_STATUS_DESCRIPTION  \\\n",
      "0            Graduate               0                 Terminated   \n",
      "1             No Show               0                 Terminated   \n",
      "2              Active               1                     Active   \n",
      "3              Cancel               0                 Terminated   \n",
      "4         False Start               0                 Terminated   \n",
      "\n",
      "   NUMBER_AVERAGE_log  \n",
      "0            4.381564  \n",
      "1            0.000000  \n",
      "2            4.596129  \n",
      "3            0.000000  \n",
      "4            0.000000  \n",
      "\n",
      "[5 rows x 30 columns]\n"
     ]
    },
    {
     "data": {
      "image/png": "[encoded data removed]",
      "text/plain": [
       "<Figure size 640x480 with 1 Axes>"
      ]
     },
     "metadata": {},
     "output_type": "display_data"
    }
   ],
   "source": [
    "import pandas as pd\n",
    "import scipy.stats\n",
    "import seaborn as sns\n",
    "import numpy as np\n",
    "\n",
    "enrollment_count = df['ENROLLMENT_COUNT']\n",
    "\n",
    "df['ENROLLMENT_COUNT_SQRT'] = df['ENROLLMENT_COUNT']**(1/2)\n",
    "df['ENROLLMENT_COUNT_CBRT'] = df['ENROLLMENT_COUNT']**(1/3)\n",
    "df['ENROLLMENT_COUNT_LN1P'] = np.log1p(df['ENROLLMENT_COUNT'])\n",
    "\n",
    "\n",
    "print(df[['ENROLLMENT_COUNT', 'ENROLLMENT_COUNT_SQRT', 'ENROLLMENT_COUNT_CBRT', 'ENROLLMENT_COUNT_LN1P']].skew())\n",
    "\n",
    "\n",
    "def bin_numeric(series, custom_bins=False): \n",
    "    from scipy.stats import norm\n",
    "    import numpy as np\n",
    "    import scipy.stats\n",
    "    import seaborn as sns\n",
    "    \n",
    "    def bin(bins): \n",
    "        edges = np.linspace(-3, 3, bins)\n",
    "        edges = norm.cdf(edges)\n",
    "        edges = list(np.quantile(series, edges))\n",
    "        edges.append(max(series))\n",
    "    \n",
    "        new_series = []\n",
    "        for value in list(series): \n",
    "            for edge in edges:\n",
    "                if value <= edge:\n",
    "                    new_series.append(edges.index(edge))\n",
    "                    break\n",
    "        return new_series\n",
    "    \n",
    "    if custom_bins:\n",
    "        bins = 2\n",
    "        skews = []\n",
    "        while bins < series.nunique(): \n",
    "            skews.append(scipy.stats.skew(bin(bins)))  \n",
    "            bins += 1\n",
    "        sns.lineplot(x=range(2, series.nunique()), y=skews) \n",
    "        return bin(skews.index(min(skews)) + 2) \n",
    "    else:\n",
    "        bins = int(2 * len(list(series)) ** (3 / 5))\n",
    "        return bin(bins)\n",
    "\n",
    "binned_enrollment = bin_numeric(enrollment_count, custom_bins=True)\n",
    "\n",
    "df['ENROLLMENT_COUNT'] = binned_enrollment\n",
    "\n",
    "skewed_binned = scipy.stats.skew(df['ENROLLMENT_COUNT'])\n",
    "print(f\"Skewness of binned ENROLLMENT_COUNT: {skewed_binned}\")\n",
    "df.drop(columns=['ENROLLMENT_COUNT_SQRT', 'ENROLLMENT_COUNT_CBRT', 'ENROLLMENT_COUNT_LN1P'], inplace=True)\n",
    "\n",
    "# Print the first five records of the revised DataFrame\n",
    "print(df.head())\n",
    "\n",
    "\n"
   ]
  },
  {
   "cell_type": "markdown",
   "metadata": {},
   "source": [
    "As you can see, there are a couple of features with skewness scores over 100. It's very unlikely that we can do anything with those. **Run the following code** to create a loop that will examine each of those skewness scores and drop any column that has a skewness score greater than 10. Print the skewness of the remaining columns again."
   ]
  },
  {
   "cell_type": "code",
   "execution_count": 4,
   "metadata": {
    "colab": {
     "base_uri": "https://localhost:8080/",
     "height": 141
    },
    "colab_type": "code",
    "executionInfo": {
     "elapsed": 207,
     "status": "ok",
     "timestamp": 1575574704410,
     "user": {
      "displayName": "Mark Keith",
      "photoUrl": "https://lh3.googleusercontent.com/a-/AAuE7mDuWDBtpfB4b5eQhXaicBUuX1aMxNX6k4zV-18LzA=s64",
      "userId": "01471376858192886314"
     },
     "user_tz": 420
    },
    "id": "XN9l085njT-_",
    "outputId": "e4206a3c-16e3-409b-f9cb-4a1eb1606ddf"
   },
   "outputs": [
    {
     "name": "stdout",
     "output_type": "stream",
     "text": [
      "Initial skewness scores:\n",
      "ENROLL_COUNT             0.000000\n",
      "NUMBER_AVERAGE           1.616012\n",
      "HOURS_ATTEMPTED          3.272376\n",
      "HOURS_EARNED             3.457838\n",
      "AR_BALANCE_AMOUNT        4.232079\n",
      "DAYS_ABSENT              0.000000\n",
      "REENTRY_NUMBER         122.418680\n",
      "MOD_NUMBER              -0.159215\n",
      "COHORT_YEAR             -0.956432\n",
      "AR_BALANCE               4.443662\n",
      "ENROLLMENT_GPA           1.701210\n",
      "CREDITS_ATTEMPTED        3.239262\n",
      "CREDITS_EARNED           3.430428\n",
      "CREDITS_REQUIRED        -1.181961\n",
      "CREDITS_LEFT            -1.177201\n",
      "ENROLLMENT_COUNT         1.002747\n",
      "MODS_ATTENDED_COUNT      3.241725\n",
      "HS_GRADUATED_FLAG        0.000000\n",
      "DISABLED_FLAG          212.049523\n",
      "HISPANIC_FLAG            2.763751\n",
      "VETERAN_FLAG             8.332229\n",
      "IN_SCHOOL_FLAG           1.877308\n",
      "NUMBER_AVERAGE_log       1.491496\n",
      "dtype: float64\n",
      "\n",
      "Skewness scores after dropping columns with skewness > 10:\n",
      "ENROLL_COUNT           0.000000\n",
      "NUMBER_AVERAGE         1.616012\n",
      "HOURS_ATTEMPTED        3.272376\n",
      "HOURS_EARNED           3.457838\n",
      "AR_BALANCE_AMOUNT      4.232079\n",
      "DAYS_ABSENT            0.000000\n",
      "MOD_NUMBER            -0.159215\n",
      "COHORT_YEAR           -0.956432\n",
      "AR_BALANCE             4.443662\n",
      "ENROLLMENT_GPA         1.701210\n",
      "CREDITS_ATTEMPTED      3.239262\n",
      "CREDITS_EARNED         3.430428\n",
      "CREDITS_REQUIRED      -1.181961\n",
      "CREDITS_LEFT          -1.177201\n",
      "ENROLLMENT_COUNT       1.002747\n",
      "MODS_ATTENDED_COUNT    3.241725\n",
      "HS_GRADUATED_FLAG      0.000000\n",
      "HISPANIC_FLAG          2.763751\n",
      "VETERAN_FLAG           8.332229\n",
      "IN_SCHOOL_FLAG         1.877308\n",
      "NUMBER_AVERAGE_log     1.491496\n",
      "dtype: float64\n"
     ]
    }
   ],
   "source": [
    "\n",
    "import pandas as pd\n",
    "\n",
    "numeric_df = df.select_dtypes(include=['number'])\n",
    "\n",
    "skewness_scores = numeric_df.skew()\n",
    "print(\"Initial skewness scores:\")\n",
    "print(skewness_scores)\n",
    "\n",
    "for col in skewness_scores.index:\n",
    "    if abs(skewness_scores[col]) > 10:\n",
    "        df.drop(columns=col, inplace=True)\n",
    "        \n",
    "numeric_df = df.select_dtypes(include=['number'])\n",
    "print(\"\\nSkewness scores after dropping columns with skewness > 10:\")\n",
    "print(numeric_df.skew())\n"
   ]
  }
 ],
 "metadata": {
  "colab": {
   "collapsed_sections": [],
   "name": "Checkpoint: Prep: Skewness.ipynb",
   "provenance": []
  },
  "kernelspec": {
   "display_name": "base",
   "language": "python",
   "name": "python3"
  },
  "language_info": {
   "codemirror_mode": {
    "name": "ipython",
    "version": 3
   },
   "file_extension": ".py",
   "mimetype": "text/x-python",
   "name": "python",
   "nbconvert_exporter": "python",
   "pygments_lexer": "ipython3",
   "version": "3.12.4"
  }
 },
 "nbformat": 4,
 "nbformat_minor": 0
}
