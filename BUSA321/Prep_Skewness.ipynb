{
 "cells": [
  {
   "cell_type": "markdown",
   "metadata": {},
   "source": [
    "Import the dataset provided into a Pandas dataframe and print out the skewness of each numeric feature"
   ]
  },
  {
   "cell_type": "code",
   "execution_count": 3,
   "metadata": {
    "colab": {},
    "colab_type": "code",
    "id": "OKLnlEb3jB9M"
   },
   "outputs": [
    {
     "name": "stdout",
     "output_type": "stream",
     "text": [
      "\n",
      "Skewness of numeric features:\n",
      "ENROLL_COUNT             0.000000\n",
      "NUMBER_AVERAGE           1.616012\n",
      "HOURS_ATTEMPTED          3.272376\n",
      "HOURS_EARNED             3.457838\n",
      "AR_BALANCE_AMOUNT        4.232079\n",
      "DAYS_ABSENT              0.000000\n",
      "REENTRY_NUMBER         122.418680\n",
      "MOD_NUMBER              -0.159215\n",
      "COHORT_YEAR             -0.956432\n",
      "AR_BALANCE               4.443662\n",
      "ENROLLMENT_GPA           1.701210\n",
      "CREDITS_ATTEMPTED        3.239262\n",
      "CREDITS_EARNED           3.430428\n",
      "CREDITS_REQUIRED        -1.181961\n",
      "CREDITS_LEFT            -1.177201\n",
      "ENROLLMENT_COUNT         2.823956\n",
      "MODS_ATTENDED_COUNT      3.241725\n",
      "HS_GRADUATED_FLAG        0.000000\n",
      "DISABLED_FLAG          212.049523\n",
      "HISPANIC_FLAG            2.763751\n",
      "VETERAN_FLAG             8.332229\n",
      "IN_SCHOOL_FLAG           1.877308\n",
      "dtype: float64\n"
     ]
    }
   ],
   "source": [
    "# Question 1:\n",
    "import pandas as pd\n",
    "df = pd.read_csv('student_enrollment_clean.csv')\n",
    "skewness = df.skew(numeric_only=True)\n",
    "\n",
    "# Print the skewness\n",
    "print(\"\\nSkewness of numeric features:\")\n",
    "print(skewness)\n",
    "\n"
   ]
  },
  {
   "cell_type": "markdown",
   "metadata": {},
   "source": [
    "As you can see, there are many skewness issues. Let's begin by fixing the skewness of NUMBER_AVERAGE by using one of the three options covered in the book (not including binning). Determine which option gets the skewness closest to zero. Remove any other version.\n",
    "\n",
    "Print out the new skewness scores. "
   ]
  },
  {
   "cell_type": "code",
   "execution_count": 2,
   "metadata": {},
   "outputs": [],
   "source": [
    "# Question 2:\n",
    "\n"
   ]
  },
  {
   "cell_type": "markdown",
   "metadata": {},
   "source": [
    "As you can see, we were still not able to get the skewness within an acceptable range. Several of the other features will have the same problem. Therefore, let's trying binning these features instead. Let's start by binning the ENROLLMENT_COUNT feature. Select the number of bins that gets the skewness score closest to zero. Print both the line chart depicting the various skewness scores attempted as well as the actual skewness value of the new binned version (exactly like is done in the book). \n",
    "\n",
    "Save this new binned version of the ENROLLMENT_COUNT feature in the DataFrame and remove any other version. Also, print out the first five records of this revised DataFrame\n",
    "\n",
    "**HINT: Copy the code from the Practice 4 Problem**"
   ]
  },
  {
   "cell_type": "code",
   "execution_count": 3,
   "metadata": {},
   "outputs": [],
   "source": [
    "# Question 3: \n",
    "\n"
   ]
  },
  {
   "cell_type": "markdown",
   "metadata": {},
   "source": [
    "As you can see, there are a couple of features with skewness scores over 100. It's very unlikely that we can do anything with those. **Run the following code** to create a loop that will examine each of those skewness scores and drop any column that has a skewness score greater than 10. Print the skewness of the remaining columns again."
   ]
  },
  {
   "cell_type": "code",
   "execution_count": 4,
   "metadata": {
    "colab": {
     "base_uri": "https://localhost:8080/",
     "height": 141
    },
    "colab_type": "code",
    "executionInfo": {
     "elapsed": 207,
     "status": "ok",
     "timestamp": 1575574704410,
     "user": {
      "displayName": "Mark Keith",
      "photoUrl": "https://lh3.googleusercontent.com/a-/AAuE7mDuWDBtpfB4b5eQhXaicBUuX1aMxNX6k4zV-18LzA=s64",
      "userId": "01471376858192886314"
     },
     "user_tz": 420
    },
    "id": "XN9l085njT-_",
    "outputId": "e4206a3c-16e3-409b-f9cb-4a1eb1606ddf"
   },
   "outputs": [],
   "source": [
    "# Question 4:\n",
    "\n",
    "for col in df.skew().iteritems():\n",
    "  if col[1] > 10:\n",
    "    df.drop(columns=[col[0]], inplace=True)\n",
    "  \n",
    "print(len(df.columns))\n",
    "df.skew()"
   ]
  }
 ],
 "metadata": {
  "colab": {
   "collapsed_sections": [],
   "name": "Checkpoint: Prep: Skewness.ipynb",
   "provenance": []
  },
  "kernelspec": {
   "display_name": "base",
   "language": "python",
   "name": "python3"
  },
  "language_info": {
   "codemirror_mode": {
    "name": "ipython",
    "version": 3
   },
   "file_extension": ".py",
   "mimetype": "text/x-python",
   "name": "python",
   "nbconvert_exporter": "python",
   "pygments_lexer": "ipython3",
   "version": "3.12.4"
  }
 },
 "nbformat": 4,
 "nbformat_minor": 0
}
