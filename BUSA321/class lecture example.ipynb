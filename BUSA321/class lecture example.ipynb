{
 "cells": [
  {
   "cell_type": "code",
   "execution_count": 6,
   "metadata": {},
   "outputs": [
    {
     "data": {
      "text/html": [
       "<div>\n",
       "<style scoped>\n",
       "    .dataframe tbody tr th:only-of-type {\n",
       "        vertical-align: middle;\n",
       "    }\n",
       "\n",
       "    .dataframe tbody tr th {\n",
       "        vertical-align: top;\n",
       "    }\n",
       "\n",
       "    .dataframe thead th {\n",
       "        text-align: right;\n",
       "    }\n",
       "</style>\n",
       "<table border=\"1\" class=\"dataframe\">\n",
       "  <thead>\n",
       "    <tr style=\"text-align: right;\">\n",
       "      <th></th>\n",
       "      <th>artist</th>\n",
       "      <th>song</th>\n",
       "      <th>duration_ms</th>\n",
       "      <th>explicit</th>\n",
       "      <th>year</th>\n",
       "      <th>popularity</th>\n",
       "      <th>danceability</th>\n",
       "      <th>energy</th>\n",
       "      <th>key</th>\n",
       "      <th>loudness</th>\n",
       "      <th>mode</th>\n",
       "      <th>speechiness</th>\n",
       "      <th>acousticness</th>\n",
       "      <th>instrumentalness</th>\n",
       "      <th>liveness</th>\n",
       "      <th>valence</th>\n",
       "      <th>tempo</th>\n",
       "      <th>genre</th>\n",
       "    </tr>\n",
       "  </thead>\n",
       "  <tbody>\n",
       "    <tr>\n",
       "      <th>0</th>\n",
       "      <td>Britney Spears</td>\n",
       "      <td>Oops!...I Did It Again</td>\n",
       "      <td>211160</td>\n",
       "      <td>False</td>\n",
       "      <td>2000</td>\n",
       "      <td>77</td>\n",
       "      <td>0.751</td>\n",
       "      <td>0.834</td>\n",
       "      <td>1</td>\n",
       "      <td>-5.444</td>\n",
       "      <td>0</td>\n",
       "      <td>0.0437</td>\n",
       "      <td>0.3000</td>\n",
       "      <td>0.000018</td>\n",
       "      <td>0.3550</td>\n",
       "      <td>0.894</td>\n",
       "      <td>95.053</td>\n",
       "      <td>pop</td>\n",
       "    </tr>\n",
       "    <tr>\n",
       "      <th>1</th>\n",
       "      <td>blink-182</td>\n",
       "      <td>All The Small Things</td>\n",
       "      <td>167066</td>\n",
       "      <td>False</td>\n",
       "      <td>1999</td>\n",
       "      <td>79</td>\n",
       "      <td>0.434</td>\n",
       "      <td>0.897</td>\n",
       "      <td>0</td>\n",
       "      <td>-4.918</td>\n",
       "      <td>1</td>\n",
       "      <td>0.0488</td>\n",
       "      <td>0.0103</td>\n",
       "      <td>0.000000</td>\n",
       "      <td>0.6120</td>\n",
       "      <td>0.684</td>\n",
       "      <td>148.726</td>\n",
       "      <td>rock, pop</td>\n",
       "    </tr>\n",
       "    <tr>\n",
       "      <th>2</th>\n",
       "      <td>Faith Hill</td>\n",
       "      <td>Breathe</td>\n",
       "      <td>250546</td>\n",
       "      <td>False</td>\n",
       "      <td>1999</td>\n",
       "      <td>66</td>\n",
       "      <td>0.529</td>\n",
       "      <td>0.496</td>\n",
       "      <td>7</td>\n",
       "      <td>-9.007</td>\n",
       "      <td>1</td>\n",
       "      <td>0.0290</td>\n",
       "      <td>0.1730</td>\n",
       "      <td>0.000000</td>\n",
       "      <td>0.2510</td>\n",
       "      <td>0.278</td>\n",
       "      <td>136.859</td>\n",
       "      <td>pop, country</td>\n",
       "    </tr>\n",
       "    <tr>\n",
       "      <th>3</th>\n",
       "      <td>Bon Jovi</td>\n",
       "      <td>It's My Life</td>\n",
       "      <td>224493</td>\n",
       "      <td>False</td>\n",
       "      <td>2000</td>\n",
       "      <td>78</td>\n",
       "      <td>0.551</td>\n",
       "      <td>0.913</td>\n",
       "      <td>0</td>\n",
       "      <td>-4.063</td>\n",
       "      <td>0</td>\n",
       "      <td>0.0466</td>\n",
       "      <td>0.0263</td>\n",
       "      <td>0.000013</td>\n",
       "      <td>0.3470</td>\n",
       "      <td>0.544</td>\n",
       "      <td>119.992</td>\n",
       "      <td>rock, metal</td>\n",
       "    </tr>\n",
       "    <tr>\n",
       "      <th>4</th>\n",
       "      <td>*NSYNC</td>\n",
       "      <td>Bye Bye Bye</td>\n",
       "      <td>200560</td>\n",
       "      <td>False</td>\n",
       "      <td>2000</td>\n",
       "      <td>65</td>\n",
       "      <td>0.614</td>\n",
       "      <td>0.928</td>\n",
       "      <td>8</td>\n",
       "      <td>-4.806</td>\n",
       "      <td>0</td>\n",
       "      <td>0.0516</td>\n",
       "      <td>0.0408</td>\n",
       "      <td>0.001040</td>\n",
       "      <td>0.0845</td>\n",
       "      <td>0.879</td>\n",
       "      <td>172.656</td>\n",
       "      <td>pop</td>\n",
       "    </tr>\n",
       "    <tr>\n",
       "      <th>...</th>\n",
       "      <td>...</td>\n",
       "      <td>...</td>\n",
       "      <td>...</td>\n",
       "      <td>...</td>\n",
       "      <td>...</td>\n",
       "      <td>...</td>\n",
       "      <td>...</td>\n",
       "      <td>...</td>\n",
       "      <td>...</td>\n",
       "      <td>...</td>\n",
       "      <td>...</td>\n",
       "      <td>...</td>\n",
       "      <td>...</td>\n",
       "      <td>...</td>\n",
       "      <td>...</td>\n",
       "      <td>...</td>\n",
       "      <td>...</td>\n",
       "      <td>...</td>\n",
       "    </tr>\n",
       "    <tr>\n",
       "      <th>1995</th>\n",
       "      <td>Jonas Brothers</td>\n",
       "      <td>Sucker</td>\n",
       "      <td>181026</td>\n",
       "      <td>False</td>\n",
       "      <td>2019</td>\n",
       "      <td>79</td>\n",
       "      <td>0.842</td>\n",
       "      <td>0.734</td>\n",
       "      <td>1</td>\n",
       "      <td>-5.065</td>\n",
       "      <td>0</td>\n",
       "      <td>0.0588</td>\n",
       "      <td>0.0427</td>\n",
       "      <td>0.000000</td>\n",
       "      <td>0.1060</td>\n",
       "      <td>0.952</td>\n",
       "      <td>137.958</td>\n",
       "      <td>pop</td>\n",
       "    </tr>\n",
       "    <tr>\n",
       "      <th>1996</th>\n",
       "      <td>Taylor Swift</td>\n",
       "      <td>Cruel Summer</td>\n",
       "      <td>178426</td>\n",
       "      <td>False</td>\n",
       "      <td>2019</td>\n",
       "      <td>78</td>\n",
       "      <td>0.552</td>\n",
       "      <td>0.702</td>\n",
       "      <td>9</td>\n",
       "      <td>-5.707</td>\n",
       "      <td>1</td>\n",
       "      <td>0.1570</td>\n",
       "      <td>0.1170</td>\n",
       "      <td>0.000021</td>\n",
       "      <td>0.1050</td>\n",
       "      <td>0.564</td>\n",
       "      <td>169.994</td>\n",
       "      <td>pop</td>\n",
       "    </tr>\n",
       "    <tr>\n",
       "      <th>1997</th>\n",
       "      <td>Blanco Brown</td>\n",
       "      <td>The Git Up</td>\n",
       "      <td>200593</td>\n",
       "      <td>False</td>\n",
       "      <td>2019</td>\n",
       "      <td>69</td>\n",
       "      <td>0.847</td>\n",
       "      <td>0.678</td>\n",
       "      <td>9</td>\n",
       "      <td>-8.635</td>\n",
       "      <td>1</td>\n",
       "      <td>0.1090</td>\n",
       "      <td>0.0669</td>\n",
       "      <td>0.000000</td>\n",
       "      <td>0.2740</td>\n",
       "      <td>0.811</td>\n",
       "      <td>97.984</td>\n",
       "      <td>hip hop, country</td>\n",
       "    </tr>\n",
       "    <tr>\n",
       "      <th>1998</th>\n",
       "      <td>Sam Smith</td>\n",
       "      <td>Dancing With A Stranger (with Normani)</td>\n",
       "      <td>171029</td>\n",
       "      <td>False</td>\n",
       "      <td>2019</td>\n",
       "      <td>75</td>\n",
       "      <td>0.741</td>\n",
       "      <td>0.520</td>\n",
       "      <td>8</td>\n",
       "      <td>-7.513</td>\n",
       "      <td>1</td>\n",
       "      <td>0.0656</td>\n",
       "      <td>0.4500</td>\n",
       "      <td>0.000002</td>\n",
       "      <td>0.2220</td>\n",
       "      <td>0.347</td>\n",
       "      <td>102.998</td>\n",
       "      <td>pop</td>\n",
       "    </tr>\n",
       "    <tr>\n",
       "      <th>1999</th>\n",
       "      <td>Post Malone</td>\n",
       "      <td>Circles</td>\n",
       "      <td>215280</td>\n",
       "      <td>False</td>\n",
       "      <td>2019</td>\n",
       "      <td>85</td>\n",
       "      <td>0.695</td>\n",
       "      <td>0.762</td>\n",
       "      <td>0</td>\n",
       "      <td>-3.497</td>\n",
       "      <td>1</td>\n",
       "      <td>0.0395</td>\n",
       "      <td>0.1920</td>\n",
       "      <td>0.002440</td>\n",
       "      <td>0.0863</td>\n",
       "      <td>0.553</td>\n",
       "      <td>120.042</td>\n",
       "      <td>hip hop</td>\n",
       "    </tr>\n",
       "  </tbody>\n",
       "</table>\n",
       "<p>2000 rows × 18 columns</p>\n",
       "</div>"
      ],
      "text/plain": [
       "              artist                                    song  duration_ms  \\\n",
       "0     Britney Spears                  Oops!...I Did It Again       211160   \n",
       "1          blink-182                    All The Small Things       167066   \n",
       "2         Faith Hill                                 Breathe       250546   \n",
       "3           Bon Jovi                            It's My Life       224493   \n",
       "4             *NSYNC                             Bye Bye Bye       200560   \n",
       "...              ...                                     ...          ...   \n",
       "1995  Jonas Brothers                                  Sucker       181026   \n",
       "1996    Taylor Swift                            Cruel Summer       178426   \n",
       "1997    Blanco Brown                              The Git Up       200593   \n",
       "1998       Sam Smith  Dancing With A Stranger (with Normani)       171029   \n",
       "1999     Post Malone                                 Circles       215280   \n",
       "\n",
       "      explicit  year  popularity  danceability  energy  key  loudness  mode  \\\n",
       "0        False  2000          77         0.751   0.834    1    -5.444     0   \n",
       "1        False  1999          79         0.434   0.897    0    -4.918     1   \n",
       "2        False  1999          66         0.529   0.496    7    -9.007     1   \n",
       "3        False  2000          78         0.551   0.913    0    -4.063     0   \n",
       "4        False  2000          65         0.614   0.928    8    -4.806     0   \n",
       "...        ...   ...         ...           ...     ...  ...       ...   ...   \n",
       "1995     False  2019          79         0.842   0.734    1    -5.065     0   \n",
       "1996     False  2019          78         0.552   0.702    9    -5.707     1   \n",
       "1997     False  2019          69         0.847   0.678    9    -8.635     1   \n",
       "1998     False  2019          75         0.741   0.520    8    -7.513     1   \n",
       "1999     False  2019          85         0.695   0.762    0    -3.497     1   \n",
       "\n",
       "      speechiness  acousticness  instrumentalness  liveness  valence    tempo  \\\n",
       "0          0.0437        0.3000          0.000018    0.3550    0.894   95.053   \n",
       "1          0.0488        0.0103          0.000000    0.6120    0.684  148.726   \n",
       "2          0.0290        0.1730          0.000000    0.2510    0.278  136.859   \n",
       "3          0.0466        0.0263          0.000013    0.3470    0.544  119.992   \n",
       "4          0.0516        0.0408          0.001040    0.0845    0.879  172.656   \n",
       "...           ...           ...               ...       ...      ...      ...   \n",
       "1995       0.0588        0.0427          0.000000    0.1060    0.952  137.958   \n",
       "1996       0.1570        0.1170          0.000021    0.1050    0.564  169.994   \n",
       "1997       0.1090        0.0669          0.000000    0.2740    0.811   97.984   \n",
       "1998       0.0656        0.4500          0.000002    0.2220    0.347  102.998   \n",
       "1999       0.0395        0.1920          0.002440    0.0863    0.553  120.042   \n",
       "\n",
       "                 genre  \n",
       "0                  pop  \n",
       "1            rock, pop  \n",
       "2         pop, country  \n",
       "3          rock, metal  \n",
       "4                  pop  \n",
       "...                ...  \n",
       "1995               pop  \n",
       "1996               pop  \n",
       "1997  hip hop, country  \n",
       "1998               pop  \n",
       "1999           hip hop  \n",
       "\n",
       "[2000 rows x 18 columns]"
      ]
     },
     "execution_count": 6,
     "metadata": {},
     "output_type": "execute_result"
    }
   ],
   "source": [
    "import pandas as pd\n",
    "\n",
    "df = pd.read_csv('spotify.csv')\n",
    "df\n"
   ]
  },
  {
   "cell_type": "code",
   "execution_count": 7,
   "metadata": {},
   "outputs": [
    {
     "data": {
      "text/html": [
       "<div>\n",
       "<style scoped>\n",
       "    .dataframe tbody tr th:only-of-type {\n",
       "        vertical-align: middle;\n",
       "    }\n",
       "\n",
       "    .dataframe tbody tr th {\n",
       "        vertical-align: top;\n",
       "    }\n",
       "\n",
       "    .dataframe thead th {\n",
       "        text-align: right;\n",
       "    }\n",
       "</style>\n",
       "<table border=\"1\" class=\"dataframe\">\n",
       "  <thead>\n",
       "    <tr style=\"text-align: right;\">\n",
       "      <th></th>\n",
       "      <th>duration_ms</th>\n",
       "      <th>year</th>\n",
       "      <th>popularity</th>\n",
       "      <th>danceability</th>\n",
       "      <th>energy</th>\n",
       "      <th>key</th>\n",
       "      <th>loudness</th>\n",
       "      <th>mode</th>\n",
       "      <th>speechiness</th>\n",
       "      <th>acousticness</th>\n",
       "      <th>instrumentalness</th>\n",
       "      <th>liveness</th>\n",
       "      <th>valence</th>\n",
       "      <th>tempo</th>\n",
       "    </tr>\n",
       "  </thead>\n",
       "  <tbody>\n",
       "    <tr>\n",
       "      <th>count</th>\n",
       "      <td>2000.000000</td>\n",
       "      <td>2000.00000</td>\n",
       "      <td>2000.000000</td>\n",
       "      <td>2000.000000</td>\n",
       "      <td>2000.000000</td>\n",
       "      <td>2000.000000</td>\n",
       "      <td>2000.000000</td>\n",
       "      <td>2000.000000</td>\n",
       "      <td>2000.000000</td>\n",
       "      <td>2000.000000</td>\n",
       "      <td>2000.000000</td>\n",
       "      <td>2000.000000</td>\n",
       "      <td>2000.000000</td>\n",
       "      <td>2000.000000</td>\n",
       "    </tr>\n",
       "    <tr>\n",
       "      <th>mean</th>\n",
       "      <td>228748.124500</td>\n",
       "      <td>2009.49400</td>\n",
       "      <td>59.872500</td>\n",
       "      <td>0.667438</td>\n",
       "      <td>0.720366</td>\n",
       "      <td>5.378000</td>\n",
       "      <td>-5.512434</td>\n",
       "      <td>0.553500</td>\n",
       "      <td>0.103568</td>\n",
       "      <td>0.128955</td>\n",
       "      <td>0.015226</td>\n",
       "      <td>0.181216</td>\n",
       "      <td>0.551690</td>\n",
       "      <td>120.122558</td>\n",
       "    </tr>\n",
       "    <tr>\n",
       "      <th>std</th>\n",
       "      <td>39136.569008</td>\n",
       "      <td>5.85996</td>\n",
       "      <td>21.335577</td>\n",
       "      <td>0.140416</td>\n",
       "      <td>0.152745</td>\n",
       "      <td>3.615059</td>\n",
       "      <td>1.933482</td>\n",
       "      <td>0.497254</td>\n",
       "      <td>0.096159</td>\n",
       "      <td>0.173346</td>\n",
       "      <td>0.087771</td>\n",
       "      <td>0.140669</td>\n",
       "      <td>0.220864</td>\n",
       "      <td>26.967112</td>\n",
       "    </tr>\n",
       "    <tr>\n",
       "      <th>min</th>\n",
       "      <td>113000.000000</td>\n",
       "      <td>1998.00000</td>\n",
       "      <td>0.000000</td>\n",
       "      <td>0.129000</td>\n",
       "      <td>0.054900</td>\n",
       "      <td>0.000000</td>\n",
       "      <td>-20.514000</td>\n",
       "      <td>0.000000</td>\n",
       "      <td>0.023200</td>\n",
       "      <td>0.000019</td>\n",
       "      <td>0.000000</td>\n",
       "      <td>0.021500</td>\n",
       "      <td>0.038100</td>\n",
       "      <td>60.019000</td>\n",
       "    </tr>\n",
       "    <tr>\n",
       "      <th>25%</th>\n",
       "      <td>203580.000000</td>\n",
       "      <td>2004.00000</td>\n",
       "      <td>56.000000</td>\n",
       "      <td>0.581000</td>\n",
       "      <td>0.622000</td>\n",
       "      <td>2.000000</td>\n",
       "      <td>-6.490250</td>\n",
       "      <td>0.000000</td>\n",
       "      <td>0.039600</td>\n",
       "      <td>0.014000</td>\n",
       "      <td>0.000000</td>\n",
       "      <td>0.088100</td>\n",
       "      <td>0.386750</td>\n",
       "      <td>98.985750</td>\n",
       "    </tr>\n",
       "    <tr>\n",
       "      <th>50%</th>\n",
       "      <td>223279.500000</td>\n",
       "      <td>2010.00000</td>\n",
       "      <td>65.500000</td>\n",
       "      <td>0.676000</td>\n",
       "      <td>0.736000</td>\n",
       "      <td>6.000000</td>\n",
       "      <td>-5.285000</td>\n",
       "      <td>1.000000</td>\n",
       "      <td>0.059850</td>\n",
       "      <td>0.055700</td>\n",
       "      <td>0.000000</td>\n",
       "      <td>0.124000</td>\n",
       "      <td>0.557500</td>\n",
       "      <td>120.021500</td>\n",
       "    </tr>\n",
       "    <tr>\n",
       "      <th>75%</th>\n",
       "      <td>248133.000000</td>\n",
       "      <td>2015.00000</td>\n",
       "      <td>73.000000</td>\n",
       "      <td>0.764000</td>\n",
       "      <td>0.839000</td>\n",
       "      <td>8.000000</td>\n",
       "      <td>-4.167750</td>\n",
       "      <td>1.000000</td>\n",
       "      <td>0.129000</td>\n",
       "      <td>0.176250</td>\n",
       "      <td>0.000068</td>\n",
       "      <td>0.241000</td>\n",
       "      <td>0.730000</td>\n",
       "      <td>134.265500</td>\n",
       "    </tr>\n",
       "    <tr>\n",
       "      <th>max</th>\n",
       "      <td>484146.000000</td>\n",
       "      <td>2020.00000</td>\n",
       "      <td>89.000000</td>\n",
       "      <td>0.975000</td>\n",
       "      <td>0.999000</td>\n",
       "      <td>11.000000</td>\n",
       "      <td>-0.276000</td>\n",
       "      <td>1.000000</td>\n",
       "      <td>0.576000</td>\n",
       "      <td>0.976000</td>\n",
       "      <td>0.985000</td>\n",
       "      <td>0.853000</td>\n",
       "      <td>0.973000</td>\n",
       "      <td>210.851000</td>\n",
       "    </tr>\n",
       "  </tbody>\n",
       "</table>\n",
       "</div>"
      ],
      "text/plain": [
       "         duration_ms        year   popularity  danceability       energy  \\\n",
       "count    2000.000000  2000.00000  2000.000000   2000.000000  2000.000000   \n",
       "mean   228748.124500  2009.49400    59.872500      0.667438     0.720366   \n",
       "std     39136.569008     5.85996    21.335577      0.140416     0.152745   \n",
       "min    113000.000000  1998.00000     0.000000      0.129000     0.054900   \n",
       "25%    203580.000000  2004.00000    56.000000      0.581000     0.622000   \n",
       "50%    223279.500000  2010.00000    65.500000      0.676000     0.736000   \n",
       "75%    248133.000000  2015.00000    73.000000      0.764000     0.839000   \n",
       "max    484146.000000  2020.00000    89.000000      0.975000     0.999000   \n",
       "\n",
       "               key     loudness         mode  speechiness  acousticness  \\\n",
       "count  2000.000000  2000.000000  2000.000000  2000.000000   2000.000000   \n",
       "mean      5.378000    -5.512434     0.553500     0.103568      0.128955   \n",
       "std       3.615059     1.933482     0.497254     0.096159      0.173346   \n",
       "min       0.000000   -20.514000     0.000000     0.023200      0.000019   \n",
       "25%       2.000000    -6.490250     0.000000     0.039600      0.014000   \n",
       "50%       6.000000    -5.285000     1.000000     0.059850      0.055700   \n",
       "75%       8.000000    -4.167750     1.000000     0.129000      0.176250   \n",
       "max      11.000000    -0.276000     1.000000     0.576000      0.976000   \n",
       "\n",
       "       instrumentalness     liveness      valence        tempo  \n",
       "count       2000.000000  2000.000000  2000.000000  2000.000000  \n",
       "mean           0.015226     0.181216     0.551690   120.122558  \n",
       "std            0.087771     0.140669     0.220864    26.967112  \n",
       "min            0.000000     0.021500     0.038100    60.019000  \n",
       "25%            0.000000     0.088100     0.386750    98.985750  \n",
       "50%            0.000000     0.124000     0.557500   120.021500  \n",
       "75%            0.000068     0.241000     0.730000   134.265500  \n",
       "max            0.985000     0.853000     0.973000   210.851000  "
      ]
     },
     "execution_count": 7,
     "metadata": {},
     "output_type": "execute_result"
    }
   ],
   "source": [
    "df.describe()"
   ]
  },
  {
   "cell_type": "code",
   "execution_count": 9,
   "metadata": {},
   "outputs": [
    {
     "data": {
      "text/plain": [
       "120.12255750000001"
      ]
     },
     "execution_count": 9,
     "metadata": {},
     "output_type": "execute_result"
    }
   ],
   "source": [
    "df.tempo.mean()"
   ]
  },
  {
   "cell_type": "code",
   "execution_count": 10,
   "metadata": {},
   "outputs": [
    {
     "data": {
      "text/plain": [
       "26.967111988479473"
      ]
     },
     "execution_count": 10,
     "metadata": {},
     "output_type": "execute_result"
    }
   ],
   "source": [
    "df.tempo.std()"
   ]
  },
  {
   "cell_type": "code",
   "execution_count": 12,
   "metadata": {},
   "outputs": [
    {
     "data": {
      "text/plain": [
       "1831"
      ]
     },
     "execution_count": 12,
     "metadata": {},
     "output_type": "execute_result"
    }
   ],
   "source": [
    "df.tempo.nunique()"
   ]
  },
  {
   "cell_type": "code",
   "execution_count": 13,
   "metadata": {},
   "outputs": [
    {
     "data": {
      "text/plain": [
       "2000"
      ]
     },
     "execution_count": 13,
     "metadata": {},
     "output_type": "execute_result"
    }
   ],
   "source": [
    "df.tempo.count()"
   ]
  },
  {
   "cell_type": "code",
   "execution_count": 14,
   "metadata": {},
   "outputs": [
    {
     "data": {
      "text/plain": [
       "(array([  6.,  27.,  96., 128., 200., 247., 112., 208., 247., 242., 126.,\n",
       "        116.,  41.,  57.,  55.,  42.,  23.,  13.,  10.,   4.]),\n",
       " array([ 60.019 ,  67.5606,  75.1022,  82.6438,  90.1854,  97.727 ,\n",
       "        105.2686, 112.8102, 120.3518, 127.8934, 135.435 , 142.9766,\n",
       "        150.5182, 158.0598, 165.6014, 173.143 , 180.6846, 188.2262,\n",
       "        195.7678, 203.3094, 210.851 ]),\n",
       " <BarContainer object of 20 artists>)"
      ]
     },
     "execution_count": 14,
     "metadata": {},
     "output_type": "execute_result"
    },
    {
     "data": {
      "image/png": "[encoded data removed]",
      "text/plain": [
       "<Figure size 640x480 with 1 Axes>"
      ]
     },
     "metadata": {},
     "output_type": "display_data"
    }
   ],
   "source": [
    "from matplotlib import pyplot as plt\n",
    "plt.hist(df.tempo, bins=20)"
   ]
  },
  {
   "cell_type": "code",
   "execution_count": 15,
   "metadata": {},
   "outputs": [
    {
     "data": {
      "text/plain": [
       "0.5467700722015391"
      ]
     },
     "execution_count": 15,
     "metadata": {},
     "output_type": "execute_result"
    }
   ],
   "source": [
    "df.tempo.skew()"
   ]
  },
  {
   "cell_type": "code",
   "execution_count": 16,
   "metadata": {},
   "outputs": [
    {
     "data": {
      "text/plain": [
       "0    140.022\n",
       "Name: tempo, dtype: float64"
      ]
     },
     "execution_count": 16,
     "metadata": {},
     "output_type": "execute_result"
    }
   ],
   "source": [
    "df.tempo.mode()"
   ]
  },
  {
   "cell_type": "code",
   "execution_count": 17,
   "metadata": {},
   "outputs": [
    {
     "data": {
      "text/plain": [
       "60.019"
      ]
     },
     "execution_count": 17,
     "metadata": {},
     "output_type": "execute_result"
    }
   ],
   "source": [
    "df.tempo.min()"
   ]
  },
  {
   "cell_type": "code",
   "execution_count": 18,
   "metadata": {},
   "outputs": [
    {
     "data": {
      "text/plain": [
       "210.851"
      ]
     },
     "execution_count": 18,
     "metadata": {},
     "output_type": "execute_result"
    }
   ],
   "source": [
    "df.tempo.max()"
   ]
  },
  {
   "cell_type": "code",
   "execution_count": 19,
   "metadata": {},
   "outputs": [
    {
     "data": {
      "text/plain": [
       "0.022969705534773066"
      ]
     },
     "execution_count": 19,
     "metadata": {},
     "output_type": "execute_result"
    }
   ],
   "source": [
    "df.tempo.kurtosis()"
   ]
  },
  {
   "cell_type": "code",
   "execution_count": 21,
   "metadata": {},
   "outputs": [
    {
     "data": {
      "text/plain": [
       "(array([  1.,   1.,   0.,   4.,   0.,   4.,   1.,   3.,   4.,  15.,  11.,\n",
       "         15.,  19.,  28.,  23.,  33.,  15.,  25.,   7.,  48.,  18.,  50.,\n",
       "         30.,  72.,  30.,  57.,  79.,  37.,  22.,  52.,  22.,  32.,   7.,\n",
       "         31.,  20.,  30.,  25.,  32.,  24.,  97.,  20.,  55.,  35., 103.,\n",
       "         34., 106.,  64.,  27.,  16.,  29.,  20.,  26.,  23.,  40.,  17.,\n",
       "         26.,  32.,  13.,  17.,  28.,  11.,   6.,  11.,   6.,   7.,   4.,\n",
       "         23.,   7.,  19.,   4.,   6.,  11.,  13.,   9.,  16.,   9.,  15.,\n",
       "          4.,   4.,  10.,   5.,   3.,   5.,   8.,   2.,   1.,   5.,   4.,\n",
       "          2.,   1.,   2.,   2.,   3.,   1.,   2.,   2.,   1.,   0.,   0.,\n",
       "          1.]),\n",
       " array([ 60.019  ,  61.52732,  63.03564,  64.54396,  66.05228,  67.5606 ,\n",
       "         69.06892,  70.57724,  72.08556,  73.59388,  75.1022 ,  76.61052,\n",
       "         78.11884,  79.62716,  81.13548,  82.6438 ,  84.15212,  85.66044,\n",
       "         87.16876,  88.67708,  90.1854 ,  91.69372,  93.20204,  94.71036,\n",
       "         96.21868,  97.727  ,  99.23532, 100.74364, 102.25196, 103.76028,\n",
       "        105.2686 , 106.77692, 108.28524, 109.79356, 111.30188, 112.8102 ,\n",
       "        114.31852, 115.82684, 117.33516, 118.84348, 120.3518 , 121.86012,\n",
       "        123.36844, 124.87676, 126.38508, 127.8934 , 129.40172, 130.91004,\n",
       "        132.41836, 133.92668, 135.435  , 136.94332, 138.45164, 139.95996,\n",
       "        141.46828, 142.9766 , 144.48492, 145.99324, 147.50156, 149.00988,\n",
       "        150.5182 , 152.02652, 153.53484, 155.04316, 156.55148, 158.0598 ,\n",
       "        159.56812, 161.07644, 162.58476, 164.09308, 165.6014 , 167.10972,\n",
       "        168.61804, 170.12636, 171.63468, 173.143  , 174.65132, 176.15964,\n",
       "        177.66796, 179.17628, 180.6846 , 182.19292, 183.70124, 185.20956,\n",
       "        186.71788, 188.2262 , 189.73452, 191.24284, 192.75116, 194.25948,\n",
       "        195.7678 , 197.27612, 198.78444, 200.29276, 201.80108, 203.3094 ,\n",
       "        204.81772, 206.32604, 207.83436, 209.34268, 210.851  ]),\n",
       " <BarContainer object of 100 artists>)"
      ]
     },
     "execution_count": 21,
     "metadata": {},
     "output_type": "execute_result"
    },
    {
     "data": {
      "image/png": "[encoded data removed]",
      "text/plain": [
       "<Figure size 640x480 with 1 Axes>"
      ]
     },
     "metadata": {},
     "output_type": "display_data"
    }
   ],
   "source": [
    "plt.hist(df.tempo, bins=100)"
   ]
  },
  {
   "cell_type": "code",
   "execution_count": 22,
   "metadata": {},
   "outputs": [
    {
     "data": {
      "text/plain": [
       "2000"
      ]
     },
     "execution_count": 22,
     "metadata": {},
     "output_type": "execute_result"
    }
   ],
   "source": [
    "df.genre.count()"
   ]
  },
  {
   "cell_type": "code",
   "execution_count": 23,
   "metadata": {},
   "outputs": [
    {
     "data": {
      "text/plain": [
       "59"
      ]
     },
     "execution_count": 23,
     "metadata": {},
     "output_type": "execute_result"
    }
   ],
   "source": [
    "df.genre.nunique()"
   ]
  },
  {
   "cell_type": "code",
   "execution_count": 29,
   "metadata": {},
   "outputs": [
    {
     "data": {
      "text/plain": [
       "<Axes: xlabel='genre', ylabel='count'>"
      ]
     },
     "execution_count": 29,
     "metadata": {},
     "output_type": "execute_result"
    },
    {
     "data": {
      "image/png": "[encoded data removed]",
      "text/plain": [
       "<Figure size 1000x600 with 1 Axes>"
      ]
     },
     "metadata": {},
     "output_type": "display_data"
    }
   ],
   "source": [
    "import seaborn as sns\n",
    "import matplotlib.pyplot as plt\n",
    "\n",
    "\n",
    "plt.figure(figsize=(10, 6))\n",
    "sns.countplot(data=df, x='genre', order=df['genre'].value_counts().index)\n"
   ]
  }
 ],
 "metadata": {
  "kernelspec": {
   "display_name": "base",
   "language": "python",
   "name": "python3"
  },
  "language_info": {
   "codemirror_mode": {
    "name": "ipython",
    "version": 3
   },
   "file_extension": ".py",
   "mimetype": "text/x-python",
   "name": "python",
   "nbconvert_exporter": "python",
   "pygments_lexer": "ipython3",
   "version": "3.12.4"
  }
 },
 "nbformat": 4,
 "nbformat_minor": 2
}
