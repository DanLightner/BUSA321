{
 "cells": [
  {
   "cell_type": "code",
   "execution_count": 18,
   "metadata": {},
   "outputs": [
    {
     "data": {
      "text/html": [
       "<div>\n",
       "<style scoped>\n",
       "    .dataframe tbody tr th:only-of-type {\n",
       "        vertical-align: middle;\n",
       "    }\n",
       "\n",
       "    .dataframe tbody tr th {\n",
       "        vertical-align: top;\n",
       "    }\n",
       "\n",
       "    .dataframe thead th {\n",
       "        text-align: right;\n",
       "    }\n",
       "</style>\n",
       "<table border=\"1\" class=\"dataframe\">\n",
       "  <thead>\n",
       "    <tr style=\"text-align: right;\">\n",
       "      <th></th>\n",
       "      <th>age</th>\n",
       "      <th>sex</th>\n",
       "      <th>bmi</th>\n",
       "      <th>bmi_missing</th>\n",
       "      <th>children</th>\n",
       "      <th>smoker</th>\n",
       "      <th>region</th>\n",
       "      <th>charges</th>\n",
       "    </tr>\n",
       "  </thead>\n",
       "  <tbody>\n",
       "    <tr>\n",
       "      <th>0</th>\n",
       "      <td>19</td>\n",
       "      <td>female</td>\n",
       "      <td>27.900</td>\n",
       "      <td>27.900</td>\n",
       "      <td>0</td>\n",
       "      <td>yes</td>\n",
       "      <td>southwest</td>\n",
       "      <td>16884.92400</td>\n",
       "    </tr>\n",
       "    <tr>\n",
       "      <th>1</th>\n",
       "      <td>18</td>\n",
       "      <td>male</td>\n",
       "      <td>33.770</td>\n",
       "      <td>NaN</td>\n",
       "      <td>1</td>\n",
       "      <td>no</td>\n",
       "      <td>southeast</td>\n",
       "      <td>1725.55230</td>\n",
       "    </tr>\n",
       "    <tr>\n",
       "      <th>2</th>\n",
       "      <td>28</td>\n",
       "      <td>male</td>\n",
       "      <td>33.000</td>\n",
       "      <td>NaN</td>\n",
       "      <td>3</td>\n",
       "      <td>no</td>\n",
       "      <td>southeast</td>\n",
       "      <td>4449.46200</td>\n",
       "    </tr>\n",
       "    <tr>\n",
       "      <th>3</th>\n",
       "      <td>33</td>\n",
       "      <td>male</td>\n",
       "      <td>22.705</td>\n",
       "      <td>22.705</td>\n",
       "      <td>0</td>\n",
       "      <td>no</td>\n",
       "      <td>northwest</td>\n",
       "      <td>21984.47061</td>\n",
       "    </tr>\n",
       "    <tr>\n",
       "      <th>4</th>\n",
       "      <td>32</td>\n",
       "      <td>male</td>\n",
       "      <td>28.880</td>\n",
       "      <td>28.880</td>\n",
       "      <td>0</td>\n",
       "      <td>no</td>\n",
       "      <td>northwest</td>\n",
       "      <td>3866.85520</td>\n",
       "    </tr>\n",
       "  </tbody>\n",
       "</table>\n",
       "</div>"
      ],
      "text/plain": [
       "   age     sex     bmi  bmi_missing  children smoker     region      charges\n",
       "0   19  female  27.900       27.900         0    yes  southwest  16884.92400\n",
       "1   18    male  33.770          NaN         1     no  southeast   1725.55230\n",
       "2   28    male  33.000          NaN         3     no  southeast   4449.46200\n",
       "3   33    male  22.705       22.705         0     no  northwest  21984.47061\n",
       "4   32    male  28.880       28.880         0     no  northwest   3866.85520"
      ]
     },
     "execution_count": 18,
     "metadata": {},
     "output_type": "execute_result"
    }
   ],
   "source": [
    "import pandas as pd\n",
    "df = pd.read_csv('insurance_missing.csv')\n",
    "df.head()"
   ]
  },
  {
   "cell_type": "code",
   "execution_count": 19,
   "metadata": {},
   "outputs": [
    {
     "name": "stdout",
     "output_type": "stream",
     "text": [
      "age            0\n",
      "sex            0\n",
      "bmi            0\n",
      "bmi_missing    8\n",
      "children       0\n",
      "smoker         0\n",
      "region         0\n",
      "charges        0\n",
      "dtype: int64\n",
      "8\n"
     ]
    }
   ],
   "source": [
    "print(df.isnull().sum())        # Gives you the missing values for each column\n",
    "print(df.isnull().sum().sum())  # Gives you the missing values for the whole DataFrame"
   ]
  },
  {
   "cell_type": "code",
   "execution_count": 20,
   "metadata": {},
   "outputs": [
    {
     "name": "stdout",
     "output_type": "stream",
     "text": [
      "      bmi  bmi_missing  bmi_missing_mean  bmi_missing_median\n",
      "0  27.900       27.900         27.900000              27.900\n",
      "1  33.770          NaN         30.663397              30.400\n",
      "2  33.000          NaN         30.663397              30.400\n",
      "3  22.705       22.705         22.705000              22.705\n",
      "4  28.880       28.880         28.880000              28.880\n",
      "Remaining missing values in bmi_missing_mean: 0\n",
      "Remaining missing values in bmi_missing_median: 0\n"
     ]
    }
   ],
   "source": [
    "import pandas as pd\n",
    "\n",
    "# Load the dataset\n",
    "df = pd.read_csv('insurance_missing.csv')\n",
    "\n",
    "# Fill missing values in 'bmi_missing' with the mean of 'bmi'\n",
    "df['bmi_missing_mean'] = df['bmi_missing'].fillna(df['bmi'].mean())\n",
    "\n",
    "# Fill missing values in 'bmi_missing' with the median of 'bmi'\n",
    "df['bmi_missing_median'] = df['bmi_missing'].fillna(df['bmi'].median())\n",
    "\n",
    "# Compare original 'bmi', filled 'bmi_missing_mean', and 'bmi_missing_median'\n",
    "print(df[['bmi', 'bmi_missing', 'bmi_missing_mean', 'bmi_missing_median']].head())\n",
    "\n",
    "# Check if missing values remain\n",
    "print(\"Remaining missing values in bmi_missing_mean:\", df['bmi_missing_mean'].isnull().sum())\n",
    "print(\"Remaining missing values in bmi_missing_median:\", df['bmi_missing_median'].isnull().sum())\n"
   ]
  },
  {
   "cell_type": "code",
   "execution_count": 21,
   "metadata": {},
   "outputs": [
    {
     "name": "stdout",
     "output_type": "stream",
     "text": [
      "      bmi  bmi_missing  bmi_missing_interpolated\n",
      "0  27.900       27.900                      27.9\n",
      "1  33.770          NaN                      26.2\n",
      "2  33.000          NaN                      24.4\n",
      "3  22.705       22.705                      22.7\n",
      "4  28.880       28.880                      28.9\n",
      "5  25.740       25.740                      25.7\n",
      "6  33.440       33.440                      33.4\n",
      "7  27.740          NaN                      31.6\n",
      "8  29.830       29.830                      29.8\n",
      "9  25.840       25.840                      25.8\n",
      "Remaining missing values in bmi_missing_interpolated: 0\n"
     ]
    }
   ],
   "source": [
    "import pandas as pd\n",
    "\n",
    "# Load the dataset\n",
    "df = pd.read_csv('insurance_missing.csv')\n",
    "\n",
    "# Interpolate missing values in 'bmi_missing'\n",
    "df['bmi_missing_interpolated'] = df['bmi_missing'].interpolate(method='linear').round(1)\n",
    "\n",
    "# Compare original 'bmi', 'bmi_missing', and interpolated 'bmi_missing_interpolated'\n",
    "print(df[['bmi', 'bmi_missing', 'bmi_missing_interpolated']].head(10))\n",
    "\n",
    "# Check if any missing values remain in the interpolated column\n",
    "print(\"Remaining missing values in bmi_missing_interpolated:\", df['bmi_missing_interpolated'].isnull().sum())\n"
   ]
  },
  {
   "cell_type": "code",
   "execution_count": 22,
   "metadata": {},
   "outputs": [
    {
     "name": "stdout",
     "output_type": "stream",
     "text": [
      "      bmi  bmi_missing  bmi_missing_predicted\n",
      "0  27.900       27.900                    NaN\n",
      "1  33.770          NaN              29.623375\n",
      "2  33.000          NaN              30.111201\n",
      "3  22.705       22.705                    NaN\n",
      "4  28.880       28.880                    NaN\n",
      "5  25.740       25.740                    NaN\n",
      "6  33.440       33.440                    NaN\n",
      "7  27.740          NaN              30.550244\n",
      "8  29.830       29.830                    NaN\n",
      "9  25.840       25.840                    NaN\n",
      "Remaining missing values in bmi_missing_predicted: 1330\n"
     ]
    }
   ],
   "source": [
    "import pandas as pd\n",
    "from sklearn.linear_model import LinearRegression\n",
    "\n",
    "# Load the dataset\n",
    "df = pd.read_csv('insurance_missing.csv')\n",
    "\n",
    "# Prepare data for regression: Use 'age' as the independent variable to predict 'bmi_missing'\n",
    "not_null = df[df['bmi_missing'].notnull()]\n",
    "null_bmi_missing = df[df['bmi_missing'].isnull()]\n",
    "\n",
    "# Define the predictor (X) and target (y)\n",
    "X = not_null[['age']]  # Independent variable: 'age'\n",
    "y = not_null['bmi_missing']  # Dependent variable: 'bmi_missing'\n",
    "\n",
    "# Train the regression model\n",
    "model = LinearRegression()\n",
    "model.fit(X, y)\n",
    "\n",
    "# Predict missing values\n",
    "df.loc[df['bmi_missing'].isnull(), 'bmi_missing_predicted'] = model.predict(null_bmi_missing[['age']])\n",
    "\n",
    "# Compare original 'bmi', 'bmi_missing', and predicted 'bmi_missing_predicted'\n",
    "print(df[['bmi', 'bmi_missing', 'bmi_missing_predicted']].head(10))\n",
    "\n",
    "# Check if any missing values remain in the predicted column\n",
    "print(\"Remaining missing values in bmi_missing_predicted:\", df['bmi_missing_predicted'].isnull().sum())\n"
   ]
  }
 ],
 "metadata": {
  "kernelspec": {
   "display_name": "Python 3",
   "language": "python",
   "name": "python3"
  },
  "language_info": {
   "codemirror_mode": {
    "name": "ipython",
    "version": 3
   },
   "file_extension": ".py",
   "mimetype": "text/x-python",
   "name": "python",
   "nbconvert_exporter": "python",
   "pygments_lexer": "ipython3",
   "version": "3.11.0"
  }
 },
 "nbformat": 4,
 "nbformat_minor": 2
}
