{
 "cells": [
  {
   "cell_type": "markdown",
   "metadata": {},
   "source": [
    "# Chapter 11: Sentiment Analysis\n",
    "\n",
    "Consider doing some market research through interviews or focus groups. You know well the importance of understanding emotion or *sentiment* in people's responses to help your own research and analysis. Thus, sentiment analysis has become very popular with text analysis. In our example below, the question is: what effect do positive or negative (sentiment) tweets have on the number of retweets? These are also compared to neutral tweets, as not all text is exactly positive or negative.\n",
    "\n",
    "In this sense, sentiment is given a number that can be used in regression and other forms of analysis."
   ]
  },
  {
   "cell_type": "code",
   "execution_count": 1,
   "metadata": {},
   "outputs": [
    {
     "name": "stderr",
     "output_type": "stream",
     "text": [
      "[nltk_data] Downloading package vader_lexicon to\n",
      "[nltk_data]     C:\\Users\\jrw100\\AppData\\Roaming\\nltk_data...\n",
      "[nltk_data]   Package vader_lexicon is already up-to-date!\n"
     ]
    }
   ],
   "source": [
    "import nltk\n",
    "from nltk.sentiment import SentimentIntensityAnalyzer\n",
    "    \n",
    "# Word lists and lexicons in nltk: https://www.nltk.org/howto/corpus.html#word-lists-and-lexicons\n",
    "nltk.download('vader_lexicon')\n",
    "sia = SentimentIntensityAnalyzer()"
   ]
  },
  {
   "cell_type": "markdown",
   "metadata": {},
   "source": [
    "**ACTIVITY**: Use sia.polarity_scores() and input various text and strings in the parenthesis. This function will analyze the text, based on the downloaded package and word lists, and give scores for negative, positive, and neutral."
   ]
  },
  {
   "cell_type": "code",
   "execution_count": 2,
   "metadata": {},
   "outputs": [
    {
     "data": {
      "text/plain": [
       "{'neg': 0.0, 'neu': 0.461, 'pos': 0.539, 'compound': 0.6893}"
      ]
     },
     "execution_count": 2,
     "metadata": {},
     "output_type": "execute_result"
    }
   ],
   "source": [
    "sia.polarity_scores(\"This is a really great tweet!\")"
   ]
  },
  {
   "cell_type": "code",
   "execution_count": 7,
   "metadata": {},
   "outputs": [
    {
     "data": {
      "text/plain": [
       "{'neg': 0.0, 'neu': 1.0, 'pos': 0.0, 'compound': 0.0}"
      ]
     },
     "execution_count": 7,
     "metadata": {},
     "output_type": "execute_result"
    }
   ],
   "source": [
    "sia.polarity_scores(\"Hellow how are you?\")"
   ]
  },
  {
   "cell_type": "code",
   "execution_count": 8,
   "metadata": {},
   "outputs": [
    {
     "data": {
      "text/plain": [
       "{'neg': 0.0, 'neu': 1.0, 'pos': 0.0, 'compound': 0.0}"
      ]
     },
     "execution_count": 8,
     "metadata": {},
     "output_type": "execute_result"
    }
   ],
   "source": [
    "sia.polarity_scores(\"I'm going to men's group tonight\")"
   ]
  },
  {
   "cell_type": "code",
   "execution_count": 9,
   "metadata": {},
   "outputs": [
    {
     "data": {
      "text/plain": [
       "{'neg': 0.438, 'neu': 0.562, 'pos': 0.0, 'compound': -0.5984}"
      ]
     },
     "execution_count": 9,
     "metadata": {},
     "output_type": "execute_result"
    }
   ],
   "source": [
    "sia.polarity_scores(\"That was kind of a nasty move\")"
   ]
  },
  {
   "cell_type": "code",
   "execution_count": 15,
   "metadata": {},
   "outputs": [
    {
     "data": {
      "text/plain": [
       "{'neg': 0.0, 'neu': 0.417, 'pos': 0.583, 'compound': 0.6369}"
      ]
     },
     "execution_count": 15,
     "metadata": {},
     "output_type": "execute_result"
    }
   ],
   "source": [
    "sia.polarity_scores(\"Jason best is the\")"
   ]
  },
  {
   "cell_type": "markdown",
   "metadata": {},
   "source": [
    "**Turn it into a DataFrame**: While the above exercise is a fun activity, it can be very useful if applied to a large dataset of text to be analyzed. Each of the tweets in this dataset are given a positive, negative, and neutral sentiment score that can be analyzed to see the effect sentiment has on the number of retweets."
   ]
  },
  {
   "cell_type": "code",
   "execution_count": null,
   "metadata": {},
   "outputs": [
    {
     "data": {
      "text/html": [
       "<div>\n",
       "<style scoped>\n",
       "    .dataframe tbody tr th:only-of-type {\n",
       "        vertical-align: middle;\n",
       "    }\n",
       "\n",
       "    .dataframe tbody tr th {\n",
       "        vertical-align: top;\n",
       "    }\n",
       "\n",
       "    .dataframe thead th {\n",
       "        text-align: right;\n",
       "    }\n",
       "</style>\n",
       "<table border=\"1\" class=\"dataframe\">\n",
       "  <thead>\n",
       "    <tr style=\"text-align: right;\">\n",
       "      <th></th>\n",
       "      <th>Gender</th>\n",
       "      <th>Weekday</th>\n",
       "      <th>Hour</th>\n",
       "      <th>Day</th>\n",
       "      <th>Reach</th>\n",
       "      <th>RetweetCount</th>\n",
       "      <th>Klout</th>\n",
       "      <th>text</th>\n",
       "    </tr>\n",
       "  </thead>\n",
       "  <tbody>\n",
       "    <tr>\n",
       "      <th>0</th>\n",
       "      <td>Male</td>\n",
       "      <td>Monday</td>\n",
       "      <td>23</td>\n",
       "      <td>2</td>\n",
       "      <td>4037</td>\n",
       "      <td>1</td>\n",
       "      <td>52</td>\n",
       "      <td>Amazon Web Services is becoming a nice predict...</td>\n",
       "    </tr>\n",
       "    <tr>\n",
       "      <th>1</th>\n",
       "      <td>Unknown</td>\n",
       "      <td>Friday</td>\n",
       "      <td>12</td>\n",
       "      <td>4</td>\n",
       "      <td>524418</td>\n",
       "      <td>21</td>\n",
       "      <td>72</td>\n",
       "      <td>Announcing four new VPN features in our Sao Pa...</td>\n",
       "    </tr>\n",
       "    <tr>\n",
       "      <th>2</th>\n",
       "      <td>Unknown</td>\n",
       "      <td>Tuesday</td>\n",
       "      <td>9</td>\n",
       "      <td>31</td>\n",
       "      <td>1748</td>\n",
       "      <td>1</td>\n",
       "      <td>46</td>\n",
       "      <td>Are you an @awscloud user? Use #Zadara + #AWS ...</td>\n",
       "    </tr>\n",
       "    <tr>\n",
       "      <th>3</th>\n",
       "      <td>Unknown</td>\n",
       "      <td>Saturday</td>\n",
       "      <td>3</td>\n",
       "      <td>27</td>\n",
       "      <td>1179</td>\n",
       "      <td>1</td>\n",
       "      <td>0</td>\n",
       "      <td>AWS CloudFormation Adds Support for Amazon VPC...</td>\n",
       "    </tr>\n",
       "    <tr>\n",
       "      <th>4</th>\n",
       "      <td>Unknown</td>\n",
       "      <td>Saturday</td>\n",
       "      <td>3</td>\n",
       "      <td>27</td>\n",
       "      <td>1179</td>\n",
       "      <td>1</td>\n",
       "      <td>0</td>\n",
       "      <td>AWS CloudFormation Adds Support for Amazon VPC...</td>\n",
       "    </tr>\n",
       "    <tr>\n",
       "      <th>...</th>\n",
       "      <td>...</td>\n",
       "      <td>...</td>\n",
       "      <td>...</td>\n",
       "      <td>...</td>\n",
       "      <td>...</td>\n",
       "      <td>...</td>\n",
       "      <td>...</td>\n",
       "      <td>...</td>\n",
       "    </tr>\n",
       "    <tr>\n",
       "      <th>995</th>\n",
       "      <td>Unknown</td>\n",
       "      <td>Tuesday</td>\n",
       "      <td>12</td>\n",
       "      <td>15</td>\n",
       "      <td>12532</td>\n",
       "      <td>20</td>\n",
       "      <td>59</td>\n",
       "      <td>Friends dont let friends build datacenters. Ce...</td>\n",
       "    </tr>\n",
       "    <tr>\n",
       "      <th>996</th>\n",
       "      <td>Male</td>\n",
       "      <td>Tuesday</td>\n",
       "      <td>6</td>\n",
       "      <td>31</td>\n",
       "      <td>822</td>\n",
       "      <td>1</td>\n",
       "      <td>45</td>\n",
       "      <td>\"Check out Amazon Web Services Big Data Day co...</td>\n",
       "    </tr>\n",
       "    <tr>\n",
       "      <th>997</th>\n",
       "      <td>Male</td>\n",
       "      <td>Wednesday</td>\n",
       "      <td>3</td>\n",
       "      <td>27</td>\n",
       "      <td>544</td>\n",
       "      <td>6</td>\n",
       "      <td>41</td>\n",
       "      <td>Slides and the demo project related to my #AWS...</td>\n",
       "    </tr>\n",
       "    <tr>\n",
       "      <th>998</th>\n",
       "      <td>Unknown</td>\n",
       "      <td>Tuesday</td>\n",
       "      <td>8</td>\n",
       "      <td>19</td>\n",
       "      <td>582387</td>\n",
       "      <td>2</td>\n",
       "      <td>73</td>\n",
       "      <td>Teradata SW leading #BI #DataWarehouse availab...</td>\n",
       "    </tr>\n",
       "    <tr>\n",
       "      <th>999</th>\n",
       "      <td>Male</td>\n",
       "      <td>Thursday</td>\n",
       "      <td>18</td>\n",
       "      <td>16</td>\n",
       "      <td>57</td>\n",
       "      <td>1</td>\n",
       "      <td>23</td>\n",
       "      <td>Amazon EC2 simplifies Spot usage experience wi...</td>\n",
       "    </tr>\n",
       "  </tbody>\n",
       "</table>\n",
       "<p>1000 rows × 8 columns</p>\n",
       "</div>"
      ],
      "text/plain": [
       "      Gender    Weekday  Hour  Day   Reach  RetweetCount  Klout  \\\n",
       "0       Male     Monday    23    2    4037             1     52   \n",
       "1    Unknown     Friday    12    4  524418            21     72   \n",
       "2    Unknown    Tuesday     9   31    1748             1     46   \n",
       "3    Unknown   Saturday     3   27    1179             1      0   \n",
       "4    Unknown   Saturday     3   27    1179             1      0   \n",
       "..       ...        ...   ...  ...     ...           ...    ...   \n",
       "995  Unknown    Tuesday    12   15   12532            20     59   \n",
       "996     Male    Tuesday     6   31     822             1     45   \n",
       "997     Male  Wednesday     3   27     544             6     41   \n",
       "998  Unknown    Tuesday     8   19  582387             2     73   \n",
       "999     Male   Thursday    18   16      57             1     23   \n",
       "\n",
       "                                                  text  \n",
       "0    Amazon Web Services is becoming a nice predict...  \n",
       "1    Announcing four new VPN features in our Sao Pa...  \n",
       "2    Are you an @awscloud user? Use #Zadara + #AWS ...  \n",
       "3    AWS CloudFormation Adds Support for Amazon VPC...  \n",
       "4    AWS CloudFormation Adds Support for Amazon VPC...  \n",
       "..                                                 ...  \n",
       "995  Friends dont let friends build datacenters. Ce...  \n",
       "996  \"Check out Amazon Web Services Big Data Day co...  \n",
       "997  Slides and the demo project related to my #AWS...  \n",
       "998  Teradata SW leading #BI #DataWarehouse availab...  \n",
       "999  Amazon EC2 simplifies Spot usage experience wi...  \n",
       "\n",
       "[1000 rows x 8 columns]"
      ]
     },
     "execution_count": 1,
     "metadata": {},
     "output_type": "execute_result"
    }
   ],
   "source": [
    "import pandas as pd\n",
    "\n",
    "df_tweets = pd.read_csv('https://www.ishelp.info/data/tweets_aws.csv')\n",
    "df_tweets.drop(columns=['Sentiment'], inplace=True)\n",
    "df_tweets"
   ]
  },
  {
   "cell_type": "code",
   "execution_count": 4,
   "metadata": {},
   "outputs": [
    {
     "data": {
      "text/html": [
       "<div>\n",
       "<style scoped>\n",
       "    .dataframe tbody tr th:only-of-type {\n",
       "        vertical-align: middle;\n",
       "    }\n",
       "\n",
       "    .dataframe tbody tr th {\n",
       "        vertical-align: top;\n",
       "    }\n",
       "\n",
       "    .dataframe thead th {\n",
       "        text-align: right;\n",
       "    }\n",
       "</style>\n",
       "<table border=\"1\" class=\"dataframe\">\n",
       "  <thead>\n",
       "    <tr style=\"text-align: right;\">\n",
       "      <th></th>\n",
       "      <th>Gender</th>\n",
       "      <th>Weekday</th>\n",
       "      <th>Hour</th>\n",
       "      <th>Day</th>\n",
       "      <th>Reach</th>\n",
       "      <th>RetweetCount</th>\n",
       "      <th>Klout</th>\n",
       "      <th>text</th>\n",
       "      <th>sentiment_overall</th>\n",
       "      <th>sentiment_neg</th>\n",
       "      <th>sentiment_neu</th>\n",
       "      <th>sentiment_pos</th>\n",
       "    </tr>\n",
       "  </thead>\n",
       "  <tbody>\n",
       "    <tr>\n",
       "      <th>0</th>\n",
       "      <td>Male</td>\n",
       "      <td>Monday</td>\n",
       "      <td>23</td>\n",
       "      <td>2</td>\n",
       "      <td>4037</td>\n",
       "      <td>1</td>\n",
       "      <td>52</td>\n",
       "      <td>Amazon Web Services is becoming a nice predict...</td>\n",
       "      <td>0.7757</td>\n",
       "      <td>0.0</td>\n",
       "      <td>0.508</td>\n",
       "      <td>0.492</td>\n",
       "    </tr>\n",
       "    <tr>\n",
       "      <th>1</th>\n",
       "      <td>Unknown</td>\n",
       "      <td>Friday</td>\n",
       "      <td>12</td>\n",
       "      <td>4</td>\n",
       "      <td>524418</td>\n",
       "      <td>21</td>\n",
       "      <td>72</td>\n",
       "      <td>Announcing four new VPN features in our Sao Pa...</td>\n",
       "      <td>0.0000</td>\n",
       "      <td>0.0</td>\n",
       "      <td>1.000</td>\n",
       "      <td>0.000</td>\n",
       "    </tr>\n",
       "    <tr>\n",
       "      <th>2</th>\n",
       "      <td>Unknown</td>\n",
       "      <td>Tuesday</td>\n",
       "      <td>9</td>\n",
       "      <td>31</td>\n",
       "      <td>1748</td>\n",
       "      <td>1</td>\n",
       "      <td>46</td>\n",
       "      <td>Are you an @awscloud user? Use #Zadara + #AWS ...</td>\n",
       "      <td>0.0000</td>\n",
       "      <td>0.0</td>\n",
       "      <td>1.000</td>\n",
       "      <td>0.000</td>\n",
       "    </tr>\n",
       "    <tr>\n",
       "      <th>3</th>\n",
       "      <td>Unknown</td>\n",
       "      <td>Saturday</td>\n",
       "      <td>3</td>\n",
       "      <td>27</td>\n",
       "      <td>1179</td>\n",
       "      <td>1</td>\n",
       "      <td>0</td>\n",
       "      <td>AWS CloudFormation Adds Support for Amazon VPC...</td>\n",
       "      <td>0.6249</td>\n",
       "      <td>0.0</td>\n",
       "      <td>0.711</td>\n",
       "      <td>0.289</td>\n",
       "    </tr>\n",
       "    <tr>\n",
       "      <th>4</th>\n",
       "      <td>Unknown</td>\n",
       "      <td>Saturday</td>\n",
       "      <td>3</td>\n",
       "      <td>27</td>\n",
       "      <td>1179</td>\n",
       "      <td>1</td>\n",
       "      <td>0</td>\n",
       "      <td>AWS CloudFormation Adds Support for Amazon VPC...</td>\n",
       "      <td>0.6249</td>\n",
       "      <td>0.0</td>\n",
       "      <td>0.711</td>\n",
       "      <td>0.289</td>\n",
       "    </tr>\n",
       "  </tbody>\n",
       "</table>\n",
       "</div>"
      ],
      "text/plain": [
       "    Gender   Weekday  Hour  Day   Reach  RetweetCount  Klout  \\\n",
       "0     Male    Monday    23    2    4037             1     52   \n",
       "1  Unknown    Friday    12    4  524418            21     72   \n",
       "2  Unknown   Tuesday     9   31    1748             1     46   \n",
       "3  Unknown  Saturday     3   27    1179             1      0   \n",
       "4  Unknown  Saturday     3   27    1179             1      0   \n",
       "\n",
       "                                                text  sentiment_overall  \\\n",
       "0  Amazon Web Services is becoming a nice predict...             0.7757   \n",
       "1  Announcing four new VPN features in our Sao Pa...             0.0000   \n",
       "2  Are you an @awscloud user? Use #Zadara + #AWS ...             0.0000   \n",
       "3  AWS CloudFormation Adds Support for Amazon VPC...             0.6249   \n",
       "4  AWS CloudFormation Adds Support for Amazon VPC...             0.6249   \n",
       "\n",
       "   sentiment_neg  sentiment_neu  sentiment_pos  \n",
       "0            0.0          0.508          0.492  \n",
       "1            0.0          1.000          0.000  \n",
       "2            0.0          1.000          0.000  \n",
       "3            0.0          0.711          0.289  \n",
       "4            0.0          0.711          0.289  "
      ]
     },
     "execution_count": 4,
     "metadata": {},
     "output_type": "execute_result"
    }
   ],
   "source": [
    "df_tweets['sentiment_overall'] = 0.0\n",
    "df_tweets['sentiment_neg'] = 0.0\n",
    "df_tweets['sentiment_neu'] = 0.0\n",
    "df_tweets['sentiment_pos'] = 0.0\n",
    "    \n",
    "for row in df_tweets.itertuples():\n",
    "    sentiment = sia.polarity_scores(row[8])\n",
    "    df_tweets.loc[row[0], 'sentiment_overall'] = sentiment['compound']\n",
    "    df_tweets.loc[row[0], 'sentiment_neg'] = sentiment['neg']\n",
    "    df_tweets.loc[row[0], 'sentiment_neu'] = sentiment['neu']\n",
    "    df_tweets.loc[row[0], 'sentiment_pos'] = sentiment['pos']\n",
    "\n",
    "df_tweets.head()"
   ]
  },
  {
   "cell_type": "markdown",
   "metadata": {},
   "source": [
    "**ACTIVITY**: Use multiple linear regression to see if sentiment, or any other features, has an effect on retweets. "
   ]
  },
  {
   "cell_type": "code",
   "execution_count": 5,
   "metadata": {},
   "outputs": [
    {
     "name": "stdout",
     "output_type": "stream",
     "text": [
      "                            OLS Regression Results                            \n",
      "==============================================================================\n",
      "Dep. Variable:           RetweetCount   R-squared:                       0.246\n",
      "Model:                            OLS   Adj. R-squared:                  0.236\n",
      "Method:                 Least Squares   F-statistic:                     24.73\n",
      "Date:                Thu, 27 Mar 2025   Prob (F-statistic):           4.08e-52\n",
      "Time:                        08:59:45   Log-Likelihood:                -4321.1\n",
      "No. Observations:                1000   AIC:                             8670.\n",
      "Df Residuals:                     986   BIC:                             8739.\n",
      "Df Model:                          13                                         \n",
      "Covariance Type:            nonrobust                                         \n",
      "=====================================================================================\n",
      "                        coef    std err          t      P>|t|      [0.025      0.975]\n",
      "-------------------------------------------------------------------------------------\n",
      "Hour                  0.3036      0.111      2.744      0.006       0.086       0.521\n",
      "Day                  -0.0921      0.073     -1.259      0.208      -0.236       0.051\n",
      "Reach              2.813e-05   4.42e-06      6.365      0.000    1.95e-05    3.68e-05\n",
      "Klout                 0.1415      0.076      1.851      0.064      -0.008       0.291\n",
      "Gender_Male           0.3547      4.069      0.087      0.931      -7.631       8.340\n",
      "Gender_Unisex        -1.4173      5.228     -0.271      0.786     -11.677       8.842\n",
      "Gender_Unknown        1.0285      4.051      0.254      0.800      -6.921       8.978\n",
      "Weekday_Monday        1.6645      2.254      0.738      0.460      -2.759       6.088\n",
      "Weekday_Saturday      2.4516      3.002      0.817      0.414      -3.440       8.343\n",
      "Weekday_Sunday        0.9567      3.386      0.283      0.778      -5.688       7.602\n",
      "Weekday_Thursday      3.4743      2.034      1.708      0.088      -0.518       7.467\n",
      "Weekday_Tuesday       2.4873      2.086      1.192      0.233      -1.606       6.581\n",
      "Weekday_Wednesday     2.9095      2.119      1.373      0.170      -1.250       7.069\n",
      "const                -8.3119      5.799     -1.433      0.152     -19.692       3.069\n",
      "==============================================================================\n",
      "Omnibus:                     1013.121   Durbin-Watson:                   2.024\n",
      "Prob(Omnibus):                  0.000   Jarque-Bera (JB):            70185.567\n",
      "Skew:                           4.643   Prob(JB):                         0.00\n",
      "Kurtosis:                      42.978   Cond. No.                     6.28e+06\n",
      "==============================================================================\n",
      "\n",
      "Notes:\n",
      "[1] Standard Errors assume that the covariance matrix of the errors is correctly specified.\n",
      "[2] The condition number is large, 6.28e+06. This might indicate that there are\n",
      "strong multicollinearity or other numerical problems.\n"
     ]
    }
   ],
   "source": [
    "import statsmodels.api as sm\n",
    "\n",
    "df_dummy = pd.get_dummies(df_tweets, columns=['Gender', 'Weekday'], drop_first=True)\n",
    "        \n",
    "y = df_dummy.RetweetCount\n",
    "X = df_dummy.drop(columns=['text', 'RetweetCount', 'sentiment_overall', 'sentiment_neg', 'sentiment_neu', 'sentiment_pos']).assign(const=1)\n",
    "        \n",
    "print(sm.OLS(y, X).fit().summary())"
   ]
  },
  {
   "cell_type": "code",
   "execution_count": 6,
   "metadata": {},
   "outputs": [
    {
     "name": "stdout",
     "output_type": "stream",
     "text": [
      "                            OLS Regression Results                            \n",
      "==============================================================================\n",
      "Dep. Variable:           RetweetCount   R-squared:                       0.252\n",
      "Model:                            OLS   Adj. R-squared:                  0.239\n",
      "Method:                 Least Squares   F-statistic:                     19.49\n",
      "Date:                Thu, 27 Mar 2025   Prob (F-statistic):           3.97e-51\n",
      "Time:                        09:00:50   Log-Likelihood:                -4316.9\n",
      "No. Observations:                1000   AIC:                             8670.\n",
      "Df Residuals:                     982   BIC:                             8758.\n",
      "Df Model:                          17                                         \n",
      "Covariance Type:            nonrobust                                         \n",
      "=====================================================================================\n",
      "                        coef    std err          t      P>|t|      [0.025      0.975]\n",
      "-------------------------------------------------------------------------------------\n",
      "Hour                  0.2977      0.110      2.695      0.007       0.081       0.515\n",
      "Day                  -0.0968      0.073     -1.323      0.186      -0.240       0.047\n",
      "Reach              2.825e-05   4.43e-06      6.382      0.000    1.96e-05    3.69e-05\n",
      "Klout                 0.1399      0.077      1.828      0.068      -0.010       0.290\n",
      "sentiment_overall   -17.6586      7.341     -2.405      0.016     -32.064      -3.253\n",
      "sentiment_neg     -4582.5014   6587.156     -0.696      0.487   -1.75e+04    8344.020\n",
      "sentiment_neu     -4550.3699   6583.979     -0.691      0.490   -1.75e+04    8369.917\n",
      "sentiment_pos     -4508.6073   6583.983     -0.685      0.494   -1.74e+04    8411.686\n",
      "Gender_Male          -0.2833      4.078     -0.069      0.945      -8.285       7.718\n",
      "Gender_Unisex        -1.3739      5.241     -0.262      0.793     -11.659       8.912\n",
      "Gender_Unknown        0.4042      4.062      0.100      0.921      -7.567       8.375\n",
      "Weekday_Monday        1.4427      2.255      0.640      0.522      -2.982       5.868\n",
      "Weekday_Saturday      2.7231      3.001      0.908      0.364      -3.165       8.611\n",
      "Weekday_Sunday        0.2024      3.409      0.059      0.953      -6.487       6.892\n",
      "Weekday_Thursday      3.3307      2.031      1.640      0.101      -0.654       7.315\n",
      "Weekday_Tuesday       2.4093      2.086      1.155      0.248      -1.684       6.503\n",
      "Weekday_Wednesday     2.6986      2.119      1.274      0.203      -1.460       6.857\n",
      "const              4542.3012   6583.987      0.690      0.490   -8378.000    1.75e+04\n",
      "==============================================================================\n",
      "Omnibus:                     1019.189   Durbin-Watson:                   2.032\n",
      "Prob(Omnibus):                  0.000   Jarque-Bera (JB):            72288.441\n",
      "Skew:                           4.682   Prob(JB):                         0.00\n",
      "Kurtosis:                      43.586   Cond. No.                     9.97e+09\n",
      "==============================================================================\n",
      "\n",
      "Notes:\n",
      "[1] Standard Errors assume that the covariance matrix of the errors is correctly specified.\n",
      "[2] The condition number is large, 9.97e+09. This might indicate that there are\n",
      "strong multicollinearity or other numerical problems.\n"
     ]
    }
   ],
   "source": [
    "X = df_dummy.drop(columns=['text', 'RetweetCount']).assign(const=1)\n",
    "\n",
    "print(sm.OLS(y, X).fit().summary())"
   ]
  }
 ],
 "metadata": {
  "kernelspec": {
   "display_name": "base",
   "language": "python",
   "name": "python3"
  },
  "language_info": {
   "codemirror_mode": {
    "name": "ipython",
    "version": 3
   },
   "file_extension": ".py",
   "mimetype": "text/x-python",
   "name": "python",
   "nbconvert_exporter": "python",
   "pygments_lexer": "ipython3",
   "version": "3.9.7"
  }
 },
 "nbformat": 4,
 "nbformat_minor": 2
}
