{
 "cells": [
  {
   "attachments": {},
   "cell_type": "markdown",
   "metadata": {},
   "source": [
    "**Tuples:** lists that are immutable, meaning they cannot be changed\n",
    "Use () instead of []"
   ]
  },
  {
   "cell_type": "code",
   "execution_count": null,
   "metadata": {},
   "outputs": [],
   "source": [
    "integer_tuple = 1, 2, 3, 4, 5\n",
    "string_tuple = ('a', 'b', 'c', 'd', 'e')"
   ]
  },
  {
   "attachments": {},
   "cell_type": "markdown",
   "metadata": {},
   "source": [
    "**Dictionaries:** Use {} or *Shift*+[]\n",
    "\n",
    "Instead of using numbers as an index, we use a *key* instead\n",
    "\n",
    "* **Lists:** *Index location* and value\n",
    "    * Order matters\n",
    "* **Dictionaries:** **Key** and **value**\n",
    "    * Order *DOESN'T* matter"
   ]
  },
  {
   "cell_type": "code",
   "execution_count": 2,
   "metadata": {},
   "outputs": [
    {
     "data": {
      "text/plain": [
       "'Marge'"
      ]
     },
     "execution_count": 2,
     "metadata": {},
     "output_type": "execute_result"
    }
   ],
   "source": [
    "NameDictionary = {'Father':'Homer', 'Mother':'Marge', 'Son':'Bart', 'Daughter':'Lisa', 'Baby':'Maggie'}\n",
    "NameDictionary['Mother']"
   ]
  },
  {
   "attachments": {},
   "cell_type": "markdown",
   "metadata": {},
   "source": [
    "**Identifying:** Notice that instead of using a number index, we use a *key*\n",
    "\n",
    "**Changing Values**: There are two ways to change a value:\n",
    "    1. Function: update()\n",
    "    2. Key = value\n",
    "\n",
    "**.update()**: The following uses the *update()* function to change a value in the dictionary. Make sure the key is NOT in quotes."
   ]
  },
  {
   "cell_type": "code",
   "execution_count": null,
   "metadata": {},
   "outputs": [],
   "source": [
    "HeightDictionary = {'p1':5.9, 'p2':5.2, 'p3':4.1, 'p4':3.9, 'p5':2.0}\n",
    "HeightDictionary.update(p4 = 3.96)\n",
    "HeightDictionary['p4']"
   ]
  },
  {
   "attachments": {},
   "cell_type": "markdown",
   "metadata": {},
   "source": [
    "**Changing by brackets/keys**: We can also change values in the same way as lists. Use the following syntax:\n",
    "\n",
    "Dictionary['key'] = value"
   ]
  },
  {
   "cell_type": "code",
   "execution_count": 16,
   "metadata": {},
   "outputs": [],
   "source": [
    "NewDictionary = {'Father': 'John', \n",
    "                 'Mother': 'Michele', \n",
    "                 'Brother': 'Kevin'}"
   ]
  },
  {
   "cell_type": "code",
   "execution_count": 15,
   "metadata": {},
   "outputs": [
    {
     "data": {
      "text/plain": [
       "{'Father': 'Homer',\n",
       " 'Mother': 'Michele',\n",
       " 'Son': 'Bart',\n",
       " 'Daughter': 'Lisa',\n",
       " 'Baby': 'Maggie'}"
      ]
     },
     "execution_count": 15,
     "metadata": {},
     "output_type": "execute_result"
    }
   ],
   "source": [
    "NewDictionary['Mother'] = 'Gress'\n",
    "NewDictionary"
   ]
  },
  {
   "attachments": {},
   "cell_type": "markdown",
   "metadata": {},
   "source": [
    "*EXAMPLE: state abbreviations and names*: The following dictionary looks up abbreviations (keys) and outputs state names (values)"
   ]
  },
  {
   "cell_type": "code",
   "execution_count": 20,
   "metadata": {},
   "outputs": [
    {
     "data": {
      "text/plain": [
       "'Massachusetts'"
      ]
     },
     "execution_count": 20,
     "metadata": {},
     "output_type": "execute_result"
    }
   ],
   "source": [
    "States = {'VT': 'Vermont', 'NH': 'New Hampshire', 'MA': 'Massachusetts'}\n",
    "States['MA']"
   ]
  },
  {
   "attachments": {},
   "cell_type": "markdown",
   "metadata": {},
   "source": [
    "*EXAMPLE: Months and days*"
   ]
  },
  {
   "cell_type": "code",
   "execution_count": 26,
   "metadata": {},
   "outputs": [
    {
     "data": {
      "text/plain": [
       "31"
      ]
     },
     "execution_count": 26,
     "metadata": {},
     "output_type": "execute_result"
    }
   ],
   "source": [
    "Days_per_month = {'January':31,'February':28,'March':31}\n",
    "Days_per_month['January']"
   ]
  },
  {
   "attachments": {},
   "cell_type": "markdown",
   "metadata": {},
   "source": [
    "**Changing values**: Two ways to change February days to 29 (for a leap year). *PAY CLOSE ATTENTION TO THE DIFFERENCE IN SYNTAX*"
   ]
  },
  {
   "cell_type": "code",
   "execution_count": 28,
   "metadata": {},
   "outputs": [
    {
     "data": {
      "text/plain": [
       "{'January': 31, 'February': 29, 'March': 31}"
      ]
     },
     "execution_count": 28,
     "metadata": {},
     "output_type": "execute_result"
    }
   ],
   "source": [
    "Days_per_month['February'] = 29\n",
    "Days_per_month.update(February = 29)\n",
    "Days_per_month"
   ]
  },
  {
   "attachments": {},
   "cell_type": "markdown",
   "metadata": {},
   "source": [
    "**Adding Values**: You can use the **same** syntax to **add** keys/values in a dictionary."
   ]
  },
  {
   "cell_type": "code",
   "execution_count": 30,
   "metadata": {},
   "outputs": [
    {
     "data": {
      "text/plain": [
       "{'January': 31, 'February': 29, 'March': 31, 'April': 30, 'May': 31}"
      ]
     },
     "execution_count": 30,
     "metadata": {},
     "output_type": "execute_result"
    }
   ],
   "source": [
    "Days_per_month['April'] = 30\n",
    "Days_per_month.update(May = 31)\n",
    "Days_per_month"
   ]
  },
  {
   "attachments": {},
   "cell_type": "markdown",
   "metadata": {},
   "source": [
    "**Deleting Objects**: Use the *.pop()* function to delete a key/value from a dictionary."
   ]
  },
  {
   "cell_type": "code",
   "execution_count": 31,
   "metadata": {},
   "outputs": [
    {
     "data": {
      "text/plain": [
       "{'January': 31, 'February': 29, 'March': 31, 'April': 30}"
      ]
     },
     "execution_count": 31,
     "metadata": {},
     "output_type": "execute_result"
    }
   ],
   "source": [
    "Days_per_month.pop('May')\n",
    "Days_per_month"
   ]
  },
  {
   "cell_type": "code",
   "execution_count": 32,
   "metadata": {},
   "outputs": [
    {
     "data": {
      "text/plain": [
       "{}"
      ]
     },
     "execution_count": 32,
     "metadata": {},
     "output_type": "execute_result"
    }
   ],
   "source": [
    "Days_per_month.clear()\n",
    "Days_per_month"
   ]
  },
  {
   "attachments": {},
   "cell_type": "markdown",
   "metadata": {},
   "source": [
    "*EXAMPLE: Roman Numerals Dictionary*\n",
    "\n",
    "Try this out..."
   ]
  },
  {
   "cell_type": "code",
   "execution_count": 25,
   "metadata": {},
   "outputs": [
    {
     "data": {
      "text/plain": [
       "100"
      ]
     },
     "execution_count": 25,
     "metadata": {},
     "output_type": "execute_result"
    }
   ],
   "source": [
    "roman_numerals = {'I':1,'II':2,'III':3,'V':5,'X':100}\n",
    "roman_numerals['X']"
   ]
  },
  {
   "attachments": {},
   "cell_type": "markdown",
   "metadata": {},
   "source": [
    "OOOPS, X should be 10, NOT 100--need to fix!"
   ]
  },
  {
   "cell_type": "code",
   "execution_count": 35,
   "metadata": {},
   "outputs": [
    {
     "data": {
      "text/plain": [
       "{'I': 1, 'II': 2, 'III': 3, 'V': 5, 'X': 10}"
      ]
     },
     "execution_count": 35,
     "metadata": {},
     "output_type": "execute_result"
    }
   ],
   "source": [
    "roman_numerals['X'] = 10\n",
    "roman_numerals"
   ]
  },
  {
   "attachments": {},
   "cell_type": "markdown",
   "metadata": {},
   "source": [
    "Add L"
   ]
  },
  {
   "cell_type": "code",
   "execution_count": 27,
   "metadata": {},
   "outputs": [
    {
     "data": {
      "text/plain": [
       "{'I': 1, 'II': 2, 'III': 3, 'V': 5, 'X': 100, 'L': 50}"
      ]
     },
     "execution_count": 27,
     "metadata": {},
     "output_type": "execute_result"
    }
   ],
   "source": [
    "roman_numerals['L'] = 50\n",
    "roman_numerals"
   ]
  },
  {
   "attachments": {},
   "cell_type": "markdown",
   "metadata": {},
   "source": [
    "Delete X"
   ]
  },
  {
   "cell_type": "code",
   "execution_count": 42,
   "metadata": {},
   "outputs": [
    {
     "data": {
      "text/plain": [
       "{'I': 1, 'II': 2, 'V': 5, 'L': 50}"
      ]
     },
     "execution_count": 42,
     "metadata": {},
     "output_type": "execute_result"
    }
   ],
   "source": [
    "roman_numerals.pop('X')\n",
    "roman_numerals"
   ]
  },
  {
   "attachments": {},
   "cell_type": "markdown",
   "metadata": {},
   "source": [
    "**.keys()**: You can view the keys in any dictionary by using *.keys()*"
   ]
  },
  {
   "cell_type": "code",
   "execution_count": 43,
   "metadata": {},
   "outputs": [
    {
     "data": {
      "text/plain": [
       "dict_keys(['I', 'II', 'V', 'L'])"
      ]
     },
     "execution_count": 43,
     "metadata": {},
     "output_type": "execute_result"
    }
   ],
   "source": [
    "roman_numerals.keys()"
   ]
  },
  {
   "attachments": {},
   "cell_type": "markdown",
   "metadata": {},
   "source": [
    "**.values()**: Likewise, you can view all the values of any dictionary by using *.values()*"
   ]
  },
  {
   "cell_type": "code",
   "execution_count": 44,
   "metadata": {},
   "outputs": [
    {
     "data": {
      "text/plain": [
       "dict_values([1, 2, 5, 50])"
      ]
     },
     "execution_count": 44,
     "metadata": {},
     "output_type": "execute_result"
    }
   ],
   "source": [
    "roman_numerals.values()"
   ]
  },
  {
   "attachments": {},
   "cell_type": "markdown",
   "metadata": {},
   "source": [
    "**Functions**: There are LOTS of other functions you can use for dictionaries, found in your book. However, *BE CAREFUL*, since most of them permanently change a dictionary.\n",
    "\n",
    "**len()**: Gives the length, or the *number* of objects, within a dictionary."
   ]
  },
  {
   "cell_type": "code",
   "execution_count": 32,
   "metadata": {},
   "outputs": [
    {
     "data": {
      "text/plain": [
       "6"
      ]
     },
     "execution_count": 32,
     "metadata": {},
     "output_type": "execute_result"
    }
   ],
   "source": [
    "len(roman_numerals)"
   ]
  },
  {
   "attachments": {},
   "cell_type": "markdown",
   "metadata": {},
   "source": [
    "**Using variables**: You can also use variables in a dictionary. *Try this out and see what happens, since this will be how you do your homework*"
   ]
  },
  {
   "cell_type": "code",
   "execution_count": null,
   "metadata": {},
   "outputs": [],
   "source": [
    "Role = input(\"What is your role in the family? Mother, Father, Brother, Sister?\")\n",
    "Name = input(\"What is your name?\")\n",
    "\n",
    "NameDictionary[Role] = Name"
   ]
  }
 ],
 "metadata": {
  "kernelspec": {
   "display_name": "Python 3.9.7 ('base')",
   "language": "python",
   "name": "python3"
  },
  "language_info": {
   "codemirror_mode": {
    "name": "ipython",
    "version": 3
   },
   "file_extension": ".py",
   "mimetype": "text/x-python",
   "name": "python",
   "nbconvert_exporter": "python",
   "pygments_lexer": "ipython3",
   "version": "3.9.7"
  },
  "orig_nbformat": 4,
  "vscode": {
   "interpreter": {
    "hash": "262ab205e5277611f040591a4a25bfb87716cb1a7935cf79ca0a0f9fd2b0ccc4"
   }
  }
 },
 "nbformat": 4,
 "nbformat_minor": 2
}
