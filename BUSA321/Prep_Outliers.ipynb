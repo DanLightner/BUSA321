{
 "cells": [
  {
   "cell_type": "markdown",
   "metadata": {},
   "source": [
    "Import the student_enrollment_clean.csv datafile into a Pandas DataFrame and print out the first five rows."
   ]
  },
  {
   "cell_type": "code",
   "execution_count": 10,
   "metadata": {
    "colab": {
     "base_uri": "https://localhost:8080/",
     "height": 204
    },
    "colab_type": "code",
    "executionInfo": {
     "elapsed": 847,
     "status": "ok",
     "timestamp": 1574625263699,
     "user": {
      "displayName": "Mark Keith",
      "photoUrl": "https://lh3.googleusercontent.com/a-/AAuE7mDuWDBtpfB4b5eQhXaicBUuX1aMxNX6k4zV-18LzA=s64",
      "userId": "01471376858192886314"
     },
     "user_tz": 420
    },
    "id": "fVj0RkwhrFro",
    "outputId": "489f4483-71de-4184-e78b-d8ad58f2bfe4"
   },
   "outputs": [
    {
     "data": {
      "text/html": [
       "<div>\n",
       "<style scoped>\n",
       "    .dataframe tbody tr th:only-of-type {\n",
       "        vertical-align: middle;\n",
       "    }\n",
       "\n",
       "    .dataframe tbody tr th {\n",
       "        vertical-align: top;\n",
       "    }\n",
       "\n",
       "    .dataframe thead th {\n",
       "        text-align: right;\n",
       "    }\n",
       "</style>\n",
       "<table border=\"1\" class=\"dataframe\">\n",
       "  <thead>\n",
       "    <tr style=\"text-align: right;\">\n",
       "      <th></th>\n",
       "      <th>EXPECTED_START_DATE</th>\n",
       "      <th>GRADUATION_DATE</th>\n",
       "      <th>ENROLL_COUNT</th>\n",
       "      <th>NUMBER_AVERAGE</th>\n",
       "      <th>HOURS_ATTEMPTED</th>\n",
       "      <th>HOURS_EARNED</th>\n",
       "      <th>AR_BALANCE_AMOUNT</th>\n",
       "      <th>DAYS_ABSENT</th>\n",
       "      <th>REENTRY_NUMBER</th>\n",
       "      <th>PROGRAM_GROUP</th>\n",
       "      <th>...</th>\n",
       "      <th>CREDITS_LEFT</th>\n",
       "      <th>ENROLLMENT_COUNT</th>\n",
       "      <th>MODS_ATTENDED_COUNT</th>\n",
       "      <th>HS_GRADUATED_FLAG</th>\n",
       "      <th>DISABLED_FLAG</th>\n",
       "      <th>HISPANIC_FLAG</th>\n",
       "      <th>VETERAN_FLAG</th>\n",
       "      <th>STATUS_DESCRIPTION</th>\n",
       "      <th>IN_SCHOOL_FLAG</th>\n",
       "      <th>SIMPLE_STATUS_DESCRIPTION</th>\n",
       "    </tr>\n",
       "  </thead>\n",
       "  <tbody>\n",
       "    <tr>\n",
       "      <th>0</th>\n",
       "      <td>6/22/2020</td>\n",
       "      <td>6/23/2020</td>\n",
       "      <td>1</td>\n",
       "      <td>78.962963</td>\n",
       "      <td>450.0</td>\n",
       "      <td>450.0</td>\n",
       "      <td>0.0</td>\n",
       "      <td>0</td>\n",
       "      <td>0</td>\n",
       "      <td>BUBUD</td>\n",
       "      <td>...</td>\n",
       "      <td>-0.5</td>\n",
       "      <td>2</td>\n",
       "      <td>38</td>\n",
       "      <td>0</td>\n",
       "      <td>0</td>\n",
       "      <td>0</td>\n",
       "      <td>0</td>\n",
       "      <td>Graduate</td>\n",
       "      <td>0</td>\n",
       "      <td>Terminated</td>\n",
       "    </tr>\n",
       "    <tr>\n",
       "      <th>1</th>\n",
       "      <td>6/22/2020</td>\n",
       "      <td>12/19/2021</td>\n",
       "      <td>1</td>\n",
       "      <td>0.000000</td>\n",
       "      <td>0.0</td>\n",
       "      <td>0.0</td>\n",
       "      <td>0.0</td>\n",
       "      <td>0</td>\n",
       "      <td>0</td>\n",
       "      <td>MSMAA</td>\n",
       "      <td>...</td>\n",
       "      <td>95.0</td>\n",
       "      <td>1</td>\n",
       "      <td>0</td>\n",
       "      <td>0</td>\n",
       "      <td>0</td>\n",
       "      <td>1</td>\n",
       "      <td>0</td>\n",
       "      <td>No Show</td>\n",
       "      <td>0</td>\n",
       "      <td>Terminated</td>\n",
       "    </tr>\n",
       "    <tr>\n",
       "      <th>2</th>\n",
       "      <td>6/22/2020</td>\n",
       "      <td>10/24/2021</td>\n",
       "      <td>1</td>\n",
       "      <td>98.100000</td>\n",
       "      <td>710.0</td>\n",
       "      <td>710.0</td>\n",
       "      <td>2567.0</td>\n",
       "      <td>0</td>\n",
       "      <td>0</td>\n",
       "      <td>MSMAA</td>\n",
       "      <td>...</td>\n",
       "      <td>35.0</td>\n",
       "      <td>1</td>\n",
       "      <td>16</td>\n",
       "      <td>0</td>\n",
       "      <td>0</td>\n",
       "      <td>0</td>\n",
       "      <td>0</td>\n",
       "      <td>Active</td>\n",
       "      <td>1</td>\n",
       "      <td>Active</td>\n",
       "    </tr>\n",
       "    <tr>\n",
       "      <th>3</th>\n",
       "      <td>6/22/2020</td>\n",
       "      <td>6/27/2020</td>\n",
       "      <td>1</td>\n",
       "      <td>0.000000</td>\n",
       "      <td>0.0</td>\n",
       "      <td>0.0</td>\n",
       "      <td>0.0</td>\n",
       "      <td>0</td>\n",
       "      <td>0</td>\n",
       "      <td>CSISM</td>\n",
       "      <td>...</td>\n",
       "      <td>60.0</td>\n",
       "      <td>1</td>\n",
       "      <td>0</td>\n",
       "      <td>0</td>\n",
       "      <td>0</td>\n",
       "      <td>0</td>\n",
       "      <td>0</td>\n",
       "      <td>Cancel</td>\n",
       "      <td>0</td>\n",
       "      <td>Terminated</td>\n",
       "    </tr>\n",
       "    <tr>\n",
       "      <th>4</th>\n",
       "      <td>6/22/2020</td>\n",
       "      <td>7/14/2020</td>\n",
       "      <td>1</td>\n",
       "      <td>0.000000</td>\n",
       "      <td>0.0</td>\n",
       "      <td>0.0</td>\n",
       "      <td>0.0</td>\n",
       "      <td>0</td>\n",
       "      <td>0</td>\n",
       "      <td>MSMAA</td>\n",
       "      <td>...</td>\n",
       "      <td>95.0</td>\n",
       "      <td>1</td>\n",
       "      <td>0</td>\n",
       "      <td>0</td>\n",
       "      <td>0</td>\n",
       "      <td>0</td>\n",
       "      <td>0</td>\n",
       "      <td>False Start</td>\n",
       "      <td>0</td>\n",
       "      <td>Terminated</td>\n",
       "    </tr>\n",
       "  </tbody>\n",
       "</table>\n",
       "<p>5 rows × 29 columns</p>\n",
       "</div>"
      ],
      "text/plain": [
       "  EXPECTED_START_DATE GRADUATION_DATE  ENROLL_COUNT  NUMBER_AVERAGE  \\\n",
       "0           6/22/2020       6/23/2020             1       78.962963   \n",
       "1           6/22/2020      12/19/2021             1        0.000000   \n",
       "2           6/22/2020      10/24/2021             1       98.100000   \n",
       "3           6/22/2020       6/27/2020             1        0.000000   \n",
       "4           6/22/2020       7/14/2020             1        0.000000   \n",
       "\n",
       "   HOURS_ATTEMPTED  HOURS_EARNED  AR_BALANCE_AMOUNT  DAYS_ABSENT  \\\n",
       "0            450.0         450.0                0.0            0   \n",
       "1              0.0           0.0                0.0            0   \n",
       "2            710.0         710.0             2567.0            0   \n",
       "3              0.0           0.0                0.0            0   \n",
       "4              0.0           0.0                0.0            0   \n",
       "\n",
       "   REENTRY_NUMBER PROGRAM_GROUP  ... CREDITS_LEFT ENROLLMENT_COUNT  \\\n",
       "0               0         BUBUD  ...         -0.5                2   \n",
       "1               0         MSMAA  ...         95.0                1   \n",
       "2               0         MSMAA  ...         35.0                1   \n",
       "3               0         CSISM  ...         60.0                1   \n",
       "4               0         MSMAA  ...         95.0                1   \n",
       "\n",
       "   MODS_ATTENDED_COUNT  HS_GRADUATED_FLAG  DISABLED_FLAG  HISPANIC_FLAG  \\\n",
       "0                   38                  0              0              0   \n",
       "1                    0                  0              0              1   \n",
       "2                   16                  0              0              0   \n",
       "3                    0                  0              0              0   \n",
       "4                    0                  0              0              0   \n",
       "\n",
       "   VETERAN_FLAG  STATUS_DESCRIPTION  IN_SCHOOL_FLAG  SIMPLE_STATUS_DESCRIPTION  \n",
       "0             0            Graduate               0                 Terminated  \n",
       "1             0             No Show               0                 Terminated  \n",
       "2             0              Active               1                     Active  \n",
       "3             0              Cancel               0                 Terminated  \n",
       "4             0         False Start               0                 Terminated  \n",
       "\n",
       "[5 rows x 29 columns]"
      ]
     },
     "execution_count": 10,
     "metadata": {},
     "output_type": "execute_result"
    }
   ],
   "source": [
    "# Question 1:\n",
    "import pandas as pd\n",
    "df = pd.read_csv('student_enrollment_clean.csv')\n",
    "df.head()"
   ]
  },
  {
   "cell_type": "markdown",
   "metadata": {},
   "source": [
    "There are many students in this dataset who haven't even attempted a class yet. Let's remove them entirely. Remove any record where CREDITS_ATTEMPTED = 0."
   ]
  },
  {
   "cell_type": "code",
   "execution_count": 11,
   "metadata": {},
   "outputs": [],
   "source": [
    "# Question 2:\n",
    "\n",
    "# Remove records where CREDITS_ATTEMPTED equals 0\n",
    "df = df[df['CREDITS_ATTEMPTED'] > 0]\n"
   ]
  },
  {
   "cell_type": "markdown",
   "metadata": {},
   "source": [
    "Calculate the skewness of all numeric features and print out the list of features and skewness scores. Do this for all numeric features. For the sake of this problem, do not worry about whether the features are binary, discrete, or continuous."
   ]
  },
  {
   "cell_type": "code",
   "execution_count": 12,
   "metadata": {},
   "outputs": [
    {
     "name": "stdout",
     "output_type": "stream",
     "text": [
      "Feature Skewness:\n",
      "ENROLL_COUNT            0.000000\n",
      "NUMBER_AVERAGE         -1.726315\n",
      "HOURS_ATTEMPTED         1.045581\n",
      "HOURS_EARNED            1.135566\n",
      "AR_BALANCE_AMOUNT       2.187253\n",
      "DAYS_ABSENT             0.000000\n",
      "REENTRY_NUMBER         57.358519\n",
      "MOD_NUMBER             -0.454152\n",
      "COHORT_YEAR            -0.857963\n",
      "AR_BALANCE              2.604964\n",
      "ENROLLMENT_GPA         -0.796856\n",
      "CREDITS_ATTEMPTED       1.087307\n",
      "CREDITS_EARNED          1.163496\n",
      "CREDITS_REQUIRED       -1.062140\n",
      "CREDITS_LEFT           -0.402585\n",
      "ENROLLMENT_COUNT        2.036896\n",
      "MODS_ATTENDED_COUNT     1.337531\n",
      "HS_GRADUATED_FLAG       0.000000\n",
      "DISABLED_FLAG          99.378066\n",
      "HISPANIC_FLAG           2.655121\n",
      "VETERAN_FLAG            4.729798\n",
      "IN_SCHOOL_FLAG         -0.579926\n",
      "dtype: float64\n"
     ]
    }
   ],
   "source": [
    "# Question 3:\n",
    "\n",
    "skewness = df.skew(numeric_only=True)\n",
    "print(\"Feature Skewness:\")\n",
    "print(skewness)\n"
   ]
  },
  {
   "cell_type": "markdown",
   "metadata": {},
   "source": [
    "Calculate the number of outliers in each column based on the appropriate rule. Print a table that includes: Name of the column, min threshold, the count below the min threshold, max threshold, count above max threshold"
   ]
  },
  {
   "cell_type": "code",
   "execution_count": 13,
   "metadata": {
    "colab": {
     "base_uri": "https://localhost:8080/",
     "height": 111
    },
    "colab_type": "code",
    "executionInfo": {
     "elapsed": 297,
     "status": "ok",
     "timestamp": 1574625265400,
     "user": {
      "displayName": "Mark Keith",
      "photoUrl": "https://lh3.googleusercontent.com/a-/AAuE7mDuWDBtpfB4b5eQhXaicBUuX1aMxNX6k4zV-18LzA=s64",
      "userId": "01471376858192886314"
     },
     "user_tz": 420
    },
    "id": "U7QUCkzryhL5",
    "outputId": "fd9bb522-6847-4cc8-ca9a-b1d8e501d789"
   },
   "outputs": [
    {
     "name": "stdout",
     "output_type": "stream",
     "text": [
      "                 Column  Min Threshold  Count Below  Max Threshold  \\\n",
      "0          ENROLL_COUNT       1.000000            0         1.0000   \n",
      "1        NUMBER_AVERAGE      34.666668          905       128.0000   \n",
      "2       HOURS_ATTEMPTED    -882.500000            0      1921.5000   \n",
      "3          HOURS_EARNED    -885.875000            0      1775.1250   \n",
      "4     AR_BALANCE_AMOUNT   -6210.000000           16     10350.0000   \n",
      "5           DAYS_ABSENT       0.000000            0         0.0000   \n",
      "6        REENTRY_NUMBER       0.000000            0         0.0000   \n",
      "7            MOD_NUMBER      -9.000000            0        23.0000   \n",
      "8           COHORT_YEAR    2021.000000            0      2029.0000   \n",
      "9            AR_BALANCE   -7820.092500           19     14296.3475   \n",
      "10       ENROLLMENT_GPA      -0.020000            0         5.9800   \n",
      "11    CREDITS_ATTEMPTED     -76.187500            0       180.3125   \n",
      "12       CREDITS_EARNED     -77.250000            0       168.7500   \n",
      "13     CREDITS_REQUIRED     -33.250000            0       308.7500   \n",
      "14         CREDITS_LEFT     -77.500000            0       302.5000   \n",
      "15     ENROLLMENT_COUNT      -0.500000            0         3.5000   \n",
      "16  MODS_ATTENDED_COUNT     -21.500000            0        54.5000   \n",
      "17    HS_GRADUATED_FLAG       0.000000            0         0.0000   \n",
      "18        DISABLED_FLAG       0.000000            0         0.0000   \n",
      "19        HISPANIC_FLAG       0.000000            0         0.0000   \n",
      "20         VETERAN_FLAG       0.000000            0         0.0000   \n",
      "21       IN_SCHOOL_FLAG      -1.500000            0         2.5000   \n",
      "\n",
      "    Count Above  \n",
      "0             0  \n",
      "1             0  \n",
      "2            69  \n",
      "3           164  \n",
      "4           245  \n",
      "5             0  \n",
      "6             3  \n",
      "7             0  \n",
      "8             0  \n",
      "9           282  \n",
      "10            0  \n",
      "11           74  \n",
      "12          141  \n",
      "13            0  \n",
      "14            0  \n",
      "15          602  \n",
      "16          178  \n",
      "17            0  \n",
      "18            1  \n",
      "19          994  \n",
      "20          390  \n",
      "21            0  \n"
     ]
    }
   ],
   "source": [
    "# Question 4:\n",
    "\n",
    "\n",
    "# Define a function to calculate outliers for numeric columns\n",
    "def calculate_outliers(df):\n",
    "    outlier_data = []\n",
    "    for column in df.select_dtypes(include='number').columns:\n",
    "        desc = df[column].describe()\n",
    "        Q1 = desc['25%']\n",
    "        Q3 = desc['75%']  \n",
    "        IQR = Q3 - Q1\n",
    "        min_threshold = Q1 - 1.5 * IQR\n",
    "        max_threshold = Q3 + 1.5 * IQR\n",
    "        count_below = (df[column] < min_threshold).sum()\n",
    "        count_above = (df[column] > max_threshold).sum()\n",
    "        outlier_data.append([column, min_threshold, count_below, max_threshold, count_above])\n",
    "    return pd.DataFrame(outlier_data, columns=[\"Column\", \"Min Threshold\", \"Count Below\", \"Max Threshold\", \"Count Above\"])\n",
    "outlier_table = calculate_outliers(df)\n",
    "print(outlier_table)\n",
    "\n"
   ]
  },
  {
   "cell_type": "markdown",
   "metadata": {},
   "source": [
    "Replace each outlier value with the appropriate max or min threshold value for that feature. Print the skewness of all features. \n",
    "\n",
    "HINT: If you are feeling overwhelmed by this problem, take a look at the practice problems in this chapter"
   ]
  },
  {
   "cell_type": "code",
   "execution_count": 14,
   "metadata": {
    "colab": {
     "base_uri": "https://localhost:8080/",
     "height": 204
    },
    "colab_type": "code",
    "executionInfo": {
     "elapsed": 869,
     "status": "ok",
     "timestamp": 1574625266747,
     "user": {
      "displayName": "Mark Keith",
      "photoUrl": "https://lh3.googleusercontent.com/a-/AAuE7mDuWDBtpfB4b5eQhXaicBUuX1aMxNX6k4zV-18LzA=s64",
      "userId": "01471376858192886314"
     },
     "user_tz": 420
    },
    "id": "Wo_-tTw3yxnN",
    "outputId": "673475ab-3c81-4753-ccc6-c8ef8eef90ad"
   },
   "outputs": [
    {
     "name": "stdout",
     "output_type": "stream",
     "text": [
      "Skewness after capping outliers:\n",
      "ENROLL_COUNT           0.000000\n",
      "NUMBER_AVERAGE        -0.978329\n",
      "HOURS_ATTEMPTED        1.018268\n",
      "HOURS_EARNED           1.085094\n",
      "AR_BALANCE_AMOUNT      0.997068\n",
      "DAYS_ABSENT            0.000000\n",
      "REENTRY_NUMBER         0.000000\n",
      "MOD_NUMBER            -0.454152\n",
      "COHORT_YEAR           -0.857963\n",
      "AR_BALANCE             0.946565\n",
      "ENROLLMENT_GPA        -0.796856\n",
      "CREDITS_ATTEMPTED      1.067623\n",
      "CREDITS_EARNED         1.131756\n",
      "CREDITS_REQUIRED      -1.062140\n",
      "CREDITS_LEFT          -0.402585\n",
      "ENROLLMENT_COUNT       0.606092\n",
      "MODS_ATTENDED_COUNT    1.095293\n",
      "HS_GRADUATED_FLAG      0.000000\n",
      "DISABLED_FLAG          0.000000\n",
      "HISPANIC_FLAG          0.000000\n",
      "VETERAN_FLAG           0.000000\n",
      "IN_SCHOOL_FLAG        -0.579926\n",
      "dtype: float64\n"
     ]
    }
   ],
   "source": [
    "# Question 5:\n",
    "def cap_outliers(df):\n",
    "    for column in df.select_dtypes(include='number').columns:\n",
    "        desc = df[column].describe()\n",
    "        Q1 = desc['25%']\n",
    "        Q3 = desc['75%']\n",
    "        IQR = Q3 - Q1\n",
    "        min_threshold = Q1 - 1.5 * IQR\n",
    "        max_threshold = Q3 + 1.5 * IQR\n",
    "        df[column] = df[column].clip(lower=min_threshold, upper=max_threshold)\n",
    "    return df\n",
    "df = cap_outliers(df)\n",
    "skewness_after = df.skew(numeric_only=True)\n",
    "print(\"Skewness after capping outliers:\")\n",
    "print(skewness_after)\n",
    "\n"
   ]
  },
  {
   "cell_type": "markdown",
   "metadata": {},
   "source": [
    "Nice job! By making this adjustment, your data is in better shape for modeling and prediction."
   ]
  }
 ],
 "metadata": {
  "colab": {
   "collapsed_sections": [],
   "name": "Checkpoint: Prep: Outliers.ipynb",
   "provenance": []
  },
  "kernelspec": {
   "display_name": "Python 3",
   "language": "python",
   "name": "python3"
  },
  "language_info": {
   "codemirror_mode": {
    "name": "ipython",
    "version": 3
   },
   "file_extension": ".py",
   "mimetype": "text/x-python",
   "name": "python",
   "nbconvert_exporter": "python",
   "pygments_lexer": "ipython3",
   "version": "3.11.0"
  }
 },
 "nbformat": 4,
 "nbformat_minor": 0
}
