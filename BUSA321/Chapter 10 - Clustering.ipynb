{
  "cells": [
    {
      "cell_type": "markdown",
      "metadata": {
        "id": "c0ndlm8fjurq"
      },
      "source": [
        "# K-Means Clustering"
      ]
    },
    {
      "cell_type": "markdown",
      "metadata": {
        "id": "bgMunNxwjuug"
      },
      "source": [
        "### Personality and Culture\n",
        "This dataset is a set of survey questions that measure the Big 5 personality traits (agreeableness, conscientiousness, extraversion, intellect, neuroticism) and Hofstede's six cultural dimentions (individualism/collectivism, indulgence/restraint, long-term orientation, femininity/masculinity, power distance, uncertainty avoidance). The surveys were taken by a cohort of 216 students entering an information systems program. The results were clustered into two groups and used to determine the team composition for the program. The first semester, students were placed into four-person teams with others in the same cluster (homogenous condition). The second semester, the students were placed into teams consisting of two members of each cluster (heterogeneous condition). This practice was proven to maximize student learning and confidence (Anderson et al., 2018; 2019).\n",
        "\n",
        "1.   Anderson, Greg, et al. \"The Effect of Software Team Personality Composition on Learning and Performance: Making the\" Dream\" Team.\" Proceedings of the 51st Hawaii international conference on system sciences. 2018.\n",
        "2.   Anderson, Greg, et al. \"Optimizing software team performance with cultural differences.\" (2019)."
      ]
    },
    {
      "cell_type": "code",
      "execution_count": 16,
      "metadata": {
        "colab": {
          "base_uri": "https://localhost:8080/",
          "height": 224
        },
        "id": "QEEayRd4j3Bm",
        "outputId": "58fb6fb5-bc6f-4a33-bcbb-7e038d69a18b"
      },
      "outputs": [
        {
          "data": {
            "text/html": [
              "<div>\n",
              "<style scoped>\n",
              "    .dataframe tbody tr th:only-of-type {\n",
              "        vertical-align: middle;\n",
              "    }\n",
              "\n",
              "    .dataframe tbody tr th {\n",
              "        vertical-align: top;\n",
              "    }\n",
              "\n",
              "    .dataframe thead th {\n",
              "        text-align: right;\n",
              "    }\n",
              "</style>\n",
              "<table border=\"1\" class=\"dataframe\">\n",
              "  <thead>\n",
              "    <tr style=\"text-align: right;\">\n",
              "      <th></th>\n",
              "      <th>AGR1</th>\n",
              "      <th>AGR2</th>\n",
              "      <th>AGR3</th>\n",
              "      <th>AGR4</th>\n",
              "      <th>AGR5</th>\n",
              "      <th>CON1</th>\n",
              "      <th>CON2</th>\n",
              "      <th>CON3</th>\n",
              "      <th>CON4</th>\n",
              "      <th>CON5</th>\n",
              "      <th>...</th>\n",
              "      <th>CON</th>\n",
              "      <th>EXT</th>\n",
              "      <th>INT</th>\n",
              "      <th>NEU</th>\n",
              "      <th>IDV</th>\n",
              "      <th>IVR</th>\n",
              "      <th>LTO</th>\n",
              "      <th>MAS</th>\n",
              "      <th>PD</th>\n",
              "      <th>UAI</th>\n",
              "    </tr>\n",
              "  </thead>\n",
              "  <tbody>\n",
              "    <tr>\n",
              "      <th>0</th>\n",
              "      <td>5</td>\n",
              "      <td>5</td>\n",
              "      <td>7</td>\n",
              "      <td>5</td>\n",
              "      <td>5</td>\n",
              "      <td>7</td>\n",
              "      <td>5</td>\n",
              "      <td>7</td>\n",
              "      <td>7</td>\n",
              "      <td>5</td>\n",
              "      <td>...</td>\n",
              "      <td>6.2</td>\n",
              "      <td>5.0</td>\n",
              "      <td>5.6</td>\n",
              "      <td>3.8</td>\n",
              "      <td>4.75</td>\n",
              "      <td>3.50</td>\n",
              "      <td>4.75</td>\n",
              "      <td>4.00</td>\n",
              "      <td>4.50</td>\n",
              "      <td>3.00</td>\n",
              "    </tr>\n",
              "    <tr>\n",
              "      <th>1</th>\n",
              "      <td>4</td>\n",
              "      <td>5</td>\n",
              "      <td>7</td>\n",
              "      <td>5</td>\n",
              "      <td>3</td>\n",
              "      <td>7</td>\n",
              "      <td>5</td>\n",
              "      <td>5</td>\n",
              "      <td>5</td>\n",
              "      <td>3</td>\n",
              "      <td>...</td>\n",
              "      <td>5.0</td>\n",
              "      <td>5.2</td>\n",
              "      <td>5.0</td>\n",
              "      <td>6.4</td>\n",
              "      <td>4.50</td>\n",
              "      <td>3.75</td>\n",
              "      <td>3.75</td>\n",
              "      <td>3.25</td>\n",
              "      <td>4.75</td>\n",
              "      <td>3.00</td>\n",
              "    </tr>\n",
              "    <tr>\n",
              "      <th>2</th>\n",
              "      <td>5</td>\n",
              "      <td>5</td>\n",
              "      <td>7</td>\n",
              "      <td>5</td>\n",
              "      <td>7</td>\n",
              "      <td>5</td>\n",
              "      <td>7</td>\n",
              "      <td>5</td>\n",
              "      <td>7</td>\n",
              "      <td>4</td>\n",
              "      <td>...</td>\n",
              "      <td>5.6</td>\n",
              "      <td>5.2</td>\n",
              "      <td>5.6</td>\n",
              "      <td>5.4</td>\n",
              "      <td>5.00</td>\n",
              "      <td>3.25</td>\n",
              "      <td>4.00</td>\n",
              "      <td>4.50</td>\n",
              "      <td>4.25</td>\n",
              "      <td>2.75</td>\n",
              "    </tr>\n",
              "    <tr>\n",
              "      <th>3</th>\n",
              "      <td>7</td>\n",
              "      <td>5</td>\n",
              "      <td>5</td>\n",
              "      <td>5</td>\n",
              "      <td>5</td>\n",
              "      <td>7</td>\n",
              "      <td>7</td>\n",
              "      <td>7</td>\n",
              "      <td>7</td>\n",
              "      <td>5</td>\n",
              "      <td>...</td>\n",
              "      <td>6.6</td>\n",
              "      <td>5.2</td>\n",
              "      <td>5.8</td>\n",
              "      <td>5.0</td>\n",
              "      <td>4.25</td>\n",
              "      <td>3.75</td>\n",
              "      <td>5.75</td>\n",
              "      <td>4.25</td>\n",
              "      <td>4.00</td>\n",
              "      <td>3.00</td>\n",
              "    </tr>\n",
              "    <tr>\n",
              "      <th>4</th>\n",
              "      <td>7</td>\n",
              "      <td>5</td>\n",
              "      <td>7</td>\n",
              "      <td>7</td>\n",
              "      <td>5</td>\n",
              "      <td>5</td>\n",
              "      <td>4</td>\n",
              "      <td>7</td>\n",
              "      <td>5</td>\n",
              "      <td>4</td>\n",
              "      <td>...</td>\n",
              "      <td>5.0</td>\n",
              "      <td>2.8</td>\n",
              "      <td>5.0</td>\n",
              "      <td>4.4</td>\n",
              "      <td>5.00</td>\n",
              "      <td>4.25</td>\n",
              "      <td>4.50</td>\n",
              "      <td>3.75</td>\n",
              "      <td>3.25</td>\n",
              "      <td>3.00</td>\n",
              "    </tr>\n",
              "  </tbody>\n",
              "</table>\n",
              "<p>5 rows × 60 columns</p>\n",
              "</div>"
            ],
            "text/plain": [
              "   AGR1  AGR2  AGR3  AGR4  AGR5  CON1  CON2  CON3  CON4  CON5  ...  CON  EXT  \\\n",
              "0     5     5     7     5     5     7     5     7     7     5  ...  6.2  5.0   \n",
              "1     4     5     7     5     3     7     5     5     5     3  ...  5.0  5.2   \n",
              "2     5     5     7     5     7     5     7     5     7     4  ...  5.6  5.2   \n",
              "3     7     5     5     5     5     7     7     7     7     5  ...  6.6  5.2   \n",
              "4     7     5     7     7     5     5     4     7     5     4  ...  5.0  2.8   \n",
              "\n",
              "   INT  NEU   IDV   IVR   LTO   MAS    PD   UAI  \n",
              "0  5.6  3.8  4.75  3.50  4.75  4.00  4.50  3.00  \n",
              "1  5.0  6.4  4.50  3.75  3.75  3.25  4.75  3.00  \n",
              "2  5.6  5.4  5.00  3.25  4.00  4.50  4.25  2.75  \n",
              "3  5.8  5.0  4.25  3.75  5.75  4.25  4.00  3.00  \n",
              "4  5.0  4.4  5.00  4.25  4.50  3.75  3.25  3.00  \n",
              "\n",
              "[5 rows x 60 columns]"
            ]
          },
          "execution_count": 16,
          "metadata": {},
          "output_type": "execute_result"
        }
      ],
      "source": [
        "import pandas as pd\n",
        "import plotly.express as px\n",
        "import seaborn as sns\n",
        "import sklearn.cluster as cluster\n",
        "from sklearn.cluster import KMeans\n",
        "from scipy.spatial import distance as sdist\n",
        "\n",
        "df = pd.read_csv('https://www.ishelp.info/data/personality.csv')\n",
        "df.head()"
      ]
    },
    {
      "cell_type": "code",
      "execution_count": 17,
      "metadata": {
        "colab": {
          "base_uri": "https://localhost:8080/",
          "height": 204
        },
        "id": "5bi4mmH8j3D8",
        "outputId": "c921d76e-d226-4d34-8418-cf1a06ec3636"
      },
      "outputs": [
        {
          "data": {
            "text/html": [
              "<div>\n",
              "<style scoped>\n",
              "    .dataframe tbody tr th:only-of-type {\n",
              "        vertical-align: middle;\n",
              "    }\n",
              "\n",
              "    .dataframe tbody tr th {\n",
              "        vertical-align: top;\n",
              "    }\n",
              "\n",
              "    .dataframe thead th {\n",
              "        text-align: right;\n",
              "    }\n",
              "</style>\n",
              "<table border=\"1\" class=\"dataframe\">\n",
              "  <thead>\n",
              "    <tr style=\"text-align: right;\">\n",
              "      <th></th>\n",
              "      <th>AGR</th>\n",
              "      <th>CON</th>\n",
              "      <th>EXT</th>\n",
              "      <th>INT</th>\n",
              "      <th>NEU</th>\n",
              "      <th>IDV</th>\n",
              "      <th>IVR</th>\n",
              "      <th>LTO</th>\n",
              "      <th>MAS</th>\n",
              "      <th>PD</th>\n",
              "      <th>UAI</th>\n",
              "    </tr>\n",
              "  </thead>\n",
              "  <tbody>\n",
              "    <tr>\n",
              "      <th>0</th>\n",
              "      <td>5.4</td>\n",
              "      <td>6.2</td>\n",
              "      <td>5.0</td>\n",
              "      <td>5.6</td>\n",
              "      <td>3.8</td>\n",
              "      <td>4.75</td>\n",
              "      <td>3.50</td>\n",
              "      <td>4.75</td>\n",
              "      <td>4.00</td>\n",
              "      <td>4.50</td>\n",
              "      <td>3.00</td>\n",
              "    </tr>\n",
              "    <tr>\n",
              "      <th>1</th>\n",
              "      <td>4.8</td>\n",
              "      <td>5.0</td>\n",
              "      <td>5.2</td>\n",
              "      <td>5.0</td>\n",
              "      <td>6.4</td>\n",
              "      <td>4.50</td>\n",
              "      <td>3.75</td>\n",
              "      <td>3.75</td>\n",
              "      <td>3.25</td>\n",
              "      <td>4.75</td>\n",
              "      <td>3.00</td>\n",
              "    </tr>\n",
              "    <tr>\n",
              "      <th>2</th>\n",
              "      <td>5.8</td>\n",
              "      <td>5.6</td>\n",
              "      <td>5.2</td>\n",
              "      <td>5.6</td>\n",
              "      <td>5.4</td>\n",
              "      <td>5.00</td>\n",
              "      <td>3.25</td>\n",
              "      <td>4.00</td>\n",
              "      <td>4.50</td>\n",
              "      <td>4.25</td>\n",
              "      <td>2.75</td>\n",
              "    </tr>\n",
              "    <tr>\n",
              "      <th>3</th>\n",
              "      <td>5.4</td>\n",
              "      <td>6.6</td>\n",
              "      <td>5.2</td>\n",
              "      <td>5.8</td>\n",
              "      <td>5.0</td>\n",
              "      <td>4.25</td>\n",
              "      <td>3.75</td>\n",
              "      <td>5.75</td>\n",
              "      <td>4.25</td>\n",
              "      <td>4.00</td>\n",
              "      <td>3.00</td>\n",
              "    </tr>\n",
              "    <tr>\n",
              "      <th>4</th>\n",
              "      <td>6.2</td>\n",
              "      <td>5.0</td>\n",
              "      <td>2.8</td>\n",
              "      <td>5.0</td>\n",
              "      <td>4.4</td>\n",
              "      <td>5.00</td>\n",
              "      <td>4.25</td>\n",
              "      <td>4.50</td>\n",
              "      <td>3.75</td>\n",
              "      <td>3.25</td>\n",
              "      <td>3.00</td>\n",
              "    </tr>\n",
              "  </tbody>\n",
              "</table>\n",
              "</div>"
            ],
            "text/plain": [
              "   AGR  CON  EXT  INT  NEU   IDV   IVR   LTO   MAS    PD   UAI\n",
              "0  5.4  6.2  5.0  5.6  3.8  4.75  3.50  4.75  4.00  4.50  3.00\n",
              "1  4.8  5.0  5.2  5.0  6.4  4.50  3.75  3.75  3.25  4.75  3.00\n",
              "2  5.8  5.6  5.2  5.6  5.4  5.00  3.25  4.00  4.50  4.25  2.75\n",
              "3  5.4  6.6  5.2  5.8  5.0  4.25  3.75  5.75  4.25  4.00  3.00\n",
              "4  6.2  5.0  2.8  5.0  4.4  5.00  4.25  4.50  3.75  3.25  3.00"
            ]
          },
          "execution_count": 17,
          "metadata": {},
          "output_type": "execute_result"
        }
      ],
      "source": [
        "df = df[['AGR', 'CON', 'EXT', 'INT', 'NEU', 'IDV', 'IVR', 'LTO', 'MAS', 'PD', 'UAI']]\n",
        "df.head()"
      ]
    },
    {
      "cell_type": "markdown",
      "metadata": {
        "id": "mZb8m-imdGju"
      },
      "source": [
        "## Determining the Optimal Number of Clusters\n",
        "\n",
        "There are many metrics for determining the optimal number of clusters. The best one depends on the characteristics of the dataset. For brevity, we review three of them below. Choose the number represented by the majority of the criterion."
      ]
    },
    {
      "cell_type": "markdown",
      "metadata": {
        "id": "_y8EOCz5dumn"
      },
      "source": [
        "### Calinski and Harabasz Criterion\n",
        "Max value is best"
      ]
    },
    {
      "cell_type": "code",
      "execution_count": 18,
      "metadata": {
        "colab": {
          "base_uri": "https://localhost:8080/",
          "height": 295
        },
        "id": "dgXd1yz2duxN",
        "outputId": "8feafc20-0907-4672-ea54-c893fc3d8d17"
      },
      "outputs": [
        {
          "name": "stderr",
          "output_type": "stream",
          "text": [
            "c:\\Users\\danli\\anaconda3\\Lib\\site-packages\\sklearn\\cluster\\_kmeans.py:1446: UserWarning:\n",
            "\n",
            "KMeans is known to have a memory leak on Windows with MKL, when there are less chunks than available threads. You can avoid it by setting the environment variable OMP_NUM_THREADS=1.\n",
            "\n",
            "c:\\Users\\danli\\anaconda3\\Lib\\site-packages\\sklearn\\cluster\\_kmeans.py:1446: UserWarning:\n",
            "\n",
            "KMeans is known to have a memory leak on Windows with MKL, when there are less chunks than available threads. You can avoid it by setting the environment variable OMP_NUM_THREADS=1.\n",
            "\n",
            "c:\\Users\\danli\\anaconda3\\Lib\\site-packages\\sklearn\\cluster\\_kmeans.py:1446: UserWarning:\n",
            "\n",
            "KMeans is known to have a memory leak on Windows with MKL, when there are less chunks than available threads. You can avoid it by setting the environment variable OMP_NUM_THREADS=1.\n",
            "\n",
            "c:\\Users\\danli\\anaconda3\\Lib\\site-packages\\sklearn\\cluster\\_kmeans.py:1446: UserWarning:\n",
            "\n",
            "KMeans is known to have a memory leak on Windows with MKL, when there are less chunks than available threads. You can avoid it by setting the environment variable OMP_NUM_THREADS=1.\n",
            "\n",
            "c:\\Users\\danli\\anaconda3\\Lib\\site-packages\\sklearn\\cluster\\_kmeans.py:1446: UserWarning:\n",
            "\n",
            "KMeans is known to have a memory leak on Windows with MKL, when there are less chunks than available threads. You can avoid it by setting the environment variable OMP_NUM_THREADS=1.\n",
            "\n",
            "c:\\Users\\danli\\anaconda3\\Lib\\site-packages\\sklearn\\cluster\\_kmeans.py:1446: UserWarning:\n",
            "\n",
            "KMeans is known to have a memory leak on Windows with MKL, when there are less chunks than available threads. You can avoid it by setting the environment variable OMP_NUM_THREADS=1.\n",
            "\n",
            "c:\\Users\\danli\\anaconda3\\Lib\\site-packages\\sklearn\\cluster\\_kmeans.py:1446: UserWarning:\n",
            "\n",
            "KMeans is known to have a memory leak on Windows with MKL, when there are less chunks than available threads. You can avoid it by setting the environment variable OMP_NUM_THREADS=1.\n",
            "\n",
            "c:\\Users\\danli\\anaconda3\\Lib\\site-packages\\sklearn\\cluster\\_kmeans.py:1446: UserWarning:\n",
            "\n",
            "KMeans is known to have a memory leak on Windows with MKL, when there are less chunks than available threads. You can avoid it by setting the environment variable OMP_NUM_THREADS=1.\n",
            "\n",
            "c:\\Users\\danli\\anaconda3\\Lib\\site-packages\\sklearn\\cluster\\_kmeans.py:1446: UserWarning:\n",
            "\n",
            "KMeans is known to have a memory leak on Windows with MKL, when there are less chunks than available threads. You can avoid it by setting the environment variable OMP_NUM_THREADS=1.\n",
            "\n",
            "c:\\Users\\danli\\anaconda3\\Lib\\site-packages\\sklearn\\cluster\\_kmeans.py:1446: UserWarning:\n",
            "\n",
            "KMeans is known to have a memory leak on Windows with MKL, when there are less chunks than available threads. You can avoid it by setting the environment variable OMP_NUM_THREADS=1.\n",
            "\n",
            "c:\\Users\\danli\\anaconda3\\Lib\\site-packages\\sklearn\\cluster\\_kmeans.py:1446: UserWarning:\n",
            "\n",
            "KMeans is known to have a memory leak on Windows with MKL, when there are less chunks than available threads. You can avoid it by setting the environment variable OMP_NUM_THREADS=1.\n",
            "\n",
            "c:\\Users\\danli\\anaconda3\\Lib\\site-packages\\sklearn\\cluster\\_kmeans.py:1446: UserWarning:\n",
            "\n",
            "KMeans is known to have a memory leak on Windows with MKL, when there are less chunks than available threads. You can avoid it by setting the environment variable OMP_NUM_THREADS=1.\n",
            "\n",
            "c:\\Users\\danli\\anaconda3\\Lib\\site-packages\\sklearn\\cluster\\_kmeans.py:1446: UserWarning:\n",
            "\n",
            "KMeans is known to have a memory leak on Windows with MKL, when there are less chunks than available threads. You can avoid it by setting the environment variable OMP_NUM_THREADS=1.\n",
            "\n",
            "c:\\Users\\danli\\anaconda3\\Lib\\site-packages\\sklearn\\cluster\\_kmeans.py:1446: UserWarning:\n",
            "\n",
            "KMeans is known to have a memory leak on Windows with MKL, when there are less chunks than available threads. You can avoid it by setting the environment variable OMP_NUM_THREADS=1.\n",
            "\n",
            "c:\\Users\\danli\\anaconda3\\Lib\\site-packages\\sklearn\\cluster\\_kmeans.py:1446: UserWarning:\n",
            "\n",
            "KMeans is known to have a memory leak on Windows with MKL, when there are less chunks than available threads. You can avoid it by setting the environment variable OMP_NUM_THREADS=1.\n",
            "\n",
            "c:\\Users\\danli\\anaconda3\\Lib\\site-packages\\sklearn\\cluster\\_kmeans.py:1446: UserWarning:\n",
            "\n",
            "KMeans is known to have a memory leak on Windows with MKL, when there are less chunks than available threads. You can avoid it by setting the environment variable OMP_NUM_THREADS=1.\n",
            "\n",
            "c:\\Users\\danli\\anaconda3\\Lib\\site-packages\\sklearn\\cluster\\_kmeans.py:1446: UserWarning:\n",
            "\n",
            "KMeans is known to have a memory leak on Windows with MKL, when there are less chunks than available threads. You can avoid it by setting the environment variable OMP_NUM_THREADS=1.\n",
            "\n",
            "c:\\Users\\danli\\anaconda3\\Lib\\site-packages\\sklearn\\cluster\\_kmeans.py:1446: UserWarning:\n",
            "\n",
            "KMeans is known to have a memory leak on Windows with MKL, when there are less chunks than available threads. You can avoid it by setting the environment variable OMP_NUM_THREADS=1.\n",
            "\n",
            "c:\\Users\\danli\\anaconda3\\Lib\\site-packages\\sklearn\\cluster\\_kmeans.py:1446: UserWarning:\n",
            "\n",
            "KMeans is known to have a memory leak on Windows with MKL, when there are less chunks than available threads. You can avoid it by setting the environment variable OMP_NUM_THREADS=1.\n",
            "\n"
          ]
        },
        {
          "data": {
            "image/png": "[encoded data removed]",
            "text/plain": [
              "<Figure size 640x480 with 1 Axes>"
            ]
          },
          "metadata": {},
          "output_type": "display_data"
        }
      ],
      "source": [
        "# Calinski and Harabasz Criterion\n",
        "from sklearn.metrics import calinski_harabasz_score\n",
        "from matplotlib import pyplot as plt\n",
        "\n",
        "ch_score = []\n",
        "for n in range(2, 21):\n",
        "  kmeans = KMeans(n, random_state=12345).fit(df)\n",
        "  ch_score.append(calinski_harabasz_score(df, labels=kmeans.labels_))\n",
        "\n",
        "plt.plot(range(2, 21), ch_score, 'bx-')\n",
        "plt.xlabel('number of clusters') \n",
        "plt.ylabel('Calinski_Harabasz Criterion') \n",
        "plt.title('Optimal Number of Clusters')\n",
        "plt.text(12, 40, 'Higher is better', bbox=dict(facecolor='red', alpha=0.5))\n",
        "plt.show()"
      ]
    },
    {
      "cell_type": "markdown",
      "metadata": {
        "id": "gaK9kWy8hfH7"
      },
      "source": [
        "### Silhouette Analysis\n",
        "\n",
        "Max value is best"
      ]
    },
    {
      "cell_type": "code",
      "execution_count": 19,
      "metadata": {
        "colab": {
          "base_uri": "https://localhost:8080/",
          "height": 295
        },
        "id": "m6CrS0tJhYjJ",
        "outputId": "d4dde032-259a-49ee-8301-88c8ae37dfe6"
      },
      "outputs": [
        {
          "name": "stderr",
          "output_type": "stream",
          "text": [
            "c:\\Users\\danli\\anaconda3\\Lib\\site-packages\\sklearn\\cluster\\_kmeans.py:1446: UserWarning:\n",
            "\n",
            "KMeans is known to have a memory leak on Windows with MKL, when there are less chunks than available threads. You can avoid it by setting the environment variable OMP_NUM_THREADS=1.\n",
            "\n",
            "c:\\Users\\danli\\anaconda3\\Lib\\site-packages\\sklearn\\cluster\\_kmeans.py:1446: UserWarning:\n",
            "\n",
            "KMeans is known to have a memory leak on Windows with MKL, when there are less chunks than available threads. You can avoid it by setting the environment variable OMP_NUM_THREADS=1.\n",
            "\n",
            "c:\\Users\\danli\\anaconda3\\Lib\\site-packages\\sklearn\\cluster\\_kmeans.py:1446: UserWarning:\n",
            "\n",
            "KMeans is known to have a memory leak on Windows with MKL, when there are less chunks than available threads. You can avoid it by setting the environment variable OMP_NUM_THREADS=1.\n",
            "\n",
            "c:\\Users\\danli\\anaconda3\\Lib\\site-packages\\sklearn\\cluster\\_kmeans.py:1446: UserWarning:\n",
            "\n",
            "KMeans is known to have a memory leak on Windows with MKL, when there are less chunks than available threads. You can avoid it by setting the environment variable OMP_NUM_THREADS=1.\n",
            "\n",
            "c:\\Users\\danli\\anaconda3\\Lib\\site-packages\\sklearn\\cluster\\_kmeans.py:1446: UserWarning:\n",
            "\n",
            "KMeans is known to have a memory leak on Windows with MKL, when there are less chunks than available threads. You can avoid it by setting the environment variable OMP_NUM_THREADS=1.\n",
            "\n",
            "c:\\Users\\danli\\anaconda3\\Lib\\site-packages\\sklearn\\cluster\\_kmeans.py:1446: UserWarning:\n",
            "\n",
            "KMeans is known to have a memory leak on Windows with MKL, when there are less chunks than available threads. You can avoid it by setting the environment variable OMP_NUM_THREADS=1.\n",
            "\n",
            "c:\\Users\\danli\\anaconda3\\Lib\\site-packages\\sklearn\\cluster\\_kmeans.py:1446: UserWarning:\n",
            "\n",
            "KMeans is known to have a memory leak on Windows with MKL, when there are less chunks than available threads. You can avoid it by setting the environment variable OMP_NUM_THREADS=1.\n",
            "\n",
            "c:\\Users\\danli\\anaconda3\\Lib\\site-packages\\sklearn\\cluster\\_kmeans.py:1446: UserWarning:\n",
            "\n",
            "KMeans is known to have a memory leak on Windows with MKL, when there are less chunks than available threads. You can avoid it by setting the environment variable OMP_NUM_THREADS=1.\n",
            "\n",
            "c:\\Users\\danli\\anaconda3\\Lib\\site-packages\\sklearn\\cluster\\_kmeans.py:1446: UserWarning:\n",
            "\n",
            "KMeans is known to have a memory leak on Windows with MKL, when there are less chunks than available threads. You can avoid it by setting the environment variable OMP_NUM_THREADS=1.\n",
            "\n",
            "c:\\Users\\danli\\anaconda3\\Lib\\site-packages\\sklearn\\cluster\\_kmeans.py:1446: UserWarning:\n",
            "\n",
            "KMeans is known to have a memory leak on Windows with MKL, when there are less chunks than available threads. You can avoid it by setting the environment variable OMP_NUM_THREADS=1.\n",
            "\n",
            "c:\\Users\\danli\\anaconda3\\Lib\\site-packages\\sklearn\\cluster\\_kmeans.py:1446: UserWarning:\n",
            "\n",
            "KMeans is known to have a memory leak on Windows with MKL, when there are less chunks than available threads. You can avoid it by setting the environment variable OMP_NUM_THREADS=1.\n",
            "\n",
            "c:\\Users\\danli\\anaconda3\\Lib\\site-packages\\sklearn\\cluster\\_kmeans.py:1446: UserWarning:\n",
            "\n",
            "KMeans is known to have a memory leak on Windows with MKL, when there are less chunks than available threads. You can avoid it by setting the environment variable OMP_NUM_THREADS=1.\n",
            "\n",
            "c:\\Users\\danli\\anaconda3\\Lib\\site-packages\\sklearn\\cluster\\_kmeans.py:1446: UserWarning:\n",
            "\n",
            "KMeans is known to have a memory leak on Windows with MKL, when there are less chunks than available threads. You can avoid it by setting the environment variable OMP_NUM_THREADS=1.\n",
            "\n",
            "c:\\Users\\danli\\anaconda3\\Lib\\site-packages\\sklearn\\cluster\\_kmeans.py:1446: UserWarning:\n",
            "\n",
            "KMeans is known to have a memory leak on Windows with MKL, when there are less chunks than available threads. You can avoid it by setting the environment variable OMP_NUM_THREADS=1.\n",
            "\n",
            "c:\\Users\\danli\\anaconda3\\Lib\\site-packages\\sklearn\\cluster\\_kmeans.py:1446: UserWarning:\n",
            "\n",
            "KMeans is known to have a memory leak on Windows with MKL, when there are less chunks than available threads. You can avoid it by setting the environment variable OMP_NUM_THREADS=1.\n",
            "\n",
            "c:\\Users\\danli\\anaconda3\\Lib\\site-packages\\sklearn\\cluster\\_kmeans.py:1446: UserWarning:\n",
            "\n",
            "KMeans is known to have a memory leak on Windows with MKL, when there are less chunks than available threads. You can avoid it by setting the environment variable OMP_NUM_THREADS=1.\n",
            "\n",
            "c:\\Users\\danli\\anaconda3\\Lib\\site-packages\\sklearn\\cluster\\_kmeans.py:1446: UserWarning:\n",
            "\n",
            "KMeans is known to have a memory leak on Windows with MKL, when there are less chunks than available threads. You can avoid it by setting the environment variable OMP_NUM_THREADS=1.\n",
            "\n",
            "c:\\Users\\danli\\anaconda3\\Lib\\site-packages\\sklearn\\cluster\\_kmeans.py:1446: UserWarning:\n",
            "\n",
            "KMeans is known to have a memory leak on Windows with MKL, when there are less chunks than available threads. You can avoid it by setting the environment variable OMP_NUM_THREADS=1.\n",
            "\n",
            "c:\\Users\\danli\\anaconda3\\Lib\\site-packages\\sklearn\\cluster\\_kmeans.py:1446: UserWarning:\n",
            "\n",
            "KMeans is known to have a memory leak on Windows with MKL, when there are less chunks than available threads. You can avoid it by setting the environment variable OMP_NUM_THREADS=1.\n",
            "\n"
          ]
        },
        {
          "data": {
            "image/png": "[encoded data removed]",
            "text/plain": [
              "<Figure size 640x480 with 1 Axes>"
            ]
          },
          "metadata": {},
          "output_type": "display_data"
        }
      ],
      "source": [
        "# Silhouette Analysis\n",
        "from sklearn.metrics import silhouette_score\n",
        "\n",
        "si_score = []\n",
        "for n in range(2, 21):\n",
        " kmeans = KMeans(n, random_state=12345).fit(df)\n",
        " si_score.append(silhouette_score(df, kmeans.labels_))\n",
        "\n",
        "plt.plot(range(2, 21), si_score, 'bx-')\n",
        "plt.xlabel('number of clusters') \n",
        "plt.ylabel('Silhouette score') \n",
        "plt.title('Optimal Number of Clusters')\n",
        "plt.text(11, .14, 'Higher is better', bbox=dict(facecolor='red', alpha=0.5))\n",
        "plt.show()"
      ]
    },
    {
      "cell_type": "markdown",
      "metadata": {
        "id": "PWd-4-BkTErf"
      },
      "source": [
        "In both cases, 2 clusters gives the highest (best) score"
      ]
    },
    {
      "cell_type": "markdown",
      "metadata": {
        "id": "MPTSn5WJdJ39"
      },
      "source": [
        "### WCSS Method (a.k.a. Elbow Method)\n",
        "\n",
        "The elbow (i.e. slope=-1) is best"
      ]
    },
    {
      "cell_type": "code",
      "execution_count": 20,
      "metadata": {
        "colab": {
          "base_uri": "https://localhost:8080/",
          "height": 295
        },
        "id": "9YWFl1z71AH5",
        "outputId": "07a9903a-345f-4a85-bb57-c11e18d6e715"
      },
      "outputs": [
        {
          "name": "stderr",
          "output_type": "stream",
          "text": [
            "c:\\Users\\danli\\anaconda3\\Lib\\site-packages\\sklearn\\cluster\\_kmeans.py:1446: UserWarning:\n",
            "\n",
            "KMeans is known to have a memory leak on Windows with MKL, when there are less chunks than available threads. You can avoid it by setting the environment variable OMP_NUM_THREADS=1.\n",
            "\n",
            "c:\\Users\\danli\\anaconda3\\Lib\\site-packages\\sklearn\\cluster\\_kmeans.py:1446: UserWarning:\n",
            "\n",
            "KMeans is known to have a memory leak on Windows with MKL, when there are less chunks than available threads. You can avoid it by setting the environment variable OMP_NUM_THREADS=1.\n",
            "\n",
            "c:\\Users\\danli\\anaconda3\\Lib\\site-packages\\sklearn\\cluster\\_kmeans.py:1446: UserWarning:\n",
            "\n",
            "KMeans is known to have a memory leak on Windows with MKL, when there are less chunks than available threads. You can avoid it by setting the environment variable OMP_NUM_THREADS=1.\n",
            "\n",
            "c:\\Users\\danli\\anaconda3\\Lib\\site-packages\\sklearn\\cluster\\_kmeans.py:1446: UserWarning:\n",
            "\n",
            "KMeans is known to have a memory leak on Windows with MKL, when there are less chunks than available threads. You can avoid it by setting the environment variable OMP_NUM_THREADS=1.\n",
            "\n",
            "c:\\Users\\danli\\anaconda3\\Lib\\site-packages\\sklearn\\cluster\\_kmeans.py:1446: UserWarning:\n",
            "\n",
            "KMeans is known to have a memory leak on Windows with MKL, when there are less chunks than available threads. You can avoid it by setting the environment variable OMP_NUM_THREADS=1.\n",
            "\n",
            "c:\\Users\\danli\\anaconda3\\Lib\\site-packages\\sklearn\\cluster\\_kmeans.py:1446: UserWarning:\n",
            "\n",
            "KMeans is known to have a memory leak on Windows with MKL, when there are less chunks than available threads. You can avoid it by setting the environment variable OMP_NUM_THREADS=1.\n",
            "\n",
            "c:\\Users\\danli\\anaconda3\\Lib\\site-packages\\sklearn\\cluster\\_kmeans.py:1446: UserWarning:\n",
            "\n",
            "KMeans is known to have a memory leak on Windows with MKL, when there are less chunks than available threads. You can avoid it by setting the environment variable OMP_NUM_THREADS=1.\n",
            "\n",
            "c:\\Users\\danli\\anaconda3\\Lib\\site-packages\\sklearn\\cluster\\_kmeans.py:1446: UserWarning:\n",
            "\n",
            "KMeans is known to have a memory leak on Windows with MKL, when there are less chunks than available threads. You can avoid it by setting the environment variable OMP_NUM_THREADS=1.\n",
            "\n",
            "c:\\Users\\danli\\anaconda3\\Lib\\site-packages\\sklearn\\cluster\\_kmeans.py:1446: UserWarning:\n",
            "\n",
            "KMeans is known to have a memory leak on Windows with MKL, when there are less chunks than available threads. You can avoid it by setting the environment variable OMP_NUM_THREADS=1.\n",
            "\n",
            "c:\\Users\\danli\\anaconda3\\Lib\\site-packages\\sklearn\\cluster\\_kmeans.py:1446: UserWarning:\n",
            "\n",
            "KMeans is known to have a memory leak on Windows with MKL, when there are less chunks than available threads. You can avoid it by setting the environment variable OMP_NUM_THREADS=1.\n",
            "\n",
            "c:\\Users\\danli\\anaconda3\\Lib\\site-packages\\sklearn\\cluster\\_kmeans.py:1446: UserWarning:\n",
            "\n",
            "KMeans is known to have a memory leak on Windows with MKL, when there are less chunks than available threads. You can avoid it by setting the environment variable OMP_NUM_THREADS=1.\n",
            "\n",
            "c:\\Users\\danli\\anaconda3\\Lib\\site-packages\\sklearn\\cluster\\_kmeans.py:1446: UserWarning:\n",
            "\n",
            "KMeans is known to have a memory leak on Windows with MKL, when there are less chunks than available threads. You can avoid it by setting the environment variable OMP_NUM_THREADS=1.\n",
            "\n",
            "c:\\Users\\danli\\anaconda3\\Lib\\site-packages\\sklearn\\cluster\\_kmeans.py:1446: UserWarning:\n",
            "\n",
            "KMeans is known to have a memory leak on Windows with MKL, when there are less chunks than available threads. You can avoid it by setting the environment variable OMP_NUM_THREADS=1.\n",
            "\n",
            "c:\\Users\\danli\\anaconda3\\Lib\\site-packages\\sklearn\\cluster\\_kmeans.py:1446: UserWarning:\n",
            "\n",
            "KMeans is known to have a memory leak on Windows with MKL, when there are less chunks than available threads. You can avoid it by setting the environment variable OMP_NUM_THREADS=1.\n",
            "\n",
            "c:\\Users\\danli\\anaconda3\\Lib\\site-packages\\sklearn\\cluster\\_kmeans.py:1446: UserWarning:\n",
            "\n",
            "KMeans is known to have a memory leak on Windows with MKL, when there are less chunks than available threads. You can avoid it by setting the environment variable OMP_NUM_THREADS=1.\n",
            "\n",
            "c:\\Users\\danli\\anaconda3\\Lib\\site-packages\\sklearn\\cluster\\_kmeans.py:1446: UserWarning:\n",
            "\n",
            "KMeans is known to have a memory leak on Windows with MKL, when there are less chunks than available threads. You can avoid it by setting the environment variable OMP_NUM_THREADS=1.\n",
            "\n",
            "c:\\Users\\danli\\anaconda3\\Lib\\site-packages\\sklearn\\cluster\\_kmeans.py:1446: UserWarning:\n",
            "\n",
            "KMeans is known to have a memory leak on Windows with MKL, when there are less chunks than available threads. You can avoid it by setting the environment variable OMP_NUM_THREADS=1.\n",
            "\n",
            "c:\\Users\\danli\\anaconda3\\Lib\\site-packages\\sklearn\\cluster\\_kmeans.py:1446: UserWarning:\n",
            "\n",
            "KMeans is known to have a memory leak on Windows with MKL, when there are less chunks than available threads. You can avoid it by setting the environment variable OMP_NUM_THREADS=1.\n",
            "\n",
            "c:\\Users\\danli\\anaconda3\\Lib\\site-packages\\sklearn\\cluster\\_kmeans.py:1446: UserWarning:\n",
            "\n",
            "KMeans is known to have a memory leak on Windows with MKL, when there are less chunks than available threads. You can avoid it by setting the environment variable OMP_NUM_THREADS=1.\n",
            "\n"
          ]
        },
        {
          "data": {
            "image/png": "[encoded data removed]",
            "text/plain": [
              "<Figure size 640x480 with 1 Axes>"
            ]
          },
          "metadata": {},
          "output_type": "display_data"
        }
      ],
      "source": [
        "# WCSS: Elbow Method\n",
        "\n",
        "ss_score = []\n",
        "for n in range(2,21):\n",
        "    kmeans = KMeans(n, random_state=12345).fit(df)\n",
        "    ss_score.append(kmeans.inertia_)\n",
        "    \n",
        "# Where does the slope bend? Find the highest (least negative) slope.\n",
        "changes = []\n",
        "for n in range(2, 20):\n",
        "  changes.append(float(ss_score[n - 1] - ss_score[n - 2]))\n",
        "\n",
        "optimal_n = changes.index(max(changes))\n",
        "\n",
        "plt.plot(range(2,21), ss_score, 'bx-', markevery=[optimal_n])\n",
        "plt.xlabel('number of clusters')\n",
        "plt.ylabel('SS distance')\n",
        "plt.title('Optimal Number of Clusters')\n",
        "plt.text(8, 900, 'The point where slope \"bends\" from a \\ndecreasing to increasing rate of change', bbox=dict(facecolor='red', alpha=0.5))\n",
        "plt.show()\n",
        "\n",
        "# Keep in mind that the y and x axes are on different scales. Thus, although the \n",
        "# bend appears to be around 7-10 clusters, it's actually at 19."
      ]
    },
    {
      "cell_type": "markdown",
      "metadata": {
        "id": "WB6LnFqCZ5m9"
      },
      "source": [
        "The three metrics for determining clusters are giving quite different results (2, 2, and 19). Since the first two agree that two clusters is best, I would use two if you want to keep your number of clusters down and 19 if you want many more clusters. I would not recommend using something in between. Let's continue with two clusters. "
      ]
    },
    {
      "cell_type": "markdown",
      "metadata": {
        "id": "Ijf8CFBoO6K9"
      },
      "source": [
        "## Final K-Means Model"
      ]
    },
    {
      "cell_type": "code",
      "execution_count": 21,
      "metadata": {
        "colab": {
          "base_uri": "https://localhost:8080/",
          "height": 204
        },
        "id": "uFL1IKp-RLKj",
        "outputId": "77268bc8-4b0a-4978-add4-bb4215d8ea0f"
      },
      "outputs": [
        {
          "name": "stderr",
          "output_type": "stream",
          "text": [
            "c:\\Users\\danli\\anaconda3\\Lib\\site-packages\\sklearn\\cluster\\_kmeans.py:1446: UserWarning:\n",
            "\n",
            "KMeans is known to have a memory leak on Windows with MKL, when there are less chunks than available threads. You can avoid it by setting the environment variable OMP_NUM_THREADS=1.\n",
            "\n"
          ]
        },
        {
          "data": {
            "text/html": [
              "<div>\n",
              "<style scoped>\n",
              "    .dataframe tbody tr th:only-of-type {\n",
              "        vertical-align: middle;\n",
              "    }\n",
              "\n",
              "    .dataframe tbody tr th {\n",
              "        vertical-align: top;\n",
              "    }\n",
              "\n",
              "    .dataframe thead th {\n",
              "        text-align: right;\n",
              "    }\n",
              "</style>\n",
              "<table border=\"1\" class=\"dataframe\">\n",
              "  <thead>\n",
              "    <tr style=\"text-align: right;\">\n",
              "      <th></th>\n",
              "      <th>AGR</th>\n",
              "      <th>CON</th>\n",
              "      <th>EXT</th>\n",
              "      <th>INT</th>\n",
              "      <th>NEU</th>\n",
              "      <th>IDV</th>\n",
              "      <th>IVR</th>\n",
              "      <th>LTO</th>\n",
              "      <th>MAS</th>\n",
              "      <th>PD</th>\n",
              "      <th>UAI</th>\n",
              "      <th>cluster</th>\n",
              "    </tr>\n",
              "  </thead>\n",
              "  <tbody>\n",
              "    <tr>\n",
              "      <th>0</th>\n",
              "      <td>5.4</td>\n",
              "      <td>6.2</td>\n",
              "      <td>5.0</td>\n",
              "      <td>5.6</td>\n",
              "      <td>3.8</td>\n",
              "      <td>4.75</td>\n",
              "      <td>3.50</td>\n",
              "      <td>4.75</td>\n",
              "      <td>4.00</td>\n",
              "      <td>4.50</td>\n",
              "      <td>3.00</td>\n",
              "      <td>0</td>\n",
              "    </tr>\n",
              "    <tr>\n",
              "      <th>1</th>\n",
              "      <td>4.8</td>\n",
              "      <td>5.0</td>\n",
              "      <td>5.2</td>\n",
              "      <td>5.0</td>\n",
              "      <td>6.4</td>\n",
              "      <td>4.50</td>\n",
              "      <td>3.75</td>\n",
              "      <td>3.75</td>\n",
              "      <td>3.25</td>\n",
              "      <td>4.75</td>\n",
              "      <td>3.00</td>\n",
              "      <td>1</td>\n",
              "    </tr>\n",
              "    <tr>\n",
              "      <th>2</th>\n",
              "      <td>5.8</td>\n",
              "      <td>5.6</td>\n",
              "      <td>5.2</td>\n",
              "      <td>5.6</td>\n",
              "      <td>5.4</td>\n",
              "      <td>5.00</td>\n",
              "      <td>3.25</td>\n",
              "      <td>4.00</td>\n",
              "      <td>4.50</td>\n",
              "      <td>4.25</td>\n",
              "      <td>2.75</td>\n",
              "      <td>1</td>\n",
              "    </tr>\n",
              "    <tr>\n",
              "      <th>3</th>\n",
              "      <td>5.4</td>\n",
              "      <td>6.6</td>\n",
              "      <td>5.2</td>\n",
              "      <td>5.8</td>\n",
              "      <td>5.0</td>\n",
              "      <td>4.25</td>\n",
              "      <td>3.75</td>\n",
              "      <td>5.75</td>\n",
              "      <td>4.25</td>\n",
              "      <td>4.00</td>\n",
              "      <td>3.00</td>\n",
              "      <td>1</td>\n",
              "    </tr>\n",
              "    <tr>\n",
              "      <th>4</th>\n",
              "      <td>6.2</td>\n",
              "      <td>5.0</td>\n",
              "      <td>2.8</td>\n",
              "      <td>5.0</td>\n",
              "      <td>4.4</td>\n",
              "      <td>5.00</td>\n",
              "      <td>4.25</td>\n",
              "      <td>4.50</td>\n",
              "      <td>3.75</td>\n",
              "      <td>3.25</td>\n",
              "      <td>3.00</td>\n",
              "      <td>0</td>\n",
              "    </tr>\n",
              "  </tbody>\n",
              "</table>\n",
              "</div>"
            ],
            "text/plain": [
              "   AGR  CON  EXT  INT  NEU   IDV   IVR   LTO   MAS    PD   UAI  cluster\n",
              "0  5.4  6.2  5.0  5.6  3.8  4.75  3.50  4.75  4.00  4.50  3.00        0\n",
              "1  4.8  5.0  5.2  5.0  6.4  4.50  3.75  3.75  3.25  4.75  3.00        1\n",
              "2  5.8  5.6  5.2  5.6  5.4  5.00  3.25  4.00  4.50  4.25  2.75        1\n",
              "3  5.4  6.6  5.2  5.8  5.0  4.25  3.75  5.75  4.25  4.00  3.00        1\n",
              "4  6.2  5.0  2.8  5.0  4.4  5.00  4.25  4.50  3.75  3.25  3.00        0"
            ]
          },
          "execution_count": 21,
          "metadata": {},
          "output_type": "execute_result"
        }
      ],
      "source": [
        "# Train the model\n",
        "kmeans = KMeans(2, random_state=12345).fit(df)\n",
        "\n",
        "# Add assigned clusters to a new DataFrame\n",
        "df_wcluster = df.copy()\n",
        "df_wcluster['cluster'] = kmeans.labels_\n",
        "df_wcluster.head()"
      ]
    },
    {
      "cell_type": "code",
      "execution_count": 22,
      "metadata": {
        "colab": {
          "base_uri": "https://localhost:8080/",
          "height": 391
        },
        "id": "j7mS_lCuO6S6",
        "outputId": "4f83df42-9271-4b4f-a07f-0d1c8c5a1e17"
      },
      "outputs": [
        {
          "data": {
            "text/html": [
              "<div>\n",
              "<style scoped>\n",
              "    .dataframe tbody tr th:only-of-type {\n",
              "        vertical-align: middle;\n",
              "    }\n",
              "\n",
              "    .dataframe tbody tr th {\n",
              "        vertical-align: top;\n",
              "    }\n",
              "\n",
              "    .dataframe thead th {\n",
              "        text-align: right;\n",
              "    }\n",
              "</style>\n",
              "<table border=\"1\" class=\"dataframe\">\n",
              "  <thead>\n",
              "    <tr style=\"text-align: right;\">\n",
              "      <th></th>\n",
              "      <th>C0_means</th>\n",
              "      <th>C1_means</th>\n",
              "      <th>diff</th>\n",
              "    </tr>\n",
              "  </thead>\n",
              "  <tbody>\n",
              "    <tr>\n",
              "      <th>EXT</th>\n",
              "      <td>4.047273</td>\n",
              "      <td>5.447170</td>\n",
              "      <td>1.399897</td>\n",
              "    </tr>\n",
              "    <tr>\n",
              "      <th>NEU</th>\n",
              "      <td>3.890909</td>\n",
              "      <td>4.900000</td>\n",
              "      <td>1.009091</td>\n",
              "    </tr>\n",
              "    <tr>\n",
              "      <th>AGR</th>\n",
              "      <td>5.614545</td>\n",
              "      <td>6.328302</td>\n",
              "      <td>0.713756</td>\n",
              "    </tr>\n",
              "    <tr>\n",
              "      <th>INT</th>\n",
              "      <td>4.672727</td>\n",
              "      <td>5.367925</td>\n",
              "      <td>0.695197</td>\n",
              "    </tr>\n",
              "    <tr>\n",
              "      <th>UAI</th>\n",
              "      <td>3.179545</td>\n",
              "      <td>2.974057</td>\n",
              "      <td>0.205489</td>\n",
              "    </tr>\n",
              "    <tr>\n",
              "      <th>LTO</th>\n",
              "      <td>4.540909</td>\n",
              "      <td>4.415094</td>\n",
              "      <td>0.125815</td>\n",
              "    </tr>\n",
              "    <tr>\n",
              "      <th>MAS</th>\n",
              "      <td>3.875000</td>\n",
              "      <td>3.818396</td>\n",
              "      <td>0.056604</td>\n",
              "    </tr>\n",
              "    <tr>\n",
              "      <th>PD</th>\n",
              "      <td>3.890909</td>\n",
              "      <td>3.926887</td>\n",
              "      <td>0.035978</td>\n",
              "    </tr>\n",
              "    <tr>\n",
              "      <th>IVR</th>\n",
              "      <td>3.875000</td>\n",
              "      <td>3.908019</td>\n",
              "      <td>0.033019</td>\n",
              "    </tr>\n",
              "    <tr>\n",
              "      <th>CON</th>\n",
              "      <td>5.512727</td>\n",
              "      <td>5.488679</td>\n",
              "      <td>0.024048</td>\n",
              "    </tr>\n",
              "    <tr>\n",
              "      <th>IDV</th>\n",
              "      <td>4.454545</td>\n",
              "      <td>4.469340</td>\n",
              "      <td>0.014794</td>\n",
              "    </tr>\n",
              "  </tbody>\n",
              "</table>\n",
              "</div>"
            ],
            "text/plain": [
              "     C0_means  C1_means      diff\n",
              "EXT  4.047273  5.447170  1.399897\n",
              "NEU  3.890909  4.900000  1.009091\n",
              "AGR  5.614545  6.328302  0.713756\n",
              "INT  4.672727  5.367925  0.695197\n",
              "UAI  3.179545  2.974057  0.205489\n",
              "LTO  4.540909  4.415094  0.125815\n",
              "MAS  3.875000  3.818396  0.056604\n",
              "PD   3.890909  3.926887  0.035978\n",
              "IVR  3.875000  3.908019  0.033019\n",
              "CON  5.512727  5.488679  0.024048\n",
              "IDV  4.454545  4.469340  0.014794"
            ]
          },
          "execution_count": 22,
          "metadata": {},
          "output_type": "execute_result"
        }
      ],
      "source": [
        "# Which features played the largest role in determining clusters?\n",
        "\n",
        "output_df = pd.DataFrame({'C0_means': df_wcluster[df_wcluster.cluster == 0].mean(), 'C1_means': df_wcluster[df_wcluster.cluster == 1].mean()})\n",
        "output_df['diff'] = abs(output_df['C0_means'] - output_df['C1_means'])\n",
        "output_df.drop(['cluster']).sort_values(by=['diff'], ascending=False)"
      ]
    },
    {
      "cell_type": "code",
      "execution_count": 23,
      "metadata": {
        "colab": {
          "base_uri": "https://localhost:8080/"
        },
        "id": "_erak86Vb-7v",
        "outputId": "d52e6d9c-9098-4511-b38f-05197e2ca2d0"
      },
      "outputs": [
        {
          "name": "stdout",
          "output_type": "stream",
          "text": [
            "Case with values AGR=5.2, CON=3.4, EXT=3, INT=1, NEU=6, IND=5.9, IVR=4.6, LTO=2.7, MAS=3.3, PD=5, UAI=4 predicted to be in cluster: 0\n"
          ]
        },
        {
          "name": "stderr",
          "output_type": "stream",
          "text": [
            "c:\\Users\\danli\\anaconda3\\Lib\\site-packages\\sklearn\\base.py:493: UserWarning:\n",
            "\n",
            "X does not have valid feature names, but KMeans was fitted with feature names\n",
            "\n"
          ]
        }
      ],
      "source": [
        "# Make cluster predictions for new data\n",
        "prediction = kmeans.predict([[5.2, 3.4, 3, 1, 6, 5.9, 4.6, 2.7, 3.3, 5, 4]])[0]\n",
        "print(f'Case with values AGR=5.2, CON=3.4, EXT=3, INT=1, NEU=6, IND=5.9, IVR=4.6, LTO=2.7, MAS=3.3, PD=5, UAI=4 predicted to be in cluster: {prediction}')"
      ]
    },
    {
      "cell_type": "code",
      "execution_count": 24,
      "metadata": {
        "colab": {
          "base_uri": "https://localhost:8080/",
          "height": 542
        },
        "id": "4f7G4KOfPBTK",
        "outputId": "9fea82e6-11cf-4dfe-ac35-5a204a62070d"
      },
      "outputs": [
        {
          "data": {
            "application/vnd.plotly.v1+json": {
              "config": {
                "plotlyServerURL": "https://plot.ly"
              },
              "data": [
                {
                  "hovertemplate": "EXT=%{x}<br>NEU=%{y}<br>INT=%{z}<br>cluster=%{marker.color}<extra></extra>",
                  "legendgroup": "",
                  "marker": {
                    "color": [
                      0,
                      1,
                      1,
                      1,
                      0,
                      1,
                      0,
                      1,
                      0,
                      1,
                      0,
                      0,
                      0,
                      1,
                      0,
                      0,
                      1,
                      0,
                      0,
                      0,
                      1,
                      0,
                      0,
                      1,
                      1,
                      0,
                      1,
                      1,
                      1,
                      0,
                      0,
                      0,
                      0,
                      0,
                      0,
                      1,
                      0,
                      1,
                      1,
                      1,
                      0,
                      1,
                      1,
                      0,
                      1,
                      1,
                      1,
                      1,
                      0,
                      0,
                      0,
                      0,
                      1,
                      0,
                      0,
                      0,
                      1,
                      1,
                      1,
                      0,
                      0,
                      0,
                      1,
                      0,
                      1,
                      1,
                      0,
                      0,
                      0,
                      0,
                      1,
                      1,
                      0,
                      0,
                      1,
                      1,
                      1,
                      1,
                      1,
                      0,
                      0,
                      1,
                      1,
                      1,
                      0,
                      0,
                      0,
                      0,
                      0,
                      0,
                      0,
                      1,
                      0,
                      1,
                      0,
                      0,
                      1,
                      1,
                      1,
                      1,
                      1,
                      0,
                      1,
                      0,
                      0,
                      0,
                      0,
                      1,
                      1,
                      1,
                      0,
                      1,
                      1,
                      0,
                      1,
                      1,
                      1,
                      1,
                      1,
                      0,
                      0,
                      1,
                      1,
                      1,
                      1,
                      1,
                      1,
                      1,
                      0,
                      0,
                      1,
                      0,
                      0,
                      0,
                      1,
                      1,
                      1,
                      0,
                      0,
                      1,
                      1,
                      1,
                      1,
                      0,
                      1,
                      1,
                      1,
                      1,
                      0,
                      1,
                      1,
                      1,
                      0,
                      0,
                      0,
                      0,
                      0,
                      0,
                      1,
                      1,
                      0,
                      1,
                      1,
                      1,
                      0,
                      1,
                      0,
                      0,
                      1,
                      0,
                      0,
                      0,
                      1,
                      0,
                      0,
                      0,
                      0,
                      1,
                      0,
                      0,
                      1,
                      0,
                      1,
                      1,
                      1,
                      1,
                      0,
                      0,
                      0,
                      1,
                      0,
                      0,
                      0,
                      1,
                      1,
                      0,
                      0,
                      1,
                      1,
                      0,
                      0,
                      1,
                      1,
                      1,
                      1,
                      0,
                      0,
                      1,
                      0,
                      0,
                      0,
                      1,
                      0,
                      0,
                      0,
                      0
                    ],
                    "coloraxis": "coloraxis",
                    "opacity": 1,
                    "symbol": "circle"
                  },
                  "mode": "markers",
                  "name": "",
                  "scene": "scene",
                  "showlegend": false,
                  "type": "scatter3d",
                  "x": [
                    5,
                    5.2,
                    5.2,
                    5.2,
                    2.8,
                    3.8,
                    5,
                    5.8,
                    3.4,
                    5.2,
                    4.2,
                    5.2,
                    3.8,
                    6.6,
                    4.8,
                    4,
                    5.4,
                    4,
                    4.2,
                    4,
                    6.2,
                    3.2,
                    4.6,
                    4.8,
                    4.8,
                    3.8,
                    4.2,
                    7,
                    5.8,
                    4.4,
                    3.6,
                    2.6,
                    4.6,
                    5.4,
                    4.8,
                    5.8,
                    3.4,
                    4.8,
                    6.6,
                    5.4,
                    1.4,
                    4.8,
                    4.6,
                    2.6,
                    4.2,
                    5.4,
                    5.2,
                    5.2,
                    3.8,
                    4.4,
                    4,
                    3.4,
                    6.2,
                    4.6,
                    4.8,
                    5.2,
                    4.6,
                    5.6,
                    6.2,
                    3.2,
                    3.6,
                    3.8,
                    5.2,
                    2.6,
                    5.6,
                    4.2,
                    4.2,
                    3.8,
                    3.8,
                    5,
                    6,
                    5.4,
                    5.8,
                    2.8,
                    5,
                    5.2,
                    5.4,
                    3.8,
                    6.2,
                    3.8,
                    3.6,
                    4.2,
                    6.6,
                    6,
                    3.4,
                    4.2,
                    4.6,
                    3.6,
                    4.2,
                    3.6,
                    2.4,
                    4.8,
                    4.2,
                    4.6,
                    4.8,
                    1.8,
                    5.2,
                    6.2,
                    6,
                    7,
                    5,
                    4.4,
                    5.8,
                    4.4,
                    4.4,
                    3.4,
                    5.2,
                    5.4,
                    6.2,
                    4.2,
                    4.4,
                    4.8,
                    5,
                    4,
                    5.6,
                    6.6,
                    4.6,
                    7,
                    5.6,
                    4,
                    5,
                    7,
                    6.2,
                    6.2,
                    6,
                    6.2,
                    3.8,
                    6.6,
                    5,
                    5.4,
                    5.8,
                    4.4,
                    3.4,
                    4.2,
                    5,
                    4.6,
                    3.8,
                    4.2,
                    4.2,
                    5.8,
                    5,
                    5.8,
                    5.6,
                    5,
                    5.2,
                    5,
                    6,
                    4.8,
                    4.2,
                    6.2,
                    5.6,
                    5.8,
                    4.2,
                    2.8,
                    5.4,
                    4,
                    3,
                    4.4,
                    6.4,
                    5.6,
                    3.6,
                    4.8,
                    6.6,
                    5.8,
                    3.8,
                    4.8,
                    3.6,
                    4.4,
                    6.6,
                    5,
                    5.2,
                    4.4,
                    6.6,
                    5,
                    4.6,
                    5.4,
                    3.8,
                    6.6,
                    3.4,
                    3.8,
                    4.2,
                    4.4,
                    4.6,
                    5.8,
                    6.2,
                    7,
                    4.2,
                    4.8,
                    4.4,
                    5,
                    3.8,
                    4.8,
                    3.6,
                    5.4,
                    5.8,
                    4.2,
                    5,
                    5.2,
                    5.2,
                    4.8,
                    3.6,
                    2.6,
                    4.2,
                    5.8,
                    5.4,
                    4.4,
                    3.4,
                    5.8,
                    3.8,
                    2,
                    2.2,
                    5.2,
                    3.6,
                    3.8,
                    3.6,
                    4
                  ],
                  "y": [
                    3.8,
                    6.4,
                    5.4,
                    5,
                    4.4,
                    5.2,
                    4.2,
                    4.4,
                    3,
                    5.8,
                    2.6,
                    3.8,
                    3.2,
                    5,
                    2.8,
                    4,
                    5.6,
                    3.4,
                    4.4,
                    5,
                    4.8,
                    4.2,
                    3.8,
                    4,
                    4.8,
                    3.4,
                    5.8,
                    3.4,
                    5.8,
                    3.4,
                    4.2,
                    3.4,
                    3.6,
                    2.6,
                    4.4,
                    4,
                    4.2,
                    4.8,
                    6.6,
                    4.4,
                    2.2,
                    4.2,
                    4.6,
                    6.2,
                    4.2,
                    3.8,
                    4.8,
                    5,
                    4,
                    4.6,
                    4.8,
                    2.6,
                    4.6,
                    4,
                    5.2,
                    1.8,
                    6.6,
                    5.2,
                    3.8,
                    5,
                    4.6,
                    4,
                    6.2,
                    4,
                    5.8,
                    5.6,
                    4,
                    3.8,
                    4,
                    3.6,
                    5.6,
                    6.6,
                    3.4,
                    4.2,
                    5.2,
                    4.2,
                    5,
                    5.8,
                    6.2,
                    3.6,
                    5.2,
                    5.2,
                    3.2,
                    3.6,
                    4.8,
                    3.4,
                    3.6,
                    4.2,
                    4.2,
                    3.4,
                    1.8,
                    6,
                    2.8,
                    4.2,
                    3.8,
                    3.6,
                    4.6,
                    4.2,
                    3.8,
                    4.8,
                    5.6,
                    2.8,
                    4.8,
                    3.8,
                    4.2,
                    4,
                    3,
                    3.8,
                    3.6,
                    5,
                    4.6,
                    4.6,
                    4.4,
                    4.2,
                    4,
                    4.8,
                    6.2,
                    4.8,
                    4,
                    4.4,
                    2.8,
                    3.4,
                    3.8,
                    5.4,
                    5,
                    4.2,
                    5.2,
                    2.6,
                    3,
                    4.4,
                    6.2,
                    5.2,
                    4.4,
                    4.6,
                    5,
                    5,
                    7,
                    3.8,
                    4,
                    4.6,
                    4,
                    4,
                    4.4,
                    4.2,
                    3.4,
                    5.6,
                    3.8,
                    5,
                    2.8,
                    5,
                    6.4,
                    5.2,
                    4,
                    2.2,
                    4.6,
                    4.8,
                    3.4,
                    5,
                    3.8,
                    4,
                    4,
                    4.8,
                    5,
                    5,
                    4.2,
                    3.8,
                    3.4,
                    3.8,
                    4.2,
                    3.8,
                    3.8,
                    4.6,
                    5.2,
                    4.6,
                    5,
                    3.6,
                    4.6,
                    3.8,
                    4,
                    4,
                    5.4,
                    4.6,
                    7,
                    4.6,
                    6.2,
                    5,
                    4,
                    4,
                    4.4,
                    5.4,
                    4.2,
                    3.8,
                    3,
                    3.8,
                    4.8,
                    3,
                    4.4,
                    4.8,
                    5,
                    3.8,
                    4.4,
                    7,
                    5.4,
                    5.8,
                    6.2,
                    4,
                    2.6,
                    5,
                    4,
                    6.2,
                    3,
                    4.8,
                    3.6,
                    3,
                    4.4,
                    3.8
                  ],
                  "z": [
                    5.6,
                    5,
                    5.6,
                    5.8,
                    5,
                    6.6,
                    3.8,
                    5.8,
                    5.8,
                    4.4,
                    6.6,
                    5.2,
                    3.6,
                    6.6,
                    4,
                    4.6,
                    5.6,
                    4.8,
                    5.4,
                    4.8,
                    5.8,
                    4.2,
                    5.2,
                    6.2,
                    4.6,
                    5,
                    4.4,
                    5.4,
                    4.8,
                    3.8,
                    4.6,
                    4.8,
                    4.2,
                    5,
                    4.6,
                    4.6,
                    4.4,
                    6.6,
                    6.4,
                    4.8,
                    5.4,
                    5.4,
                    5.8,
                    5.8,
                    5,
                    5.2,
                    7,
                    4.4,
                    5.4,
                    5,
                    4.4,
                    5.2,
                    5.8,
                    4.8,
                    4.4,
                    4.2,
                    5.2,
                    6.2,
                    4.8,
                    4.2,
                    3.8,
                    4.4,
                    6.2,
                    5,
                    6.2,
                    6.2,
                    4.4,
                    3.6,
                    4.8,
                    4.4,
                    5.8,
                    4.6,
                    3.2,
                    3.6,
                    4.2,
                    4.6,
                    5.2,
                    4.4,
                    5,
                    5.8,
                    4.2,
                    6.4,
                    5.4,
                    5,
                    4.6,
                    4.2,
                    5,
                    5.2,
                    4.6,
                    4.6,
                    4,
                    7,
                    4,
                    5.2,
                    4.6,
                    5.2,
                    5.4,
                    4.6,
                    4.2,
                    5.6,
                    4.4,
                    4.8,
                    4.2,
                    4.4,
                    5.8,
                    5,
                    4.8,
                    6.6,
                    6.2,
                    5.2,
                    4.6,
                    5.6,
                    4.4,
                    5.8,
                    4.8,
                    6.6,
                    6.2,
                    5.8,
                    5.8,
                    4,
                    4.8,
                    6.6,
                    4,
                    5.6,
                    5.4,
                    6.2,
                    6.6,
                    5,
                    5.8,
                    3.8,
                    5.4,
                    4.2,
                    4.8,
                    4.6,
                    6.6,
                    4.4,
                    5.8,
                    4.6,
                    4,
                    4.4,
                    4.6,
                    5.2,
                    4,
                    4.4,
                    5.8,
                    5,
                    4.6,
                    5,
                    4.6,
                    4.6,
                    5.2,
                    5.4,
                    4.4,
                    4.4,
                    4,
                    5.4,
                    5.4,
                    5,
                    5.2,
                    6.6,
                    5.8,
                    5,
                    4.6,
                    4.8,
                    4.2,
                    7,
                    4.6,
                    4,
                    2.4,
                    5.6,
                    4.2,
                    4.6,
                    6.4,
                    4,
                    4.8,
                    4.8,
                    5.2,
                    5.2,
                    5.4,
                    4.6,
                    6.2,
                    3.8,
                    5.6,
                    5.6,
                    5.6,
                    6.6,
                    3.8,
                    4,
                    4.6,
                    4.6,
                    3.4,
                    4.6,
                    5.4,
                    5.4,
                    4.2,
                    4.4,
                    5,
                    5.4,
                    5.6,
                    4.4,
                    6.4,
                    6.6,
                    5.8,
                    4.4,
                    3.6,
                    4.8,
                    4.4,
                    5.4,
                    3.8,
                    5.8,
                    4.6,
                    5,
                    3.8,
                    3.4,
                    7,
                    4.4
                  ]
                }
              ],
              "layout": {
                "coloraxis": {
                  "colorbar": {
                    "title": {
                      "text": "cluster"
                    }
                  },
                  "colorscale": [
                    [
                      0,
                      "#0d0887"
                    ],
                    [
                      0.1111111111111111,
                      "#46039f"
                    ],
                    [
                      0.2222222222222222,
                      "#7201a8"
                    ],
                    [
                      0.3333333333333333,
                      "#9c179e"
                    ],
                    [
                      0.4444444444444444,
                      "#bd3786"
                    ],
                    [
                      0.5555555555555556,
                      "#d8576b"
                    ],
                    [
                      0.6666666666666666,
                      "#ed7953"
                    ],
                    [
                      0.7777777777777778,
                      "#fb9f3a"
                    ],
                    [
                      0.8888888888888888,
                      "#fdca26"
                    ],
                    [
                      1,
                      "#f0f921"
                    ]
                  ]
                },
                "legend": {
                  "tracegroupgap": 0
                },
                "margin": {
                  "b": 0,
                  "l": 0,
                  "r": 0,
                  "t": 0
                },
                "scene": {
                  "domain": {
                    "x": [
                      0,
                      1
                    ],
                    "y": [
                      0,
                      1
                    ]
                  },
                  "xaxis": {
                    "title": {
                      "text": "EXT"
                    }
                  },
                  "yaxis": {
                    "title": {
                      "text": "NEU"
                    }
                  },
                  "zaxis": {
                    "title": {
                      "text": "INT"
                    }
                  }
                },
                "template": {
                  "data": {
                    "bar": [
                      {
                        "error_x": {
                          "color": "#2a3f5f"
                        },
                        "error_y": {
                          "color": "#2a3f5f"
                        },
                        "marker": {
                          "line": {
                            "color": "#E5ECF6",
                            "width": 0.5
                          },
                          "pattern": {
                            "fillmode": "overlay",
                            "size": 10,
                            "solidity": 0.2
                          }
                        },
                        "type": "bar"
                      }
                    ],
                    "barpolar": [
                      {
                        "marker": {
                          "line": {
                            "color": "#E5ECF6",
                            "width": 0.5
                          },
                          "pattern": {
                            "fillmode": "overlay",
                            "size": 10,
                            "solidity": 0.2
                          }
                        },
                        "type": "barpolar"
                      }
                    ],
                    "carpet": [
                      {
                        "aaxis": {
                          "endlinecolor": "#2a3f5f",
                          "gridcolor": "white",
                          "linecolor": "white",
                          "minorgridcolor": "white",
                          "startlinecolor": "#2a3f5f"
                        },
                        "baxis": {
                          "endlinecolor": "#2a3f5f",
                          "gridcolor": "white",
                          "linecolor": "white",
                          "minorgridcolor": "white",
                          "startlinecolor": "#2a3f5f"
                        },
                        "type": "carpet"
                      }
                    ],
                    "choropleth": [
                      {
                        "colorbar": {
                          "outlinewidth": 0,
                          "ticks": ""
                        },
                        "type": "choropleth"
                      }
                    ],
                    "contour": [
                      {
                        "colorbar": {
                          "outlinewidth": 0,
                          "ticks": ""
                        },
                        "colorscale": [
                          [
                            0,
                            "#0d0887"
                          ],
                          [
                            0.1111111111111111,
                            "#46039f"
                          ],
                          [
                            0.2222222222222222,
                            "#7201a8"
                          ],
                          [
                            0.3333333333333333,
                            "#9c179e"
                          ],
                          [
                            0.4444444444444444,
                            "#bd3786"
                          ],
                          [
                            0.5555555555555556,
                            "#d8576b"
                          ],
                          [
                            0.6666666666666666,
                            "#ed7953"
                          ],
                          [
                            0.7777777777777778,
                            "#fb9f3a"
                          ],
                          [
                            0.8888888888888888,
                            "#fdca26"
                          ],
                          [
                            1,
                            "#f0f921"
                          ]
                        ],
                        "type": "contour"
                      }
                    ],
                    "contourcarpet": [
                      {
                        "colorbar": {
                          "outlinewidth": 0,
                          "ticks": ""
                        },
                        "type": "contourcarpet"
                      }
                    ],
                    "heatmap": [
                      {
                        "colorbar": {
                          "outlinewidth": 0,
                          "ticks": ""
                        },
                        "colorscale": [
                          [
                            0,
                            "#0d0887"
                          ],
                          [
                            0.1111111111111111,
                            "#46039f"
                          ],
                          [
                            0.2222222222222222,
                            "#7201a8"
                          ],
                          [
                            0.3333333333333333,
                            "#9c179e"
                          ],
                          [
                            0.4444444444444444,
                            "#bd3786"
                          ],
                          [
                            0.5555555555555556,
                            "#d8576b"
                          ],
                          [
                            0.6666666666666666,
                            "#ed7953"
                          ],
                          [
                            0.7777777777777778,
                            "#fb9f3a"
                          ],
                          [
                            0.8888888888888888,
                            "#fdca26"
                          ],
                          [
                            1,
                            "#f0f921"
                          ]
                        ],
                        "type": "heatmap"
                      }
                    ],
                    "heatmapgl": [
                      {
                        "colorbar": {
                          "outlinewidth": 0,
                          "ticks": ""
                        },
                        "colorscale": [
                          [
                            0,
                            "#0d0887"
                          ],
                          [
                            0.1111111111111111,
                            "#46039f"
                          ],
                          [
                            0.2222222222222222,
                            "#7201a8"
                          ],
                          [
                            0.3333333333333333,
                            "#9c179e"
                          ],
                          [
                            0.4444444444444444,
                            "#bd3786"
                          ],
                          [
                            0.5555555555555556,
                            "#d8576b"
                          ],
                          [
                            0.6666666666666666,
                            "#ed7953"
                          ],
                          [
                            0.7777777777777778,
                            "#fb9f3a"
                          ],
                          [
                            0.8888888888888888,
                            "#fdca26"
                          ],
                          [
                            1,
                            "#f0f921"
                          ]
                        ],
                        "type": "heatmapgl"
                      }
                    ],
                    "histogram": [
                      {
                        "marker": {
                          "pattern": {
                            "fillmode": "overlay",
                            "size": 10,
                            "solidity": 0.2
                          }
                        },
                        "type": "histogram"
                      }
                    ],
                    "histogram2d": [
                      {
                        "colorbar": {
                          "outlinewidth": 0,
                          "ticks": ""
                        },
                        "colorscale": [
                          [
                            0,
                            "#0d0887"
                          ],
                          [
                            0.1111111111111111,
                            "#46039f"
                          ],
                          [
                            0.2222222222222222,
                            "#7201a8"
                          ],
                          [
                            0.3333333333333333,
                            "#9c179e"
                          ],
                          [
                            0.4444444444444444,
                            "#bd3786"
                          ],
                          [
                            0.5555555555555556,
                            "#d8576b"
                          ],
                          [
                            0.6666666666666666,
                            "#ed7953"
                          ],
                          [
                            0.7777777777777778,
                            "#fb9f3a"
                          ],
                          [
                            0.8888888888888888,
                            "#fdca26"
                          ],
                          [
                            1,
                            "#f0f921"
                          ]
                        ],
                        "type": "histogram2d"
                      }
                    ],
                    "histogram2dcontour": [
                      {
                        "colorbar": {
                          "outlinewidth": 0,
                          "ticks": ""
                        },
                        "colorscale": [
                          [
                            0,
                            "#0d0887"
                          ],
                          [
                            0.1111111111111111,
                            "#46039f"
                          ],
                          [
                            0.2222222222222222,
                            "#7201a8"
                          ],
                          [
                            0.3333333333333333,
                            "#9c179e"
                          ],
                          [
                            0.4444444444444444,
                            "#bd3786"
                          ],
                          [
                            0.5555555555555556,
                            "#d8576b"
                          ],
                          [
                            0.6666666666666666,
                            "#ed7953"
                          ],
                          [
                            0.7777777777777778,
                            "#fb9f3a"
                          ],
                          [
                            0.8888888888888888,
                            "#fdca26"
                          ],
                          [
                            1,
                            "#f0f921"
                          ]
                        ],
                        "type": "histogram2dcontour"
                      }
                    ],
                    "mesh3d": [
                      {
                        "colorbar": {
                          "outlinewidth": 0,
                          "ticks": ""
                        },
                        "type": "mesh3d"
                      }
                    ],
                    "parcoords": [
                      {
                        "line": {
                          "colorbar": {
                            "outlinewidth": 0,
                            "ticks": ""
                          }
                        },
                        "type": "parcoords"
                      }
                    ],
                    "pie": [
                      {
                        "automargin": true,
                        "type": "pie"
                      }
                    ],
                    "scatter": [
                      {
                        "fillpattern": {
                          "fillmode": "overlay",
                          "size": 10,
                          "solidity": 0.2
                        },
                        "type": "scatter"
                      }
                    ],
                    "scatter3d": [
                      {
                        "line": {
                          "colorbar": {
                            "outlinewidth": 0,
                            "ticks": ""
                          }
                        },
                        "marker": {
                          "colorbar": {
                            "outlinewidth": 0,
                            "ticks": ""
                          }
                        },
                        "type": "scatter3d"
                      }
                    ],
                    "scattercarpet": [
                      {
                        "marker": {
                          "colorbar": {
                            "outlinewidth": 0,
                            "ticks": ""
                          }
                        },
                        "type": "scattercarpet"
                      }
                    ],
                    "scattergeo": [
                      {
                        "marker": {
                          "colorbar": {
                            "outlinewidth": 0,
                            "ticks": ""
                          }
                        },
                        "type": "scattergeo"
                      }
                    ],
                    "scattergl": [
                      {
                        "marker": {
                          "colorbar": {
                            "outlinewidth": 0,
                            "ticks": ""
                          }
                        },
                        "type": "scattergl"
                      }
                    ],
                    "scattermapbox": [
                      {
                        "marker": {
                          "colorbar": {
                            "outlinewidth": 0,
                            "ticks": ""
                          }
                        },
                        "type": "scattermapbox"
                      }
                    ],
                    "scatterpolar": [
                      {
                        "marker": {
                          "colorbar": {
                            "outlinewidth": 0,
                            "ticks": ""
                          }
                        },
                        "type": "scatterpolar"
                      }
                    ],
                    "scatterpolargl": [
                      {
                        "marker": {
                          "colorbar": {
                            "outlinewidth": 0,
                            "ticks": ""
                          }
                        },
                        "type": "scatterpolargl"
                      }
                    ],
                    "scatterternary": [
                      {
                        "marker": {
                          "colorbar": {
                            "outlinewidth": 0,
                            "ticks": ""
                          }
                        },
                        "type": "scatterternary"
                      }
                    ],
                    "surface": [
                      {
                        "colorbar": {
                          "outlinewidth": 0,
                          "ticks": ""
                        },
                        "colorscale": [
                          [
                            0,
                            "#0d0887"
                          ],
                          [
                            0.1111111111111111,
                            "#46039f"
                          ],
                          [
                            0.2222222222222222,
                            "#7201a8"
                          ],
                          [
                            0.3333333333333333,
                            "#9c179e"
                          ],
                          [
                            0.4444444444444444,
                            "#bd3786"
                          ],
                          [
                            0.5555555555555556,
                            "#d8576b"
                          ],
                          [
                            0.6666666666666666,
                            "#ed7953"
                          ],
                          [
                            0.7777777777777778,
                            "#fb9f3a"
                          ],
                          [
                            0.8888888888888888,
                            "#fdca26"
                          ],
                          [
                            1,
                            "#f0f921"
                          ]
                        ],
                        "type": "surface"
                      }
                    ],
                    "table": [
                      {
                        "cells": {
                          "fill": {
                            "color": "#EBF0F8"
                          },
                          "line": {
                            "color": "white"
                          }
                        },
                        "header": {
                          "fill": {
                            "color": "#C8D4E3"
                          },
                          "line": {
                            "color": "white"
                          }
                        },
                        "type": "table"
                      }
                    ]
                  },
                  "layout": {
                    "annotationdefaults": {
                      "arrowcolor": "#2a3f5f",
                      "arrowhead": 0,
                      "arrowwidth": 1
                    },
                    "autotypenumbers": "strict",
                    "coloraxis": {
                      "colorbar": {
                        "outlinewidth": 0,
                        "ticks": ""
                      }
                    },
                    "colorscale": {
                      "diverging": [
                        [
                          0,
                          "#8e0152"
                        ],
                        [
                          0.1,
                          "#c51b7d"
                        ],
                        [
                          0.2,
                          "#de77ae"
                        ],
                        [
                          0.3,
                          "#f1b6da"
                        ],
                        [
                          0.4,
                          "#fde0ef"
                        ],
                        [
                          0.5,
                          "#f7f7f7"
                        ],
                        [
                          0.6,
                          "#e6f5d0"
                        ],
                        [
                          0.7,
                          "#b8e186"
                        ],
                        [
                          0.8,
                          "#7fbc41"
                        ],
                        [
                          0.9,
                          "#4d9221"
                        ],
                        [
                          1,
                          "#276419"
                        ]
                      ],
                      "sequential": [
                        [
                          0,
                          "#0d0887"
                        ],
                        [
                          0.1111111111111111,
                          "#46039f"
                        ],
                        [
                          0.2222222222222222,
                          "#7201a8"
                        ],
                        [
                          0.3333333333333333,
                          "#9c179e"
                        ],
                        [
                          0.4444444444444444,
                          "#bd3786"
                        ],
                        [
                          0.5555555555555556,
                          "#d8576b"
                        ],
                        [
                          0.6666666666666666,
                          "#ed7953"
                        ],
                        [
                          0.7777777777777778,
                          "#fb9f3a"
                        ],
                        [
                          0.8888888888888888,
                          "#fdca26"
                        ],
                        [
                          1,
                          "#f0f921"
                        ]
                      ],
                      "sequentialminus": [
                        [
                          0,
                          "#0d0887"
                        ],
                        [
                          0.1111111111111111,
                          "#46039f"
                        ],
                        [
                          0.2222222222222222,
                          "#7201a8"
                        ],
                        [
                          0.3333333333333333,
                          "#9c179e"
                        ],
                        [
                          0.4444444444444444,
                          "#bd3786"
                        ],
                        [
                          0.5555555555555556,
                          "#d8576b"
                        ],
                        [
                          0.6666666666666666,
                          "#ed7953"
                        ],
                        [
                          0.7777777777777778,
                          "#fb9f3a"
                        ],
                        [
                          0.8888888888888888,
                          "#fdca26"
                        ],
                        [
                          1,
                          "#f0f921"
                        ]
                      ]
                    },
                    "colorway": [
                      "#636efa",
                      "#EF553B",
                      "#00cc96",
                      "#ab63fa",
                      "#FFA15A",
                      "#19d3f3",
                      "#FF6692",
                      "#B6E880",
                      "#FF97FF",
                      "#FECB52"
                    ],
                    "font": {
                      "color": "#2a3f5f"
                    },
                    "geo": {
                      "bgcolor": "white",
                      "lakecolor": "white",
                      "landcolor": "#E5ECF6",
                      "showlakes": true,
                      "showland": true,
                      "subunitcolor": "white"
                    },
                    "hoverlabel": {
                      "align": "left"
                    },
                    "hovermode": "closest",
                    "mapbox": {
                      "style": "light"
                    },
                    "paper_bgcolor": "white",
                    "plot_bgcolor": "#E5ECF6",
                    "polar": {
                      "angularaxis": {
                        "gridcolor": "white",
                        "linecolor": "white",
                        "ticks": ""
                      },
                      "bgcolor": "#E5ECF6",
                      "radialaxis": {
                        "gridcolor": "white",
                        "linecolor": "white",
                        "ticks": ""
                      }
                    },
                    "scene": {
                      "xaxis": {
                        "backgroundcolor": "#E5ECF6",
                        "gridcolor": "white",
                        "gridwidth": 2,
                        "linecolor": "white",
                        "showbackground": true,
                        "ticks": "",
                        "zerolinecolor": "white"
                      },
                      "yaxis": {
                        "backgroundcolor": "#E5ECF6",
                        "gridcolor": "white",
                        "gridwidth": 2,
                        "linecolor": "white",
                        "showbackground": true,
                        "ticks": "",
                        "zerolinecolor": "white"
                      },
                      "zaxis": {
                        "backgroundcolor": "#E5ECF6",
                        "gridcolor": "white",
                        "gridwidth": 2,
                        "linecolor": "white",
                        "showbackground": true,
                        "ticks": "",
                        "zerolinecolor": "white"
                      }
                    },
                    "shapedefaults": {
                      "line": {
                        "color": "#2a3f5f"
                      }
                    },
                    "ternary": {
                      "aaxis": {
                        "gridcolor": "white",
                        "linecolor": "white",
                        "ticks": ""
                      },
                      "baxis": {
                        "gridcolor": "white",
                        "linecolor": "white",
                        "ticks": ""
                      },
                      "bgcolor": "#E5ECF6",
                      "caxis": {
                        "gridcolor": "white",
                        "linecolor": "white",
                        "ticks": ""
                      }
                    },
                    "title": {
                      "x": 0.05
                    },
                    "xaxis": {
                      "automargin": true,
                      "gridcolor": "white",
                      "linecolor": "white",
                      "ticks": "",
                      "title": {
                        "standoff": 15
                      },
                      "zerolinecolor": "white",
                      "zerolinewidth": 2
                    },
                    "yaxis": {
                      "automargin": true,
                      "gridcolor": "white",
                      "linecolor": "white",
                      "ticks": "",
                      "title": {
                        "standoff": 15
                      },
                      "zerolinecolor": "white",
                      "zerolinewidth": 2
                    }
                  }
                }
              }
            }
          },
          "metadata": {},
          "output_type": "display_data"
        }
      ],
      "source": [
        "# Create 3D Scatterplot to visualize cluster\n",
        "\n",
        "fig = px.scatter_3d(df_wcluster, x='EXT', y='NEU', z='INT', color='cluster', size_max=20, opacity=1.0)\n",
        "fig.update_layout(margin=dict(l=0, r=0, b=0, t=0))\n",
        "fig.show()"
      ]
    },
    {
      "cell_type": "markdown",
      "metadata": {
        "id": "V48jGYxKjnRt"
      },
      "source": [
        "# Insurance Data\n",
        "The data used above was very simple because it was complete numeric and every feature was on the same scale. However, k-means has significant problems if those two assumptions are not true. For example, the insurance dataset has both numeric and categorical features. In addition, the charges feature is on a very large scale (1000 to 60000) compared to sex and smoker (0 and 1). Therefore, we will use a different distance measure (Gower) and clustering algorithm (DBSCAN) which are optimized for this context."
      ]
    },
    {
      "cell_type": "code",
      "execution_count": 25,
      "metadata": {
        "colab": {
          "base_uri": "https://localhost:8080/",
          "height": 204
        },
        "id": "IYqdM17p1W-U",
        "outputId": "aef6756e-ddea-4a3e-b14b-165d19cefbeb"
      },
      "outputs": [
        {
          "data": {
            "text/html": [
              "<div>\n",
              "<style scoped>\n",
              "    .dataframe tbody tr th:only-of-type {\n",
              "        vertical-align: middle;\n",
              "    }\n",
              "\n",
              "    .dataframe tbody tr th {\n",
              "        vertical-align: top;\n",
              "    }\n",
              "\n",
              "    .dataframe thead th {\n",
              "        text-align: right;\n",
              "    }\n",
              "</style>\n",
              "<table border=\"1\" class=\"dataframe\">\n",
              "  <thead>\n",
              "    <tr style=\"text-align: right;\">\n",
              "      <th></th>\n",
              "      <th>age</th>\n",
              "      <th>sex</th>\n",
              "      <th>bmi</th>\n",
              "      <th>children</th>\n",
              "      <th>smoker</th>\n",
              "      <th>region</th>\n",
              "      <th>charges</th>\n",
              "    </tr>\n",
              "  </thead>\n",
              "  <tbody>\n",
              "    <tr>\n",
              "      <th>0</th>\n",
              "      <td>19</td>\n",
              "      <td>female</td>\n",
              "      <td>27.900</td>\n",
              "      <td>0</td>\n",
              "      <td>yes</td>\n",
              "      <td>southwest</td>\n",
              "      <td>16884.92400</td>\n",
              "    </tr>\n",
              "    <tr>\n",
              "      <th>1</th>\n",
              "      <td>18</td>\n",
              "      <td>male</td>\n",
              "      <td>33.770</td>\n",
              "      <td>1</td>\n",
              "      <td>no</td>\n",
              "      <td>southeast</td>\n",
              "      <td>1725.55230</td>\n",
              "    </tr>\n",
              "    <tr>\n",
              "      <th>2</th>\n",
              "      <td>28</td>\n",
              "      <td>male</td>\n",
              "      <td>33.000</td>\n",
              "      <td>3</td>\n",
              "      <td>no</td>\n",
              "      <td>southeast</td>\n",
              "      <td>4449.46200</td>\n",
              "    </tr>\n",
              "    <tr>\n",
              "      <th>3</th>\n",
              "      <td>33</td>\n",
              "      <td>male</td>\n",
              "      <td>22.705</td>\n",
              "      <td>0</td>\n",
              "      <td>no</td>\n",
              "      <td>northwest</td>\n",
              "      <td>21984.47061</td>\n",
              "    </tr>\n",
              "    <tr>\n",
              "      <th>4</th>\n",
              "      <td>32</td>\n",
              "      <td>male</td>\n",
              "      <td>28.880</td>\n",
              "      <td>0</td>\n",
              "      <td>no</td>\n",
              "      <td>northwest</td>\n",
              "      <td>3866.85520</td>\n",
              "    </tr>\n",
              "  </tbody>\n",
              "</table>\n",
              "</div>"
            ],
            "text/plain": [
              "   age     sex     bmi  children smoker     region      charges\n",
              "0   19  female  27.900         0    yes  southwest  16884.92400\n",
              "1   18    male  33.770         1     no  southeast   1725.55230\n",
              "2   28    male  33.000         3     no  southeast   4449.46200\n",
              "3   33    male  22.705         0     no  northwest  21984.47061\n",
              "4   32    male  28.880         0     no  northwest   3866.85520"
            ]
          },
          "execution_count": 25,
          "metadata": {},
          "output_type": "execute_result"
        }
      ],
      "source": [
        "df = pd.read_csv('https://www.ishelp.info/data/insurance.csv')\n",
        "\n",
        "df.head()"
      ]
    },
    {
      "cell_type": "markdown",
      "metadata": {
        "id": "4Ta1wZjV4tnE"
      },
      "source": [
        "## Distance Measure: Gower Distance\n",
        "The Gower distance is ideal (over Euclidean distance) when there are mixed data types. The gower package does not require that categorical data are converted to dummy codes nor that the data are standardized first. It takes care of all of that and generates a matrix (as opposed to a table) indicating the overall distance between all pairs of rows"
      ]
    },
    {
      "cell_type": "code",
      "execution_count": 26,
      "metadata": {
        "id": "nxkhWQ6vCMSz"
      },
      "outputs": [
        {
          "name": "stdout",
          "output_type": "stream",
          "text": [
            "Requirement already satisfied: gower in c:\\users\\danli\\anaconda3\\lib\\site-packages (0.1.2)\n",
            "Requirement already satisfied: numpy in c:\\users\\danli\\anaconda3\\lib\\site-packages (from gower) (1.26.4)\n",
            "Requirement already satisfied: scipy in c:\\users\\danli\\anaconda3\\lib\\site-packages (from gower) (1.13.1)\n"
          ]
        }
      ],
      "source": [
        "!pip install gower"
      ]
    },
    {
      "cell_type": "code",
      "execution_count": 27,
      "metadata": {},
      "outputs": [
        {
          "data": {
            "text/html": [
              "<div>\n",
              "<style scoped>\n",
              "    .dataframe tbody tr th:only-of-type {\n",
              "        vertical-align: middle;\n",
              "    }\n",
              "\n",
              "    .dataframe tbody tr th {\n",
              "        vertical-align: top;\n",
              "    }\n",
              "\n",
              "    .dataframe thead th {\n",
              "        text-align: right;\n",
              "    }\n",
              "</style>\n",
              "<table border=\"1\" class=\"dataframe\">\n",
              "  <thead>\n",
              "    <tr style=\"text-align: right;\">\n",
              "      <th></th>\n",
              "      <th>age</th>\n",
              "      <th>sex</th>\n",
              "      <th>bmi</th>\n",
              "      <th>children</th>\n",
              "      <th>smoker</th>\n",
              "      <th>region</th>\n",
              "      <th>charges</th>\n",
              "    </tr>\n",
              "  </thead>\n",
              "  <tbody>\n",
              "    <tr>\n",
              "      <th>0</th>\n",
              "      <td>19</td>\n",
              "      <td>female</td>\n",
              "      <td>27.900</td>\n",
              "      <td>0</td>\n",
              "      <td>yes</td>\n",
              "      <td>southwest</td>\n",
              "      <td>16884.92400</td>\n",
              "    </tr>\n",
              "    <tr>\n",
              "      <th>1</th>\n",
              "      <td>18</td>\n",
              "      <td>male</td>\n",
              "      <td>33.770</td>\n",
              "      <td>1</td>\n",
              "      <td>no</td>\n",
              "      <td>southeast</td>\n",
              "      <td>1725.55230</td>\n",
              "    </tr>\n",
              "    <tr>\n",
              "      <th>2</th>\n",
              "      <td>28</td>\n",
              "      <td>male</td>\n",
              "      <td>33.000</td>\n",
              "      <td>3</td>\n",
              "      <td>no</td>\n",
              "      <td>southeast</td>\n",
              "      <td>4449.46200</td>\n",
              "    </tr>\n",
              "    <tr>\n",
              "      <th>3</th>\n",
              "      <td>33</td>\n",
              "      <td>male</td>\n",
              "      <td>22.705</td>\n",
              "      <td>0</td>\n",
              "      <td>no</td>\n",
              "      <td>northwest</td>\n",
              "      <td>21984.47061</td>\n",
              "    </tr>\n",
              "    <tr>\n",
              "      <th>4</th>\n",
              "      <td>32</td>\n",
              "      <td>male</td>\n",
              "      <td>28.880</td>\n",
              "      <td>0</td>\n",
              "      <td>no</td>\n",
              "      <td>northwest</td>\n",
              "      <td>3866.85520</td>\n",
              "    </tr>\n",
              "  </tbody>\n",
              "</table>\n",
              "</div>"
            ],
            "text/plain": [
              "   age     sex     bmi  children smoker     region      charges\n",
              "0   19  female  27.900         0    yes  southwest  16884.92400\n",
              "1   18    male  33.770         1     no  southeast   1725.55230\n",
              "2   28    male  33.000         3     no  southeast   4449.46200\n",
              "3   33    male  22.705         0     no  northwest  21984.47061\n",
              "4   32    male  28.880         0     no  northwest   3866.85520"
            ]
          },
          "execution_count": 27,
          "metadata": {},
          "output_type": "execute_result"
        }
      ],
      "source": [
        "df = pd.read_csv('https://www.ishelp.info/data/insurance.csv')\n",
        "df.head()"
      ]
    },
    {
      "cell_type": "code",
      "execution_count": 28,
      "metadata": {
        "colab": {
          "base_uri": "https://localhost:8080/",
          "height": 254
        },
        "id": "jAWkZAvSglWG",
        "outputId": "55472a42-2f5b-46d9-b279-5e2e0c53f886"
      },
      "outputs": [
        {
          "data": {
            "text/html": [
              "<div>\n",
              "<style scoped>\n",
              "    .dataframe tbody tr th:only-of-type {\n",
              "        vertical-align: middle;\n",
              "    }\n",
              "\n",
              "    .dataframe tbody tr th {\n",
              "        vertical-align: top;\n",
              "    }\n",
              "\n",
              "    .dataframe thead th {\n",
              "        text-align: right;\n",
              "    }\n",
              "</style>\n",
              "<table border=\"1\" class=\"dataframe\">\n",
              "  <thead>\n",
              "    <tr style=\"text-align: right;\">\n",
              "      <th></th>\n",
              "      <th>0</th>\n",
              "      <th>1</th>\n",
              "      <th>2</th>\n",
              "      <th>3</th>\n",
              "      <th>4</th>\n",
              "      <th>5</th>\n",
              "      <th>6</th>\n",
              "      <th>7</th>\n",
              "      <th>8</th>\n",
              "      <th>9</th>\n",
              "      <th>...</th>\n",
              "      <th>1328</th>\n",
              "      <th>1329</th>\n",
              "      <th>1330</th>\n",
              "      <th>1331</th>\n",
              "      <th>1332</th>\n",
              "      <th>1333</th>\n",
              "      <th>1334</th>\n",
              "      <th>1335</th>\n",
              "      <th>1336</th>\n",
              "      <th>1337</th>\n",
              "    </tr>\n",
              "  </thead>\n",
              "  <tbody>\n",
              "    <tr>\n",
              "      <th>0</th>\n",
              "      <td>0.000000</td>\n",
              "      <td>0.517377</td>\n",
              "      <td>0.590194</td>\n",
              "      <td>0.503644</td>\n",
              "      <td>0.502396</td>\n",
              "      <td>0.361219</td>\n",
              "      <td>0.439140</td>\n",
              "      <td>0.449843</td>\n",
              "      <td>0.572927</td>\n",
              "      <td>0.448411</td>\n",
              "      <td>...</td>\n",
              "      <td>0.381970</td>\n",
              "      <td>0.501423</td>\n",
              "      <td>0.478876</td>\n",
              "      <td>0.190303</td>\n",
              "      <td>0.408105</td>\n",
              "      <td>0.636688</td>\n",
              "      <td>0.337742</td>\n",
              "      <td>0.358004</td>\n",
              "      <td>0.191063</td>\n",
              "      <td>0.305737</td>\n",
              "    </tr>\n",
              "    <tr>\n",
              "      <th>1</th>\n",
              "      <td>0.517377</td>\n",
              "      <td>0.000000</td>\n",
              "      <td>0.097369</td>\n",
              "      <td>0.306735</td>\n",
              "      <td>0.238584</td>\n",
              "      <td>0.247295</td>\n",
              "      <td>0.245938</td>\n",
              "      <td>0.437708</td>\n",
              "      <td>0.256251</td>\n",
              "      <td>0.537217</td>\n",
              "      <td>...</td>\n",
              "      <td>0.413633</td>\n",
              "      <td>0.315192</td>\n",
              "      <td>0.348272</td>\n",
              "      <td>0.351919</td>\n",
              "      <td>0.512542</td>\n",
              "      <td>0.330378</td>\n",
              "      <td>0.322491</td>\n",
              "      <td>0.183484</td>\n",
              "      <td>0.354878</td>\n",
              "      <td>0.671263</td>\n",
              "    </tr>\n",
              "    <tr>\n",
              "      <th>2</th>\n",
              "      <td>0.590194</td>\n",
              "      <td>0.097369</td>\n",
              "      <td>0.000000</td>\n",
              "      <td>0.323652</td>\n",
              "      <td>0.258157</td>\n",
              "      <td>0.267371</td>\n",
              "      <td>0.266237</td>\n",
              "      <td>0.340338</td>\n",
              "      <td>0.216025</td>\n",
              "      <td>0.554133</td>\n",
              "      <td>...</td>\n",
              "      <td>0.404462</td>\n",
              "      <td>0.280884</td>\n",
              "      <td>0.308046</td>\n",
              "      <td>0.402966</td>\n",
              "      <td>0.421091</td>\n",
              "      <td>0.233008</td>\n",
              "      <td>0.411751</td>\n",
              "      <td>0.280854</td>\n",
              "      <td>0.426407</td>\n",
              "      <td>0.688179</td>\n",
              "    </tr>\n",
              "    <tr>\n",
              "      <th>3</th>\n",
              "      <td>0.503644</td>\n",
              "      <td>0.306735</td>\n",
              "      <td>0.323652</td>\n",
              "      <td>0.000000</td>\n",
              "      <td>0.068152</td>\n",
              "      <td>0.345155</td>\n",
              "      <td>0.427257</td>\n",
              "      <td>0.293872</td>\n",
              "      <td>0.275329</td>\n",
              "      <td>0.254579</td>\n",
              "      <td>...</td>\n",
              "      <td>0.380693</td>\n",
              "      <td>0.346683</td>\n",
              "      <td>0.450389</td>\n",
              "      <td>0.383388</td>\n",
              "      <td>0.539078</td>\n",
              "      <td>0.196233</td>\n",
              "      <td>0.412815</td>\n",
              "      <td>0.433077</td>\n",
              "      <td>0.380429</td>\n",
              "      <td>0.413454</td>\n",
              "    </tr>\n",
              "    <tr>\n",
              "      <th>4</th>\n",
              "      <td>0.502396</td>\n",
              "      <td>0.238584</td>\n",
              "      <td>0.258157</td>\n",
              "      <td>0.068152</td>\n",
              "      <td>0.000000</td>\n",
              "      <td>0.301139</td>\n",
              "      <td>0.385263</td>\n",
              "      <td>0.256267</td>\n",
              "      <td>0.224970</td>\n",
              "      <td>0.298633</td>\n",
              "      <td>...</td>\n",
              "      <td>0.430950</td>\n",
              "      <td>0.314196</td>\n",
              "      <td>0.452546</td>\n",
              "      <td>0.346837</td>\n",
              "      <td>0.511547</td>\n",
              "      <td>0.165002</td>\n",
              "      <td>0.344664</td>\n",
              "      <td>0.364925</td>\n",
              "      <td>0.335952</td>\n",
              "      <td>0.434140</td>\n",
              "    </tr>\n",
              "  </tbody>\n",
              "</table>\n",
              "<p>5 rows × 1338 columns</p>\n",
              "</div>"
            ],
            "text/plain": [
              "       0         1         2         3         4         5         6     \\\n",
              "0  0.000000  0.517377  0.590194  0.503644  0.502396  0.361219  0.439140   \n",
              "1  0.517377  0.000000  0.097369  0.306735  0.238584  0.247295  0.245938   \n",
              "2  0.590194  0.097369  0.000000  0.323652  0.258157  0.267371  0.266237   \n",
              "3  0.503644  0.306735  0.323652  0.000000  0.068152  0.345155  0.427257   \n",
              "4  0.502396  0.238584  0.258157  0.068152  0.000000  0.301139  0.385263   \n",
              "\n",
              "       7         8         9     ...      1328      1329      1330      1331  \\\n",
              "0  0.449843  0.572927  0.448411  ...  0.381970  0.501423  0.478876  0.190303   \n",
              "1  0.437708  0.256251  0.537217  ...  0.413633  0.315192  0.348272  0.351919   \n",
              "2  0.340338  0.216025  0.554133  ...  0.404462  0.280884  0.308046  0.402966   \n",
              "3  0.293872  0.275329  0.254579  ...  0.380693  0.346683  0.450389  0.383388   \n",
              "4  0.256267  0.224970  0.298633  ...  0.430950  0.314196  0.452546  0.346837   \n",
              "\n",
              "       1332      1333      1334      1335      1336      1337  \n",
              "0  0.408105  0.636688  0.337742  0.358004  0.191063  0.305737  \n",
              "1  0.512542  0.330378  0.322491  0.183484  0.354878  0.671263  \n",
              "2  0.421091  0.233008  0.411751  0.280854  0.426407  0.688179  \n",
              "3  0.539078  0.196233  0.412815  0.433077  0.380429  0.413454  \n",
              "4  0.511547  0.165002  0.344664  0.364925  0.335952  0.434140  \n",
              "\n",
              "[5 rows x 1338 columns]"
            ]
          },
          "execution_count": 28,
          "metadata": {},
          "output_type": "execute_result"
        }
      ],
      "source": [
        "import gower\n",
        "distance_matrix = gower.gower_matrix(df)\n",
        "pd.DataFrame(distance_matrix).head()"
      ]
    },
    {
      "cell_type": "code",
      "execution_count": 29,
      "metadata": {
        "colab": {
          "base_uri": "https://localhost:8080/",
          "height": 204
        },
        "id": "q4ixyiZ0sGdG",
        "outputId": "1dda2306-ac7a-4abd-ac36-5204160ad35f"
      },
      "outputs": [
        {
          "data": {
            "text/html": [
              "<div>\n",
              "<style scoped>\n",
              "    .dataframe tbody tr th:only-of-type {\n",
              "        vertical-align: middle;\n",
              "    }\n",
              "\n",
              "    .dataframe tbody tr th {\n",
              "        vertical-align: top;\n",
              "    }\n",
              "\n",
              "    .dataframe thead th {\n",
              "        text-align: right;\n",
              "    }\n",
              "</style>\n",
              "<table border=\"1\" class=\"dataframe\">\n",
              "  <thead>\n",
              "    <tr style=\"text-align: right;\">\n",
              "      <th></th>\n",
              "      <th>age</th>\n",
              "      <th>sex</th>\n",
              "      <th>bmi</th>\n",
              "      <th>children</th>\n",
              "      <th>smoker</th>\n",
              "      <th>region</th>\n",
              "      <th>charges</th>\n",
              "      <th>agg_cluster</th>\n",
              "    </tr>\n",
              "  </thead>\n",
              "  <tbody>\n",
              "    <tr>\n",
              "      <th>0</th>\n",
              "      <td>19</td>\n",
              "      <td>female</td>\n",
              "      <td>27.900</td>\n",
              "      <td>0</td>\n",
              "      <td>yes</td>\n",
              "      <td>southwest</td>\n",
              "      <td>16884.92400</td>\n",
              "      <td>0</td>\n",
              "    </tr>\n",
              "    <tr>\n",
              "      <th>1</th>\n",
              "      <td>18</td>\n",
              "      <td>male</td>\n",
              "      <td>33.770</td>\n",
              "      <td>1</td>\n",
              "      <td>no</td>\n",
              "      <td>southeast</td>\n",
              "      <td>1725.55230</td>\n",
              "      <td>1</td>\n",
              "    </tr>\n",
              "    <tr>\n",
              "      <th>2</th>\n",
              "      <td>28</td>\n",
              "      <td>male</td>\n",
              "      <td>33.000</td>\n",
              "      <td>3</td>\n",
              "      <td>no</td>\n",
              "      <td>southeast</td>\n",
              "      <td>4449.46200</td>\n",
              "      <td>1</td>\n",
              "    </tr>\n",
              "    <tr>\n",
              "      <th>3</th>\n",
              "      <td>33</td>\n",
              "      <td>male</td>\n",
              "      <td>22.705</td>\n",
              "      <td>0</td>\n",
              "      <td>no</td>\n",
              "      <td>northwest</td>\n",
              "      <td>21984.47061</td>\n",
              "      <td>1</td>\n",
              "    </tr>\n",
              "    <tr>\n",
              "      <th>4</th>\n",
              "      <td>32</td>\n",
              "      <td>male</td>\n",
              "      <td>28.880</td>\n",
              "      <td>0</td>\n",
              "      <td>no</td>\n",
              "      <td>northwest</td>\n",
              "      <td>3866.85520</td>\n",
              "      <td>1</td>\n",
              "    </tr>\n",
              "  </tbody>\n",
              "</table>\n",
              "</div>"
            ],
            "text/plain": [
              "   age     sex     bmi  children smoker     region      charges  agg_cluster\n",
              "0   19  female  27.900         0    yes  southwest  16884.92400            0\n",
              "1   18    male  33.770         1     no  southeast   1725.55230            1\n",
              "2   28    male  33.000         3     no  southeast   4449.46200            1\n",
              "3   33    male  22.705         0     no  northwest  21984.47061            1\n",
              "4   32    male  28.880         0     no  northwest   3866.85520            1"
            ]
          },
          "execution_count": 29,
          "metadata": {},
          "output_type": "execute_result"
        }
      ],
      "source": [
        "from sklearn.cluster import AgglomerativeClustering\n",
        "\n",
        "agg = AgglomerativeClustering(metric=\"precomputed\", linkage=\"average\").fit(distance_matrix)\n",
        "df['agg_cluster'] = agg.labels_\n",
        "df.head()"
      ]
    },
    {
      "cell_type": "code",
      "execution_count": 30,
      "metadata": {
        "colab": {
          "base_uri": "https://localhost:8080/"
        },
        "id": "bdesW73wmdTz",
        "outputId": "b0452b2e-8ae1-4461-bbc3-bf1a9182070f"
      },
      "outputs": [
        {
          "data": {
            "text/plain": [
              "agg_cluster\n",
              "1    1064\n",
              "0     274\n",
              "Name: count, dtype: int64"
            ]
          },
          "execution_count": 30,
          "metadata": {},
          "output_type": "execute_result"
        }
      ],
      "source": [
        "df.agg_cluster.value_counts()"
      ]
    },
    {
      "cell_type": "code",
      "execution_count": 31,
      "metadata": {
        "colab": {
          "base_uri": "https://localhost:8080/"
        },
        "id": "o5ZlDgJns6f7",
        "outputId": "2e3e3fa0-1b15-4379-86fa-af187a761902"
      },
      "outputs": [
        {
          "data": {
            "text/plain": [
              "smoker\n",
              "no     1064\n",
              "yes     274\n",
              "Name: count, dtype: int64"
            ]
          },
          "execution_count": 31,
          "metadata": {},
          "output_type": "execute_result"
        }
      ],
      "source": [
        "df.smoker.value_counts()"
      ]
    },
    {
      "attachments": {},
      "cell_type": "markdown",
      "metadata": {},
      "source": [
        "Notice that the cluster counts align closely with *smoker*. Therefore, smoker can be removed from the clustering assignments."
      ]
    },
    {
      "cell_type": "code",
      "execution_count": 32,
      "metadata": {
        "colab": {
          "base_uri": "https://localhost:8080/",
          "height": 204
        },
        "id": "UghOOSYDv7hB",
        "outputId": "da5b6ca2-764c-47a4-ebed-35058422b42f"
      },
      "outputs": [
        {
          "data": {
            "text/html": [
              "<div>\n",
              "<style scoped>\n",
              "    .dataframe tbody tr th:only-of-type {\n",
              "        vertical-align: middle;\n",
              "    }\n",
              "\n",
              "    .dataframe tbody tr th {\n",
              "        vertical-align: top;\n",
              "    }\n",
              "\n",
              "    .dataframe thead th {\n",
              "        text-align: right;\n",
              "    }\n",
              "</style>\n",
              "<table border=\"1\" class=\"dataframe\">\n",
              "  <thead>\n",
              "    <tr style=\"text-align: right;\">\n",
              "      <th></th>\n",
              "      <th>age</th>\n",
              "      <th>sex</th>\n",
              "      <th>bmi</th>\n",
              "      <th>children</th>\n",
              "      <th>smoker</th>\n",
              "      <th>region</th>\n",
              "      <th>charges</th>\n",
              "      <th>agg_cluster</th>\n",
              "      <th>agg_cluster_no_smoker</th>\n",
              "    </tr>\n",
              "  </thead>\n",
              "  <tbody>\n",
              "    <tr>\n",
              "      <th>0</th>\n",
              "      <td>19</td>\n",
              "      <td>female</td>\n",
              "      <td>27.900</td>\n",
              "      <td>0</td>\n",
              "      <td>yes</td>\n",
              "      <td>southwest</td>\n",
              "      <td>16884.92400</td>\n",
              "      <td>0</td>\n",
              "      <td>0</td>\n",
              "    </tr>\n",
              "    <tr>\n",
              "      <th>1</th>\n",
              "      <td>18</td>\n",
              "      <td>male</td>\n",
              "      <td>33.770</td>\n",
              "      <td>1</td>\n",
              "      <td>no</td>\n",
              "      <td>southeast</td>\n",
              "      <td>1725.55230</td>\n",
              "      <td>1</td>\n",
              "      <td>1</td>\n",
              "    </tr>\n",
              "    <tr>\n",
              "      <th>2</th>\n",
              "      <td>28</td>\n",
              "      <td>male</td>\n",
              "      <td>33.000</td>\n",
              "      <td>3</td>\n",
              "      <td>no</td>\n",
              "      <td>southeast</td>\n",
              "      <td>4449.46200</td>\n",
              "      <td>1</td>\n",
              "      <td>1</td>\n",
              "    </tr>\n",
              "    <tr>\n",
              "      <th>3</th>\n",
              "      <td>33</td>\n",
              "      <td>male</td>\n",
              "      <td>22.705</td>\n",
              "      <td>0</td>\n",
              "      <td>no</td>\n",
              "      <td>northwest</td>\n",
              "      <td>21984.47061</td>\n",
              "      <td>1</td>\n",
              "      <td>0</td>\n",
              "    </tr>\n",
              "    <tr>\n",
              "      <th>4</th>\n",
              "      <td>32</td>\n",
              "      <td>male</td>\n",
              "      <td>28.880</td>\n",
              "      <td>0</td>\n",
              "      <td>no</td>\n",
              "      <td>northwest</td>\n",
              "      <td>3866.85520</td>\n",
              "      <td>1</td>\n",
              "      <td>0</td>\n",
              "    </tr>\n",
              "  </tbody>\n",
              "</table>\n",
              "</div>"
            ],
            "text/plain": [
              "   age     sex     bmi  children smoker     region      charges  agg_cluster  \\\n",
              "0   19  female  27.900         0    yes  southwest  16884.92400            0   \n",
              "1   18    male  33.770         1     no  southeast   1725.55230            1   \n",
              "2   28    male  33.000         3     no  southeast   4449.46200            1   \n",
              "3   33    male  22.705         0     no  northwest  21984.47061            1   \n",
              "4   32    male  28.880         0     no  northwest   3866.85520            1   \n",
              "\n",
              "   agg_cluster_no_smoker  \n",
              "0                      0  \n",
              "1                      1  \n",
              "2                      1  \n",
              "3                      0  \n",
              "4                      0  "
            ]
          },
          "execution_count": 32,
          "metadata": {},
          "output_type": "execute_result"
        }
      ],
      "source": [
        "distance_matrix = gower.gower_matrix(df[['age', 'sex', 'bmi', 'children', 'region', 'charges']])\n",
        "agg = AgglomerativeClustering(metric=\"precomputed\", linkage=\"average\").fit(distance_matrix)\n",
        "df['agg_cluster_no_smoker'] = agg.labels_\n",
        "df.head()"
      ]
    },
    {
      "cell_type": "code",
      "execution_count": 33,
      "metadata": {
        "colab": {
          "base_uri": "https://localhost:8080/"
        },
        "id": "XFdaVqlqwL0u",
        "outputId": "2ec55364-5f83-427a-e9e0-08777883c34e"
      },
      "outputs": [
        {
          "data": {
            "text/plain": [
              "agg_cluster_no_smoker\n",
              "0    823\n",
              "1    515\n",
              "Name: count, dtype: int64"
            ]
          },
          "execution_count": 33,
          "metadata": {},
          "output_type": "execute_result"
        }
      ],
      "source": [
        "df.agg_cluster_no_smoker.value_counts()"
      ]
    }
  ],
  "metadata": {
    "colab": {
      "provenance": [],
      "toc_visible": true
    },
    "kernelspec": {
      "display_name": "base",
      "language": "python",
      "name": "python3"
    },
    "language_info": {
      "codemirror_mode": {
        "name": "ipython",
        "version": 3
      },
      "file_extension": ".py",
      "mimetype": "text/x-python",
      "name": "python",
      "nbconvert_exporter": "python",
      "pygments_lexer": "ipython3",
      "version": "3.12.4"
    }
  },
  "nbformat": 4,
  "nbformat_minor": 0
}
