{
  "cells": [
    {
      "cell_type": "markdown",
      "metadata": {
        "id": "5xHHLjV52ezU"
      },
      "source": [
        "# **Bivariate: Cat/Num: Stats**\n",
        "\n",
        "---\n",
        "\n"
      ]
    },
    {
      "cell_type": "markdown",
      "metadata": {
        "id": "tfny3xSNbLJn"
      },
      "source": [
        "## **t-test**"
      ]
    },
    {
      "cell_type": "code",
      "execution_count": 39,
      "metadata": {
        "colab": {
          "base_uri": "https://localhost:8080/",
          "height": 423
        },
        "id": "3Ui0q-wzbKpy",
        "outputId": "2110a6a0-5138-4ebd-b840-f71be53da9d3"
      },
      "outputs": [
        {
          "data": {
            "text/html": [
              "<div>\n",
              "<style scoped>\n",
              "    .dataframe tbody tr th:only-of-type {\n",
              "        vertical-align: middle;\n",
              "    }\n",
              "\n",
              "    .dataframe tbody tr th {\n",
              "        vertical-align: top;\n",
              "    }\n",
              "\n",
              "    .dataframe thead th {\n",
              "        text-align: right;\n",
              "    }\n",
              "</style>\n",
              "<table border=\"1\" class=\"dataframe\">\n",
              "  <thead>\n",
              "    <tr style=\"text-align: right;\">\n",
              "      <th></th>\n",
              "      <th>ID</th>\n",
              "      <th>Marital Status</th>\n",
              "      <th>Gender</th>\n",
              "      <th>Income</th>\n",
              "      <th>Children</th>\n",
              "      <th>Cars</th>\n",
              "      <th>Age</th>\n",
              "      <th>Education</th>\n",
              "      <th>Occupation</th>\n",
              "      <th>Home Owner</th>\n",
              "      <th>Commute Distance</th>\n",
              "      <th>Region</th>\n",
              "      <th>Purchased Bike</th>\n",
              "    </tr>\n",
              "  </thead>\n",
              "  <tbody>\n",
              "    <tr>\n",
              "      <th>0</th>\n",
              "      <td>19147</td>\n",
              "      <td>Married</td>\n",
              "      <td>Male</td>\n",
              "      <td>40000</td>\n",
              "      <td>0</td>\n",
              "      <td>1</td>\n",
              "      <td>42</td>\n",
              "      <td>Bachelors</td>\n",
              "      <td>Professional</td>\n",
              "      <td>No</td>\n",
              "      <td>0-1 Miles</td>\n",
              "      <td>North America</td>\n",
              "      <td>No</td>\n",
              "    </tr>\n",
              "    <tr>\n",
              "      <th>1</th>\n",
              "      <td>22296</td>\n",
              "      <td>Married</td>\n",
              "      <td>Male</td>\n",
              "      <td>70000</td>\n",
              "      <td>0</td>\n",
              "      <td>1</td>\n",
              "      <td>38</td>\n",
              "      <td>Bachelors</td>\n",
              "      <td>Professional</td>\n",
              "      <td>No</td>\n",
              "      <td>0-1 Miles</td>\n",
              "      <td>North America</td>\n",
              "      <td>No</td>\n",
              "    </tr>\n",
              "    <tr>\n",
              "      <th>2</th>\n",
              "      <td>25983</td>\n",
              "      <td>Married</td>\n",
              "      <td>Male</td>\n",
              "      <td>70000</td>\n",
              "      <td>0</td>\n",
              "      <td>1</td>\n",
              "      <td>43</td>\n",
              "      <td>Bachelors</td>\n",
              "      <td>Professional</td>\n",
              "      <td>No</td>\n",
              "      <td>0-1 Miles</td>\n",
              "      <td>North America</td>\n",
              "      <td>No</td>\n",
              "    </tr>\n",
              "    <tr>\n",
              "      <th>3</th>\n",
              "      <td>29134</td>\n",
              "      <td>Married</td>\n",
              "      <td>Male</td>\n",
              "      <td>60000</td>\n",
              "      <td>4</td>\n",
              "      <td>3</td>\n",
              "      <td>42</td>\n",
              "      <td>Bachelors</td>\n",
              "      <td>Skilled Manual</td>\n",
              "      <td>No</td>\n",
              "      <td>10+ Miles</td>\n",
              "      <td>North America</td>\n",
              "      <td>No</td>\n",
              "    </tr>\n",
              "    <tr>\n",
              "      <th>4</th>\n",
              "      <td>27388</td>\n",
              "      <td>Married</td>\n",
              "      <td>Male</td>\n",
              "      <td>60000</td>\n",
              "      <td>3</td>\n",
              "      <td>2</td>\n",
              "      <td>66</td>\n",
              "      <td>Bachelors</td>\n",
              "      <td>Management</td>\n",
              "      <td>No</td>\n",
              "      <td>1-2 Miles</td>\n",
              "      <td>North America</td>\n",
              "      <td>No</td>\n",
              "    </tr>\n",
              "    <tr>\n",
              "      <th>...</th>\n",
              "      <td>...</td>\n",
              "      <td>...</td>\n",
              "      <td>...</td>\n",
              "      <td>...</td>\n",
              "      <td>...</td>\n",
              "      <td>...</td>\n",
              "      <td>...</td>\n",
              "      <td>...</td>\n",
              "      <td>...</td>\n",
              "      <td>...</td>\n",
              "      <td>...</td>\n",
              "      <td>...</td>\n",
              "      <td>...</td>\n",
              "    </tr>\n",
              "    <tr>\n",
              "      <th>995</th>\n",
              "      <td>14798</td>\n",
              "      <td>Single</td>\n",
              "      <td>Female</td>\n",
              "      <td>10000</td>\n",
              "      <td>4</td>\n",
              "      <td>2</td>\n",
              "      <td>41</td>\n",
              "      <td>Partial High School</td>\n",
              "      <td>Manual</td>\n",
              "      <td>Yes</td>\n",
              "      <td>0-1 Miles</td>\n",
              "      <td>Europe</td>\n",
              "      <td>Yes</td>\n",
              "    </tr>\n",
              "    <tr>\n",
              "      <th>996</th>\n",
              "      <td>16259</td>\n",
              "      <td>Single</td>\n",
              "      <td>Female</td>\n",
              "      <td>10000</td>\n",
              "      <td>4</td>\n",
              "      <td>2</td>\n",
              "      <td>40</td>\n",
              "      <td>Partial High School</td>\n",
              "      <td>Manual</td>\n",
              "      <td>Yes</td>\n",
              "      <td>0-1 Miles</td>\n",
              "      <td>Europe</td>\n",
              "      <td>Yes</td>\n",
              "    </tr>\n",
              "    <tr>\n",
              "      <th>997</th>\n",
              "      <td>16410</td>\n",
              "      <td>Single</td>\n",
              "      <td>Female</td>\n",
              "      <td>10000</td>\n",
              "      <td>4</td>\n",
              "      <td>2</td>\n",
              "      <td>41</td>\n",
              "      <td>Partial High School</td>\n",
              "      <td>Manual</td>\n",
              "      <td>Yes</td>\n",
              "      <td>0-1 Miles</td>\n",
              "      <td>Europe</td>\n",
              "      <td>Yes</td>\n",
              "    </tr>\n",
              "    <tr>\n",
              "      <th>998</th>\n",
              "      <td>28957</td>\n",
              "      <td>Single</td>\n",
              "      <td>Female</td>\n",
              "      <td>120000</td>\n",
              "      <td>0</td>\n",
              "      <td>4</td>\n",
              "      <td>34</td>\n",
              "      <td>Partial High School</td>\n",
              "      <td>Professional</td>\n",
              "      <td>Yes</td>\n",
              "      <td>10+ Miles</td>\n",
              "      <td>Pacific</td>\n",
              "      <td>Yes</td>\n",
              "    </tr>\n",
              "    <tr>\n",
              "      <th>999</th>\n",
              "      <td>28729</td>\n",
              "      <td>Single</td>\n",
              "      <td>Female</td>\n",
              "      <td>20000</td>\n",
              "      <td>0</td>\n",
              "      <td>2</td>\n",
              "      <td>26</td>\n",
              "      <td>Partial High School</td>\n",
              "      <td>Manual</td>\n",
              "      <td>Yes</td>\n",
              "      <td>1-2 Miles</td>\n",
              "      <td>Europe</td>\n",
              "      <td>Yes</td>\n",
              "    </tr>\n",
              "  </tbody>\n",
              "</table>\n",
              "<p>1000 rows × 13 columns</p>\n",
              "</div>"
            ],
            "text/plain": [
              "        ID Marital Status  Gender  Income  Children  Cars  Age  \\\n",
              "0    19147        Married    Male   40000         0     1   42   \n",
              "1    22296        Married    Male   70000         0     1   38   \n",
              "2    25983        Married    Male   70000         0     1   43   \n",
              "3    29134        Married    Male   60000         4     3   42   \n",
              "4    27388        Married    Male   60000         3     2   66   \n",
              "..     ...            ...     ...     ...       ...   ...  ...   \n",
              "995  14798         Single  Female   10000         4     2   41   \n",
              "996  16259         Single  Female   10000         4     2   40   \n",
              "997  16410         Single  Female   10000         4     2   41   \n",
              "998  28957         Single  Female  120000         0     4   34   \n",
              "999  28729         Single  Female   20000         0     2   26   \n",
              "\n",
              "               Education      Occupation Home Owner Commute Distance  \\\n",
              "0              Bachelors    Professional         No        0-1 Miles   \n",
              "1              Bachelors    Professional         No        0-1 Miles   \n",
              "2              Bachelors    Professional         No        0-1 Miles   \n",
              "3              Bachelors  Skilled Manual         No        10+ Miles   \n",
              "4              Bachelors      Management         No        1-2 Miles   \n",
              "..                   ...             ...        ...              ...   \n",
              "995  Partial High School          Manual        Yes        0-1 Miles   \n",
              "996  Partial High School          Manual        Yes        0-1 Miles   \n",
              "997  Partial High School          Manual        Yes        0-1 Miles   \n",
              "998  Partial High School    Professional        Yes        10+ Miles   \n",
              "999  Partial High School          Manual        Yes        1-2 Miles   \n",
              "\n",
              "            Region Purchased Bike  \n",
              "0    North America             No  \n",
              "1    North America             No  \n",
              "2    North America             No  \n",
              "3    North America             No  \n",
              "4    North America             No  \n",
              "..             ...            ...  \n",
              "995         Europe            Yes  \n",
              "996         Europe            Yes  \n",
              "997         Europe            Yes  \n",
              "998        Pacific            Yes  \n",
              "999         Europe            Yes  \n",
              "\n",
              "[1000 rows x 13 columns]"
            ]
          },
          "execution_count": 39,
          "metadata": {},
          "output_type": "execute_result"
        }
      ],
      "source": [
        "# Don't forget to mount Google Drive if you haven't already:\n",
        "# from google.colab import drive\n",
        "# drive.mount('/content/drive')\n",
        "\n",
        "import pandas as pd\n",
        "\n",
        "df = pd.read_csv('bikebuyers_original.csv')\n",
        "df"
      ]
    },
    {
      "cell_type": "code",
      "execution_count": 40,
      "metadata": {
        "colab": {
          "base_uri": "https://localhost:8080/"
        },
        "id": "GYke8BWGtQJf",
        "outputId": "4b3e8e7b-2a50-4b86-c75d-91560032dca6"
      },
      "outputs": [
        {
          "name": "stdout",
          "output_type": "stream",
          "text": [
            "T-statistic: 1.3063563652508063, P-value: 0.19205863693062383\n"
          ]
        }
      ],
      "source": [
        "import pandas as pd\n",
        "from scipy import stats\n",
        "\n",
        "purchased_yes_male = df[(df['Purchased Bike'] == 'Yes') & (df['Gender'] == 'Male')]['Income']\n",
        "purchased_yes_female = df[(df['Purchased Bike'] == 'Yes') & (df['Gender'] == 'Female')]['Income']\n",
        "\n",
        "t_stat, p_value = stats.ttest_ind(purchased_yes_male, purchased_yes_female, equal_var=False)\n",
        "\n",
        "print(f'T-statistic: {t_stat}, P-value: {p_value}')\n"
      ]
    },
    {
      "cell_type": "code",
      "execution_count": null,
      "metadata": {},
      "outputs": [],
      "source": []
    },
    {
      "cell_type": "code",
      "execution_count": 41,
      "metadata": {
        "colab": {
          "base_uri": "https://localhost:8080/",
          "height": 404
        },
        "id": "fefmaM0lzzdx",
        "outputId": "f3e3b7d1-996f-4833-9254-5af37d479f08"
      },
      "outputs": [
        {
          "data": {
            "image/png": "[encoded data removed]",
            "text/plain": [
              "<Figure size 617.111x500 with 1 Axes>"
            ]
          },
          "metadata": {},
          "output_type": "display_data"
        },
        {
          "name": "stdout",
          "output_type": "stream",
          "text": [
            "Did purchase bike\t$57505.2\n",
            "Did not purchase bike\t$54874.76\n"
          ]
        }
      ],
      "source": [
        "import seaborn as sns\n",
        "import matplotlib.pyplot as plt\n",
        "\n",
        "sns.displot(df, x=\"Income\", hue=\"Purchased Bike\", kind='kde', fill=True)\n",
        "plt.axvline(x=purchased_yes.mean(), color='orange')\n",
        "plt.axvline(x=purchased_no.mean(), color='blue')\n",
        "plt.show()\n",
        "\n",
        "print(f'Did purchase bike\\t${round(purchased_yes.mean(), 2)}')\n",
        "print(f'Did not purchase bike\\t${round(purchased_no.mean(), 2)}')"
      ]
    },
    {
      "cell_type": "code",
      "execution_count": 42,
      "metadata": {
        "colab": {
          "base_uri": "https://localhost:8080/"
        },
        "id": "yjNuPIhyyZOt",
        "outputId": "9f47e3d3-9fa1-4f0c-fd4b-911f4de687ae"
      },
      "outputs": [
        {
          "data": {
            "text/plain": [
              "TtestResult(statistic=1.3376803853026817, pvalue=0.18130539397879913, df=998.0)"
            ]
          },
          "execution_count": 42,
          "metadata": {},
          "output_type": "execute_result"
        }
      ],
      "source": [
        "from scipy import stats\n",
        "\n",
        "stats.ttest_ind(purchased_yes, purchased_no)"
      ]
    },
    {
      "cell_type": "code",
      "execution_count": 43,
      "metadata": {
        "colab": {
          "base_uri": "https://localhost:8080/"
        },
        "id": "Z1EhfYvb4npV",
        "outputId": "d1a0018c-c3f1-4d4a-8a1e-b84e4f54492d"
      },
      "outputs": [
        {
          "name": "stdout",
          "output_type": "stream",
          "text": [
            "t-test:\t1.3376803853026817\n",
            "p-value:0.18130539397879913\n"
          ]
        }
      ],
      "source": [
        "t, p = stats.ttest_ind(purchased_yes, purchased_no)\n",
        "\n",
        "print(f't-test:\\t{t}')\n",
        "print(f'p-value:{p}')"
      ]
    },
    {
      "cell_type": "code",
      "execution_count": 44,
      "metadata": {
        "colab": {
          "base_uri": "https://localhost:8080/",
          "height": 404
        },
        "id": "mEmwnhv86Mxe",
        "outputId": "6f856b41-2c01-445b-c869-64375fcec273"
      },
      "outputs": [
        {
          "data": {
            "image/png": "[encoded data removed]",
            "text/plain": [
              "<Figure size 607.986x500 with 1 Axes>"
            ]
          },
          "metadata": {},
          "output_type": "display_data"
        },
        {
          "name": "stdout",
          "output_type": "stream",
          "text": [
            "t-test:\t2.5388846033694885\n",
            "p-value:0.011271571956825746\n"
          ]
        }
      ],
      "source": [
        "df = pd.read_csv('bikebuyers_original.csv',usecols=['Purchased Bike', 'Income', 'Education', 'Marital Status'])\n",
        "\n",
        "married = df[df['Marital Status'] == 'Married']['Income']\n",
        "single = df[df['Marital Status'] == 'Single']['Income']\n",
        "\n",
        "sns.displot(df, x=\"Income\", hue=\"Marital Status\", kind='kde', fill=True)\n",
        "plt.axvline(x=married.mean(), color='blue')\n",
        "plt.axvline(x=single.mean(), color='orange')\n",
        "plt.show()\n",
        "\n",
        "t, p = stats.ttest_ind(married, single)\n",
        "\n",
        "print(f't-test:\\t{t}')\n",
        "print(f'p-value:{p}')"
      ]
    },
    {
      "cell_type": "markdown",
      "metadata": {
        "id": "_iN3eYic6jVa"
      },
      "source": [
        "It appears that married customers have statistically significantly higher incomes than single customers because the p-value is below 0.05, the t-test is a positive number, and the married list was inputted into the ttest_ind function first (indicating that single incomes were subtracted from married incomes"
      ]
    },
    {
      "cell_type": "markdown",
      "metadata": {
        "id": "xOCxBmLW2pMg"
      },
      "source": [
        "## **one-way ANOVA**"
      ]
    },
    {
      "cell_type": "code",
      "execution_count": 45,
      "metadata": {
        "colab": {
          "base_uri": "https://localhost:8080/",
          "height": 369
        },
        "id": "fS4wglRd2tXS",
        "outputId": "aa1d7c43-3f40-40d1-8916-0e6846a58ca3"
      },
      "outputs": [
        {
          "data": {
            "image/png": "[encoded data removed]",
            "text/plain": [
              "<Figure size 680.75x500 with 1 Axes>"
            ]
          },
          "metadata": {},
          "output_type": "display_data"
        }
      ],
      "source": [
        "# Don't forget to mount Google Drive if you haven't already:\n",
        "# from google.colab import drive\n",
        "# drive.mount('/content/drive')\n",
        "\n",
        "import pandas as pd\n",
        "import seaborn as sns\n",
        "from matplotlib import pyplot as plt\n",
        "\n",
        "df = pd.read_csv('bikebuyers_original.csv',usecols=['Purchased Bike', 'Income', 'Education'])\n",
        "\n",
        "bachelors = df[df['Education'] == 'Bachelors']['Income']\n",
        "graduate = df[df['Education'] == 'Graduate Degree']['Income']\n",
        "highschool = df[df['Education'] == 'High School']['Income']\n",
        "partialcollege = df[df['Education'] == 'Partial College']['Income']\n",
        "partialhighschool = df[df['Education'] == 'Partial High School']['Income']\n",
        "\n",
        "sns.displot(df, x=\"Income\", hue=\"Education\", kind='kde', fill=True)\n",
        "plt.axvline(x=bachelors.mean(), color='blue')\n",
        "plt.axvline(x=graduate.mean(), color='orange')\n",
        "plt.axvline(x=highschool.mean(), color='green')\n",
        "plt.axvline(x=partialcollege.mean(), color='red')\n",
        "plt.axvline(x=partialhighschool.mean(), color='purple')\n",
        "plt.show()"
      ]
    },
    {
      "cell_type": "code",
      "execution_count": 46,
      "metadata": {
        "colab": {
          "base_uri": "https://localhost:8080/"
        },
        "id": "t0dMFvbo7ZOm",
        "outputId": "79c59e7e-bf4b-4392-fe79-d54673307e5b"
      },
      "outputs": [
        {
          "name": "stdout",
          "output_type": "stream",
          "text": [
            "F-stat: 23.472223177586464\n",
            "p-value:1.4457374425180454e-18\n"
          ]
        }
      ],
      "source": [
        "from scipy import stats\n",
        "\n",
        "f, p = stats.f_oneway(bachelors, graduate, highschool, partialcollege, partialhighschool)\n",
        "\n",
        "print(f'F-stat: {f}')\n",
        "print(f'p-value:{p}')"
      ]
    },
    {
      "cell_type": "markdown",
      "metadata": {
        "id": "70n5q3sKcDxk"
      },
      "source": [
        "## **Generating Group Lists for ANOVA**"
      ]
    },
    {
      "cell_type": "code",
      "execution_count": 47,
      "metadata": {
        "colab": {
          "base_uri": "https://localhost:8080/"
        },
        "id": "9nijNczAcENK",
        "outputId": "f5295985-762f-41fd-b091-b5ecf5cabdc5"
      },
      "outputs": [
        {
          "data": {
            "text/plain": [
              "array(['Bachelors', 'Graduate Degree', 'High School', 'Partial College',\n",
              "       'Partial High School'], dtype=object)"
            ]
          },
          "execution_count": 47,
          "metadata": {},
          "output_type": "execute_result"
        }
      ],
      "source": [
        "# Don't forget to mount Google Drive if you haven't already:\n",
        "# from google.colab import drive\n",
        "# drive.mount('/content/drive')\n",
        "\n",
        "import pandas as pd\n",
        "from scipy import stats\n",
        "\n",
        "df = pd.read_csv('bikebuyers_original.csv', usecols=['Income', 'Education'])\n",
        "\n",
        "groups = df['Education'].unique() # discover each unique group value\n",
        "groups"
      ]
    },
    {
      "cell_type": "code",
      "execution_count": 48,
      "metadata": {
        "colab": {
          "base_uri": "https://localhost:8080/"
        },
        "id": "qs5BPDBzBhfd",
        "outputId": "368293ed-9639-4371-857c-695d40399477"
      },
      "outputs": [
        {
          "data": {
            "text/plain": [
              "[0      40000\n",
              " 1      70000\n",
              " 2      70000\n",
              " 3      60000\n",
              " 4      60000\n",
              "        ...  \n",
              " 301    70000\n",
              " 302    40000\n",
              " 303    40000\n",
              " 304    70000\n",
              " 305    60000\n",
              " Name: Income, Length: 306, dtype: int64,\n",
              " 306     60000\n",
              " 307     60000\n",
              " 308     60000\n",
              " 309     70000\n",
              " 310    100000\n",
              "         ...  \n",
              " 475     60000\n",
              " 476     60000\n",
              " 477     70000\n",
              " 478     70000\n",
              " 479     60000\n",
              " Name: Income, Length: 174, dtype: int64,\n",
              " 480     20000\n",
              " 481     30000\n",
              " 482     60000\n",
              " 483     20000\n",
              " 484     40000\n",
              "         ...  \n",
              " 654     20000\n",
              " 655     10000\n",
              " 656    120000\n",
              " 657     70000\n",
              " 658     70000\n",
              " Name: Income, Length: 179, dtype: int64,\n",
              " 659     60000\n",
              " 660     40000\n",
              " 661     30000\n",
              " 662    130000\n",
              " 663     60000\n",
              "         ...  \n",
              " 919     80000\n",
              " 920     70000\n",
              " 921     40000\n",
              " 922    120000\n",
              " 923     60000\n",
              " Name: Income, Length: 265, dtype: int64,\n",
              " 924     30000\n",
              " 925     10000\n",
              " 926     10000\n",
              " 927     20000\n",
              " 928     70000\n",
              "         ...  \n",
              " 995     10000\n",
              " 996     10000\n",
              " 997     10000\n",
              " 998    120000\n",
              " 999     20000\n",
              " Name: Income, Length: 76, dtype: int64]"
            ]
          },
          "execution_count": 48,
          "metadata": {},
          "output_type": "execute_result"
        }
      ],
      "source": [
        "grouped_values = [] # create an empty list of keep track of the label sub-lists\n",
        "\n",
        "for group in groups: # ['Bachelors', 'Graduate Degree', 'High School', 'Partial College', 'Partial High School']\n",
        "  # append a sub-list of incomes into the overall list\n",
        "  grouped_values.append(df[df['Education'] == group]['Income'])\n",
        "\n",
        "grouped_values # print out the list to examine it"
      ]
    },
    {
      "cell_type": "code",
      "execution_count": 49,
      "metadata": {
        "colab": {
          "base_uri": "https://localhost:8080/"
        },
        "id": "ZWY_9WCC_2K4",
        "outputId": "daf68c42-174b-40ea-b15b-9de45c881b9a"
      },
      "outputs": [
        {
          "name": "stdout",
          "output_type": "stream",
          "text": [
            "F: 23.472223177586464\n",
            "p: 1.4457374425180454e-18\n"
          ]
        }
      ],
      "source": [
        "# use the '*' symbol to dynamically input each sub-list into f_oneway separated by commas\n",
        "f, p = stats.f_oneway(*grouped_values)\n",
        "\n",
        "print(f'F: {f}')\n",
        "print(f'p: {p}')"
      ]
    },
    {
      "cell_type": "code",
      "execution_count": 50,
      "metadata": {
        "colab": {
          "base_uri": "https://localhost:8080/"
        },
        "id": "RfoiWFVP_Tl9",
        "outputId": "55fd9aa6-1036-4603-932b-b1a865aa3de2"
      },
      "outputs": [
        {
          "name": "stdout",
          "output_type": "stream",
          "text": [
            "F: 2177.614868056519\n",
            "p: 8.271435842182967e-283\n"
          ]
        }
      ],
      "source": [
        "def anova(df, feature, label):\n",
        "  groups = df[feature].unique() # discover each unique group value\n",
        "  grouped_values = []           # create an overall list of keep track of the label sub-lists\n",
        "  for group in groups:          # for each unique group value\n",
        "    grouped_values.append(df[df[feature]==group][label])  # append a sub-list of label values into the overall list\n",
        "  return stats.f_oneway(*grouped_values)                  # use the '*' symbol to dynamically input each sub-list into the f_oneway_function separated by commans\n",
        "\n",
        "# Bring in any data set that we have used in prior examples:\n",
        "df = pd.read_csv('insurance.csv')\n",
        "f, p = anova(df, 'smoker', 'charges')\n",
        "print(f'F: {f}')\n",
        "print(f'p: {p}')"
      ]
    },
    {
      "cell_type": "markdown",
      "metadata": {
        "id": "AUk--IAtKBRr"
      },
      "source": [
        "# **Practice Problems**\n",
        "\n",
        "---\n",
        "\n",
        "\n"
      ]
    },
    {
      "cell_type": "markdown",
      "metadata": {
        "id": "HUD1rt6UGjqW"
      },
      "source": [
        "## Practice 1: NFL Plays\n",
        "You have been hired as a consultant to analyze NFL plays in order to eventually predict how many yards will be earned by each play.\n",
        "* Import the dataset above into a DataFrame and print the first five records to examine the data. Use pd.set_option('display.max_columns', None) after you import pands in order to view all columns\n",
        "* Print the unique values of Formation\n",
        "* Drop all records except those with the formation of 'UNDER CENTER', 'SHOTGUN', 'NO HUDDLE', or 'NO HUDDLE SHOTGUN'\n",
        "  * Search Google for 'filter dataframe if value in list' for examples on how to do this\n",
        "* Calculate the mean Salary for each of the remaining Formation types and add them to a KDE chart to view the differences by status\n",
        "* Using a t-test, determine whether there is a significant difference in Yards between SHOTGUN and UNDER CENTER\n",
        "* Using an ANOVA, determine whether there is a significant difference among all four Formation types"
      ]
    },
    {
      "cell_type": "code",
      "execution_count": 51,
      "metadata": {
        "colab": {
          "base_uri": "https://localhost:8080/",
          "height": 357
        },
        "id": "afpyBZzSKL9k",
        "outputId": "f2b375ce-7f31-4fea-d0b7-7700791ecfd0"
      },
      "outputs": [
        {
          "ename": "FileNotFoundError",
          "evalue": "[Errno 2] No such file or directory: '/content/drive/MyDrive/Colab Notebooks/data/nfl_plays_2022.csv'",
          "output_type": "error",
          "traceback": [
            "\u001b[1;31m---------------------------------------------------------------------------\u001b[0m",
            "\u001b[1;31mFileNotFoundError\u001b[0m                         Traceback (most recent call last)",
            "Cell \u001b[1;32mIn[51], line 10\u001b[0m\n\u001b[0;32m      7\u001b[0m \u001b[38;5;28;01mimport\u001b[39;00m \u001b[38;5;21;01mpandas\u001b[39;00m \u001b[38;5;28;01mas\u001b[39;00m \u001b[38;5;21;01mpd\u001b[39;00m\n\u001b[0;32m      8\u001b[0m pd\u001b[38;5;241m.\u001b[39mset_option(\u001b[38;5;124m'\u001b[39m\u001b[38;5;124mdisplay.max_columns\u001b[39m\u001b[38;5;124m'\u001b[39m, \u001b[38;5;28;01mNone\u001b[39;00m)\n\u001b[1;32m---> 10\u001b[0m df \u001b[38;5;241m=\u001b[39m pd\u001b[38;5;241m.\u001b[39mread_csv(\u001b[38;5;124m'\u001b[39m\u001b[38;5;124m/content/drive/MyDrive/Colab Notebooks/data/nfl_plays_2022.csv\u001b[39m\u001b[38;5;124m'\u001b[39m)\n\u001b[0;32m     11\u001b[0m df\u001b[38;5;241m.\u001b[39mhead()\n",
            "File \u001b[1;32mc:\\Users\\danli\\anaconda3\\Lib\\site-packages\\pandas\\io\\parsers\\readers.py:1026\u001b[0m, in \u001b[0;36mread_csv\u001b[1;34m(filepath_or_buffer, sep, delimiter, header, names, index_col, usecols, dtype, engine, converters, true_values, false_values, skipinitialspace, skiprows, skipfooter, nrows, na_values, keep_default_na, na_filter, verbose, skip_blank_lines, parse_dates, infer_datetime_format, keep_date_col, date_parser, date_format, dayfirst, cache_dates, iterator, chunksize, compression, thousands, decimal, lineterminator, quotechar, quoting, doublequote, escapechar, comment, encoding, encoding_errors, dialect, on_bad_lines, delim_whitespace, low_memory, memory_map, float_precision, storage_options, dtype_backend)\u001b[0m\n\u001b[0;32m   1013\u001b[0m kwds_defaults \u001b[38;5;241m=\u001b[39m _refine_defaults_read(\n\u001b[0;32m   1014\u001b[0m     dialect,\n\u001b[0;32m   1015\u001b[0m     delimiter,\n\u001b[1;32m   (...)\u001b[0m\n\u001b[0;32m   1022\u001b[0m     dtype_backend\u001b[38;5;241m=\u001b[39mdtype_backend,\n\u001b[0;32m   1023\u001b[0m )\n\u001b[0;32m   1024\u001b[0m kwds\u001b[38;5;241m.\u001b[39mupdate(kwds_defaults)\n\u001b[1;32m-> 1026\u001b[0m \u001b[38;5;28;01mreturn\u001b[39;00m _read(filepath_or_buffer, kwds)\n",
            "File \u001b[1;32mc:\\Users\\danli\\anaconda3\\Lib\\site-packages\\pandas\\io\\parsers\\readers.py:620\u001b[0m, in \u001b[0;36m_read\u001b[1;34m(filepath_or_buffer, kwds)\u001b[0m\n\u001b[0;32m    617\u001b[0m _validate_names(kwds\u001b[38;5;241m.\u001b[39mget(\u001b[38;5;124m\"\u001b[39m\u001b[38;5;124mnames\u001b[39m\u001b[38;5;124m\"\u001b[39m, \u001b[38;5;28;01mNone\u001b[39;00m))\n\u001b[0;32m    619\u001b[0m \u001b[38;5;66;03m# Create the parser.\u001b[39;00m\n\u001b[1;32m--> 620\u001b[0m parser \u001b[38;5;241m=\u001b[39m TextFileReader(filepath_or_buffer, \u001b[38;5;241m*\u001b[39m\u001b[38;5;241m*\u001b[39mkwds)\n\u001b[0;32m    622\u001b[0m \u001b[38;5;28;01mif\u001b[39;00m chunksize \u001b[38;5;129;01mor\u001b[39;00m iterator:\n\u001b[0;32m    623\u001b[0m     \u001b[38;5;28;01mreturn\u001b[39;00m parser\n",
            "File \u001b[1;32mc:\\Users\\danli\\anaconda3\\Lib\\site-packages\\pandas\\io\\parsers\\readers.py:1620\u001b[0m, in \u001b[0;36mTextFileReader.__init__\u001b[1;34m(self, f, engine, **kwds)\u001b[0m\n\u001b[0;32m   1617\u001b[0m     \u001b[38;5;28mself\u001b[39m\u001b[38;5;241m.\u001b[39moptions[\u001b[38;5;124m\"\u001b[39m\u001b[38;5;124mhas_index_names\u001b[39m\u001b[38;5;124m\"\u001b[39m] \u001b[38;5;241m=\u001b[39m kwds[\u001b[38;5;124m\"\u001b[39m\u001b[38;5;124mhas_index_names\u001b[39m\u001b[38;5;124m\"\u001b[39m]\n\u001b[0;32m   1619\u001b[0m \u001b[38;5;28mself\u001b[39m\u001b[38;5;241m.\u001b[39mhandles: IOHandles \u001b[38;5;241m|\u001b[39m \u001b[38;5;28;01mNone\u001b[39;00m \u001b[38;5;241m=\u001b[39m \u001b[38;5;28;01mNone\u001b[39;00m\n\u001b[1;32m-> 1620\u001b[0m \u001b[38;5;28mself\u001b[39m\u001b[38;5;241m.\u001b[39m_engine \u001b[38;5;241m=\u001b[39m \u001b[38;5;28mself\u001b[39m\u001b[38;5;241m.\u001b[39m_make_engine(f, \u001b[38;5;28mself\u001b[39m\u001b[38;5;241m.\u001b[39mengine)\n",
            "File \u001b[1;32mc:\\Users\\danli\\anaconda3\\Lib\\site-packages\\pandas\\io\\parsers\\readers.py:1880\u001b[0m, in \u001b[0;36mTextFileReader._make_engine\u001b[1;34m(self, f, engine)\u001b[0m\n\u001b[0;32m   1878\u001b[0m     \u001b[38;5;28;01mif\u001b[39;00m \u001b[38;5;124m\"\u001b[39m\u001b[38;5;124mb\u001b[39m\u001b[38;5;124m\"\u001b[39m \u001b[38;5;129;01mnot\u001b[39;00m \u001b[38;5;129;01min\u001b[39;00m mode:\n\u001b[0;32m   1879\u001b[0m         mode \u001b[38;5;241m+\u001b[39m\u001b[38;5;241m=\u001b[39m \u001b[38;5;124m\"\u001b[39m\u001b[38;5;124mb\u001b[39m\u001b[38;5;124m\"\u001b[39m\n\u001b[1;32m-> 1880\u001b[0m \u001b[38;5;28mself\u001b[39m\u001b[38;5;241m.\u001b[39mhandles \u001b[38;5;241m=\u001b[39m get_handle(\n\u001b[0;32m   1881\u001b[0m     f,\n\u001b[0;32m   1882\u001b[0m     mode,\n\u001b[0;32m   1883\u001b[0m     encoding\u001b[38;5;241m=\u001b[39m\u001b[38;5;28mself\u001b[39m\u001b[38;5;241m.\u001b[39moptions\u001b[38;5;241m.\u001b[39mget(\u001b[38;5;124m\"\u001b[39m\u001b[38;5;124mencoding\u001b[39m\u001b[38;5;124m\"\u001b[39m, \u001b[38;5;28;01mNone\u001b[39;00m),\n\u001b[0;32m   1884\u001b[0m     compression\u001b[38;5;241m=\u001b[39m\u001b[38;5;28mself\u001b[39m\u001b[38;5;241m.\u001b[39moptions\u001b[38;5;241m.\u001b[39mget(\u001b[38;5;124m\"\u001b[39m\u001b[38;5;124mcompression\u001b[39m\u001b[38;5;124m\"\u001b[39m, \u001b[38;5;28;01mNone\u001b[39;00m),\n\u001b[0;32m   1885\u001b[0m     memory_map\u001b[38;5;241m=\u001b[39m\u001b[38;5;28mself\u001b[39m\u001b[38;5;241m.\u001b[39moptions\u001b[38;5;241m.\u001b[39mget(\u001b[38;5;124m\"\u001b[39m\u001b[38;5;124mmemory_map\u001b[39m\u001b[38;5;124m\"\u001b[39m, \u001b[38;5;28;01mFalse\u001b[39;00m),\n\u001b[0;32m   1886\u001b[0m     is_text\u001b[38;5;241m=\u001b[39mis_text,\n\u001b[0;32m   1887\u001b[0m     errors\u001b[38;5;241m=\u001b[39m\u001b[38;5;28mself\u001b[39m\u001b[38;5;241m.\u001b[39moptions\u001b[38;5;241m.\u001b[39mget(\u001b[38;5;124m\"\u001b[39m\u001b[38;5;124mencoding_errors\u001b[39m\u001b[38;5;124m\"\u001b[39m, \u001b[38;5;124m\"\u001b[39m\u001b[38;5;124mstrict\u001b[39m\u001b[38;5;124m\"\u001b[39m),\n\u001b[0;32m   1888\u001b[0m     storage_options\u001b[38;5;241m=\u001b[39m\u001b[38;5;28mself\u001b[39m\u001b[38;5;241m.\u001b[39moptions\u001b[38;5;241m.\u001b[39mget(\u001b[38;5;124m\"\u001b[39m\u001b[38;5;124mstorage_options\u001b[39m\u001b[38;5;124m\"\u001b[39m, \u001b[38;5;28;01mNone\u001b[39;00m),\n\u001b[0;32m   1889\u001b[0m )\n\u001b[0;32m   1890\u001b[0m \u001b[38;5;28;01massert\u001b[39;00m \u001b[38;5;28mself\u001b[39m\u001b[38;5;241m.\u001b[39mhandles \u001b[38;5;129;01mis\u001b[39;00m \u001b[38;5;129;01mnot\u001b[39;00m \u001b[38;5;28;01mNone\u001b[39;00m\n\u001b[0;32m   1891\u001b[0m f \u001b[38;5;241m=\u001b[39m \u001b[38;5;28mself\u001b[39m\u001b[38;5;241m.\u001b[39mhandles\u001b[38;5;241m.\u001b[39mhandle\n",
            "File \u001b[1;32mc:\\Users\\danli\\anaconda3\\Lib\\site-packages\\pandas\\io\\common.py:873\u001b[0m, in \u001b[0;36mget_handle\u001b[1;34m(path_or_buf, mode, encoding, compression, memory_map, is_text, errors, storage_options)\u001b[0m\n\u001b[0;32m    868\u001b[0m \u001b[38;5;28;01melif\u001b[39;00m \u001b[38;5;28misinstance\u001b[39m(handle, \u001b[38;5;28mstr\u001b[39m):\n\u001b[0;32m    869\u001b[0m     \u001b[38;5;66;03m# Check whether the filename is to be opened in binary mode.\u001b[39;00m\n\u001b[0;32m    870\u001b[0m     \u001b[38;5;66;03m# Binary mode does not support 'encoding' and 'newline'.\u001b[39;00m\n\u001b[0;32m    871\u001b[0m     \u001b[38;5;28;01mif\u001b[39;00m ioargs\u001b[38;5;241m.\u001b[39mencoding \u001b[38;5;129;01mand\u001b[39;00m \u001b[38;5;124m\"\u001b[39m\u001b[38;5;124mb\u001b[39m\u001b[38;5;124m\"\u001b[39m \u001b[38;5;129;01mnot\u001b[39;00m \u001b[38;5;129;01min\u001b[39;00m ioargs\u001b[38;5;241m.\u001b[39mmode:\n\u001b[0;32m    872\u001b[0m         \u001b[38;5;66;03m# Encoding\u001b[39;00m\n\u001b[1;32m--> 873\u001b[0m         handle \u001b[38;5;241m=\u001b[39m \u001b[38;5;28mopen\u001b[39m(\n\u001b[0;32m    874\u001b[0m             handle,\n\u001b[0;32m    875\u001b[0m             ioargs\u001b[38;5;241m.\u001b[39mmode,\n\u001b[0;32m    876\u001b[0m             encoding\u001b[38;5;241m=\u001b[39mioargs\u001b[38;5;241m.\u001b[39mencoding,\n\u001b[0;32m    877\u001b[0m             errors\u001b[38;5;241m=\u001b[39merrors,\n\u001b[0;32m    878\u001b[0m             newline\u001b[38;5;241m=\u001b[39m\u001b[38;5;124m\"\u001b[39m\u001b[38;5;124m\"\u001b[39m,\n\u001b[0;32m    879\u001b[0m         )\n\u001b[0;32m    880\u001b[0m     \u001b[38;5;28;01melse\u001b[39;00m:\n\u001b[0;32m    881\u001b[0m         \u001b[38;5;66;03m# Binary mode\u001b[39;00m\n\u001b[0;32m    882\u001b[0m         handle \u001b[38;5;241m=\u001b[39m \u001b[38;5;28mopen\u001b[39m(handle, ioargs\u001b[38;5;241m.\u001b[39mmode)\n",
            "\u001b[1;31mFileNotFoundError\u001b[0m: [Errno 2] No such file or directory: '/content/drive/MyDrive/Colab Notebooks/data/nfl_plays_2022.csv'"
          ]
        }
      ],
      "source": [
        "# Don't forget to mount Google Drive if you haven't already:\n",
        "# from google.colab import drive\n",
        "# drive.mount('/content/drive')\n",
        "\n",
        "# Import the dataset above into a DataFrame and print the first five records to examine the data\n",
        "\n",
        "import pandas as pd\n",
        "pd.set_option('display.max_columns', None)\n",
        "\n",
        "df = pd.read_csv('/content/drive/MyDrive/Colab Notebooks/data/nfl_plays_2022.csv')\n",
        "df.head()"
      ]
    },
    {
      "cell_type": "code",
      "execution_count": null,
      "metadata": {
        "colab": {
          "base_uri": "https://localhost:8080/"
        },
        "id": "OXu5l0tDKkBL",
        "outputId": "4097ceac-9693-4e29-e0e1-d9995f88da3f"
      },
      "outputs": [
        {
          "data": {
            "text/plain": [
              "array(['UNDER CENTER', 'FIELD GOAL', 'SHOTGUN', 'NO HUDDLE',\n",
              "       'NO HUDDLE SHOTGUN', 'PUNT', '0'], dtype=object)"
            ]
          },
          "execution_count": 71,
          "metadata": {},
          "output_type": "execute_result"
        }
      ],
      "source": [
        "# Print the unique values of Employee Status\n",
        "\n",
        "df['Formation'].unique()"
      ]
    },
    {
      "cell_type": "code",
      "execution_count": null,
      "metadata": {
        "id": "4M2aSRE5qgEL"
      },
      "outputs": [],
      "source": [
        "# Drop all records except those with the formation of 'UNDER CENTER', 'SHOTGUN', 'NO HUDDLE', or 'NO HUDDLE SHOTGUN'\n",
        "\n",
        "df = df[df['Formation'].isin(['UNDER CENTER', 'SHOTGUN', 'NO HUDDLE', 'NO HUDDLE SHOTGUN'])]"
      ]
    },
    {
      "cell_type": "code",
      "execution_count": null,
      "metadata": {
        "colab": {
          "base_uri": "https://localhost:8080/",
          "height": 369
        },
        "id": "25IIw4aHKmx_",
        "outputId": "dfb1651c-b6ca-4f30-cb89-87cea0e42069"
      },
      "outputs": [
        {
          "data": {
            "image/png": "[encoded data removed]",
            "text/plain": [
              "<Figure size 509.75x360 with 1 Axes>"
            ]
          },
          "metadata": {
            "needs_background": "light"
          },
          "output_type": "display_data"
        }
      ],
      "source": [
        "# Calculate the mean Yards for each type of Formation and add it as a line on a KDE\n",
        "# chart to view the differences by Formation (as demonstrated in the chapter)\n",
        "\n",
        "import seaborn as sns\n",
        "from matplotlib import pyplot as plt\n",
        "\n",
        "under_center = df[df['Formation'] == 'UNDER CENTER']['Yards']\n",
        "shotgun = df[df['Formation'] == 'SHOTGUN']['Yards']\n",
        "no_huddle = df[df['Formation'] == 'NO HUDDLE']['Yards']\n",
        "no_huddle_shotgun = df[df['Formation'] == 'NO HUDDLE SHOTGUN']['Yards']\n",
        "\n",
        "sns.displot(df, x=\"Yards\", hue=\"Formation\", kind='kde', fill=True)\n",
        "plt.axvline(x=under_center.mean(), color='blue')\n",
        "plt.axvline(x=shotgun.mean(), color='orange')\n",
        "plt.axvline(x=no_huddle.mean(), color='green')\n",
        "plt.axvline(x=no_huddle_shotgun.mean(), color='red')\n",
        "plt.show()"
      ]
    },
    {
      "cell_type": "code",
      "execution_count": null,
      "metadata": {
        "colab": {
          "base_uri": "https://localhost:8080/"
        },
        "id": "WuYwRT7vKpWQ",
        "outputId": "b1d29b28-9266-4987-8916-34fe20af3793"
      },
      "outputs": [
        {
          "name": "stdout",
          "output_type": "stream",
          "text": [
            "UNDER CENTER: 3.586750788643533\n",
            "SHOTGUN: 5.637343960616539\n",
            "t: 21.087410307971187\n",
            "p: 5.5181218226527176e-98\n",
            "Plays based on a shotgun formation earn significantly more yards than under center\n"
          ]
        }
      ],
      "source": [
        "# Print the mean Yards of UNDER CENTER vs SHOTGUN. Using a t-test, determine\n",
        "# whether there is a significant difference in Yards between them.\n",
        "\n",
        "print(f'UNDER CENTER: {under_center.mean()}')\n",
        "print(f'SHOTGUN: {shotgun.mean()}')\n",
        "\n",
        "t, p = stats.ttest_ind(shotgun, under_center)\n",
        "print(f't: {t}')\n",
        "print(f'p: {p}')\n",
        "print('Plays based on a shotgun formation earn significantly more yards than under center')"
      ]
    },
    {
      "cell_type": "code",
      "execution_count": null,
      "metadata": {
        "colab": {
          "base_uri": "https://localhost:8080/"
        },
        "id": "5FQ0cuP8Kr3W",
        "outputId": "f39d3120-07ae-4497-e256-6ff71e9d94fc"
      },
      "outputs": [
        {
          "name": "stdout",
          "output_type": "stream",
          "text": [
            "F:163.28299973772144\n",
            "p:4.637069096709806e-105\n",
            "There is a very significant affect of Formation on Yards\n"
          ]
        }
      ],
      "source": [
        "# Using an ANOVA, determine whether there is a significant difference\n",
        "# among all four formation types\n",
        "\n",
        "F, p = stats.f_oneway(under_center, shotgun, no_huddle, no_huddle_shotgun)\n",
        "\n",
        "print(f'F:{F}')\n",
        "print(f'p:{p}')\n",
        "print('There is a very significant affect of Formation on Yards')"
      ]
    },
    {
      "cell_type": "markdown",
      "metadata": {
        "id": "VzB-fqCxKRBm"
      },
      "source": [
        "## Practice 2: ANOVA Function\n",
        "If you didn't already complete this practice at the end of the prior section, create a function that will take any DataFrame and the names of a categorical and numeric feature and calculate an ANOVA for those features and print the results. Test this function using the nfl_plays_2022.csv dataset to determine whether there is a difference in Yards by Month."
      ]
    },
    {
      "cell_type": "code",
      "execution_count": null,
      "metadata": {
        "colab": {
          "base_uri": "https://localhost:8080/"
        },
        "id": "kODoM2ZUdlk9",
        "outputId": "3a75f2b7-4760-4374-e7ae-becde181ef57"
      },
      "outputs": [
        {
          "name": "stdout",
          "output_type": "stream",
          "text": [
            "F: 0.5537426277536242\n",
            "p: 0.6455913311497448\n",
            "P-value is greather than 0.05. There is no difference in yards by month.\n"
          ]
        }
      ],
      "source": [
        "def anova(df, feature, label):\n",
        "  groups = df[feature].unique() # discover each unique group value\n",
        "  grouped_values = []           # create an overall list of keep track of the label sub-lists\n",
        "  for group in groups:          # for each unique group value\n",
        "    grouped_values.append(df[df[feature]==group][label])  # append a sub-list of label values into the overall list\n",
        "  return stats.f_oneway(*grouped_values)                  # use the '*' symbol to dynamically input each sub-list into the f_oneway_function separated by commans\n",
        "\n",
        "# Bring in any data set that we have used in prior examples:\n",
        "df = pd.read_csv('/content/drive/MyDrive/Colab Notebooks/data/nfl_plays_2022.csv')\n",
        "f, p = anova(df, 'Month', 'Yards')\n",
        "print(f'F: {f}')\n",
        "print(f'p: {p}')\n",
        "print('P-value is greather than 0.05. There is no difference in yards by month.')"
      ]
    },
    {
      "cell_type": "markdown",
      "metadata": {
        "id": "i393EcYpZTIB"
      },
      "source": [
        "## Practice 3: Testing your Function\n",
        "Call this function to test the following relationships using datasets you have likely already downloaded from prior chapters:\n",
        "\n",
        "* insurance.csv\n",
        "  * region by charges\n",
        "  * smoker by charges\n",
        "  * sex by charges\n",
        "* bikebuyers.csv\n",
        "  * Region by Income\n",
        "  * Occupation by Income\n",
        "  * Commute Distance by Income\n",
        "* listings.csv (use df.dropna(subset=['average_review']) to drop records that are missing an average review)\n",
        "  * neighbourhood by average_review\n",
        "  * room_type by average_review"
      ]
    },
    {
      "cell_type": "code",
      "execution_count": null,
      "metadata": {
        "colab": {
          "base_uri": "https://localhost:8080/"
        },
        "id": "_XkqIdClY2en",
        "outputId": "a7a33231-bbd5-4d9f-ed3a-d2c6174f0300"
      },
      "outputs": [
        {
          "name": "stdout",
          "output_type": "stream",
          "text": [
            "\t\t\tF\t\tp\n",
            "Region by Charges \t2.97\t\t0.031\n",
            "Smoker by Charges \t2177.615\t0.0\n",
            "Sex by Charges \t\t4.4\t\t0.036\n",
            "Region by Income \t62.866\t\t0.0\n",
            "Occupation by Income \t369.389\t\t0.0\n",
            "Comm. Dist. by Income \t18.046\t\t0.0\n",
            "Neighborhood by Reviews 23.248\t\t0.0\n",
            "Room Type by Reviews\t1304.869\t0.0\n"
          ]
        }
      ],
      "source": [
        "print('\\t\\t\\tF\\t\\tp')\n",
        "\n",
        "df = pd.read_csv('/content/drive/MyDrive/Colab Notebooks/data/insurance.csv')\n",
        "f, p = anova(df, 'region', 'charges')\n",
        "print(f'Region by Charges \\t{round(f, 3)}\\t\\t{round(p, 3)}')\n",
        "f, p = anova(df, 'smoker', 'charges')\n",
        "print(f'Smoker by Charges \\t{round(f, 3)}\\t{round(p, 3)}')\n",
        "f, p = anova(df, 'sex', 'charges')\n",
        "print(f'Sex by Charges \\t\\t{round(f, 3)}\\t\\t{round(p, 3)}')\n",
        "\n",
        "df = pd.read_csv('/content/drive/MyDrive/Colab Notebooks/data/bikebuyers.csv')\n",
        "f, p = anova(df, 'Region', 'Income')\n",
        "print(f'Region by Income \\t{round(f, 3)}\\t\\t{round(p, 3)}')\n",
        "f, p = anova(df, 'Occupation', 'Income')\n",
        "print(f'Occupation by Income \\t{round(f, 3)}\\t\\t{round(p, 3)}')\n",
        "f, p = anova(df, 'Commute Distance', 'Income')\n",
        "print(f'Comm. Dist. by Income \\t{round(f, 3)}\\t\\t{round(p, 3)}')\n",
        "\n",
        "df = pd.read_csv('/content/drive/MyDrive/Colab Notebooks/data/listings.csv').dropna(subset=['average_review'])\n",
        "f, p = anova(df, 'neighbourhood', 'average_review')\n",
        "print(f'Neighborhood by Reviews {round(f, 3)}\\t\\t{round(p, 3)}')\n",
        "f, p = anova(df, 'room_type', 'average_review')\n",
        "print(f'Room Type by Reviews\\t{round(f, 3)}\\t{round(p, 3)}')"
      ]
    },
    {
      "cell_type": "markdown",
      "metadata": {
        "id": "owqlrjsowRbr"
      },
      "source": [
        "## Practice 4: Automate Further\n",
        "As you can see from the practice problem above, using functions can save you time and code. But we can automate this even further. Modify your function to accept ONLY a DataFrame and a label name. Then, modify the logic to perform an ANOVA (and print the results) for every categorical feature in the dataset with the specified label"
      ]
    },
    {
      "cell_type": "code",
      "execution_count": null,
      "metadata": {
        "colab": {
          "base_uri": "https://localhost:8080/"
        },
        "id": "z8TjY1SluaLu",
        "outputId": "31182f7b-abc3-43b2-a2ff-068da0c22e77"
      },
      "outputs": [
        {
          "name": "stdout",
          "output_type": "stream",
          "text": [
            "\t\t\tF\t\tp\n",
            "sex\t by charges\t4.4\t0.036\n",
            "smoker\t by charges\t2177.615\t0.0\n",
            "region\t by charges\t2.97\t0.031\n"
          ]
        }
      ],
      "source": [
        "def anova(df, label):\n",
        "  print('\\t\\t\\tF\\t\\tp')\n",
        "\n",
        "  for col in df:\n",
        "    if not pd.api.types.is_numeric_dtype(df[col]):  # Check to make sure the column in not numeric\n",
        "      groups = df[col].unique()\n",
        "      grouped_values = []\n",
        "      for group in groups:\n",
        "        grouped_values.append(df[df[col] == group][label])\n",
        "      f, p = stats.f_oneway(*grouped_values)\n",
        "      print(f'{col}\\t by {label}\\t{round(f, 3)}\\t{round(p, 3)}')\n",
        "\n",
        "df = pd.read_csv('/content/drive/MyDrive/Colab Notebooks/data/insurance.csv')\n",
        "anova(df, 'charges')"
      ]
    },
    {
      "cell_type": "code",
      "execution_count": null,
      "metadata": {},
      "outputs": [],
      "source": []
    }
  ],
  "metadata": {
    "colab": {
      "provenance": [],
      "toc_visible": true
    },
    "kernelspec": {
      "display_name": "base",
      "language": "python",
      "name": "python3"
    },
    "language_info": {
      "codemirror_mode": {
        "name": "ipython",
        "version": 3
      },
      "file_extension": ".py",
      "mimetype": "text/x-python",
      "name": "python",
      "nbconvert_exporter": "python",
      "pygments_lexer": "ipython3",
      "version": "3.12.4"
    }
  },
  "nbformat": 4,
  "nbformat_minor": 0
}
