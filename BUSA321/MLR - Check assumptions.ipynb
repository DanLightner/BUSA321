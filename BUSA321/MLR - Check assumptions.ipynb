{
 "cells": [
  {
   "cell_type": "code",
   "execution_count": 89,
   "metadata": {},
   "outputs": [
    {
     "data": {
      "text/html": [
       "<div>\n",
       "<style scoped>\n",
       "    .dataframe tbody tr th:only-of-type {\n",
       "        vertical-align: middle;\n",
       "    }\n",
       "\n",
       "    .dataframe tbody tr th {\n",
       "        vertical-align: top;\n",
       "    }\n",
       "\n",
       "    .dataframe thead th {\n",
       "        text-align: right;\n",
       "    }\n",
       "</style>\n",
       "<table border=\"1\" class=\"dataframe\">\n",
       "  <thead>\n",
       "    <tr style=\"text-align: right;\">\n",
       "      <th></th>\n",
       "      <th>age</th>\n",
       "      <th>bmi</th>\n",
       "      <th>children</th>\n",
       "      <th>charges</th>\n",
       "      <th>sex_female</th>\n",
       "      <th>sex_male</th>\n",
       "      <th>smoker_no</th>\n",
       "      <th>smoker_yes</th>\n",
       "      <th>region_northeast</th>\n",
       "      <th>region_northwest</th>\n",
       "      <th>region_southeast</th>\n",
       "      <th>region_southwest</th>\n",
       "    </tr>\n",
       "  </thead>\n",
       "  <tbody>\n",
       "    <tr>\n",
       "      <th>0</th>\n",
       "      <td>19</td>\n",
       "      <td>27.900</td>\n",
       "      <td>0</td>\n",
       "      <td>16884.92400</td>\n",
       "      <td>1</td>\n",
       "      <td>0</td>\n",
       "      <td>0</td>\n",
       "      <td>1</td>\n",
       "      <td>0</td>\n",
       "      <td>0</td>\n",
       "      <td>0</td>\n",
       "      <td>1</td>\n",
       "    </tr>\n",
       "    <tr>\n",
       "      <th>1</th>\n",
       "      <td>18</td>\n",
       "      <td>33.770</td>\n",
       "      <td>1</td>\n",
       "      <td>1725.55230</td>\n",
       "      <td>0</td>\n",
       "      <td>1</td>\n",
       "      <td>1</td>\n",
       "      <td>0</td>\n",
       "      <td>0</td>\n",
       "      <td>0</td>\n",
       "      <td>1</td>\n",
       "      <td>0</td>\n",
       "    </tr>\n",
       "    <tr>\n",
       "      <th>2</th>\n",
       "      <td>28</td>\n",
       "      <td>33.000</td>\n",
       "      <td>3</td>\n",
       "      <td>4449.46200</td>\n",
       "      <td>0</td>\n",
       "      <td>1</td>\n",
       "      <td>1</td>\n",
       "      <td>0</td>\n",
       "      <td>0</td>\n",
       "      <td>0</td>\n",
       "      <td>1</td>\n",
       "      <td>0</td>\n",
       "    </tr>\n",
       "    <tr>\n",
       "      <th>3</th>\n",
       "      <td>33</td>\n",
       "      <td>22.705</td>\n",
       "      <td>0</td>\n",
       "      <td>21984.47061</td>\n",
       "      <td>0</td>\n",
       "      <td>1</td>\n",
       "      <td>1</td>\n",
       "      <td>0</td>\n",
       "      <td>0</td>\n",
       "      <td>1</td>\n",
       "      <td>0</td>\n",
       "      <td>0</td>\n",
       "    </tr>\n",
       "    <tr>\n",
       "      <th>4</th>\n",
       "      <td>32</td>\n",
       "      <td>28.880</td>\n",
       "      <td>0</td>\n",
       "      <td>3866.85520</td>\n",
       "      <td>0</td>\n",
       "      <td>1</td>\n",
       "      <td>1</td>\n",
       "      <td>0</td>\n",
       "      <td>0</td>\n",
       "      <td>1</td>\n",
       "      <td>0</td>\n",
       "      <td>0</td>\n",
       "    </tr>\n",
       "  </tbody>\n",
       "</table>\n",
       "</div>"
      ],
      "text/plain": [
       "   age     bmi  children      charges  sex_female  sex_male  smoker_no  \\\n",
       "0   19  27.900         0  16884.92400           1         0          0   \n",
       "1   18  33.770         1   1725.55230           0         1          1   \n",
       "2   28  33.000         3   4449.46200           0         1          1   \n",
       "3   33  22.705         0  21984.47061           0         1          1   \n",
       "4   32  28.880         0   3866.85520           0         1          1   \n",
       "\n",
       "   smoker_yes  region_northeast  region_northwest  region_southeast  \\\n",
       "0           1                 0                 0                 0   \n",
       "1           0                 0                 0                 1   \n",
       "2           0                 0                 0                 1   \n",
       "3           0                 0                 1                 0   \n",
       "4           0                 0                 1                 0   \n",
       "\n",
       "   region_southwest  \n",
       "0                 1  \n",
       "1                 0  \n",
       "2                 0  \n",
       "3                 0  \n",
       "4                 0  "
      ]
     },
     "execution_count": 89,
     "metadata": {},
     "output_type": "execute_result"
    }
   ],
   "source": [
    "import numpy as np\n",
    "import pandas as pd\n",
    "import statsmodels.api as sm\n",
    "import seaborn as sns\n",
    "import matplotlib.pyplot as plt\n",
    "df = pd.read_csv('https://www.ishelp.info/data/insurance.csv')\n",
    "\n",
    "# Generate dummy variables\n",
    "for col in df:  \n",
    "  if not pd.api.types.is_numeric_dtype(df[col]):\n",
    "    df = pd.get_dummies(df, columns=[col], prefix=col, dtype=int)\n",
    "    \n",
    "df.head()"
   ]
  },
  {
   "cell_type": "code",
   "execution_count": 90,
   "metadata": {},
   "outputs": [
    {
     "name": "stdout",
     "output_type": "stream",
     "text": [
      "                            OLS Regression Results                            \n",
      "==============================================================================\n",
      "Dep. Variable:                    bmi   R-squared:                       0.183\n",
      "Model:                            OLS   Adj. R-squared:                  0.179\n",
      "Method:                 Least Squares   F-statistic:                     49.54\n",
      "Date:                Tue, 28 Jan 2025   Prob (F-statistic):           4.10e-55\n",
      "Time:                        19:54:02   Log-Likelihood:                -4182.3\n",
      "No. Observations:                1338   AIC:                             8379.\n",
      "Df Residuals:                    1331   BIC:                             8415.\n",
      "Df Model:                           6                                         \n",
      "Covariance Type:            nonrobust                                         \n",
      "====================================================================================\n",
      "                       coef    std err          t      P>|t|      [0.025      0.975]\n",
      "------------------------------------------------------------------------------------\n",
      "age                 -0.0284      0.013     -2.261      0.024      -0.053      -0.004\n",
      "charges              0.0003   2.37e-05     11.858      0.000       0.000       0.000\n",
      "sex_male             0.5271      0.303      1.739      0.082      -0.068       1.122\n",
      "smoker_no            6.8935      0.677     10.175      0.000       5.564       8.223\n",
      "region_southeast     4.0341      0.363     11.121      0.000       3.322       4.746\n",
      "region_southwest     1.4760      0.376      3.929      0.000       0.739       2.213\n",
      "const               20.8495      0.773     26.960      0.000      19.332      22.367\n",
      "==============================================================================\n",
      "Omnibus:                        9.805   Durbin-Watson:                   2.077\n",
      "Prob(Omnibus):                  0.007   Jarque-Bera (JB):                9.779\n",
      "Skew:                           0.199   Prob(JB):                      0.00753\n",
      "Kurtosis:                       3.128   Cond. No.                     1.15e+05\n",
      "==============================================================================\n",
      "\n",
      "Notes:\n",
      "[1] Standard Errors assume that the covariance matrix of the errors is correctly specified.\n",
      "[2] The condition number is large, 1.15e+05. This might indicate that there are\n",
      "strong multicollinearity or other numerical problems.\n"
     ]
    }
   ],
   "source": [
    "y = df['bmi']\n",
    "X = df.drop(columns=['bmi', 'sex_female', 'region_northwest', 'region_northeast', 'smoker_yes', 'children']).assign(const=1)\n",
    "\n",
    "# Run the multiple linear regression model\n",
    "model = sm.OLS(y, X)\n",
    "results = model.fit()\n",
    "print(results.summary())  # View results"
   ]
  },
  {
   "cell_type": "code",
   "execution_count": 91,
   "metadata": {},
   "outputs": [
    {
     "name": "stdout",
     "output_type": "stream",
     "text": [
      "                            OLS Regression Results                            \n",
      "==============================================================================\n",
      "Dep. Variable:                    bmi   R-squared:                       0.096\n",
      "Model:                            OLS   Adj. R-squared:                  0.093\n",
      "Method:                 Least Squares   F-statistic:                     28.36\n",
      "Date:                Tue, 28 Jan 2025   Prob (F-statistic):           2.19e-27\n",
      "Time:                        19:54:02   Log-Likelihood:                -4249.5\n",
      "No. Observations:                1338   AIC:                             8511.\n",
      "Df Residuals:                    1332   BIC:                             8542.\n",
      "Df Model:                           5                                         \n",
      "Covariance Type:            nonrobust                                         \n",
      "====================================================================================\n",
      "                       coef    std err          t      P>|t|      [0.025      0.975]\n",
      "------------------------------------------------------------------------------------\n",
      "age                  0.0488      0.011      4.314      0.000       0.027       0.071\n",
      "sex_male             0.5484      0.319      1.721      0.085      -0.077       1.173\n",
      "smoker_no            0.2140      0.396      0.541      0.589      -0.562       0.990\n",
      "region_southeast     4.1849      0.381     10.982      0.000       3.437       4.932\n",
      "region_southwest     1.3948      0.395      3.533      0.000       0.620       2.169\n",
      "const               26.8256      0.617     43.509      0.000      25.616      28.035\n",
      "==============================================================================\n",
      "Omnibus:                       10.031   Durbin-Watson:                   2.076\n",
      "Prob(Omnibus):                  0.007   Jarque-Bera (JB):               10.113\n",
      "Skew:                           0.200   Prob(JB):                      0.00637\n",
      "Kurtosis:                       2.854   Cond. No.                         179.\n",
      "==============================================================================\n",
      "\n",
      "Notes:\n",
      "[1] Standard Errors assume that the covariance matrix of the errors is correctly specified.\n"
     ]
    }
   ],
   "source": [
    "df['ln_charges'] = np.log(df['charges'])\n",
    "\n",
    "y = df['bmi']  # Transformed variable\n",
    "X = df.drop(columns=['bmi', 'charges', 'ln_charges', 'sex_female', 'region_northwest', 'region_northeast', 'smoker_yes', 'children']).assign(const=1)\n",
    "\n",
    "# Run the multiple linear regression model\n",
    "model = sm.OLS(y, X)\n",
    "results = model.fit()\n",
    "\n",
    "# Print the summary\n",
    "print(results.summary())"
   ]
  },
  {
   "cell_type": "code",
   "execution_count": 92,
   "metadata": {},
   "outputs": [
    {
     "name": "stdout",
     "output_type": "stream",
     "text": [
      "            Feature        VIF\n",
      "0               age   1.001120\n",
      "1          sex_male   1.006351\n",
      "2         smoker_no   1.011157\n",
      "3  region_southeast   1.140487\n",
      "4  region_southwest   1.136512\n",
      "5             const  15.076519\n"
     ]
    }
   ],
   "source": [
    "from statsmodels.stats.outliers_influence import variance_inflation_factor\n",
    "\n",
    "vif_data = pd.DataFrame()\n",
    "vif_data['Feature'] = X.columns\n",
    "vif_data['VIF'] = [variance_inflation_factor(X.values, i) for i in range(X.shape[1])]\n",
    "print(vif_data)"
   ]
  },
  {
   "cell_type": "code",
   "execution_count": 93,
   "metadata": {},
   "outputs": [
    {
     "name": "stdout",
     "output_type": "stream",
     "text": [
      "                       VIF  Tolerance\n",
      "smoker_yes             inf   0.000000\n",
      "smoker_no              inf   0.000000\n",
      "sex_male               inf   0.000000\n",
      "sex_female             inf   0.000000\n",
      "region_northeast       inf   0.000000\n",
      "region_northwest       inf   0.000000\n",
      "region_southeast       inf   0.000000\n",
      "region_southwest       inf   0.000000\n",
      "charges           4.014662   0.249087\n",
      "age               1.373348   0.728148\n",
      "bmi               1.223757   0.817156\n",
      "children          1.013005   0.987162\n"
     ]
    }
   ],
   "source": [
    "import numpy as np\n",
    "import pandas as pd\n",
    "import statsmodels.api as sm\n",
    "\n",
    "# Create a blank DataFrame to store the results\n",
    "df_vif = pd.DataFrame(columns=['VIF', 'Tolerance'])\n",
    "df = pd.get_dummies(df, columns=df.select_dtypes(include=['object']).columns, drop_first=True)\n",
    "\n",
    "df = df.astype(float)\n",
    "\n",
    "for col in df.drop(columns=['ln_charges']):\n",
    "    y = df[col]\n",
    "    X = df.drop(columns=[col, 'ln_charges']).assign(const=1)\n",
    "    \n",
    "    r_squared = sm.OLS(y, X).fit().rsquared\n",
    "\n",
    "    if r_squared < 1:  # Prevent division by zero runtime error\n",
    "        df_vif.loc[col] = [1 / (1 - r_squared), 1 - r_squared]\n",
    "    else:\n",
    "        df_vif.loc[col] = [np.inf, 1 - r_squared]  # Use np.inf instead of a string\n",
    "\n",
    "# Sort VIF values in descending order\n",
    "df_vif.sort_values(by=['VIF'], ascending=False, inplace=True)\n",
    "\n",
    "print(df_vif)\n"
   ]
  },
  {
   "cell_type": "code",
   "execution_count": 94,
   "metadata": {},
   "outputs": [
    {
     "data": {
      "text/html": [
       "<div>\n",
       "<style scoped>\n",
       "    .dataframe tbody tr th:only-of-type {\n",
       "        vertical-align: middle;\n",
       "    }\n",
       "\n",
       "    .dataframe tbody tr th {\n",
       "        vertical-align: top;\n",
       "    }\n",
       "\n",
       "    .dataframe thead th {\n",
       "        text-align: right;\n",
       "    }\n",
       "</style>\n",
       "<table border=\"1\" class=\"dataframe\">\n",
       "  <thead>\n",
       "    <tr style=\"text-align: right;\">\n",
       "      <th></th>\n",
       "      <th>Actual</th>\n",
       "      <th>Predicted</th>\n",
       "      <th>Residuals (Error)</th>\n",
       "    </tr>\n",
       "  </thead>\n",
       "  <tbody>\n",
       "    <tr>\n",
       "      <th>0</th>\n",
       "      <td>9.734176</td>\n",
       "      <td>9.036831</td>\n",
       "      <td>0.697346</td>\n",
       "    </tr>\n",
       "    <tr>\n",
       "      <th>1</th>\n",
       "      <td>7.453302</td>\n",
       "      <td>7.881871</td>\n",
       "      <td>-0.428569</td>\n",
       "    </tr>\n",
       "    <tr>\n",
       "      <th>2</th>\n",
       "      <td>8.400538</td>\n",
       "      <td>8.392544</td>\n",
       "      <td>0.007994</td>\n",
       "    </tr>\n",
       "    <tr>\n",
       "      <th>3</th>\n",
       "      <td>9.998092</td>\n",
       "      <td>9.310288</td>\n",
       "      <td>0.687804</td>\n",
       "    </tr>\n",
       "    <tr>\n",
       "      <th>4</th>\n",
       "      <td>8.260197</td>\n",
       "      <td>8.292025</td>\n",
       "      <td>-0.031829</td>\n",
       "    </tr>\n",
       "    <tr>\n",
       "      <th>5</th>\n",
       "      <td>8.231275</td>\n",
       "      <td>8.291626</td>\n",
       "      <td>-0.060351</td>\n",
       "    </tr>\n",
       "    <tr>\n",
       "      <th>6</th>\n",
       "      <td>9.016827</td>\n",
       "      <td>8.883953</td>\n",
       "      <td>0.132874</td>\n",
       "    </tr>\n",
       "    <tr>\n",
       "      <th>7</th>\n",
       "      <td>8.893093</td>\n",
       "      <td>8.881928</td>\n",
       "      <td>0.011165</td>\n",
       "    </tr>\n",
       "    <tr>\n",
       "      <th>8</th>\n",
       "      <td>8.765054</td>\n",
       "      <td>8.725321</td>\n",
       "      <td>0.039733</td>\n",
       "    </tr>\n",
       "    <tr>\n",
       "      <th>9</th>\n",
       "      <td>10.272397</td>\n",
       "      <td>10.297692</td>\n",
       "      <td>-0.025295</td>\n",
       "    </tr>\n",
       "  </tbody>\n",
       "</table>\n",
       "</div>"
      ],
      "text/plain": [
       "      Actual  Predicted  Residuals (Error)\n",
       "0   9.734176   9.036831           0.697346\n",
       "1   7.453302   7.881871          -0.428569\n",
       "2   8.400538   8.392544           0.007994\n",
       "3   9.998092   9.310288           0.687804\n",
       "4   8.260197   8.292025          -0.031829\n",
       "5   8.231275   8.291626          -0.060351\n",
       "6   9.016827   8.883953           0.132874\n",
       "7   8.893093   8.881928           0.011165\n",
       "8   8.765054   8.725321           0.039733\n",
       "9  10.272397  10.297692          -0.025295"
      ]
     },
     "execution_count": 94,
     "metadata": {},
     "output_type": "execute_result"
    }
   ],
   "source": [
    "model = sm.OLS(df['ln_charges'], X).fit()\n",
    "df_insample = pd.DataFrame({\n",
    "    'Actual': df['ln_charges'], \n",
    "    'Predicted': model.fittedvalues, \n",
    "    'Residuals (Error)': df['ln_charges'] - model.fittedvalues\n",
    "})\n",
    "\n",
    "# Display the first 10 rows\n",
    "df_insample.head(10)\n"
   ]
  },
  {
   "cell_type": "code",
   "execution_count": 95,
   "metadata": {},
   "outputs": [
    {
     "data": {
      "text/plain": [
       "np.float64(0.8150574830225468)"
      ]
     },
     "execution_count": 95,
     "metadata": {},
     "output_type": "execute_result"
    },
    {
     "data": {
      "image/png": "[encoded data removed]",
      "text/plain": [
       "<Figure size 640x480 with 1 Axes>"
      ]
     },
     "metadata": {},
     "output_type": "display_data"
    }
   ],
   "source": [
    "import scipy as sp\n",
    "fig, ax = plt.subplots()\n",
    "_, (__, ___, r) = sp.stats.probplot(residual, plot=ax, fit=True)\n",
    "r**2"
   ]
  },
  {
   "cell_type": "markdown",
   "metadata": {},
   "source": [
    "Normality is not fully met. The Omnibus and Jarque-Bera tests both have p-values below 0.05, indicating that the residuals are not normally distributed. Additionally, the normal probability plot shows some deviations from a straight line, further confirming this. This issue might arise because the BMI variable or its predictors contain non-normal data distributions."
   ]
  },
  {
   "cell_type": "markdown",
   "metadata": {},
   "source": [
    "Multicollinearity is mostly not a concern. The VIF values for predictors are all below 10, except for the constant, which is inherently high due to its definition. The condition number, however, is very large (1.15e+05), suggesting potential multicollinearity or numerical issues. This might result from highly correlated categorical predictors like regions or imbalanced data."
   ]
  },
  {
   "cell_type": "markdown",
   "metadata": {},
   "source": [
    "Autocorrelation is not present. The Durbin-Watson statistic is approximately 2, indicating no significant correlation between residuals. This is expected, as the dataset does not involve time-series data or sequential dependencies."
   ]
  },
  {
   "cell_type": "markdown",
   "metadata": {},
   "source": [
    "Linearity and homoscedasticity are not fully met. A pair plot shows the patterns or non-random spread between residuals and predictors, suggesting issues with linear relationships and equal variance. This could be due to unmeasured variables in the dataset, like distinct group behaviors in BMI across regions or smoker status."
   ]
  }
 ],
 "metadata": {
  "kernelspec": {
   "display_name": "Python 3",
   "language": "python",
   "name": "python3"
  },
  "language_info": {
   "codemirror_mode": {
    "name": "ipython",
    "version": 3
   },
   "file_extension": ".py",
   "mimetype": "text/x-python",
   "name": "python",
   "nbconvert_exporter": "python",
   "pygments_lexer": "ipython3",
   "version": "3.11.0"
  }
 },
 "nbformat": 4,
 "nbformat_minor": 2
}
