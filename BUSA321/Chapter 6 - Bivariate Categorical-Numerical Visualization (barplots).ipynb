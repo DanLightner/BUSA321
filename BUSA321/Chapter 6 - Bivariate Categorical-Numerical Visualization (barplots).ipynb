{
 "cells": [
  {
   "attachments": {},
   "cell_type": "markdown",
   "metadata": {},
   "source": [
    "**Chapter 18**: Barplots!"
   ]
  },
  {
   "cell_type": "code",
   "execution_count": 1,
   "metadata": {},
   "outputs": [
    {
     "data": {
      "text/html": [
       "<div>\n",
       "<style scoped>\n",
       "    .dataframe tbody tr th:only-of-type {\n",
       "        vertical-align: middle;\n",
       "    }\n",
       "\n",
       "    .dataframe tbody tr th {\n",
       "        vertical-align: top;\n",
       "    }\n",
       "\n",
       "    .dataframe thead th {\n",
       "        text-align: right;\n",
       "    }\n",
       "</style>\n",
       "<table border=\"1\" class=\"dataframe\">\n",
       "  <thead>\n",
       "    <tr style=\"text-align: right;\">\n",
       "      <th></th>\n",
       "      <th>age</th>\n",
       "      <th>sex</th>\n",
       "      <th>bmi</th>\n",
       "      <th>children</th>\n",
       "      <th>smoker</th>\n",
       "      <th>region</th>\n",
       "      <th>charges</th>\n",
       "    </tr>\n",
       "  </thead>\n",
       "  <tbody>\n",
       "    <tr>\n",
       "      <th>0</th>\n",
       "      <td>19</td>\n",
       "      <td>female</td>\n",
       "      <td>27.900</td>\n",
       "      <td>0</td>\n",
       "      <td>yes</td>\n",
       "      <td>southwest</td>\n",
       "      <td>16884.92400</td>\n",
       "    </tr>\n",
       "    <tr>\n",
       "      <th>1</th>\n",
       "      <td>18</td>\n",
       "      <td>male</td>\n",
       "      <td>33.770</td>\n",
       "      <td>1</td>\n",
       "      <td>no</td>\n",
       "      <td>southeast</td>\n",
       "      <td>1725.55230</td>\n",
       "    </tr>\n",
       "    <tr>\n",
       "      <th>2</th>\n",
       "      <td>28</td>\n",
       "      <td>male</td>\n",
       "      <td>33.000</td>\n",
       "      <td>3</td>\n",
       "      <td>no</td>\n",
       "      <td>southeast</td>\n",
       "      <td>4449.46200</td>\n",
       "    </tr>\n",
       "    <tr>\n",
       "      <th>3</th>\n",
       "      <td>33</td>\n",
       "      <td>male</td>\n",
       "      <td>22.705</td>\n",
       "      <td>0</td>\n",
       "      <td>no</td>\n",
       "      <td>northwest</td>\n",
       "      <td>21984.47061</td>\n",
       "    </tr>\n",
       "    <tr>\n",
       "      <th>4</th>\n",
       "      <td>32</td>\n",
       "      <td>male</td>\n",
       "      <td>28.880</td>\n",
       "      <td>0</td>\n",
       "      <td>no</td>\n",
       "      <td>northwest</td>\n",
       "      <td>3866.85520</td>\n",
       "    </tr>\n",
       "    <tr>\n",
       "      <th>...</th>\n",
       "      <td>...</td>\n",
       "      <td>...</td>\n",
       "      <td>...</td>\n",
       "      <td>...</td>\n",
       "      <td>...</td>\n",
       "      <td>...</td>\n",
       "      <td>...</td>\n",
       "    </tr>\n",
       "    <tr>\n",
       "      <th>1333</th>\n",
       "      <td>50</td>\n",
       "      <td>male</td>\n",
       "      <td>30.970</td>\n",
       "      <td>3</td>\n",
       "      <td>no</td>\n",
       "      <td>northwest</td>\n",
       "      <td>10600.54830</td>\n",
       "    </tr>\n",
       "    <tr>\n",
       "      <th>1334</th>\n",
       "      <td>18</td>\n",
       "      <td>female</td>\n",
       "      <td>31.920</td>\n",
       "      <td>0</td>\n",
       "      <td>no</td>\n",
       "      <td>northeast</td>\n",
       "      <td>2205.98080</td>\n",
       "    </tr>\n",
       "    <tr>\n",
       "      <th>1335</th>\n",
       "      <td>18</td>\n",
       "      <td>female</td>\n",
       "      <td>36.850</td>\n",
       "      <td>0</td>\n",
       "      <td>no</td>\n",
       "      <td>southeast</td>\n",
       "      <td>1629.83350</td>\n",
       "    </tr>\n",
       "    <tr>\n",
       "      <th>1336</th>\n",
       "      <td>21</td>\n",
       "      <td>female</td>\n",
       "      <td>25.800</td>\n",
       "      <td>0</td>\n",
       "      <td>no</td>\n",
       "      <td>southwest</td>\n",
       "      <td>2007.94500</td>\n",
       "    </tr>\n",
       "    <tr>\n",
       "      <th>1337</th>\n",
       "      <td>61</td>\n",
       "      <td>female</td>\n",
       "      <td>29.070</td>\n",
       "      <td>0</td>\n",
       "      <td>yes</td>\n",
       "      <td>northwest</td>\n",
       "      <td>29141.36030</td>\n",
       "    </tr>\n",
       "  </tbody>\n",
       "</table>\n",
       "<p>1338 rows × 7 columns</p>\n",
       "</div>"
      ],
      "text/plain": [
       "      age     sex     bmi  children smoker     region      charges\n",
       "0      19  female  27.900         0    yes  southwest  16884.92400\n",
       "1      18    male  33.770         1     no  southeast   1725.55230\n",
       "2      28    male  33.000         3     no  southeast   4449.46200\n",
       "3      33    male  22.705         0     no  northwest  21984.47061\n",
       "4      32    male  28.880         0     no  northwest   3866.85520\n",
       "...   ...     ...     ...       ...    ...        ...          ...\n",
       "1333   50    male  30.970         3     no  northwest  10600.54830\n",
       "1334   18  female  31.920         0     no  northeast   2205.98080\n",
       "1335   18  female  36.850         0     no  southeast   1629.83350\n",
       "1336   21  female  25.800         0     no  southwest   2007.94500\n",
       "1337   61  female  29.070         0    yes  northwest  29141.36030\n",
       "\n",
       "[1338 rows x 7 columns]"
      ]
     },
     "execution_count": 1,
     "metadata": {},
     "output_type": "execute_result"
    }
   ],
   "source": [
    "from scipy import stats\n",
    "import statistics as stat\n",
    "import pandas as pd\n",
    "\n",
    "df = pd.read_csv('http://www.ishelp.info/data/insurance.csv')\n",
    "df"
   ]
  },
  {
   "attachments": {},
   "cell_type": "markdown",
   "metadata": {},
   "source": [
    "*Barplots in Seaborn: Good visualization - https://seaborn.pydata.org/generated/seaborn.barplot.html*\n",
    "\n",
    "*This link gives you all sorts of details of how to code barplots, along with other functions in Seaborn. SUPER HELPFUL!*"
   ]
  },
  {
   "attachments": {},
   "cell_type": "markdown",
   "metadata": {},
   "source": [
    "**Barplots** are **DIFFERENT from histograms**. We are doing the following:\n",
    "\n",
    "**x-axis**: categorical variable, and splitting up each category into a bar\n",
    "**y-axis**: numerical variable, splitting up the values into each category in the x-axis\n",
    "\n",
    "**TOP OF BARS**: This is the *mean, median*, or other *statistic* to help us see the difference between each category. Automatically, the mean is shown unless specified otherwise.\n",
    "**NOTE**: This is NOT the count or number of values.\n",
    "\n",
    "**Lines**: These are **CONFIDENCE INTERVALS** for the mean. Reference our lecture on confidence intervals.\n",
    "\n",
    "If confidence intervals (lines) seem to **overlap** at all, then we *cannot be confident that the two categories are different*, EVEN IF the means are at different levels\n",
    "\n",
    "If confidence intervals are **FAR from each other** with **NO overlap**, then we can say WITH CONFIDENCE that the **categories are different** for that numerical variable."
   ]
  },
  {
   "cell_type": "code",
   "execution_count": 2,
   "metadata": {},
   "outputs": [
    {
     "data": {
      "image/png": "[encoded data removed]",
      "text/plain": [
       "<Figure size 640x480 with 1 Axes>"
      ]
     },
     "metadata": {},
     "output_type": "display_data"
    }
   ],
   "source": [
    "import seaborn as sns\n",
    "\n",
    "sns.barplot(data=df, x=\"region\", y=\"charges\"); \n",
    "\n",
    "# Use the ; to get rid of some extra text"
   ]
  },
  {
   "attachments": {},
   "cell_type": "markdown",
   "metadata": {},
   "source": [
    "*Do the above confidence intervals overlap? Or are any separate?* It's hard to tell, **so run ANOVA** to get a p-value. (Refer to Chapter 17 lectures)"
   ]
  },
  {
   "attachments": {},
   "cell_type": "markdown",
   "metadata": {},
   "source": [
    "Confidence intervals use **standard error**, NOT standard deviation/variance\n",
    "\n",
    "What's the difference?\n",
    "* **Standard Error** is based on a *sample*\n",
    "* **Standard Deviation** is based on an entire *population*\n",
    "\n",
    "*Example*:\n",
    "* Sample - Group of students randomly selected on campus (or volunteers)\n",
    "* Population - Entire student body"
   ]
  },
  {
   "attachments": {},
   "cell_type": "markdown",
   "metadata": {},
   "source": [
    "**THREE VARIABLES**: 2 categorical, 1 numerical\n",
    "\n",
    "*NOTE*: HUE only works on a categorical variable. Although there may be a way to place multiple variables in HUE, all the documentation I have seen for Seaborn does not specify."
   ]
  },
  {
   "cell_type": "code",
   "execution_count": 3,
   "metadata": {},
   "outputs": [
    {
     "data": {
      "image/png": "[encoded data removed]",
      "text/plain": [
       "<Figure size 640x480 with 1 Axes>"
      ]
     },
     "metadata": {},
     "output_type": "display_data"
    }
   ],
   "source": [
    "sns.barplot(data=df, x=\"region\", y=\"charges\", hue='sex');"
   ]
  },
  {
   "cell_type": "code",
   "execution_count": 4,
   "metadata": {},
   "outputs": [
    {
     "data": {
      "image/png": "[encoded data removed]",
      "text/plain": [
       "<Figure size 640x480 with 1 Axes>"
      ]
     },
     "metadata": {},
     "output_type": "display_data"
    }
   ],
   "source": [
    "sns.barplot(data=df, x=\"region\", y=\"charges\", hue='age');"
   ]
  },
  {
   "cell_type": "code",
   "execution_count": 5,
   "metadata": {},
   "outputs": [
    {
     "data": {
      "image/png": "[encoded data removed]",
      "text/plain": [
       "<Figure size 640x480 with 1 Axes>"
      ]
     },
     "metadata": {},
     "output_type": "display_data"
    }
   ],
   "source": [
    "sns.barplot(data=df, x=\"children\", y=\"charges\", hue='sex');"
   ]
  },
  {
   "cell_type": "code",
   "execution_count": 6,
   "metadata": {},
   "outputs": [
    {
     "data": {
      "image/png": "[encoded data removed]",
      "text/plain": [
       "<Figure size 640x480 with 1 Axes>"
      ]
     },
     "metadata": {},
     "output_type": "display_data"
    }
   ],
   "source": [
    "sns.barplot(data=df, x=\"region\", y=\"bmi\", hue='sex');"
   ]
  },
  {
   "cell_type": "code",
   "execution_count": 7,
   "metadata": {},
   "outputs": [
    {
     "data": {
      "image/png": "[encoded data removed]",
      "text/plain": [
       "<Figure size 640x480 with 1 Axes>"
      ]
     },
     "metadata": {},
     "output_type": "display_data"
    }
   ],
   "source": [
    "sns.barplot(data=df, x=\"region\", y=\"bmi\", hue='sex');"
   ]
  },
  {
   "cell_type": "code",
   "execution_count": 8,
   "metadata": {},
   "outputs": [
    {
     "data": {
      "text/plain": [
       "age           int64\n",
       "sex          object\n",
       "bmi         float64\n",
       "children      int64\n",
       "smoker       object\n",
       "region       object\n",
       "charges     float64\n",
       "dtype: object"
      ]
     },
     "execution_count": 8,
     "metadata": {},
     "output_type": "execute_result"
    }
   ],
   "source": [
    "df.dtypes"
   ]
  },
  {
   "attachments": {},
   "cell_type": "markdown",
   "metadata": {},
   "source": [
    "**Categorical**: REGION <br>\n",
    "**Numerical**: BMI\n",
    "\n",
    "These CI's are extremely separate! If you remember the previous lecture, ANOVA for these two variables gave an **extremely low p-value**. \n",
    "\n",
    "*REMEMBER*: ANOVA test to see if *any two categories* are significantly different. The barplot below helps VISUALIZE and distinguish which categories are actually different."
   ]
  },
  {
   "cell_type": "code",
   "execution_count": 9,
   "metadata": {},
   "outputs": [
    {
     "data": {
      "image/png": "[encoded data removed]",
      "text/plain": [
       "<Figure size 640x480 with 1 Axes>"
      ]
     },
     "metadata": {},
     "output_type": "display_data"
    }
   ],
   "source": [
    "sns.barplot(data=df, x=\"region\", y=\"bmi\");\n",
    "\n",
    "# Which regions can we confidently say have DIFFERENT BMI? Which regions are too close to call?"
   ]
  },
  {
   "attachments": {},
   "cell_type": "markdown",
   "metadata": {},
   "source": [
    "**Median**: We can do barplots with the Median as well, if we think that the mean is unreliable (multiple outliers, etc.)"
   ]
  },
  {
   "cell_type": "code",
   "execution_count": 10,
   "metadata": {},
   "outputs": [
    {
     "data": {
      "image/png": "[encoded data removed]",
      "text/plain": [
       "<Figure size 640x480 with 1 Axes>"
      ]
     },
     "metadata": {},
     "output_type": "display_data"
    }
   ],
   "source": [
    "from numpy import median\n",
    "\n",
    "sns.barplot(data=df, x=\"region\", y=\"bmi\", estimator=median);"
   ]
  },
  {
   "cell_type": "code",
   "execution_count": 11,
   "metadata": {},
   "outputs": [
    {
     "data": {
      "text/plain": [
       "age            38.939560\n",
       "bmi            33.355989\n",
       "children        1.049451\n",
       "charges     14735.411438\n",
       "dtype: float64"
      ]
     },
     "execution_count": 11,
     "metadata": {},
     "output_type": "execute_result"
    }
   ],
   "source": [
    "# Correct way to filter the 'southeast' region\n",
    "southeast_data = df[df['region'] == 'southeast']\n",
    "\n",
    "# Calculate the mean for numerical columns in the southeast region\n",
    "southeast_mean = southeast_data.mean(numeric_only=True)\n",
    "\n",
    "# Display the result\n",
    "southeast_mean\n",
    "\n",
    "\n"
   ]
  },
  {
   "cell_type": "code",
   "execution_count": 12,
   "metadata": {},
   "outputs": [
    {
     "data": {
      "text/html": [
       "<div>\n",
       "<style scoped>\n",
       "    .dataframe tbody tr th:only-of-type {\n",
       "        vertical-align: middle;\n",
       "    }\n",
       "\n",
       "    .dataframe tbody tr th {\n",
       "        vertical-align: top;\n",
       "    }\n",
       "\n",
       "    .dataframe thead th {\n",
       "        text-align: right;\n",
       "    }\n",
       "</style>\n",
       "<table border=\"1\" class=\"dataframe\">\n",
       "  <thead>\n",
       "    <tr style=\"text-align: right;\">\n",
       "      <th></th>\n",
       "      <th>age</th>\n",
       "      <th>bmi</th>\n",
       "      <th>children</th>\n",
       "      <th>charges</th>\n",
       "    </tr>\n",
       "  </thead>\n",
       "  <tbody>\n",
       "    <tr>\n",
       "      <th>count</th>\n",
       "      <td>364.000000</td>\n",
       "      <td>364.000000</td>\n",
       "      <td>364.000000</td>\n",
       "      <td>364.000000</td>\n",
       "    </tr>\n",
       "    <tr>\n",
       "      <th>mean</th>\n",
       "      <td>38.939560</td>\n",
       "      <td>33.355989</td>\n",
       "      <td>1.049451</td>\n",
       "      <td>14735.411438</td>\n",
       "    </tr>\n",
       "    <tr>\n",
       "      <th>std</th>\n",
       "      <td>14.164585</td>\n",
       "      <td>6.477648</td>\n",
       "      <td>1.177276</td>\n",
       "      <td>13971.098589</td>\n",
       "    </tr>\n",
       "    <tr>\n",
       "      <th>min</th>\n",
       "      <td>18.000000</td>\n",
       "      <td>19.800000</td>\n",
       "      <td>0.000000</td>\n",
       "      <td>1121.873900</td>\n",
       "    </tr>\n",
       "    <tr>\n",
       "      <th>25%</th>\n",
       "      <td>26.750000</td>\n",
       "      <td>28.572500</td>\n",
       "      <td>0.000000</td>\n",
       "      <td>4440.886200</td>\n",
       "    </tr>\n",
       "    <tr>\n",
       "      <th>50%</th>\n",
       "      <td>39.000000</td>\n",
       "      <td>33.330000</td>\n",
       "      <td>1.000000</td>\n",
       "      <td>9294.131950</td>\n",
       "    </tr>\n",
       "    <tr>\n",
       "      <th>75%</th>\n",
       "      <td>51.000000</td>\n",
       "      <td>37.812500</td>\n",
       "      <td>2.000000</td>\n",
       "      <td>19526.286900</td>\n",
       "    </tr>\n",
       "    <tr>\n",
       "      <th>max</th>\n",
       "      <td>64.000000</td>\n",
       "      <td>53.130000</td>\n",
       "      <td>5.000000</td>\n",
       "      <td>63770.428010</td>\n",
       "    </tr>\n",
       "  </tbody>\n",
       "</table>\n",
       "</div>"
      ],
      "text/plain": [
       "              age         bmi    children       charges\n",
       "count  364.000000  364.000000  364.000000    364.000000\n",
       "mean    38.939560   33.355989    1.049451  14735.411438\n",
       "std     14.164585    6.477648    1.177276  13971.098589\n",
       "min     18.000000   19.800000    0.000000   1121.873900\n",
       "25%     26.750000   28.572500    0.000000   4440.886200\n",
       "50%     39.000000   33.330000    1.000000   9294.131950\n",
       "75%     51.000000   37.812500    2.000000  19526.286900\n",
       "max     64.000000   53.130000    5.000000  63770.428010"
      ]
     },
     "execution_count": 12,
     "metadata": {},
     "output_type": "execute_result"
    }
   ],
   "source": [
    "southeast_data.describe()"
   ]
  },
  {
   "cell_type": "code",
   "execution_count": 13,
   "metadata": {},
   "outputs": [
    {
     "name": "stdout",
     "output_type": "stream",
     "text": [
      "32.69460539303011\n",
      "34.02539460696989\n"
     ]
    }
   ],
   "source": [
    "import math\n",
    "\n",
    "print(33.36 - (1.96*(6.477/math.sqrt(364))))\n",
    "print(33.36 + (1.96*(6.477/math.sqrt(364))))"
   ]
  },
  {
   "cell_type": "code",
   "execution_count": 14,
   "metadata": {},
   "outputs": [
    {
     "data": {
      "text/plain": [
       "age            39.455385\n",
       "bmi            30.596615\n",
       "children        1.141538\n",
       "charges     12346.937377\n",
       "dtype: float64"
      ]
     },
     "execution_count": 14,
     "metadata": {},
     "output_type": "execute_result"
    }
   ],
   "source": [
    "# Correct way to filter the 'southeast' region\n",
    "southwest_data = df[df['region'] == 'southwest']\n",
    "\n",
    "# Calculate the mean for numerical columns in the southeast region\n",
    "southwest_mean = southwest_data.mean(numeric_only=True)\n",
    "\n",
    "# Display the result\n",
    "southwest_mean\n",
    "\n",
    "\n"
   ]
  },
  {
   "cell_type": "code",
   "execution_count": 15,
   "metadata": {},
   "outputs": [
    {
     "data": {
      "text/html": [
       "<div>\n",
       "<style scoped>\n",
       "    .dataframe tbody tr th:only-of-type {\n",
       "        vertical-align: middle;\n",
       "    }\n",
       "\n",
       "    .dataframe tbody tr th {\n",
       "        vertical-align: top;\n",
       "    }\n",
       "\n",
       "    .dataframe thead th {\n",
       "        text-align: right;\n",
       "    }\n",
       "</style>\n",
       "<table border=\"1\" class=\"dataframe\">\n",
       "  <thead>\n",
       "    <tr style=\"text-align: right;\">\n",
       "      <th></th>\n",
       "      <th>age</th>\n",
       "      <th>bmi</th>\n",
       "      <th>children</th>\n",
       "      <th>charges</th>\n",
       "    </tr>\n",
       "  </thead>\n",
       "  <tbody>\n",
       "    <tr>\n",
       "      <th>count</th>\n",
       "      <td>325.000000</td>\n",
       "      <td>325.000000</td>\n",
       "      <td>325.000000</td>\n",
       "      <td>325.000000</td>\n",
       "    </tr>\n",
       "    <tr>\n",
       "      <th>mean</th>\n",
       "      <td>39.455385</td>\n",
       "      <td>30.596615</td>\n",
       "      <td>1.141538</td>\n",
       "      <td>12346.937377</td>\n",
       "    </tr>\n",
       "    <tr>\n",
       "      <th>std</th>\n",
       "      <td>13.959886</td>\n",
       "      <td>5.691836</td>\n",
       "      <td>1.275952</td>\n",
       "      <td>11557.179101</td>\n",
       "    </tr>\n",
       "    <tr>\n",
       "      <th>min</th>\n",
       "      <td>19.000000</td>\n",
       "      <td>17.400000</td>\n",
       "      <td>0.000000</td>\n",
       "      <td>1241.565000</td>\n",
       "    </tr>\n",
       "    <tr>\n",
       "      <th>25%</th>\n",
       "      <td>27.000000</td>\n",
       "      <td>26.900000</td>\n",
       "      <td>0.000000</td>\n",
       "      <td>4751.070000</td>\n",
       "    </tr>\n",
       "    <tr>\n",
       "      <th>50%</th>\n",
       "      <td>39.000000</td>\n",
       "      <td>30.300000</td>\n",
       "      <td>1.000000</td>\n",
       "      <td>8798.593000</td>\n",
       "    </tr>\n",
       "    <tr>\n",
       "      <th>75%</th>\n",
       "      <td>51.000000</td>\n",
       "      <td>34.600000</td>\n",
       "      <td>2.000000</td>\n",
       "      <td>13462.520000</td>\n",
       "    </tr>\n",
       "    <tr>\n",
       "      <th>max</th>\n",
       "      <td>64.000000</td>\n",
       "      <td>47.600000</td>\n",
       "      <td>5.000000</td>\n",
       "      <td>52590.829390</td>\n",
       "    </tr>\n",
       "  </tbody>\n",
       "</table>\n",
       "</div>"
      ],
      "text/plain": [
       "              age         bmi    children       charges\n",
       "count  325.000000  325.000000  325.000000    325.000000\n",
       "mean    39.455385   30.596615    1.141538  12346.937377\n",
       "std     13.959886    5.691836    1.275952  11557.179101\n",
       "min     19.000000   17.400000    0.000000   1241.565000\n",
       "25%     27.000000   26.900000    0.000000   4751.070000\n",
       "50%     39.000000   30.300000    1.000000   8798.593000\n",
       "75%     51.000000   34.600000    2.000000  13462.520000\n",
       "max     64.000000   47.600000    5.000000  52590.829390"
      ]
     },
     "execution_count": 15,
     "metadata": {},
     "output_type": "execute_result"
    }
   ],
   "source": [
    "southwest_data.describe()"
   ]
  },
  {
   "cell_type": "code",
   "execution_count": 16,
   "metadata": {},
   "outputs": [
    {
     "data": {
      "text/html": [
       "<div>\n",
       "<style scoped>\n",
       "    .dataframe tbody tr th:only-of-type {\n",
       "        vertical-align: middle;\n",
       "    }\n",
       "\n",
       "    .dataframe tbody tr th {\n",
       "        vertical-align: top;\n",
       "    }\n",
       "\n",
       "    .dataframe thead th {\n",
       "        text-align: right;\n",
       "    }\n",
       "</style>\n",
       "<table border=\"1\" class=\"dataframe\">\n",
       "  <thead>\n",
       "    <tr style=\"text-align: right;\">\n",
       "      <th></th>\n",
       "      <th>age</th>\n",
       "      <th>bmi</th>\n",
       "      <th>children</th>\n",
       "      <th>charges</th>\n",
       "    </tr>\n",
       "  </thead>\n",
       "  <tbody>\n",
       "    <tr>\n",
       "      <th>count</th>\n",
       "      <td>364.000000</td>\n",
       "      <td>364.000000</td>\n",
       "      <td>364.000000</td>\n",
       "      <td>364.000000</td>\n",
       "    </tr>\n",
       "    <tr>\n",
       "      <th>mean</th>\n",
       "      <td>38.939560</td>\n",
       "      <td>33.355989</td>\n",
       "      <td>1.049451</td>\n",
       "      <td>14735.411438</td>\n",
       "    </tr>\n",
       "    <tr>\n",
       "      <th>std</th>\n",
       "      <td>14.164585</td>\n",
       "      <td>6.477648</td>\n",
       "      <td>1.177276</td>\n",
       "      <td>13971.098589</td>\n",
       "    </tr>\n",
       "    <tr>\n",
       "      <th>min</th>\n",
       "      <td>18.000000</td>\n",
       "      <td>19.800000</td>\n",
       "      <td>0.000000</td>\n",
       "      <td>1121.873900</td>\n",
       "    </tr>\n",
       "    <tr>\n",
       "      <th>25%</th>\n",
       "      <td>26.750000</td>\n",
       "      <td>28.572500</td>\n",
       "      <td>0.000000</td>\n",
       "      <td>4440.886200</td>\n",
       "    </tr>\n",
       "    <tr>\n",
       "      <th>50%</th>\n",
       "      <td>39.000000</td>\n",
       "      <td>33.330000</td>\n",
       "      <td>1.000000</td>\n",
       "      <td>9294.131950</td>\n",
       "    </tr>\n",
       "    <tr>\n",
       "      <th>75%</th>\n",
       "      <td>51.000000</td>\n",
       "      <td>37.812500</td>\n",
       "      <td>2.000000</td>\n",
       "      <td>19526.286900</td>\n",
       "    </tr>\n",
       "    <tr>\n",
       "      <th>max</th>\n",
       "      <td>64.000000</td>\n",
       "      <td>53.130000</td>\n",
       "      <td>5.000000</td>\n",
       "      <td>63770.428010</td>\n",
       "    </tr>\n",
       "  </tbody>\n",
       "</table>\n",
       "</div>"
      ],
      "text/plain": [
       "              age         bmi    children       charges\n",
       "count  364.000000  364.000000  364.000000    364.000000\n",
       "mean    38.939560   33.355989    1.049451  14735.411438\n",
       "std     14.164585    6.477648    1.177276  13971.098589\n",
       "min     18.000000   19.800000    0.000000   1121.873900\n",
       "25%     26.750000   28.572500    0.000000   4440.886200\n",
       "50%     39.000000   33.330000    1.000000   9294.131950\n",
       "75%     51.000000   37.812500    2.000000  19526.286900\n",
       "max     64.000000   53.130000    5.000000  63770.428010"
      ]
     },
     "execution_count": 16,
     "metadata": {},
     "output_type": "execute_result"
    }
   ],
   "source": [
    "southeast_data.describe()"
   ]
  },
  {
   "cell_type": "code",
   "execution_count": 17,
   "metadata": {},
   "outputs": [
    {
     "name": "stdout",
     "output_type": "stream",
     "text": [
      "13601.534370591613\n",
      "11092.465629408387\n"
     ]
    }
   ],
   "source": [
    "import math\n",
    "\n",
    "print(12347 + (1.96*(11539/math.sqrt(325))))\n",
    "print(12347 - (1.96*(11539/math.sqrt(325))))"
   ]
  },
  {
   "cell_type": "code",
   "execution_count": 18,
   "metadata": {},
   "outputs": [
    {
     "data": {
      "image/png": "[encoded data removed]",
      "text/plain": [
       "<Figure size 640x480 with 1 Axes>"
      ]
     },
     "metadata": {},
     "output_type": "display_data"
    }
   ],
   "source": [
    "sns.barplot(data=df, x=\"region\", y=\"charges\", estimator=median);\n",
    "\n",
    "# Notice how we get a DIFFERENT idea than region vs. charges for mean. Why? \n",
    "# (Could be multiple reasons, such as extreme charges in the deep south, but as the analyst, that is up to you to find)"
   ]
  },
  {
   "attachments": {},
   "cell_type": "markdown",
   "metadata": {},
   "source": [
    "**PAIR COMPARISONS**: The barplots above are difficult to see for sure if any two regions are actually different in charges to insurance. ANOVA only tells us if there is a difference SOMEWHERE between two regions. So how can we tell WITH CONFIDENCE that two specific regions are different?\n",
    "\n",
    "If we ran a bunch of t-tests, we would run into issues in calculating our p-value (see book for explanation)"
   ]
  },
  {
   "attachments": {},
   "cell_type": "markdown",
   "metadata": {},
   "source": [
    "**TUKEY**: Plug-and-chug, and you will get the following for EACH PAIR:\n",
    "\n",
    "**Mean Difference (meandiff):** Every value in each category is subtracted from each other to get a whole list of differences. THEN the mean of all those differences is taken.\n",
    "\n",
    "**Adjusted P-value (p-adj):** 0.05 is still our cutoff (threshold, or 95%), but adjusted means that p-value is calculated slightly differently to make up for the number of comparisons. \n",
    "\n",
    "**Lower/Upper**: CONFIDENCE INTERVAL upper and lower bounds of the MEAN DIFFERENCE (NOT the mean). If the upper and lower are BOTH positive or negative, then the CI of the MEAN DIFFERENCE does NOT contain 0. This means we can be 95% confident that there is a difference between the two categories.\n",
    "\n",
    "**Reject**: For our sake, it's just an easy way to point out which p-values < 0.05. \n",
    "\n",
    "*NOTE*: YOU STILL NEED TO SEE THE OUTPUT YOURSELF. DO NOT RELY SOLELY ON THE REJECT COLUMN. Notice some p-values are very close to 0.05, which means they are still worth paying attention to."
   ]
  },
  {
   "cell_type": "code",
   "execution_count": 19,
   "metadata": {},
   "outputs": [
    {
     "name": "stdout",
     "output_type": "stream",
     "text": [
      "       Multiple Comparison of Means - Tukey HSD, FWER=0.05       \n",
      "=================================================================\n",
      "  group1    group2   meandiff  p-adj    lower      upper   reject\n",
      "-----------------------------------------------------------------\n",
      "northeast northwest  -988.8091 0.7245 -3428.9343 1451.3161  False\n",
      "northeast southeast  1329.0269 0.4745 -1044.9417 3702.9955  False\n",
      "northeast southwest -1059.4471 0.6792 -3499.5723 1380.6781  False\n",
      "northwest southeast  2317.8361 0.0583   -54.1994 4689.8716  False\n",
      "northwest southwest    -70.638 0.9999 -2508.8826 2367.6066  False\n",
      "southeast southwest -2388.4741 0.0477 -4760.5096  -16.4386   True\n",
      "-----------------------------------------------------------------\n"
     ]
    }
   ],
   "source": [
    "from statsmodels.stats.multicomp import MultiComparison\n",
    "\n",
    "mc = MultiComparison(df.charges, df.region)\n",
    "print(mc.tukeyhsd())"
   ]
  },
  {
   "cell_type": "code",
   "execution_count": 23,
   "metadata": {},
   "outputs": [
    {
     "name": "stdout",
     "output_type": "stream",
     "text": [
      "   Multiple Comparison of Means - Tukey HSD, FWER=0.05    \n",
      "==========================================================\n",
      "  group1    group2  meandiff p-adj   lower   upper  reject\n",
      "----------------------------------------------------------\n",
      "northeast northwest   0.0263 0.9999 -1.1552  1.2078  False\n",
      "northeast southeast   4.1825    0.0   3.033   5.332   True\n",
      "northeast southwest   1.4231 0.0107  0.2416  2.6046   True\n",
      "northwest southeast   4.1562    0.0  3.0077  5.3047   True\n",
      "northwest southwest   1.3968 0.0127  0.2162  2.5774   True\n",
      "southeast southwest  -2.7594    0.0 -3.9079 -1.6108   True\n",
      "----------------------------------------------------------\n"
     ]
    }
   ],
   "source": [
    "mc = MultiComparison(df.bmi, df.region)\n",
    "print(mc.tukeyhsd())"
   ]
  },
  {
   "cell_type": "code",
   "execution_count": 24,
   "metadata": {},
   "outputs": [
    {
     "name": "stdout",
     "output_type": "stream",
     "text": [
      "   Multiple Comparison of Means - Tukey HSD, FWER=0.05   \n",
      "=========================================================\n",
      "  group1    group2  meandiff p-adj   lower  upper  reject\n",
      "---------------------------------------------------------\n",
      "northeast northwest  -0.0716 0.9999 -2.9118 2.7686  False\n",
      "northeast southeast   -0.329   0.99 -3.0922 2.4342  False\n",
      "northeast southwest   0.1869 0.9983 -2.6533 3.0271  False\n",
      "northwest southeast  -0.2574 0.9952 -3.0183 2.5036  False\n",
      "northwest southwest   0.2585 0.9955 -2.5796 3.0965  False\n",
      "southeast southwest   0.5158 0.9634 -2.2451 3.2768  False\n",
      "---------------------------------------------------------\n"
     ]
    }
   ],
   "source": [
    "mc = MultiComparison(df.age, df.region)\n",
    "print(mc.tukeyhsd())"
   ]
  },
  {
   "attachments": {},
   "cell_type": "markdown",
   "metadata": {},
   "source": [
    "*Explanation of Adjusted P-values*: basically, the more comparisons being analyzed at once ==> the increased need to lower the p-value cut-off (as in, the magic number is no longer 0.05, but 0.01, 0.001, and lower)\n",
    "\n",
    "https://www.graphpad.com/support/faq/adjusted-p-values-as-part-of-multiple-comparisons/#:~:text=The%20adjusted%20P%20value%20is,of%20the%20multiple%20comparison%20testing."
   ]
  },
  {
   "attachments": {},
   "cell_type": "markdown",
   "metadata": {},
   "source": [
    "**BONFERRONI**"
   ]
  },
  {
   "attachments": {},
   "cell_type": "markdown",
   "metadata": {},
   "source": [
    "*Tukey Adjusted p-values*: the calculation takes into account multiple comparisons already, so our cut-off remains the same\n",
    "\n",
    "*Bonferroni Adjusted p-values*: we need to adjust our magic number of 0.05 to accomodate the multiple comparisons. This means, our cut-off p-value is much lower than 0.05.\n",
    "\n",
    "With 6 comparisons, our **new p-value cut-off (\"threshold\") = 0.05/6 = 0.0083**"
   ]
  },
  {
   "cell_type": "code",
   "execution_count": 26,
   "metadata": {},
   "outputs": [
    {
     "name": "stdout",
     "output_type": "stream",
     "text": [
      "southwest/southeast: t: -5.91, p: 0.0\n",
      "southwest/northwest: t: 3.28, p: 0.0\n",
      "southwest/northeast: t: 3.12, p: 0.0\n",
      "southeast/northwest: t: 9.26, p: 0.0\n",
      "southeast/northeast: t: 8.79, p: 0.0\n",
      "northwest/northeast: t: 0.06, p: 0.95\n",
      "\n",
      "T-tests below p-value threshold: 0.008333333333333333\n",
      "['southwest - southeast', -5.9084, 0.0]\n",
      "['southwest - northwest', 3.2844, 0.0011]\n",
      "['southwest - northeast', 3.1169, 0.0019]\n",
      "['southeast - northwest', 9.2565, 0.0]\n",
      "['southeast - northeast', 8.7909, 0.0]\n"
     ]
    }
   ],
   "source": [
    "# Create a unique list of Education levels\n",
    "e_types = df.region.unique()\n",
    "ttests = []\n",
    "\n",
    "# Loop through that list\n",
    "for i, e_t in enumerate(e_types):        # Use the enumerate() function to add an index for counting to a list of values\n",
    "                                         # For each item, loop through a second list of each item to compare each pair\n",
    "    for i2, e_t2 in enumerate(e_types):\n",
    "        if i2 > i:                    # If the inner_index is greater that the outer_index, then go ahead and run a t-test\n",
    "            type_1 = df[df.region == e_t]\n",
    "            type_2 = df[df.region == e_t2]\n",
    "            t, p = stats.ttest_ind(type_1['bmi'], type_2['bmi'])\n",
    "      \n",
    "      # Add each t-test result to a list of t, p pairs\n",
    "            ttests.append([e_t + ' - ' + e_t2, t.round(4), p.round(4)])\n",
    "\n",
    "      # Let's also print them out just to make sure it's working\n",
    "            print(f'{e_t}/{e_t2}: t: {round(t, 2)}, p: {round(p, 2)}')\n",
    "      \n",
    "# The new threshold for statistical significant = 0.05 / length of the ttests list\n",
    "p_threshold = 0.05 / len(ttests)\n",
    "print(f'\\nT-tests below p-value threshold: {p_threshold}')\n",
    "\n",
    "# Now let's iterate through the results list and print only those that are significant based on the new threshold\n",
    "for pair in ttests:\n",
    "    if pair[2] <= p_threshold: # The p-value is in the second index, hence 1\n",
    "        print(pair)"
   ]
  },
  {
   "attachments": {},
   "cell_type": "markdown",
   "metadata": {},
   "source": [
    "PLUG-and-CHUG your variables into the above code, then that's it! Make sure you change ALL of the variables."
   ]
  },
  {
   "cell_type": "code",
   "execution_count": 27,
   "metadata": {},
   "outputs": [
    {
     "name": "stdout",
     "output_type": "stream",
     "text": [
      "southwest/southeast: t: -2.43, p: 0.02\n",
      "southwest/northwest: t: -0.08, p: 0.94\n",
      "southwest/northeast: t: -1.18, p: 0.24\n",
      "southeast/northwest: t: 2.39, p: 0.02\n",
      "southeast/northeast: t: 1.36, p: 0.17\n",
      "northwest/northeast: t: -1.13, p: 0.26\n",
      "\n",
      "T-tests below p-value threshold: 0.008333333333333333\n"
     ]
    }
   ],
   "source": [
    "# Create a unique list of Education levels\n",
    "e_types = df.region.unique()\n",
    "ttests = []\n",
    "\n",
    "# Loop through that list\n",
    "for i, e_t in enumerate(e_types):        # Use the enumerate() function to add an index for counting to a list of values\n",
    "                                         # For each item, loop through a second list of each item to compare each pair\n",
    "    for i2, e_t2 in enumerate(e_types):\n",
    "        if i2 > i:                    # If the inner_index is greater that the outer_index, then go ahead and run a t-test\n",
    "            type_1 = df[df.region == e_t]\n",
    "            type_2 = df[df.region == e_t2]\n",
    "            t, p = stats.ttest_ind(type_1['charges'], type_2['charges'])\n",
    "      \n",
    "      # Add each t-test result to a list of t, p pairs\n",
    "            ttests.append([e_t + ' - ' + e_t2, t.round(4), p.round(4)])\n",
    "\n",
    "      # Let's also print them out just to make sure it's working\n",
    "            print(f'{e_t}/{e_t2}: t: {round(t, 2)}, p: {round(p, 2)}')\n",
    "      \n",
    "# The new threshold for statistical significant = 0.05 / length of the ttests list\n",
    "p_threshold = 0.05 / len(ttests)\n",
    "print(f'\\nT-tests below p-value threshold: {p_threshold}')\n",
    "\n",
    "# Now let's iterate through the results list and print only those that are significant based on the new threshold\n",
    "for pair in ttests:\n",
    "    if pair[2] <= p_threshold: # The p-value is in the second index, hence 1\n",
    "        print(pair)"
   ]
  }
 ],
 "metadata": {
  "kernelspec": {
   "display_name": "base",
   "language": "python",
   "name": "python3"
  },
  "language_info": {
   "codemirror_mode": {
    "name": "ipython",
    "version": 3
   },
   "file_extension": ".py",
   "mimetype": "text/x-python",
   "name": "python",
   "nbconvert_exporter": "python",
   "pygments_lexer": "ipython3",
   "version": "3.12.4"
  },
  "orig_nbformat": 4,
  "vscode": {
   "interpreter": {
    "hash": "262ab205e5277611f040591a4a25bfb87716cb1a7935cf79ca0a0f9fd2b0ccc4"
   }
  }
 },
 "nbformat": 4,
 "nbformat_minor": 2
}
