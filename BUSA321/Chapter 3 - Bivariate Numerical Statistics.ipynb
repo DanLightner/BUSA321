{
 "cells": [
  {
   "cell_type": "markdown",
   "metadata": {},
   "source": [
    "**CORRELATION** (*r*): This is seeing how much two **NUMERICAL** variables are correlated (or *related*). \n",
    "\n",
    "Simple numbers:\n",
    "1: Straight line (completely related)\n",
    "0: Scattered (no relation)\n",
    "-1: Straight line, but downward (or decreasing)\n",
    "\n",
    "Anything in-between gives an indication as to how much of a relationship there is between two numerical variables."
   ]
  },
  {
   "cell_type": "code",
   "execution_count": 2,
   "metadata": {},
   "outputs": [
    {
     "data": {
      "text/plain": [
       "0.2990081933306476"
      ]
     },
     "execution_count": 2,
     "metadata": {},
     "output_type": "execute_result"
    }
   ],
   "source": [
    "import pandas as pd\n",
    "import matplotlib as mat\n",
    "import numpy as np\n",
    "df = pd.read_csv('http://www.ishelp.info/data/insurance.csv')\n",
    "df.charges.corr(df.age)\n",
    "\n",
    "#could replace age with bmi, etc"
   ]
  },
  {
   "cell_type": "code",
   "execution_count": 3,
   "metadata": {},
   "outputs": [
    {
     "data": {
      "text/html": [
       "<div>\n",
       "<style scoped>\n",
       "    .dataframe tbody tr th:only-of-type {\n",
       "        vertical-align: middle;\n",
       "    }\n",
       "\n",
       "    .dataframe tbody tr th {\n",
       "        vertical-align: top;\n",
       "    }\n",
       "\n",
       "    .dataframe thead th {\n",
       "        text-align: right;\n",
       "    }\n",
       "</style>\n",
       "<table border=\"1\" class=\"dataframe\">\n",
       "  <thead>\n",
       "    <tr style=\"text-align: right;\">\n",
       "      <th></th>\n",
       "      <th>age</th>\n",
       "      <th>bmi</th>\n",
       "      <th>children</th>\n",
       "      <th>charges</th>\n",
       "    </tr>\n",
       "  </thead>\n",
       "  <tbody>\n",
       "    <tr>\n",
       "      <th>age</th>\n",
       "      <td>1.000000</td>\n",
       "      <td>0.109272</td>\n",
       "      <td>0.042469</td>\n",
       "      <td>0.299008</td>\n",
       "    </tr>\n",
       "    <tr>\n",
       "      <th>bmi</th>\n",
       "      <td>0.109272</td>\n",
       "      <td>1.000000</td>\n",
       "      <td>0.012759</td>\n",
       "      <td>0.198341</td>\n",
       "    </tr>\n",
       "    <tr>\n",
       "      <th>children</th>\n",
       "      <td>0.042469</td>\n",
       "      <td>0.012759</td>\n",
       "      <td>1.000000</td>\n",
       "      <td>0.067998</td>\n",
       "    </tr>\n",
       "    <tr>\n",
       "      <th>charges</th>\n",
       "      <td>0.299008</td>\n",
       "      <td>0.198341</td>\n",
       "      <td>0.067998</td>\n",
       "      <td>1.000000</td>\n",
       "    </tr>\n",
       "  </tbody>\n",
       "</table>\n",
       "</div>"
      ],
      "text/plain": [
       "               age       bmi  children   charges\n",
       "age       1.000000  0.109272  0.042469  0.299008\n",
       "bmi       0.109272  1.000000  0.012759  0.198341\n",
       "children  0.042469  0.012759  1.000000  0.067998\n",
       "charges   0.299008  0.198341  0.067998  1.000000"
      ]
     },
     "execution_count": 3,
     "metadata": {},
     "output_type": "execute_result"
    }
   ],
   "source": [
    "df_numeric = df.select_dtypes(include=['float64', 'int64'])\n",
    "df_numeric.corr()\n",
    "\n",
    "\n",
    "##df.corr()\n",
    "#this displays them"
   ]
  },
  {
   "cell_type": "markdown",
   "metadata": {},
   "source": [
    "**ASSUMPTIONS**: In order for correlation to be interpreted properly, the following MUST be TRUE about the two variables: forget about about middle parts of data\n",
    "1. **Continuous data**: some equal spread of data--NOT groups, which may indicate the variable has categories, or is categorical\n",
    "2. **Linear Relationship**: if there's a curve in the pattern of data, then that means there's something else going on\n",
    "3. **Homoscedasticity (Equal Variance)**: big scary word, basically means that if the data DOES follow a straight line, it is evenly spread around that line, and NOT far away at some areas and really close at other areas"
   ]
  },
  {
   "cell_type": "markdown",
   "metadata": {},
   "source": [
    "**P-VALUES**: This is the OPPOSITE of correlation, in that we want p-values to be CLOSE to 0. P-values are similar to percentage.\n",
    "\n",
    "Break this down step by step:\n",
    "**H0: Null Hypothesis**--No relationship between two variables (status quo)\n",
    "**HA: Alternative Hypothesis**--There IS a relationship between two variables (questioning the status quo)\n",
    "\n",
    "**P-value** means the following:\n",
    "1. Suppose the null hypothesis is assumed true (there is NO relationship between two variables)\n",
    "2. However, your data happens to show a relationship\n",
    "3. What is the probability that you would find a relationship in the data IF the null hypothesis were true?\n",
    "(HINT: It would probably be very low, right?)\n",
    "\n",
    "Therefore, REJECT the null hypothesis and assume there is a relationship.\n",
    "\n",
    "**NOTE**: P-values should be below **0.05** (**95% confident**, meaning 5% chance to see this kind of relationship if there were no relationship between the variables)\n",
    "\n",
    "p-value=0.10 (**90%** confident)\n",
    "\n",
    "Don't go above 0.10, but if it's only slightly higher, then the relationship would still be \"of interest,\" but may have other variables involved as well."
   ]
  },
  {
   "cell_type": "code",
   "execution_count": 4,
   "metadata": {},
   "outputs": [
    {
     "data": {
      "text/plain": [
       "PearsonRResult(statistic=0.29900819333064765, pvalue=4.886693331718192e-29)"
      ]
     },
     "execution_count": 4,
     "metadata": {},
     "output_type": "execute_result"
    }
   ],
   "source": [
    "from scipy import stats\n",
    "corr = stats.pearsonr(df.charges, df.age)\n",
    "corr"
   ]
  },
  {
   "cell_type": "markdown",
   "metadata": {},
   "source": [
    "pearsonr() gives the correlation coefficient AND p-value between two variables. NOTICE the 2nd value is NOT 4.88, but is 4.88e-29, meaning is is 0.00000000000000000000000000000000000488.\n",
    "\n",
    "The following breaks it down into a presentable bit."
   ]
  },
  {
   "cell_type": "code",
   "execution_count": 5,
   "metadata": {},
   "outputs": [
    {
     "name": "stdout",
     "output_type": "stream",
     "text": [
      "r: \t0.299\n",
      "p-value:0.0\n"
     ]
    },
    {
     "data": {
      "text/plain": [
       "4.886693331718192e-29"
      ]
     },
     "execution_count": 5,
     "metadata": {},
     "output_type": "execute_result"
    }
   ],
   "source": [
    "print('r: \\t' + str(round(corr[0], 4))) \n",
    "print('p-value:' + str(round(corr[1], 4)))\n",
    "corr[1]"
   ]
  }
 ],
 "metadata": {
  "kernelspec": {
   "display_name": "base",
   "language": "python",
   "name": "python3"
  },
  "language_info": {
   "codemirror_mode": {
    "name": "ipython",
    "version": 3
   },
   "file_extension": ".py",
   "mimetype": "text/x-python",
   "name": "python",
   "nbconvert_exporter": "python",
   "pygments_lexer": "ipython3",
   "version": "3.12.4"
  },
  "orig_nbformat": 4
 },
 "nbformat": 4,
 "nbformat_minor": 2
}
