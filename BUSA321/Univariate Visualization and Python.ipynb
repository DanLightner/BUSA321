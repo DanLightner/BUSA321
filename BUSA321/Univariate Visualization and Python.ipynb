{
  "cells": [
    {
      "cell_type": "markdown",
      "metadata": {},
      "source": [
        "Use the same dataset mpg.csv. Create a histogram for Acceleration using either Matplotlib or Seaborn\n",
        "\n",
        "* x-axis should be acceleration and y-axis should be count\n",
        "* The bin count should follow the cubed root of n rule: bins=int(round(df.Acceleration.count()**(1/3), 0)) (Think: what does this code mean?)\n",
        "* Include the standard deviation, mean, skewness, and kurtosis as text on top of the histogram. (Look at 2.3: Embedded Text)\n",
        "* Give the histogram a proper title and label axes correctly\n",
        "* Embed your full name somewhere in the visualization "
      ]
    },
    {
      "cell_type": "code",
      "execution_count": null,
      "metadata": {
        "colab": {
          "base_uri": "https://localhost:8080/",
          "height": 301
        },
        "colab_type": "code",
        "id": "rAx-A4KlcXeW",
        "outputId": "03e95b19-73c1-4964-8720-e065a5297cdd"
      },
      "outputs": [],
      "source": []
    },
    {
      "cell_type": "markdown",
      "metadata": {},
      "source": [
        "Create a stacked plot (histogram with a boxplot) using the Seaborn package\n",
        "\n",
        "* Import the correct libraries you will need seaborn, pandas and pyplot (from matplotlib)\n",
        "* You should create a boxplot that has cylinders as the x-axis and acceleration as the y-axis. Adjust sizes so that it looks clean and readable.\n",
        "* Build a histogram for Acceleration that is divided by different numbers of Cylinders, but only inlcude cars with 4 and 8 cylinders.\n",
        "  * HINT: consider using the orient=\"\" parameter of the Seaborn .boxplot() object to make this look right. See documentation: https://seaborn.pydata.org/generated/seaborn.boxplot.html\n",
        "* Embed your full name somewhere in the visualization\n"
      ]
    },
    {
      "cell_type": "code",
      "execution_count": null,
      "metadata": {
        "colab": {
          "base_uri": "https://localhost:8080/",
          "height": 389
        },
        "colab_type": "code",
        "id": "_9CM-eGecRuQ",
        "outputId": "9b41928d-b634-40ea-c17b-88e17dadec85"
      },
      "outputs": [],
      "source": [
        "# Question 3:\n",
        "\n",
        "#reduce df to only 4 & 8 cylinder engines\n",
        "df1 = df[df['Cylinders'] == 4] \n",
        "df2 = df[df['Cylinders'] == 8]\n",
        "\n",
        "# combine both dataframes into 1 df\n",
        "combo_df = pd.concat([df1, df2], axis=0)\n",
        "\n",
        "# rename df\n",
        "df = combo_df\n",
        "\n",
        "# generate sub plot with 2 rows\n",
        "f, (ax_box, ax_hist) = \n",
        "\n",
        "# plot style\n",
        "sns.set(style=\"ticks\")\n",
        "\n",
        "#box plot style\n",
        "flierprops = \n",
        "#boxplot\n",
        "sns.boxplot()\n",
        "\n",
        "#generate distplot \n",
        "\n",
        "\n",
        "# get string of stats again\n",
        "\n",
        "\n",
        "#put the text on the graph\n",
        "ax_hist.text()\n",
        "\n",
        "# save \n",
        "plt.savefig('stacked_plot.png', dpi=100) # Must appear before plt.show()"
      ]
    }
  ],
  "metadata": {
    "colab": {
      "name": "Ch. 13 Quiz",
      "provenance": []
    },
    "kernelspec": {
      "display_name": "Python 3.9.1 64-bit",
      "language": "python",
      "name": "python3"
    },
    "language_info": {
      "codemirror_mode": {
        "name": "ipython",
        "version": 3
      },
      "file_extension": ".py",
      "mimetype": "text/x-python",
      "name": "python",
      "nbconvert_exporter": "python",
      "pygments_lexer": "ipython3",
      "version": "3.9.7"
    },
    "vscode": {
      "interpreter": {
        "hash": "11938c6bc6919ae2720b4d5011047913343b08a43b18698fd82dedb0d4417594"
      }
    }
  },
  "nbformat": 4,
  "nbformat_minor": 0
}
