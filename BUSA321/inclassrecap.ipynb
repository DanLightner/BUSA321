{
 "cells": [
  {
   "cell_type": "markdown",
   "metadata": {},
   "source": [
    "In class notes:"
   ]
  },
  {
   "cell_type": "markdown",
   "metadata": {},
   "source": [
    "if p<=0.05, pay attention\n",
    "this means our assumption is met\n",
    "regression is a model; while correlation is different\n",
    "have to make sure assumptions are met\n",
    "\n",
    "assumptions include:\n",
    "continuous data\n",
    "linear\n",
    "equal variance/homosedacisity - meaning all of our data follows a specific pattern around the linear line"
   ]
  },
  {
   "cell_type": "markdown",
   "metadata": {},
   "source": [
    "regression model:\n",
    "sale price = 109.28 * square feet + 15955.12\n",
    "essentially for regression model you are just creating a slope intercept form \n",
    "\n",
    "want to see how big of a difference it is between predicted vs actual price\n",
    "\n",
    "if there is a massive difference, we might run into problems\n",
    "this would mean our model isnt accurately predicted the right values\n",
    "sale price predicted - sale price actual = residual\n",
    "want to calculate the residual\n",
    "\n",
    "we will use residuals over and over again\n",
    "white and dp tests do this for us - we won't have to physically go in and do it\n",
    "\n",
    "white and dp test for equal variance - if we get a p-value less than 0.05, then we should be good"
   ]
  },
  {
   "cell_type": "markdown",
   "metadata": {},
   "source": [
    "White and BP Test\n",
    "\n",
    "\n",
    "the statistic follows a distribution\n",
    "\n",
    "based on the values - what is the probability that we will get a number this high, the probability in this case would be extremely low\n",
    "\n",
    "these are higher level \n",
    "\n",
    "refer to chapter 3 and 4 for how to do regression"
   ]
  }
 ],
 "metadata": {
  "language_info": {
   "name": "python"
  }
 },
 "nbformat": 4,
 "nbformat_minor": 2
}
