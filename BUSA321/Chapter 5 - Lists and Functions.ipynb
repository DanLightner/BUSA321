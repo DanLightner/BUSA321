{
 "cells": [
  {
   "attachments": {},
   "cell_type": "markdown",
   "metadata": {},
   "source": [
    "**Chapter 5: Collections**"
   ]
  },
  {
   "attachments": {},
   "cell_type": "markdown",
   "metadata": {},
   "source": [
    "**Lists**: We have saved variables as integers, floats, strings, and booleans, as below. But the backbone learning how to use *data* in Python is working with **collections** of integers, floats, strings, and booleans. \n",
    "\n",
    "You can save anything within lists. You can also manipulate lists, calculate with lists, and change values within a list! See the examples below."
   ]
  },
  {
   "cell_type": "code",
   "execution_count": 23,
   "metadata": {},
   "outputs": [],
   "source": [
    "Age = 1\n",
    "Height = 1.1\n",
    "Name = \"Maggie\"\n",
    "TallEnoughToRide = False\n",
    "\n",
    "# Empty List\n",
    "DataList = []\n",
    "\n",
    "# List of Strings\n",
    "NameList = [\"Homer\", \"Marge\", \"Bart\", \"Lisa\", \"Maggie\"]\n",
    "\n",
    "# List of Integers\n",
    "AgeList = [38, 38, 10, 8, 1]\n",
    "\n",
    "# List of Floats\n",
    "HeightList = [5.9, 5.2, 4.1, 3.9, 2.0]\n",
    "\n",
    "# Booleans\n",
    "TallEnoughToRide = [True, True, True, False, False]\n",
    "\n",
    "# Mixed Lists\n",
    "Record1List = [\"Homer\", 38, 5.9, True]\n",
    "Record2List = [\"Marge\", 38, 5.2, True]\n",
    "Record3List = [\"Bart\", 10, 4.1, True]"
   ]
  },
  {
   "attachments": {},
   "cell_type": "markdown",
   "metadata": {},
   "source": [
    "**Nested Lists**: List within a List!"
   ]
  },
  {
   "cell_type": "code",
   "execution_count": 24,
   "metadata": {},
   "outputs": [
    {
     "data": {
      "text/plain": [
       "[['Homer', 38, 5.9, True], ['Marge', 38, 5.2, True], ['Bart', 10, 4.1, True]]"
      ]
     },
     "execution_count": 24,
     "metadata": {},
     "output_type": "execute_result"
    }
   ],
   "source": [
    "DataList = [Record1List, Record2List, Record3List]\n",
    "DataList"
   ]
  },
  {
   "attachments": {},
   "cell_type": "markdown",
   "metadata": {},
   "source": [
    "You can use functions on lists as well. Try the following out."
   ]
  },
  {
   "cell_type": "code",
   "execution_count": 4,
   "metadata": {},
   "outputs": [
    {
     "name": "stdout",
     "output_type": "stream",
     "text": [
      "3\n",
      "95\n"
     ]
    }
   ],
   "source": [
    "print(len(DataList))   # Length of a list\n",
    "print(sum(AgeList))    # Sum the values of a list"
   ]
  },
  {
   "attachments": {},
   "cell_type": "markdown",
   "metadata": {},
   "source": [
    "**Indexing**: ORDER MATTERS! Each value of a list has a special *index* which identifies where it is located in the list. Indices start at **0**, so the **first value is index 0.**"
   ]
  },
  {
   "cell_type": "code",
   "execution_count": 6,
   "metadata": {},
   "outputs": [
    {
     "data": {
      "text/plain": [
       "'Homer'"
      ]
     },
     "execution_count": 6,
     "metadata": {},
     "output_type": "execute_result"
    }
   ],
   "source": [
    "NameList[0]    #Notice the first name of the list appears"
   ]
  },
  {
   "cell_type": "code",
   "execution_count": 7,
   "metadata": {},
   "outputs": [
    {
     "data": {
      "text/plain": [
       "'Marge'"
      ]
     },
     "execution_count": 7,
     "metadata": {},
     "output_type": "execute_result"
    }
   ],
   "source": [
    "NameList[1]    #This gives the second name of the list"
   ]
  },
  {
   "cell_type": "code",
   "execution_count": 17,
   "metadata": {},
   "outputs": [
    {
     "data": {
      "text/plain": [
       "'Maggie'"
      ]
     },
     "execution_count": 17,
     "metadata": {},
     "output_type": "execute_result"
    }
   ],
   "source": [
    "NameList[-1]   #Negative indexing starts from the end of the list and works backwards"
   ]
  },
  {
   "attachments": {},
   "cell_type": "markdown",
   "metadata": {},
   "source": [
    "**Nested List Indexing**: Use TWO sets of brackets!\n",
    "\n",
    "*First index* = which list to choose, *Second index* = which value to pull from that list"
   ]
  },
  {
   "cell_type": "code",
   "execution_count": 26,
   "metadata": {},
   "outputs": [
    {
     "data": {
      "text/plain": [
       "10"
      ]
     },
     "execution_count": 26,
     "metadata": {},
     "output_type": "execute_result"
    }
   ],
   "source": [
    "DataList[2][1]    # Chooses from the 3rd list (2nd index), or Record3List, THEN the 2nd value (1st index)"
   ]
  },
  {
   "attachments": {},
   "cell_type": "markdown",
   "metadata": {},
   "source": [
    "**Brackets: []**\n",
    "\n",
    "[value1, value2, value3, ...] - Brackets around a bunch of values separated by commas indicate a list\n",
    "Listname[#] - Brackets right *next* to a listname indicates an **index** of a list\n",
    "\n",
    "**Colons (:)** indicate that you want to pull a set of values *from* a list\n",
    "Specifically: first number up to (but NOT including) second number\n",
    "\n",
    "*Try printing each of the following to see which values are given*"
   ]
  },
  {
   "cell_type": "code",
   "execution_count": 11,
   "metadata": {},
   "outputs": [
    {
     "data": {
      "text/plain": [
       "[5.9, 5.2, 4.1, 3.9, 2.0]"
      ]
     },
     "execution_count": 11,
     "metadata": {},
     "output_type": "execute_result"
    }
   ],
   "source": [
    "HeightList[2:4]     # Index 2 UP TO, but not including, 4\n",
    "HeightList[:4]      # All values UP TO index 4 (but not including)\n",
    "HeightList[0:4]\n",
    "HeightList[2:]\n",
    "HeightList[2:len(HeightList)]           # When would using the length function be useful?\n",
    "HeightList[:]       # All values in the list"
   ]
  },
  {
   "attachments": {},
   "cell_type": "markdown",
   "metadata": {},
   "source": [
    "**Third Index**: Indicates DIRECTION or INCREMENTS *(skips every other value, every 2 values, etc.)*\n",
    "\n",
    "**First Index**: First value to be pulled from the list\n",
    "**Second Index**: UP TO, BUT NOT INCLUDING, value in the list\n",
    "**Third Index**: Positive number means how many values to skip in your list, negative number means backwards"
   ]
  },
  {
   "cell_type": "code",
   "execution_count": 16,
   "metadata": {},
   "outputs": [
    {
     "data": {
      "text/plain": [
       "['Marge', 'Lisa']"
      ]
     },
     "execution_count": 16,
     "metadata": {},
     "output_type": "execute_result"
    }
   ],
   "source": [
    "NameList[::2]    # Skips every other name\n",
    "NameList[1::2]   # Starts with Marge and skips every other name afterwards\n",
    "NameList[1:3:2]  # Includes index 1 and 2, but NOT 3, AND skips every other name (giving only one name)\n",
    "NameList[::-1]   # Gives a backwards list\n",
    "NameList[3:1:-1] # When using negative directions, indexing MUST BE REVERSED AS WELL \n",
    "NameList[::-2]   # Gives a backwards list AND skips every other value\n"
   ]
  },
  {
   "attachments": {},
   "cell_type": "markdown",
   "metadata": {},
   "source": [
    "**Changing Values**: You can reassign values within a list using indexing. *CAUTION: Changes are permanent!*\n",
    "\n",
    "In the example below, we are telling Python that we want to change the *2nd Index* of the *NameList* to \"Barney\""
   ]
  },
  {
   "cell_type": "code",
   "execution_count": null,
   "metadata": {},
   "outputs": [],
   "source": [
    "NameList[2] = \"Barney\"  # Change Bart to Barney\n",
    "NameList[2] = \"Bart\"    # Change back to Bart"
   ]
  },
  {
   "attachments": {},
   "cell_type": "markdown",
   "metadata": {},
   "source": [
    "**LIST FUNCTIONS**: There are various types of functions that you can apply to lists. Python reads the syntax as follows:\n",
    "\n",
    "1. Listname. : choose the list you want to apply the function\n",
    "2. Function() : tell Python what you want to do to the list by naming the function\n",
    "3. (Values) : if the function is adding or removing values from the list, these may need to be specified in the parentheses\n",
    "\n",
    "Listname.Function(Values)\n",
    "\n",
    "**CAUTION**: Anytime you run a function, Python will run the function again. This may unintentionally add or remove values to a list over and over again. ALWAYS check your list and be cautious when running functions."
   ]
  },
  {
   "cell_type": "code",
   "execution_count": null,
   "metadata": {},
   "outputs": [],
   "source": [
    "NameList = [\"Homer\", \"Marge\", \"Bart\", \"Lisa\", \"Maggie\"]\n",
    "\n",
    "# Add a value to the END of the list\n",
    "NameList.append('Millhouse')\n",
    "\n",
    "# Insert (not change) a specified value into a list by the specified index\n",
    "NameList.insert(5, 'Luann')    #insert Luann into the 5th index\n",
    "NameList.insert(6, 'Kirk')     #THEN insert Kirk into the 6th index\n",
    "\n",
    "VanHoutenList = [\"Luann\", \"Kirk\", \"Millhouse\"]\n",
    "\n",
    "# Use extend if you want to add another list to your list. THIS IS NOT A NESTED LIST, but simply adding more values\n",
    "NameList.extend(VanHoutenList)     # Adds VanHoutenList TO NameList, but does NOT change the VanHoutenList\n",
    "\n",
    "# Removing values from a list\n",
    "NameList.pop()    # Removes the last value\n",
    "NameList.pop(5)   # Removes the 5th index\n",
    "NameList.remove('Kirk')    # Removes Kirk from the list\n",
    "\n",
    "# Clear an entire list\n",
    "NameList.clear()"
   ]
  },
  {
   "attachments": {},
   "cell_type": "markdown",
   "metadata": {},
   "source": [
    "**STRINGS**: In their own way, strings are like lists. Strings can be indexed, but they *cannot* be changed. This means they are *immutable*"
   ]
  },
  {
   "cell_type": "code",
   "execution_count": 1,
   "metadata": {},
   "outputs": [
    {
     "name": "stdout",
     "output_type": "stream",
     "text": [
      "a\n",
      "Stone\n"
     ]
    }
   ],
   "source": [
    "x = \"Martha Stone\"\n",
    "y = [\"Martha\", \"Stone\"]\n",
    "\n",
    "print(x[1])\n",
    "print(y[1])"
   ]
  },
  {
   "attachments": {},
   "cell_type": "markdown",
   "metadata": {},
   "source": [
    "**Indexing Examples**"
   ]
  },
  {
   "cell_type": "code",
   "execution_count": 27,
   "metadata": {},
   "outputs": [
    {
     "data": {
      "text/plain": [
       "[64, 12, 95, 9, 8, 16, 7, 89, 94, 20]"
      ]
     },
     "execution_count": 27,
     "metadata": {},
     "output_type": "execute_result"
    }
   ],
   "source": [
    "x = [64, 12, 95, 9, 8, 16, 7, 89, 94, 20]\n",
    "x"
   ]
  },
  {
   "attachments": {},
   "cell_type": "markdown",
   "metadata": {},
   "source": [
    "What do each of the following do?"
   ]
  },
  {
   "cell_type": "code",
   "execution_count": null,
   "metadata": {},
   "outputs": [],
   "source": [
    "x[9:5:-1]\n",
    "x[9:5:-2]\n",
    "x[5:9:2]"
   ]
  },
  {
   "attachments": {},
   "cell_type": "markdown",
   "metadata": {},
   "source": [
    "**Using Variables in an Index**: You can use variables in an index, as long as they are *integers*"
   ]
  },
  {
   "cell_type": "code",
   "execution_count": 29,
   "metadata": {},
   "outputs": [
    {
     "data": {
      "text/plain": [
       "'Lisa'"
      ]
     },
     "execution_count": 29,
     "metadata": {},
     "output_type": "execute_result"
    }
   ],
   "source": [
    "a = 1\n",
    "b = 2\n",
    "x[a+b]\n",
    "NameList[a+b]   # Notice these give the 3rd index of each list\n",
    "\n",
    "# How is this different from the following?\n",
    "x[0] + x[1] + x[2]"
   ]
  },
  {
   "attachments": {},
   "cell_type": "markdown",
   "metadata": {},
   "source": [
    "**Concatenating Lists**: Concatenate is a big word to simply mean *put together*. \n",
    "\n",
    "NOTICE: List values aren't added so simply, but they are *concatenated* instead"
   ]
  },
  {
   "cell_type": "code",
   "execution_count": 30,
   "metadata": {},
   "outputs": [
    {
     "data": {
      "text/plain": [
       "[1, 2, 3, 4, 5, 6]"
      ]
     },
     "execution_count": 30,
     "metadata": {},
     "output_type": "execute_result"
    }
   ],
   "source": [
    "List1 = [1,2,3]\n",
    "List2 = [4,5,6]\n",
    "List3 = List1 + List2\n",
    "List3"
   ]
  },
  {
   "cell_type": "code",
   "execution_count": 31,
   "metadata": {},
   "outputs": [
    {
     "data": {
      "text/plain": [
       "['Homer',\n",
       " 'Marge',\n",
       " 'Bart',\n",
       " 'Lisa',\n",
       " 'Maggie',\n",
       " 5.9,\n",
       " 5.2,\n",
       " 4.1,\n",
       " 3.9,\n",
       " 2.0,\n",
       " 38,\n",
       " 38,\n",
       " 10,\n",
       " 8,\n",
       " 1]"
      ]
     },
     "execution_count": 31,
     "metadata": {},
     "output_type": "execute_result"
    }
   ],
   "source": [
    "FUNList = NameList + HeightList + AgeList\n",
    "FUNList"
   ]
  },
  {
   "attachments": {},
   "cell_type": "markdown",
   "metadata": {},
   "source": [
    "**List Comparisons**: Try each of the following and see which are true and false\n",
    "\n",
    "Basically, are compared by the first value, THEN the second, and so on"
   ]
  },
  {
   "cell_type": "code",
   "execution_count": 33,
   "metadata": {},
   "outputs": [
    {
     "data": {
      "text/plain": [
       "False"
      ]
     },
     "execution_count": 33,
     "metadata": {},
     "output_type": "execute_result"
    }
   ],
   "source": [
    "List5 = [2,5,7]\n",
    "List6 = [1,2,1]\n",
    "List5 > List6\n",
    "List1 < List6"
   ]
  },
  {
   "attachments": {},
   "cell_type": "markdown",
   "metadata": {},
   "source": [
    "Notice the following: The first value (3) is NOT less than the first value of the 2nd list (2), BUT the other two values are less. However, since the first comparison is false, then the comparison comes up as false."
   ]
  },
  {
   "cell_type": "code",
   "execution_count": 39,
   "metadata": {},
   "outputs": [
    {
     "data": {
      "text/plain": [
       "False"
      ]
     },
     "execution_count": 39,
     "metadata": {},
     "output_type": "execute_result"
    }
   ],
   "source": [
    "[3,0,0] < [2,1,1]"
   ]
  }
 ],
 "metadata": {
  "kernelspec": {
   "display_name": "Python 3.9.7 ('base')",
   "language": "python",
   "name": "python3"
  },
  "language_info": {
   "codemirror_mode": {
    "name": "ipython",
    "version": 3
   },
   "file_extension": ".py",
   "mimetype": "text/x-python",
   "name": "python",
   "nbconvert_exporter": "python",
   "pygments_lexer": "ipython3",
   "version": "3.9.7"
  },
  "orig_nbformat": 4,
  "vscode": {
   "interpreter": {
    "hash": "262ab205e5277611f040591a4a25bfb87716cb1a7935cf79ca0a0f9fd2b0ccc4"
   }
  }
 },
 "nbformat": 4,
 "nbformat_minor": 2
}
